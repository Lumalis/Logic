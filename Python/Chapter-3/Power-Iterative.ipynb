{
 "cells": [
  {
   "cell_type": "code",
   "execution_count": null,
   "metadata": {},
   "outputs": [],
   "source": [
    "%load_ext nb_mypy"
   ]
  },
  {
   "cell_type": "markdown",
   "metadata": {},
   "source": [
    "# Iterative Computation of Powers via Iterative Squaring"
   ]
  },
  {
   "cell_type": "markdown",
   "metadata": {},
   "source": [
    "The function `power(x, y)` computes $x^y$ for natural numbers `x` and `y`.\n",
    "It maintains the *invariant*\n",
    "$$ r_n \\cdot x_n^{y_n} = x_0^{y_0}. $$\n",
    "Here $x_n$, $y_n$, and $z_n$ are the values of the variables `x`, `y`, and `z` after $n$ iterations of the loop.  Note that we have:\n",
    "* $x_{n+1} = x_n^2$,\n",
    "* $y_{n+1} = y_n \\;\\texttt{//}\\; 2$, \n",
    "* $r_{n+1} = r_n \\cdot x_n$ if $y_n \\;\\texttt{%}\\; 2 = 1$, and\n",
    "* $r_{n+1} = r_n$ if $y_n \\;\\texttt{%}\\; 2 = 0$."
   ]
  },
  {
   "cell_type": "code",
   "execution_count": null,
   "metadata": {},
   "outputs": [],
   "source": [
    "def power(x: int, y: int) -> int:\n",
    "    r = 1\n",
    "    while y > 0:\n",
    "        if y % 2 == 1:\n",
    "            r = r * x\n",
    "        x = x *  x\n",
    "        y = y // 2\n",
    "    return r"
   ]
  },
  {
   "cell_type": "code",
   "execution_count": null,
   "metadata": {},
   "outputs": [],
   "source": [
    "%%time\n",
    "p = power(3, 500_000)"
   ]
  },
  {
   "cell_type": "code",
   "execution_count": null,
   "metadata": {},
   "outputs": [],
   "source": [
    "power(3, 5)"
   ]
  },
  {
   "cell_type": "code",
   "execution_count": null,
   "metadata": {},
   "outputs": [],
   "source": [
    "import random as rnd"
   ]
  },
  {
   "cell_type": "code",
   "execution_count": null,
   "metadata": {},
   "outputs": [],
   "source": [
    "%%time\n",
    "for _ in range(100_000):\n",
    "    a = rnd.randint(1, 1000)\n",
    "    b = rnd.randint(0, 1000)\n",
    "    assert(power(a, b) == a ** b)"
   ]
  },
  {
   "cell_type": "code",
   "execution_count": null,
   "metadata": {},
   "outputs": [],
   "source": []
  }
 ],
 "metadata": {
  "kernelspec": {
   "display_name": "Python 3 (ipykernel)",
   "language": "python",
   "name": "python3"
  },
  "language_info": {
   "codemirror_mode": {
    "name": "ipython",
    "version": 3
   },
   "file_extension": ".py",
   "mimetype": "text/x-python",
   "name": "python",
   "nbconvert_exporter": "python",
   "pygments_lexer": "ipython3",
   "version": "3.12.2"
  }
 },
 "nbformat": 4,
 "nbformat_minor": 4
}
