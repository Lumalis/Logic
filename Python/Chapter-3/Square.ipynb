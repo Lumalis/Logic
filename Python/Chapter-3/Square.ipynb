{
 "cells": [
  {
   "cell_type": "code",
   "execution_count": null,
   "metadata": {},
   "outputs": [],
   "source": [
    "%load_ext nb_mypy"
   ]
  },
  {
   "cell_type": "markdown",
   "metadata": {},
   "source": [
    "# Computation of the Square "
   ]
  },
  {
   "cell_type": "markdown",
   "metadata": {},
   "source": [
    "The *recursive implementation* of the function `square` computes the *square* of `n`, we have:\n",
    "$$ \\texttt{square}(n) = n^2 $$"
   ]
  },
  {
   "cell_type": "code",
   "execution_count": null,
   "metadata": {},
   "outputs": [],
   "source": [
    "def square(n: int) -> int:\n",
    "    if n == 0:\n",
    "        return 0\n",
    "    h = square(n // 2)\n",
    "    if n % 2 == 0:\n",
    "        return 4 * h \n",
    "    else:\n",
    "        return 2 * (2 * h + n) - 1"
   ]
  },
  {
   "cell_type": "code",
   "execution_count": null,
   "metadata": {},
   "outputs": [],
   "source": [
    "for n in range(10+1):\n",
    "    print(f\"square({n}) = {square(n)}\")\n",
    "    assert square(n) == n * n"
   ]
  },
  {
   "cell_type": "markdown",
   "metadata": {},
   "source": [
    "The *iterative* implementation of the function `peasant` computes the *square* of `n`, we have:\n",
    "$$ \\texttt{square}(n) = n^2 $$"
   ]
  },
  {
   "cell_type": "code",
   "execution_count": null,
   "metadata": {},
   "outputs": [],
   "source": [
    "def peasant(n: int) -> int:\n",
    "    s = 0\n",
    "    m = n\n",
    "    t = n\n",
    "    while t > 0:\n",
    "        if t % 2 == 1:\n",
    "            s += m\n",
    "        t = t // 2\n",
    "        m = m * 2\n",
    "    return s"
   ]
  },
  {
   "cell_type": "code",
   "execution_count": null,
   "metadata": {},
   "outputs": [],
   "source": [
    "for n in range(10+1):\n",
    "    print(f\"peasant({n}) = {peasant(n)}\")\n",
    "    assert peasant(n) == n * n"
   ]
  },
  {
   "cell_type": "code",
   "execution_count": null,
   "metadata": {},
   "outputs": [],
   "source": []
  }
 ],
 "metadata": {
  "kernelspec": {
   "display_name": "Python 3 (ipykernel)",
   "language": "python",
   "name": "python3"
  },
  "language_info": {
   "codemirror_mode": {
    "name": "ipython",
    "version": 3
   },
   "file_extension": ".py",
   "mimetype": "text/x-python",
   "name": "python",
   "nbconvert_exporter": "python",
   "pygments_lexer": "ipython3",
   "version": "3.12.2"
  }
 },
 "nbformat": 4,
 "nbformat_minor": 4
}
