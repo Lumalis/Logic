{
 "cells": [
  {
   "cell_type": "markdown",
   "id": "6be8a2ff-5712-4f85-aa2f-c6fc8c2a2d04",
   "metadata": {},
   "source": [
    "# Recursive Computation of the Binomial Coefficients"
   ]
  },
  {
   "cell_type": "markdown",
   "id": "83d0bbca-6f56-4d0c-83f5-ee3a84f24960",
   "metadata": {},
   "source": [
    "The *binomial coefficient* ${n \\choose k}$ is defined as follows:\n",
    "$$ {n \\choose k} = \\frac{n!}{k! \\cdot (n-k)!} $$\n",
    "The function `binomial(n, k)` returns ${n \\choose k}$."
   ]
  },
  {
   "cell_type": "code",
   "execution_count": 1,
   "id": "281fdec1-eeab-45eb-b438-906dbc8f4d6e",
   "metadata": {},
   "outputs": [],
   "source": [
    "def binomial(n, k):\n",
    "    if k == 0 or k == n:\n",
    "        return 1\n",
    "    else:\n",
    "        return binomial(n - 1, k - 1) + binomial(n - 1, k)                "
   ]
  },
  {
   "cell_type": "code",
   "execution_count": 2,
   "id": "1d3cd83a-6c3f-44ba-b170-cf89f459a5c6",
   "metadata": {},
   "outputs": [],
   "source": [
    "import math"
   ]
  },
  {
   "cell_type": "code",
   "execution_count": 3,
   "id": "f3106e96-baab-4e29-a2a4-b73ced6368ca",
   "metadata": {},
   "outputs": [],
   "source": [
    "for n in range(12):\n",
    "    for k in range(n+1):\n",
    "        assert binomial(n, k) == math.comb(n, k)"
   ]
  },
  {
   "cell_type": "code",
   "execution_count": 4,
   "id": "16522cd2-ec83-4b6f-abd6-1a05ba9423bf",
   "metadata": {},
   "outputs": [
    {
     "name": "stdout",
     "output_type": "stream",
     "text": [
      "1 1 \n",
      "1 2 1 \n",
      "1 3 3 1 \n",
      "1 4 6 4 1 \n",
      "1 5 10 10 5 1 \n",
      "1 6 15 20 15 6 1 \n",
      "1 7 21 35 35 21 7 1 \n",
      "1 8 28 56 70 56 28 8 1 \n",
      "1 9 36 84 126 126 84 36 9 1 \n"
     ]
    }
   ],
   "source": [
    "for n in range(1, 10):\n",
    "    for k in range(0, n+1):\n",
    "        print(binomial(n, k), end=' ')\n",
    "    print()    "
   ]
  },
  {
   "cell_type": "code",
   "execution_count": null,
   "id": "6b891df4-2078-4a0e-a5d3-792973720a2f",
   "metadata": {},
   "outputs": [],
   "source": []
  }
 ],
 "metadata": {
  "kernelspec": {
   "display_name": "Python 3 (ipykernel)",
   "language": "python",
   "name": "python3"
  },
  "language_info": {
   "codemirror_mode": {
    "name": "ipython",
    "version": 3
   },
   "file_extension": ".py",
   "mimetype": "text/x-python",
   "name": "python",
   "nbconvert_exporter": "python",
   "pygments_lexer": "ipython3",
   "version": "3.12.2"
  }
 },
 "nbformat": 4,
 "nbformat_minor": 5
}
