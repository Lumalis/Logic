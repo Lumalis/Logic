{
 "cells": [
  {
   "cell_type": "code",
   "execution_count": null,
   "id": "007b6f7c",
   "metadata": {},
   "outputs": [],
   "source": [
    "from IPython.display import HTML\n",
    "HTML(open('../style.css', 'r').read())"
   ]
  },
  {
   "cell_type": "code",
   "execution_count": null,
   "id": "ed9d20b2",
   "metadata": {},
   "outputs": [],
   "source": [
    "%load_ext nb_mypy"
   ]
  },
  {
   "cell_type": "markdown",
   "id": "75e29a5f",
   "metadata": {},
   "source": [
    "# The Euclidean Algorithm for Computing the Greatest Common Divisor "
   ]
  },
  {
   "cell_type": "markdown",
   "id": "08b196aa",
   "metadata": {},
   "source": [
    "The function `gcd`takes to natural numbers `a` and `b`as arguments and computes their *greatest common divisor*."
   ]
  },
  {
   "cell_type": "code",
   "execution_count": null,
   "id": "b3e1ae26",
   "metadata": {},
   "outputs": [],
   "source": [
    "def gcd(a: int, b: int) -> int:\n",
    "    while b != 0:\n",
    "        a, b = b, a % b\n",
    "    return a"
   ]
  },
  {
   "cell_type": "code",
   "execution_count": null,
   "id": "8901d883",
   "metadata": {},
   "outputs": [],
   "source": [
    "gcd(125, 20)"
   ]
  },
  {
   "cell_type": "code",
   "execution_count": null,
   "id": "c498cb6a",
   "metadata": {},
   "outputs": [],
   "source": []
  }
 ],
 "metadata": {
  "kernelspec": {
   "display_name": "Python 3 (ipykernel)",
   "language": "python",
   "name": "python3"
  },
  "language_info": {
   "codemirror_mode": {
    "name": "ipython",
    "version": 3
   },
   "file_extension": ".py",
   "mimetype": "text/x-python",
   "name": "python",
   "nbconvert_exporter": "python",
   "pygments_lexer": "ipython3",
   "version": "3.12.9"
  }
 },
 "nbformat": 4,
 "nbformat_minor": 5
}
