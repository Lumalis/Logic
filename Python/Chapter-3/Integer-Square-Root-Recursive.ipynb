{
 "cells": [
  {
   "cell_type": "code",
   "execution_count": null,
   "metadata": {},
   "outputs": [],
   "source": [
    "from IPython.core.display import HTML\n",
    "with open('../style.css') as file:\n",
    "    css = file.read()\n",
    "HTML(css)"
   ]
  },
  {
   "cell_type": "code",
   "execution_count": null,
   "metadata": {},
   "outputs": [],
   "source": [
    "%load_ext nb_mypy"
   ]
  },
  {
   "cell_type": "markdown",
   "metadata": {},
   "source": [
    "# Integer Square Root"
   ]
  },
  {
   "cell_type": "markdown",
   "metadata": {},
   "source": [
    "The function `isqrt(n)` takes one natural numbers $n$ and returns the largest natural number $r$ such that\n",
    "$r^2 \\leq n$, i.e. we have\n",
    "$$ \\texttt{isqrt}(n) := \\max\\bigl(\\{ r \\in \\mathbb{N} \\mid r^2 \\leq n \\}\\bigr). $$\n",
    "Our goal is to compute `isqrt(n)` recursively via a *divide-and-conquer* algorithm as follows:\n",
    "1. $\\texttt{isqrt}(0) = 0$.\n",
    "2. $\\bigl(2 \\cdot \\texttt{isqrt}(n \\,\\texttt{//}\\, 4) + 1\\bigr)^2 \\leq n \\rightarrow \\texttt{isqrt}(n) = 2 \\cdot \\texttt{isqrt}(n \\,\\texttt{//}\\, 4) + 1$.\n",
    "3. $\\bigl(2 \\cdot \\texttt{isqrt}(n \\,\\texttt{//}\\, 4) + 1\\bigr)^2 > n \\rightarrow \\texttt{isqrt}(n) = 2 \\cdot \\texttt{isqrt}(n \\,\\texttt{//}\\, 4)$."
   ]
  },
  {
   "cell_type": "code",
   "execution_count": null,
   "metadata": {},
   "outputs": [],
   "source": [
    "def isqrt(n: int) -> int:\n",
    "    if n == 0:\n",
    "        return 0\n",
    "    r = isqrt(n // 4)\n",
    "    if (2 * r + 1) ** 2 <= n:\n",
    "        return 2 * r + 1\n",
    "    else:\n",
    "        return 2 * r"
   ]
  },
  {
   "cell_type": "code",
   "execution_count": null,
   "metadata": {},
   "outputs": [],
   "source": [
    "for n in range(10):\n",
    "    print(f'isqrt({n}) = {isqrt(n)}')"
   ]
  },
  {
   "cell_type": "markdown",
   "metadata": {},
   "source": [
    "In order to test our implementation more thoroughly we use random numbers."
   ]
  },
  {
   "cell_type": "code",
   "execution_count": null,
   "metadata": {},
   "outputs": [],
   "source": [
    "import random\n",
    "random.seed(0)"
   ]
  },
  {
   "cell_type": "markdown",
   "metadata": {},
   "source": [
    "The function `run_tests(no_tests)` generates `no_tests` integers `n` and tests, whether \n",
    "`isqrt(n)` is the *integer square root* of `n` in each case."
   ]
  },
  {
   "cell_type": "code",
   "execution_count": null,
   "metadata": {},
   "outputs": [],
   "source": [
    "def run_tests(no_tests: int) -> None:\n",
    "    for i in range(no_tests):\n",
    "        n = random.randrange(2 ** 32)\n",
    "        r = isqrt(n)\n",
    "        assert r * r <= n and (r + 1)**2 > n, f'Error: {r} != isqrt({n})'"
   ]
  },
  {
   "cell_type": "code",
   "execution_count": null,
   "metadata": {},
   "outputs": [],
   "source": [
    "%%time\n",
    "run_tests(10**6)"
   ]
  },
  {
   "cell_type": "markdown",
   "metadata": {},
   "source": [
    "The function `sqrt2(k)` returns $\\sqrt{2}$ up to `k` decimal places."
   ]
  },
  {
   "cell_type": "code",
   "execution_count": null,
   "metadata": {},
   "outputs": [],
   "source": [
    "def sqrt2(k: int) -> str:\n",
    "    n = 2 * 10 ** (2 * k)\n",
    "    r = isqrt(n)\n",
    "    s = str(r)\n",
    "    return s[0] + '.' + s[1:]"
   ]
  },
  {
   "cell_type": "markdown",
   "metadata": {},
   "source": [
    "Let us compute the first $1,000$ digits of $\\sqrt{2\\,}$."
   ]
  },
  {
   "cell_type": "code",
   "execution_count": null,
   "metadata": {},
   "outputs": [],
   "source": [
    "import sys\n",
    "print(sys.getrecursionlimit())\n",
    "sys.setrecursionlimit(4000)"
   ]
  },
  {
   "cell_type": "code",
   "execution_count": null,
   "metadata": {},
   "outputs": [],
   "source": [
    "%%time\n",
    "print(sqrt2(1000))"
   ]
  },
  {
   "cell_type": "markdown",
   "metadata": {},
   "source": [
    "You can compare this with the results shown on https://catonmat.net/tools/generate-sqrt2-digits."
   ]
  },
  {
   "cell_type": "code",
   "execution_count": null,
   "metadata": {},
   "outputs": [],
   "source": []
  }
 ],
 "metadata": {
  "kernelspec": {
   "display_name": "Python 3 (ipykernel)",
   "language": "python",
   "name": "python3"
  },
  "language_info": {
   "codemirror_mode": {
    "name": "ipython",
    "version": 3
   },
   "file_extension": ".py",
   "mimetype": "text/x-python",
   "name": "python",
   "nbconvert_exporter": "python",
   "pygments_lexer": "ipython3",
   "version": "3.10.10"
  },
  "varInspector": {
   "cols": {
    "lenName": 16,
    "lenType": 16,
    "lenVar": 40
   },
   "kernels_config": {
    "python": {
     "delete_cmd_postfix": "",
     "delete_cmd_prefix": "del ",
     "library": "var_list.py",
     "varRefreshCmd": "print(var_dic_list())"
    },
    "r": {
     "delete_cmd_postfix": ") ",
     "delete_cmd_prefix": "rm(",
     "library": "var_list.r",
     "varRefreshCmd": "cat(var_dic_list()) "
    }
   },
   "types_to_exclude": [
    "module",
    "function",
    "builtin_function_or_method",
    "instance",
    "_Feature"
   ],
   "window_display": false
  }
 },
 "nbformat": 4,
 "nbformat_minor": 4
}
