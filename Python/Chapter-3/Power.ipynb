{
 "cells": [
  {
   "cell_type": "code",
   "execution_count": null,
   "metadata": {},
   "outputs": [],
   "source": [
    "%load_ext nb_mypy"
   ]
  },
  {
   "cell_type": "markdown",
   "metadata": {},
   "source": [
    "# Computation of Powers via Iterative Squaring"
   ]
  },
  {
   "cell_type": "markdown",
   "metadata": {},
   "source": [
    "The *recursive implementation* of the function `power` given below is based on the following two equations:\n",
    "1. $m^0 = 1$\n",
    "2. $m^n = \\left\\{\\begin{array}{ll}\n",
    "         m^{n//2} \\cdot m^{n//2}          & \\mbox{if $n$ is even};    \\\\\n",
    "         m^{n//2} \\cdot m^{n//2} \\cdot m  & \\mbox{if $n$ is odd}.\n",
    "         \\end{array}\n",
    "         \\right.\n",
    "         $\n",
    "         \n",
    "Effectively, we square the $m^{n//2}$.  Hence this method is also known as *iterative squaring*."
   ]
  },
  {
   "cell_type": "code",
   "execution_count": null,
   "metadata": {},
   "outputs": [],
   "source": [
    "def power(m: int, n: int) -> int:\n",
    "    if n == 0:\n",
    "        return 1\n",
    "    p = power(m, n // 2)\n",
    "    if n % 2 == 0:\n",
    "        return p * p\n",
    "    else:\n",
    "        return p * p * m"
   ]
  },
  {
   "cell_type": "code",
   "execution_count": null,
   "metadata": {},
   "outputs": [],
   "source": [
    "%%time\n",
    "p = power(3, 5_000)\n",
    "p"
   ]
  },
  {
   "cell_type": "code",
   "execution_count": null,
   "metadata": {},
   "outputs": [],
   "source": [
    "assert(3 ** 500_000 == power(3, 500_000))"
   ]
  },
  {
   "cell_type": "code",
   "execution_count": null,
   "metadata": {},
   "outputs": [],
   "source": []
  }
 ],
 "metadata": {
  "kernelspec": {
   "display_name": "Python 3 (ipykernel)",
   "language": "python",
   "name": "python3"
  },
  "language_info": {
   "codemirror_mode": {
    "name": "ipython",
    "version": 3
   },
   "file_extension": ".py",
   "mimetype": "text/x-python",
   "name": "python",
   "nbconvert_exporter": "python",
   "pygments_lexer": "ipython3",
   "version": "3.12.2"
  }
 },
 "nbformat": 4,
 "nbformat_minor": 4
}
