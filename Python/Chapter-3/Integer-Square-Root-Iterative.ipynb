{
 "cells": [
  {
   "cell_type": "code",
   "execution_count": 1,
   "metadata": {},
   "outputs": [
    {
     "name": "stderr",
     "output_type": "stream",
     "text": [
      "Version 1.0.5\n"
     ]
    }
   ],
   "source": [
    "%load_ext nb_mypy"
   ]
  },
  {
   "cell_type": "markdown",
   "metadata": {},
   "source": [
    "# Integer Square Root"
   ]
  },
  {
   "cell_type": "markdown",
   "metadata": {},
   "source": [
    "The function `isqrt(n)` takes one natural numbers $n$ that is less than $2^{128}$ and returns the largest natural number $r$ such that\n",
    "$r^2 \\leq n$, i.e. we have\n",
    "$$ \\texttt{isqrt}(n) := \\max\\bigl(\\{ r \\in \\mathbb{N} \\mid r^2 \\leq n \\}\\bigr). $$\n",
    "The implementation tries to compute the result bit by bit starting from the bit with the highest value.\n",
    "Since $n < 2^{128}$ we know that `isqrt(n)` is less than $2^{64}$."
   ]
  },
  {
   "cell_type": "code",
   "execution_count": 2,
   "metadata": {},
   "outputs": [],
   "source": [
    "def isqrt(a: int) -> int:\n",
    "    assert a < 2 ** 128\n",
    "    result = 0\n",
    "    p      = 2 ** 63\n",
    "    while p > 0:\n",
    "        if a >= (result + p) ** 2:\n",
    "            result = result + p\n",
    "        p = p // 2\n",
    "    return result"
   ]
  },
  {
   "cell_type": "code",
   "execution_count": 3,
   "metadata": {},
   "outputs": [
    {
     "name": "stdout",
     "output_type": "stream",
     "text": [
      "isqrt(0) = 0\n",
      "isqrt(1) = 1\n",
      "isqrt(2) = 1\n",
      "isqrt(3) = 1\n",
      "isqrt(4) = 2\n",
      "isqrt(5) = 2\n",
      "isqrt(6) = 2\n",
      "isqrt(7) = 2\n",
      "isqrt(8) = 2\n",
      "isqrt(9) = 3\n"
     ]
    }
   ],
   "source": [
    "for n in range(10):\n",
    "    print(f'isqrt({n}) = {isqrt(n)}')"
   ]
  },
  {
   "cell_type": "markdown",
   "metadata": {},
   "source": [
    "In order to test our implementation more thoroughly we use random numbers."
   ]
  },
  {
   "cell_type": "code",
   "execution_count": 4,
   "metadata": {},
   "outputs": [],
   "source": [
    "import random\n",
    "random.seed(0)"
   ]
  },
  {
   "cell_type": "code",
   "execution_count": 6,
   "metadata": {},
   "outputs": [],
   "source": [
    "from typing import Callable"
   ]
  },
  {
   "cell_type": "markdown",
   "metadata": {},
   "source": [
    "The function `run_tests(no_tests, f)` generates `no_tests` integers `n` and tests, whether \n",
    "`f(n)` is the *integer square root* of `n` in each case."
   ]
  },
  {
   "cell_type": "code",
   "execution_count": 7,
   "metadata": {},
   "outputs": [],
   "source": [
    "def run_tests(no_tests: int, f: Callable[[int], int]) -> None:\n",
    "    for _ in range(no_tests):\n",
    "        n = random.randrange(2 ** 128)\n",
    "        r = f(n)\n",
    "        assert r * r <= n and (r + 1)**2 > n, f'Error: {r} != f({n})'"
   ]
  },
  {
   "cell_type": "code",
   "execution_count": 8,
   "metadata": {},
   "outputs": [
    {
     "name": "stdout",
     "output_type": "stream",
     "text": [
      "CPU times: user 766 ms, sys: 3.07 ms, total: 769 ms\n",
      "Wall time: 781 ms\n"
     ]
    }
   ],
   "source": [
    "%%time\n",
    "run_tests(10**5, isqrt)"
   ]
  },
  {
   "cell_type": "markdown",
   "metadata": {},
   "source": [
    "With 128 bits we can approximate the square root of $2$ up to $18$ decimal places."
   ]
  },
  {
   "cell_type": "code",
   "execution_count": 11,
   "metadata": {},
   "outputs": [
    {
     "data": {
      "text/plain": [
       "True"
      ]
     },
     "execution_count": 11,
     "metadata": {},
     "output_type": "execute_result"
    }
   ],
   "source": [
    "2 * 10 ** 38 < 2 ** 128"
   ]
  },
  {
   "cell_type": "code",
   "execution_count": 12,
   "metadata": {},
   "outputs": [
    {
     "name": "stdout",
     "output_type": "stream",
     "text": [
      "1.4142135623730950488\n"
     ]
    }
   ],
   "source": [
    "s = str(isqrt(2 * 10 ** 38))\n",
    "print(s[0] + '.' + s[1:])"
   ]
  },
  {
   "cell_type": "markdown",
   "metadata": {},
   "source": [
    "We can check this at [CATONMAT](https://catonmat.net/tools/generate-sqrt2-digits)."
   ]
  },
  {
   "cell_type": "code",
   "execution_count": 13,
   "metadata": {},
   "outputs": [],
   "source": [
    "import math"
   ]
  },
  {
   "cell_type": "markdown",
   "metadata": {},
   "source": [
    "When we compare this with the floating point implementation of the function `sqrt`, we can see that the floating point implementation has been rounded up in the last digit."
   ]
  },
  {
   "cell_type": "code",
   "execution_count": 14,
   "metadata": {},
   "outputs": [
    {
     "data": {
      "text/plain": [
       "1.4142135623730951"
      ]
     },
     "execution_count": 14,
     "metadata": {},
     "output_type": "execute_result"
    }
   ],
   "source": [
    "math.sqrt(2.0)"
   ]
  },
  {
   "cell_type": "markdown",
   "metadata": {},
   "source": [
    "1.4142135623730950488"
   ]
  },
  {
   "cell_type": "code",
   "execution_count": null,
   "metadata": {},
   "outputs": [],
   "source": []
  }
 ],
 "metadata": {
  "kernelspec": {
   "display_name": "Python 3 (ipykernel)",
   "language": "python",
   "name": "python3"
  },
  "language_info": {
   "codemirror_mode": {
    "name": "ipython",
    "version": 3
   },
   "file_extension": ".py",
   "mimetype": "text/x-python",
   "name": "python",
   "nbconvert_exporter": "python",
   "pygments_lexer": "ipython3",
   "version": "3.12.2"
  },
  "varInspector": {
   "cols": {
    "lenName": 16,
    "lenType": 16,
    "lenVar": 40
   },
   "kernels_config": {
    "python": {
     "delete_cmd_postfix": "",
     "delete_cmd_prefix": "del ",
     "library": "var_list.py",
     "varRefreshCmd": "print(var_dic_list())"
    },
    "r": {
     "delete_cmd_postfix": ") ",
     "delete_cmd_prefix": "rm(",
     "library": "var_list.r",
     "varRefreshCmd": "cat(var_dic_list()) "
    }
   },
   "types_to_exclude": [
    "module",
    "function",
    "builtin_function_or_method",
    "instance",
    "_Feature"
   ],
   "window_display": false
  }
 },
 "nbformat": 4,
 "nbformat_minor": 4
}
