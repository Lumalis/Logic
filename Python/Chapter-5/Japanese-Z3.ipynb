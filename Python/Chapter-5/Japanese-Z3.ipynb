{
 "cells": [
  {
   "cell_type": "code",
   "execution_count": null,
   "metadata": {},
   "outputs": [],
   "source": [
    "from IPython.display import HTML\n",
    "HTML(open('../style.css', 'r').read())"
   ]
  },
  {
   "cell_type": "markdown",
   "metadata": {},
   "source": [
    "# Japanese IQ Test\n",
    "\n",
    "The following puzzle is part of a recruitment test in Japan.\n",
    "\n",
    "---\n",
    "\n",
    "A policeman, a convict, a father and his two sons Anton and Bruno, and a mother with her two daughters Cindy and Doris have to cross a river.  On the boat there is only room for two passengers.\n",
    "\n",
    "During the crossing, the following conditions have to be observed:\n",
    "* The father is not allowed to be on a shore with one of the daughters \n",
    "  if the mother is on the other shore. \n",
    "* The mother is not allowed to be on a shore with one of the sons \n",
    "  if the father is on the other shore.\n",
    "* If the criminal is not alone, then the policeman must watch him.\n",
    "\n",
    "  However the convict can be alone on a shore, as his shackles prevent him from running away. \n",
    "* Only the father, the mother, and the policeman are able to steer the boat. "
   ]
  },
  {
   "cell_type": "markdown",
   "metadata": {},
   "source": [
    "We are going to formulate this problem as a *symbolic transition problem*.\n",
    "Then, we can solve the problem using our constraint solver."
   ]
  },
  {
   "cell_type": "code",
   "execution_count": null,
   "metadata": {},
   "outputs": [],
   "source": [
    "import z3"
   ]
  },
  {
   "cell_type": "markdown",
   "metadata": {},
   "source": [
    "We will use the following variables to encode the problem:\n",
    "* `P` equals `1` if the policeman is on the western shore,\n",
    "* `V` equals `1` if the villain is on the western shore,\n",
    "* `M` equals `1` if the mother is on the western shore,\n",
    "* `F` equals `1` if the father is on the western shore,\n",
    "* `B` is the number of boys on the western shore,\n",
    "* `G` is the number of girls on the western shore."
   ]
  },
  {
   "cell_type": "code",
   "execution_count": null,
   "metadata": {},
   "outputs": [],
   "source": [
    "def start(P, V, M, F, B, G):\n",
    "    \"your code here\""
   ]
  },
  {
   "cell_type": "code",
   "execution_count": null,
   "metadata": {},
   "outputs": [],
   "source": [
    "def goal(P, V, M, F, B, G):\n",
    "    \"your code here\""
   ]
  },
  {
   "cell_type": "code",
   "execution_count": null,
   "metadata": {},
   "outputs": [],
   "source": [
    "def invariant(P, V, M, F, B, G):\n",
    "    \"your code here\""
   ]
  },
  {
   "cell_type": "markdown",
   "metadata": {},
   "source": [
    "The last parameter `i` of the function `transistion` specifies the number of the crossing."
   ]
  },
  {
   "cell_type": "code",
   "execution_count": null,
   "metadata": {},
   "outputs": [],
   "source": [
    "def transition(P𝛼, V𝛼, M𝛼, F𝛼, B𝛼, G𝛼,\n",
    "               P𝛽, V𝛽, M𝛽, F𝛽, B𝛽, G𝛽,\n",
    "               i\n",
    "              ):\n",
    "    if i % 2 == 0:\n",
    "        \"your code here\"\n",
    "    else:\n",
    "        \"your code here\"\n",
    "    return Formulas"
   ]
  },
  {
   "cell_type": "code",
   "execution_count": null,
   "metadata": {},
   "outputs": [],
   "source": [
    "def japanese_CSP(n):\n",
    "    S = z3.Solver()\n",
    "    \"\"\"\n",
    "    your code here\n",
    "    \"\"\"\n",
    "    result = str(S.check())\n",
    "    if result == 'sat':\n",
    "        Model = S.model()\n",
    "        Solution = (   { f'P{i}': Model[Ps[i]] for i in range(n+1) }\n",
    "                     | { f'V{i}': Model[Vs[i]] for i in range(n+1) }\n",
    "                     | { f'M{i}': Model[Ms[i]] for i in range(n+1) }\n",
    "                     | { f'F{i}': Model[Fs[i]] for i in range(n+1) }\n",
    "                     | { f'B{i}': Model[Bs[i]] for i in range(n+1) }\n",
    "                     | { f'G{i}': Model[Gs[i]] for i in range(n+1) }\n",
    "                   )\n",
    "        return { key: Solution[key].as_long() for key in Solution }\n",
    "    else:\n",
    "        return None"
   ]
  },
  {
   "cell_type": "code",
   "execution_count": null,
   "metadata": {},
   "outputs": [],
   "source": [
    "def find_solution():\n",
    "    n = 1\n",
    "    while True:\n",
    "        print(n)\n",
    "        Solution = japanese_CSP(n)\n",
    "        if Solution != None:\n",
    "            return n, Solution\n",
    "        n += 2"
   ]
  },
  {
   "cell_type": "code",
   "execution_count": null,
   "metadata": {},
   "outputs": [],
   "source": [
    "%%time\n",
    "n, Solution = find_solution()\n",
    "n, Solution"
   ]
  },
  {
   "cell_type": "markdown",
   "metadata": {},
   "source": [
    "## Auxiliary Code for Pretty Printing"
   ]
  },
  {
   "cell_type": "markdown",
   "metadata": {},
   "source": [
    "The following code is used for printing the path that has been found.  We won't discuss the details of these functions."
   ]
  },
  {
   "cell_type": "code",
   "execution_count": null,
   "metadata": {},
   "outputs": [],
   "source": [
    "def show_solution(Solution, n):\n",
    "    for i in range(n+1):\n",
    "        P = Solution[f'P{i}']\n",
    "        V = Solution[f'V{i}']\n",
    "        M = Solution[f'M{i}']\n",
    "        F = Solution[f'F{i}']\n",
    "        B = Solution[f'B{i}']\n",
    "        G = Solution[f'G{i}']\n",
    "        print('👮'*P+'🦹'*V+'👩'*M+'👨🏿'*F+'👦'*B+'👧🏾'*G + ' '*42 + \\\n",
    "              '👮'*(1-P)+'🦹'*(1-V)+'👩'*(1-M)+'👨🏿'*(1-F)+'👦'*(2-B)+'👧🏾'*(2-G))\n",
    "        if i % 2 == 0:\n",
    "            PS = Solution[f'P{i}'] - Solution[f'P{i+1}']\n",
    "            VS = Solution[f'V{i}'] - Solution[f'V{i+1}']\n",
    "            MS = Solution[f'M{i}'] - Solution[f'M{i+1}']\n",
    "            FS = Solution[f'F{i}'] - Solution[f'F{i+1}']\n",
    "            BS = Solution[f'B{i}'] - Solution[f'B{i+1}']\n",
    "            GS = Solution[f'G{i}'] - Solution[f'G{i+1}']\n",
    "            print(' '*24+'>>>'+'👮'*PS+'🦹'*VS+'👩'*MS+'👨🏿'*FS+'👦'*BS+'👧🏾'*GS+'>>>')\n",
    "        elif i + 1 < n:\n",
    "            PS = Solution[f'P{i+1}'] - Solution[f'P{i}']\n",
    "            VS = Solution[f'V{i+1}'] - Solution[f'V{i}']\n",
    "            MS = Solution[f'M{i+1}'] - Solution[f'M{i}']\n",
    "            FS = Solution[f'F{i+1}'] - Solution[f'F{i}']\n",
    "            BS = Solution[f'B{i+1}'] - Solution[f'B{i}']\n",
    "            GS = Solution[f'G{i+1}'] - Solution[f'G{i}']\n",
    "            print(' '*24+'<<<'+'👮'*PS+'🦹'*VS+'👩'*MS+'👨🏿'*FS+'👦'*BS+'👧🏾'*GS+'<<<')"
   ]
  },
  {
   "cell_type": "code",
   "execution_count": null,
   "metadata": {},
   "outputs": [],
   "source": [
    "show_solution(Solution, n)"
   ]
  },
  {
   "cell_type": "code",
   "execution_count": null,
   "metadata": {},
   "outputs": [],
   "source": []
  }
 ],
 "metadata": {
  "kernelspec": {
   "display_name": "Python 3 (ipykernel)",
   "language": "python",
   "name": "python3"
  },
  "language_info": {
   "codemirror_mode": {
    "name": "ipython",
    "version": 3
   },
   "file_extension": ".py",
   "mimetype": "text/x-python",
   "name": "python",
   "nbconvert_exporter": "python",
   "pygments_lexer": "ipython3",
   "version": "3.13.2"
  },
  "toc": {
   "base_numbering": 1,
   "nav_menu": {},
   "number_sections": true,
   "sideBar": true,
   "skip_h1_title": false,
   "title_cell": "Table of Contents",
   "title_sidebar": "Contents",
   "toc_cell": false,
   "toc_position": {},
   "toc_section_display": true,
   "toc_window_display": false
  },
  "varInspector": {
   "cols": {
    "lenName": 16,
    "lenType": 16,
    "lenVar": 40
   },
   "kernels_config": {
    "python": {
     "delete_cmd_postfix": "",
     "delete_cmd_prefix": "del ",
     "library": "var_list.py",
     "varRefreshCmd": "print(var_dic_list())"
    },
    "r": {
     "delete_cmd_postfix": ") ",
     "delete_cmd_prefix": "rm(",
     "library": "var_list.r",
     "varRefreshCmd": "cat(var_dic_list()) "
    }
   },
   "types_to_exclude": [
    "module",
    "function",
    "builtin_function_or_method",
    "instance",
    "_Feature"
   ],
   "window_display": false
  }
 },
 "nbformat": 4,
 "nbformat_minor": 4
}
