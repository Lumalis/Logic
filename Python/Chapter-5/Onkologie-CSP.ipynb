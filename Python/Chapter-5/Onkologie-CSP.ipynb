{
 "cells": [
  {
   "cell_type": "code",
   "execution_count": 1,
   "metadata": {},
   "outputs": [
    {
     "data": {
      "text/html": [
       "<link href='http://fonts.googleapis.com/css?family=Alegreya+Sans:100,300,400,500,700,800,900,100italic,300italic,400italic,500italic,700italic,800italic,900italic' rel='stylesheet' type='text/css'>\n",
       "<link href='http://fonts.googleapis.com/css?family=Arvo:400,700,400italic' rel='stylesheet' type='text/css'>\n",
       "<link href='http://fonts.googleapis.com/css?family=PT+Mono' rel='stylesheet' type='text/css'>\n",
       "<link href='http://fonts.googleapis.com/css?family=Shadows+Into+Light' rel='stylesheet' type='text/css'>\n",
       "<link href='http://fonts.googleapis.com/css?family=Philosopher:400,700,400italic,700italic' rel='stylesheet' type='text/css'>\n",
       "\n",
       "<style>\n",
       "\n",
       "@font-face {\n",
       "    font-family: \"Computer Modern\";\n",
       "    src: url('http://mirrors.ctan.org/fonts/cm-unicode/fonts/otf/cmunss.otf');\n",
       "}\n",
       "\n",
       ".container { width: 100% }\n",
       "\n",
       "/* Formatting for header cells */\n",
       ".text_cell_render h1 {\n",
       "    font-family: 'Philosopher', sans-serif;\n",
       "    font-weight: 400;\n",
       "    font-size: 2.2em;\n",
       "    line-height: 100%;\n",
       "    color: rgb(0, 80, 120);\n",
       "    margin-bottom: 0.1em;\n",
       "    margin-top: 0.1em;\n",
       "    display: block;\n",
       "}\t\n",
       ".text_cell_render h2 {\n",
       "    font-family: 'Philosopher', serif;\n",
       "    font-weight: 400;\n",
       "    font-size: 1.9em;\n",
       "    line-height: 100%;\n",
       "    color: rgb(200,100,0);\n",
       "    margin-bottom: 0.1em;\n",
       "    margin-top: 0.1em;\n",
       "    display: block;\n",
       "}\t\n",
       "\n",
       ".text_cell_render h3 {\n",
       "    font-family: 'Philosopher', serif;\n",
       "    margin-top:12px;\n",
       "    margin-bottom: 3px;\n",
       "    font-style: italic;\n",
       "    color: rgb(94,127,192);\n",
       "}\n",
       "\n",
       ".text_cell_render h4 {\n",
       "    font-family: 'Philosopher', serif;\n",
       "}\n",
       "\n",
       ".text_cell_render h5 {\n",
       "    font-family: 'Alegreya Sans', sans-serif;\n",
       "    font-weight: 300;\n",
       "    font-size: 16pt;\n",
       "    color: grey;\n",
       "    font-style: italic;\n",
       "    margin-bottom: .1em;\n",
       "    margin-top: 0.1em;\n",
       "    display: block;\n",
       "}\n",
       "\n",
       ".text_cell_render h6 {\n",
       "    font-family: 'PT Mono', sans-serif;\n",
       "    font-weight: 300;\n",
       "    font-size: 10pt;\n",
       "    color: grey;\n",
       "    margin-bottom: 1px;\n",
       "    margin-top: 1px;\n",
       "}\n",
       "\n",
       ".text_cell_render em {\n",
       "    font-family: 'Philosopher', sans-serif;\n",
       "    color:        blue;\n",
       "    background-color: rgb(255,220,180);\n",
       "    font-size:    110%;\n",
       "    margin-left:   2px;\n",
       "    margin-right:  2px;\n",
       "    font-weight:   100;\n",
       "}\n",
       "\n",
       ".text_cell_render b {\n",
       "    color:            rgb(255,195,195);\n",
       "    background-color: rgb(0,0,0);\n",
       "    font-size:    110%;\n",
       "    margin-left:   2px;\n",
       "    margin-right:  2px;\n",
       "    font-weight:   650;\n",
       "}\n",
       "\n",
       ".text_cell_render tt {\n",
       "    font-size:    120%;\n",
       "    margin-left:   2px;\n",
       "    margin-right:  2px;\n",
       "    font-weight:   150;\n",
       "}\n",
       "\n",
       ".Codemirror {\n",
       "    font-family: \"PT Mono\";\n",
       "    font-size: 100%;\n",
       "}\n",
       "\n",
       "</style>\n",
       "\n"
      ],
      "text/plain": [
       "<IPython.core.display.HTML object>"
      ]
     },
     "execution_count": 1,
     "metadata": {},
     "output_type": "execute_result"
    }
   ],
   "source": [
    "from IPython.core.display import HTML\n",
    "with open('../style.css', 'r') as file:\n",
    "    css = file.read()\n",
    "HTML(css)"
   ]
  },
  {
   "cell_type": "markdown",
   "metadata": {},
   "source": [
    "# Die Onkologie-Station"
   ]
  },
  {
   "cell_type": "markdown",
   "metadata": {},
   "source": [
    "Auf einer Onkologie-Station liegen fünf Patienten in nebeneinander liegenden Zimmern.\n",
    "Bis auf einen  der Patienten hat jeder genau eine Zigaretten-Marke geraucht.\n",
    "Der Patient, der nicht Zigarette geraucht hat, hat Pfeife geraucht.\n",
    "Jeder Patient fährt genau ein Auto und ist\n",
    "an genau einer Krebs-Art erkrankt.  Zusätzlich haben Sie die folgenden Informationen:\n",
    "<ol>\n",
    "<li> Im Zimmer neben Michael wird Camel geraucht. </li>\n",
    "<li> Der Trabant-Fahrer raucht Ernte 23 und liegt im Zimmer neben dem \n",
    "      Zungen-Krebs Patienten. </li>\n",
    "<li> Rolf liegt im letzten Zimmer und hat Kehlkopf-Krebs. </li>\n",
    "<li> Der West-Raucher liegt im ersten Zimmer. </li>\n",
    "<li> Der Mazda-Fahrer hat Zungen-Krebs und liegt neben dem Trabant-Fahrer. </li>\n",
    "<li> Der Nissan-Fahrer liegt neben dem Zungen-Krebs Patient. </li>\n",
    "<li> Rudolf wünscht sich Sterbe-Hilfe und liegt zwischen dem Camel-Raucher und dem Trabant-Fahrer. </li>\n",
    "<li> Der Seat Fahrer hat morgen seinen letzten Geburtstag. </li>\n",
    "<li> Der Luckies Raucher liegt neben dem Patienten mit Lungen-Krebs. </li>\n",
    "<li> Der Camel Raucher liegt neben dem Patienten mit Darm-Krebs. </li>\n",
    "<li> Der Nissan Fahrer liegt neben dem Mazda-Fahrer. </li>\n",
    "<li> Der Mercedes-Fahrer raucht Pfeife und liegt neben dem Camel Raucher. </li>\n",
    "<li> Jens liegt neben dem Luckies Raucher. </li>\n",
    "<li> Der Hodenkrebs-Patient hat gestern seine Eier durchs Klo gespült. </li>\n",
    "</ol>\n",
    "Entwickeln Sie ein <em>Python</em>-Programm, das die folgenden Fragen beantwortet:\n",
    "<ol> \n",
    "<li> Was raucht der Darmkrebs-Patient? </li>\n",
    "<li> Was fährt Kurt für ein Auto? </li>\n",
    "</ol>"
   ]
  },
  {
   "cell_type": "markdown",
   "metadata": {},
   "source": [
    "## Importing the Necessary Modules"
   ]
  },
  {
   "cell_type": "code",
   "execution_count": 2,
   "metadata": {},
   "outputs": [],
   "source": [
    "%run Backtracking-Constraint-Solver.ipynb"
   ]
  },
  {
   "cell_type": "markdown",
   "metadata": {},
   "source": [
    "## Auxiliary Functions"
   ]
  },
  {
   "cell_type": "markdown",
   "metadata": {},
   "source": [
    "In order to succinctly express the constraints that every patient has a different kind of cancer, drives a different brand of car etc., we can use the function `allDifferent`."
   ]
  },
  {
   "cell_type": "code",
   "execution_count": 3,
   "metadata": {},
   "outputs": [],
   "source": [
    "def allDifferent(Variables):\n",
    "    return { f\"{x} != {y}\" for x in Variables\n",
    "                           for y in Variables \n",
    "                           if  x < y\n",
    "           }"
   ]
  },
  {
   "cell_type": "code",
   "execution_count": 4,
   "metadata": {},
   "outputs": [
    {
     "data": {
      "text/plain": [
       "{'a != b', 'a != c', 'b != c'}"
      ]
     },
     "execution_count": 4,
     "metadata": {},
     "output_type": "execute_result"
    }
   ],
   "source": [
    "allDifferent({'a', 'b', 'c'})"
   ]
  },
  {
   "cell_type": "code",
   "execution_count": 5,
   "metadata": {},
   "outputs": [],
   "source": [
    "Brands   = { \"Camel\", \"Ernte\", \"West\", \"Luckies\", \"Pfeife\" }\n",
    "Cars     = { \"Trabant\", \"Mazda\", \"Nissan\", \"Seat\", \"Mercedes\" }\n",
    "Cancers  = { \"Zunge\", \"Kehlkopf\", \"Lunge\", \"Darm\", \"Hoden\" }\n",
    "Names    = { \"Michael\", \"Rolf\", \"Rudolf\", \"Jens\", \"Kurt\" }"
   ]
  },
  {
   "cell_type": "code",
   "execution_count": null,
   "metadata": {},
   "outputs": [],
   "source": [
    "def createCSP():\n",
    "    Variables = [ \"your code here\" ]\n",
    "    Values    = { 1, 2, 3, 4, 5 }\n",
    "    # In jedem Zimmer wird genau eine Zigaretten-Marke geraucht.\n",
    "    \"your code here\"\n",
    "    # Jeder Patient hat genau ein Auto.\n",
    "    \"your code here\"\n",
    "    # Jeder Patient ist an genau einer Krebsart erkrankt.\n",
    "    \"your code here\"\n",
    "    # Jeder Patient hat genau einen Vornamen.\n",
    "    \"your code here\"\n",
    "    # Im Zimmer neben Michael wird Camel geraucht. \n",
    "    \"your code here\"\n",
    "    # Der Trabant-Fahrer raucht Ernte 23 und liegt im Zimmer neben dem \n",
    "    # Zungen-Krebs Patienten. \n",
    "    \"your code here\"\n",
    "    # Rolf liegt im letzten Zimmer und hat Kehlkopf-Krebs. \n",
    "    \"your code here\"\n",
    "    # Der West-Raucher liegt im ersten Zimmer. \n",
    "    \"your code here\"\n",
    "    # Der Mazda-Fahrer hat Zungen-Krebs und liegt neben dem Trabant-Fahrer. \n",
    "    \"your code here\"\n",
    "    # Der Nissan-Fahrer liegt neben dem Zungen-Krebs Patient. \n",
    "    \"your code here\"\n",
    "    # Rudolf wünscht sich Sterbe-Hilfe und liegt zwischen dem Camel-Raucher und dem Trabant-Fahrer. \n",
    "    \"your code here\"\n",
    "    # Der Luckies Raucher liegt neben dem Patienten mit Lungen-Krebs. \n",
    "    \"your code here\"\n",
    "    # Der Camel Raucher liegt neben dem Patienten mit Darm-Krebs. \n",
    "    \"your code here\"\n",
    "    # Der Nissan Fahrer liegt neben dem Mazda-Fahrer. \n",
    "    \"your code here\"\n",
    "    # Der Mercedes-Fahrer raucht Pfeife und liegt neben dem Camel Raucher. \n",
    "    \"your code here\"\n",
    "    # Jens liegt neben dem Luckies Raucher. \n",
    "    \"your code here\"\n",
    "    return Variables, Values, Constraints"
   ]
  },
  {
   "cell_type": "code",
   "execution_count": null,
   "metadata": {},
   "outputs": [],
   "source": [
    "csp = createCSP()\n",
    "csp"
   ]
  },
  {
   "cell_type": "markdown",
   "metadata": {},
   "source": [
    "With the right ordering of the variables, solving the problem takes about 11 milliseconds on my computer."
   ]
  },
  {
   "cell_type": "code",
   "execution_count": null,
   "metadata": {},
   "outputs": [],
   "source": [
    "%%time\n",
    "Solution = cspSolver.solve(csp)"
   ]
  },
  {
   "cell_type": "code",
   "execution_count": null,
   "metadata": {},
   "outputs": [],
   "source": [
    "Solution"
   ]
  },
  {
   "cell_type": "markdown",
   "metadata": {},
   "source": [
    "## Pretty Printing the Solution"
   ]
  },
  {
   "cell_type": "code",
   "execution_count": null,
   "metadata": {},
   "outputs": [],
   "source": [
    "from IPython.display import HTML"
   ]
  },
  {
   "cell_type": "code",
   "execution_count": null,
   "metadata": {},
   "outputs": [],
   "source": [
    "def showHTML(Solution):\n",
    "    result  = '<table style=\"border:2px solid blue\">\\n'\n",
    "    result += '<tr>'\n",
    "    for name in ['Room', 'Brand', 'Car', 'Cancer', 'Name']:\n",
    "        result += '<th style=\"color:gold; background-color:blue\">' + name + '</th>'\n",
    "    result += '</tr>\\n'\n",
    "    for chair in range(1, 5+1):\n",
    "        result += '<tr><td style=\"border:1px solid green\">' + str(chair) + '</td>'\n",
    "        for Class in [ Brands, Cars, Cancers, Names]:\n",
    "            for x in Class:\n",
    "                if Solution[x] == chair:\n",
    "                    result += '<td  style=\"border:1px solid green\">' + x + '</td>'\n",
    "        result += '</tr>\\n'\n",
    "    result += '</table>'\n",
    "    display(HTML(result))"
   ]
  },
  {
   "cell_type": "code",
   "execution_count": null,
   "metadata": {},
   "outputs": [],
   "source": [
    "showHTML(Solution)"
   ]
  },
  {
   "cell_type": "code",
   "execution_count": null,
   "metadata": {},
   "outputs": [],
   "source": []
  }
 ],
 "metadata": {
  "hide_input": false,
  "kernelspec": {
   "display_name": "Python 3 (ipykernel)",
   "language": "python",
   "name": "python3"
  },
  "language_info": {
   "codemirror_mode": {
    "name": "ipython",
    "version": 3
   },
   "file_extension": ".py",
   "mimetype": "text/x-python",
   "name": "python",
   "nbconvert_exporter": "python",
   "pygments_lexer": "ipython3",
   "version": "3.10.11"
  },
  "toc": {
   "base_numbering": 1,
   "nav_menu": {},
   "number_sections": true,
   "sideBar": true,
   "skip_h1_title": false,
   "title_cell": "Table of Contents",
   "title_sidebar": "Contents",
   "toc_cell": false,
   "toc_position": {},
   "toc_section_display": true,
   "toc_window_display": false
  },
  "varInspector": {
   "cols": {
    "lenName": 16,
    "lenType": 16,
    "lenVar": 40
   },
   "kernels_config": {
    "python": {
     "delete_cmd_postfix": "",
     "delete_cmd_prefix": "del ",
     "library": "var_list.py",
     "varRefreshCmd": "print(var_dic_list())"
    },
    "r": {
     "delete_cmd_postfix": ") ",
     "delete_cmd_prefix": "rm(",
     "library": "var_list.r",
     "varRefreshCmd": "cat(var_dic_list()) "
    }
   },
   "types_to_exclude": [
    "module",
    "function",
    "builtin_function_or_method",
    "instance",
    "_Feature"
   ],
   "window_display": false
  }
 },
 "nbformat": 4,
 "nbformat_minor": 2
}
