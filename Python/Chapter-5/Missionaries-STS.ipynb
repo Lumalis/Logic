{
 "cells": [
  {
   "cell_type": "code",
   "execution_count": 1,
   "metadata": {
    "scrolled": true
   },
   "outputs": [
    {
     "data": {
      "text/html": [
       "<link href='http://fonts.googleapis.com/css?family=Alegreya+Sans:100,300,400,500,700,800,900,100italic,300italic,400italic,500italic,700italic,800italic,900italic' rel='stylesheet' type='text/css'>\n",
       "<link href='http://fonts.googleapis.com/css?family=Arvo:400,700,400italic' rel='stylesheet' type='text/css'>\n",
       "<link href='http://fonts.googleapis.com/css?family=PT+Mono' rel='stylesheet' type='text/css'>\n",
       "<link href='http://fonts.googleapis.com/css?family=Shadows+Into+Light' rel='stylesheet' type='text/css'>\n",
       "<link href='http://fonts.googleapis.com/css?family=Philosopher:400,700,400italic,700italic' rel='stylesheet' type='text/css'>\n",
       "\n",
       "<style>\n",
       "\n",
       "@font-face {\n",
       "    font-family: \"Computer Modern\";\n",
       "    src: url('http://mirrors.ctan.org/fonts/cm-unicode/fonts/otf/cmunss.otf');\n",
       "}\n",
       "\n",
       ".container { width: 100% }\n",
       "\n",
       "/* Formatting for header cells */\n",
       ".text_cell_render h1 {\n",
       "    font-family: 'Philosopher', sans-serif;\n",
       "    font-weight: 400;\n",
       "    font-size: 2.2em;\n",
       "    line-height: 100%;\n",
       "    color: rgb(0, 80, 120);\n",
       "    margin-bottom: 0.1em;\n",
       "    margin-top: 0.1em;\n",
       "    display: block;\n",
       "}\t\n",
       ".text_cell_render h2 {\n",
       "    font-family: 'Philosopher', serif;\n",
       "    font-weight: 400;\n",
       "    font-size: 1.9em;\n",
       "    line-height: 100%;\n",
       "    color: rgb(200,100,0);\n",
       "    margin-bottom: 0.1em;\n",
       "    margin-top: 0.1em;\n",
       "    display: block;\n",
       "}\t\n",
       "\n",
       ".text_cell_render h3 {\n",
       "    font-family: 'Philosopher', serif;\n",
       "    margin-top:12px;\n",
       "    margin-bottom: 3px;\n",
       "    font-style: italic;\n",
       "    color: rgb(94,127,192);\n",
       "}\n",
       "\n",
       ".text_cell_render h4 {\n",
       "    font-family: 'Philosopher', serif;\n",
       "}\n",
       "\n",
       ".text_cell_render h5 {\n",
       "    font-family: 'Alegreya Sans', sans-serif;\n",
       "    font-weight: 300;\n",
       "    font-size: 16pt;\n",
       "    color: grey;\n",
       "    font-style: italic;\n",
       "    margin-bottom: .1em;\n",
       "    margin-top: 0.1em;\n",
       "    display: block;\n",
       "}\n",
       "\n",
       ".text_cell_render h6 {\n",
       "    font-family: 'PT Mono', sans-serif;\n",
       "    font-weight: 300;\n",
       "    font-size: 10pt;\n",
       "    color: grey;\n",
       "    margin-bottom: 1px;\n",
       "    margin-top: 1px;\n",
       "}\n",
       "\n",
       ".text_cell_render em {\n",
       "    font-family: 'Philosopher', sans-serif;\n",
       "    color:        blue;\n",
       "    background-color: rgb(255,220,180);\n",
       "    font-size:    110%;\n",
       "    margin-left:   2px;\n",
       "    margin-right:  2px;\n",
       "    font-weight:   100;\n",
       "}\n",
       "\n",
       ".text_cell_render b {\n",
       "    color:            rgb(255,195,195);\n",
       "    background-color: rgb(0,0,0);\n",
       "    font-size:    110%;\n",
       "    margin-left:   2px;\n",
       "    margin-right:  2px;\n",
       "    font-weight:   650;\n",
       "}\n",
       "\n",
       ".text_cell_render tt {\n",
       "    font-size:    120%;\n",
       "    margin-left:   2px;\n",
       "    margin-right:  2px;\n",
       "    font-weight:   150;\n",
       "}\n",
       "\n",
       ".Codemirror {\n",
       "    font-family: \"PT Mono\";\n",
       "    font-size: 100%;\n",
       "}\n",
       "\n",
       "</style>\n",
       "\n"
      ],
      "text/plain": [
       "<IPython.core.display.HTML object>"
      ]
     },
     "execution_count": 1,
     "metadata": {},
     "output_type": "execute_result"
    }
   ],
   "source": [
    "from IPython.core.display import HTML\n",
    "with open('../style.css', 'r') as file:\n",
    "    css = file.read()\n",
    "HTML(css)"
   ]
  },
  {
   "cell_type": "markdown",
   "metadata": {},
   "source": [
    "# Saving the Infidels\n",
    "\n",
    "In this notebook we want so solve a famous search problem, which is usually known as the\n",
    "[missionaries and cannibals problem](https://en.wikipedia.org/wiki/Missionaries_and_cannibals_problem):\n",
    "Three missinaries and three infidels have to cross a river in order to get to a church where the infidels can be baptized.  In order to cross the river, they have to take a small boat that can take at most two passengers.  If at any moments at any shore there are more infidels than missionaries, then the missionaries have a problem, since the infidels have a diet that includes human flesh.\n",
    "\n",
    "We will encode this problem as a *constraint satisfaction problem*.  In order to do so, we assume that the\n",
    "problem can be solved with $n\\in\\mathbb{N}$ crossing of the river.  We use the following variables:\n",
    "* $\\texttt{M}i$ for $i\\in\\{0,\\cdots,n\\}$ is the number of missionaries on the western shore after the \n",
    "  $i^{\\textrm{th}}$ crossing.\n",
    "* $\\texttt{C}i$ for $i\\in\\{0,\\cdots,n\\}$ is the number of infidels on the western shore after the \n",
    "  $i^{\\textrm{th}}$ crossing.\n",
    "* $\\texttt{B}i$ for $i\\in\\{0,\\cdots,n\\}$ is the number of boats on the western shore after the \n",
    "  $i^{\\textrm{th}}$ crossing."
   ]
  },
  {
   "cell_type": "markdown",
   "metadata": {},
   "source": [
    "## Auxiliary Functions"
   ]
  },
  {
   "cell_type": "markdown",
   "metadata": {},
   "source": [
    "The function `flatten` takes a list of lists `LoL` and returns a list containing all the elements contained in any of the lists in `LoL`."
   ]
  },
  {
   "cell_type": "code",
   "execution_count": 2,
   "metadata": {},
   "outputs": [],
   "source": [
    "def flatten(LoL):\n",
    "    return [x for L in LoL for x in L]"
   ]
  },
  {
   "cell_type": "code",
   "execution_count": 3,
   "metadata": {},
   "outputs": [
    {
     "data": {
      "text/plain": [
       "[1, 2, 3, 4]"
      ]
     },
     "execution_count": 3,
     "metadata": {},
     "output_type": "execute_result"
    }
   ],
   "source": [
    "flatten([[1,2], [3,4]])"
   ]
  },
  {
   "cell_type": "markdown",
   "metadata": {},
   "source": [
    "The function `start` takes three integers as input:\n",
    "* `M` is the number of missionaries on the western shore,\n",
    "* `C` is the number of infidels on the western shore,\n",
    "\n",
    "It returns `True` in the initial state where everybody is on the western shore."
   ]
  },
  {
   "cell_type": "code",
   "execution_count": 4,
   "metadata": {},
   "outputs": [],
   "source": [
    "def start(M, C, B):\n",
    "    return M == 3 and C == 3 and B == 1"
   ]
  },
  {
   "cell_type": "markdown",
   "metadata": {},
   "source": [
    "The function `goal` takes two integers as input:\n",
    "* `M` is the number of missionaries on the western shore,\n",
    "* `C` is the number of infidels on the western shore,\n",
    "\n",
    "It returns `True` in the state where everybody is on the eastern shore\n",
    "and hence nobody is left on the wetsern shore."
   ]
  },
  {
   "cell_type": "code",
   "execution_count": 5,
   "metadata": {},
   "outputs": [],
   "source": [
    "def goal(M, C):\n",
    "    return M == 0 and C == 0"
   ]
  },
  {
   "cell_type": "markdown",
   "metadata": {},
   "source": [
    "The function `invariant` takes three integers as input:\n",
    "* `M` is the number of missionaries on the western shore,\n",
    "* `C` is the number of infidels on the western shore,\n",
    "* `B` is the number of boats on the western shore.\n",
    "\n",
    "It returns `True` if there is no problem on either shore of the river.  \n",
    "There is no problem if any of the following conditions is true:\n",
    "* There are no missionaries on the western side of the shore, i.e. \n",
    "  $\\texttt{M} = 0$.  \n",
    "  Then all missionaries are on the eastern side of the shore.\n",
    "* All missionaries are on the western side of the shore, i.e. $\\texttt{M} = 3$.\n",
    "  Then there are no missionaries on the eastern side of the shore.\n",
    "* The number of missionaries on the western side is the same as the number of \n",
    "  infidels on that side, i.e. $\\texttt{M} = \\texttt{C}$.  Then the numbers of \n",
    "  missionaries and infidels have to match on the eastern shore as well."
   ]
  },
  {
   "cell_type": "code",
   "execution_count": 6,
   "metadata": {},
   "outputs": [],
   "source": [
    "def invariant(M, C):\n",
    "    return M == 0 or M == 3 or M == C"
   ]
  },
  {
   "cell_type": "markdown",
   "metadata": {},
   "source": [
    "The function `transition` takes 6 arguments:\n",
    "* `M𝛼` is the number of missionaries on the eastern shore before the crossing.\n",
    "* `C𝛼` is the number of infidels on the eastern shore before the crossing.\n",
    "* `B𝛼` is the number of boats on the eastern shore before the crossing. \n",
    "* `M𝛽` is the number of missionaries on the eastern shore after the crossing.\n",
    "* `C𝛽` is the number of infidels on the eastern shore after the crossing.\n",
    "* `B𝛽` is the number of infidels on the eastern shore after the crossing.\n",
    "returns a set of formulas that is true if the missionaries starting on one shore arrive at the opposite  shore after the $i^{\\textrm{th}}$ crossing.  Note that if $i$ is odd, then during the $i^{\\textrm{th}}$ crossing the boat travels from the western shore to the eastern shore.  If $i$ is even, the boat travels from the eastern shore to the western shore."
   ]
  },
  {
   "cell_type": "code",
   "execution_count": 7,
   "metadata": {},
   "outputs": [],
   "source": [
    "def transition(M𝛼, C𝛼, B𝛼, M𝛽, C𝛽, B𝛽):\n",
    "    if not (0 <= B𝛼 <= 1 and B𝛽 == 1 - B𝛼):\n",
    "        return False\n",
    "    if B𝛼 == 1:\n",
    "        return (1 <= M𝛼 - M𝛽 + C𝛼 - C𝛽 <= 2 and\n",
    "                M𝛽 <= M𝛼 and C𝛽 <= C𝛼)\n",
    "    else:\n",
    "        return (1 <= M𝛽 - M𝛼 + C𝛽 - C𝛼 <= 2 and\n",
    "                M𝛽 >= M𝛼 and C𝛽 >= C𝛼)"
   ]
  },
  {
   "cell_type": "markdown",
   "metadata": {},
   "source": [
    "The function `change_ok(i)` returns a set of formulas that is true if the missionaries starting on one shore arrive at the opposite  shore after the $i^{\\textrm{th}}$ crossing.  Note that if $i$ is odd, then during the $i^{\\textrm{th}}$ crossing the boat travels from the western shore to the eastern shore.  If $i$ is even, the boat travels from the eastern shore to the western shore."
   ]
  },
  {
   "cell_type": "markdown",
   "metadata": {},
   "source": [
    "The function `missionaries_CSP` creates a CSP that tries to solve the problem with `n` crossings."
   ]
  },
  {
   "cell_type": "code",
   "execution_count": 8,
   "metadata": {},
   "outputs": [],
   "source": [
    "def missionaries_CSP(n):\n",
    "    \"Returns a CSP encoding the problem.\"\n",
    "    Lists        = [[f'M{i}', f'C{i}', f'B{i}'] for i in range(n+1)]\n",
    "    Variables    = flatten(Lists)\n",
    "    Values       = { 0, 1, 2, 3 }\n",
    "    Constraints  = { 'start(M0, C0, B0)'     }  # start state\n",
    "    Constraints |= { f'goal(M{n}, C{n})' }  # goal state\n",
    "    for i in range(n):\n",
    "        Constraints.add(f'invariant(M{i}, C{i})')\n",
    "        Constraints.add(f'transition(M{i}, C{i}, B{i}, M{i+1}, C{i+1}, B{i+1})')\n",
    "    return Variables, Values, Constraints"
   ]
  },
  {
   "cell_type": "code",
   "execution_count": 9,
   "metadata": {},
   "outputs": [
    {
     "data": {
      "text/plain": [
       "(['M0', 'C0', 'B0', 'M1', 'C1', 'B1', 'M2', 'C2', 'B2', 'M3', 'C3', 'B3'],\n",
       " {0, 1, 2, 3},\n",
       " {'goal(M3, C3)',\n",
       "  'invariant(M0, C0)',\n",
       "  'invariant(M1, C1)',\n",
       "  'invariant(M2, C2)',\n",
       "  'start(M0, C0, B0)',\n",
       "  'transition(M0, C0, B0, M1, C1, B1)',\n",
       "  'transition(M1, C1, B1, M2, C2, B2)',\n",
       "  'transition(M2, C2, B2, M3, C3, B3)'})"
      ]
     },
     "execution_count": 9,
     "metadata": {},
     "output_type": "execute_result"
    }
   ],
   "source": [
    "missionaries_CSP(3)"
   ]
  },
  {
   "cell_type": "code",
   "execution_count": 10,
   "metadata": {},
   "outputs": [],
   "source": [
    "%run Backtracking-Constraint-Solver.ipynb"
   ]
  },
  {
   "cell_type": "markdown",
   "metadata": {},
   "source": [
    "The function `find_solution` computes a solution to the problem of saving the infidels."
   ]
  },
  {
   "cell_type": "code",
   "execution_count": 11,
   "metadata": {
    "scrolled": true
   },
   "outputs": [],
   "source": [
    "def find_solution():\n",
    "    n = 1\n",
    "    while True:\n",
    "        print(n)\n",
    "        CSP = missionaries_CSP(n)\n",
    "        Solution = solve(CSP)\n",
    "        if Solution != None:\n",
    "            return n, Solution\n",
    "        n += 2"
   ]
  },
  {
   "cell_type": "markdown",
   "metadata": {},
   "source": [
    "On my desktop computer (2017 iMac with 3.4 GHz Quad-Core Intel i5) it takes about 2 seconds to solve the problem. "
   ]
  },
  {
   "cell_type": "code",
   "execution_count": 12,
   "metadata": {
    "scrolled": false
   },
   "outputs": [
    {
     "name": "stdout",
     "output_type": "stream",
     "text": [
      "1\n",
      "3\n",
      "5\n",
      "7\n",
      "9\n",
      "11\n",
      "CPU times: user 1.35 s, sys: 8.07 ms, total: 1.36 s\n",
      "Wall time: 1.37 s\n"
     ]
    },
    {
     "data": {
      "text/plain": [
       "(11,\n",
       " {'M0': 3,\n",
       "  'C0': 3,\n",
       "  'B0': 1,\n",
       "  'M1': 2,\n",
       "  'C1': 2,\n",
       "  'B1': 0,\n",
       "  'M2': 3,\n",
       "  'C2': 2,\n",
       "  'B2': 1,\n",
       "  'M3': 3,\n",
       "  'C3': 0,\n",
       "  'B3': 0,\n",
       "  'M4': 3,\n",
       "  'C4': 1,\n",
       "  'B4': 1,\n",
       "  'M5': 1,\n",
       "  'C5': 1,\n",
       "  'B5': 0,\n",
       "  'M6': 2,\n",
       "  'C6': 2,\n",
       "  'B6': 1,\n",
       "  'M7': 0,\n",
       "  'C7': 2,\n",
       "  'B7': 0,\n",
       "  'M8': 0,\n",
       "  'C8': 3,\n",
       "  'B8': 1,\n",
       "  'M9': 0,\n",
       "  'C9': 1,\n",
       "  'B9': 0,\n",
       "  'M10': 0,\n",
       "  'C10': 2,\n",
       "  'B10': 1,\n",
       "  'M11': 0,\n",
       "  'C11': 0,\n",
       "  'B11': 0})"
      ]
     },
     "execution_count": 12,
     "metadata": {},
     "output_type": "execute_result"
    }
   ],
   "source": [
    "%%time\n",
    "n, Solution = find_solution()\n",
    "n, Solution"
   ]
  },
  {
   "cell_type": "code",
   "execution_count": 13,
   "metadata": {},
   "outputs": [],
   "source": [
    "def show_solution(Solution, n):\n",
    "    for i in range(n+1):\n",
    "        M = Solution[f'M{i}']\n",
    "        C = Solution[f'C{i}']\n",
    "        B = Solution[f'B{i}']\n",
    "        print('😇' * M + '🥷' * C + ' ' * 28 + '😇' * (3 - M) + '🥷' * (3 - C))\n",
    "        if B == 1:\n",
    "            MB = Solution[f'M{i+1}'] - Solution[f'M{i}']\n",
    "            CB = Solution[f'C{i+1}'] - Solution[f'C{i}']\n",
    "            print(' ' * 12 + '>>> ' + '😇'*MB + '🥷'*CB + ' >>>')\n",
    "        elif i + 1 < n:\n",
    "            MB = Solution[f'M{i}'] - Solution[f'M{i+1}']\n",
    "            CB = Solution[f'C{i}'] - Solution[f'C{i+1}']\n",
    "            print(' ' * 12 + '<<< ' + '😇'*MB + '🥷'*CB + ' <<<')"
   ]
  },
  {
   "cell_type": "code",
   "execution_count": 14,
   "metadata": {},
   "outputs": [
    {
     "name": "stdout",
     "output_type": "stream",
     "text": [
      "😇😇😇🥷🥷🥷                            \n",
      "            >>>  >>>\n",
      "😇😇🥷🥷                            😇🥷\n",
      "            <<<  <<<\n",
      "😇😇😇🥷🥷                            🥷\n",
      "            >>>  >>>\n",
      "😇😇😇                            🥷🥷🥷\n",
      "            <<<  <<<\n",
      "😇😇😇🥷                            🥷🥷\n",
      "            >>>  >>>\n",
      "😇🥷                            😇😇🥷🥷\n",
      "            <<<  <<<\n",
      "😇😇🥷🥷                            😇🥷\n",
      "            >>>  >>>\n",
      "🥷🥷                            😇😇😇🥷\n",
      "            <<<  <<<\n",
      "🥷🥷🥷                            😇😇😇\n",
      "            >>>  >>>\n",
      "🥷                            😇😇😇🥷🥷\n",
      "            <<<  <<<\n",
      "🥷🥷                            😇😇😇🥷\n",
      "            >>>  >>>\n",
      "                            😇😇😇🥷🥷🥷\n"
     ]
    }
   ],
   "source": [
    "show_solution(Solution, n)"
   ]
  },
  {
   "cell_type": "code",
   "execution_count": null,
   "metadata": {},
   "outputs": [],
   "source": []
  }
 ],
 "metadata": {
  "hide_input": false,
  "kernelspec": {
   "display_name": "Python 3 (ipykernel)",
   "language": "python",
   "name": "python3"
  },
  "language_info": {
   "codemirror_mode": {
    "name": "ipython",
    "version": 3
   },
   "file_extension": ".py",
   "mimetype": "text/x-python",
   "name": "python",
   "nbconvert_exporter": "python",
   "pygments_lexer": "ipython3",
   "version": "3.10.10"
  },
  "toc": {
   "base_numbering": 1,
   "nav_menu": {},
   "number_sections": true,
   "sideBar": true,
   "skip_h1_title": false,
   "title_cell": "Table of Contents",
   "title_sidebar": "Contents",
   "toc_cell": false,
   "toc_position": {},
   "toc_section_display": true,
   "toc_window_display": false
  },
  "varInspector": {
   "cols": {
    "lenName": 16,
    "lenType": 16,
    "lenVar": 40
   },
   "kernels_config": {
    "python": {
     "delete_cmd_postfix": "",
     "delete_cmd_prefix": "del ",
     "library": "var_list.py",
     "varRefreshCmd": "print(var_dic_list())"
    },
    "r": {
     "delete_cmd_postfix": ") ",
     "delete_cmd_prefix": "rm(",
     "library": "var_list.r",
     "varRefreshCmd": "cat(var_dic_list()) "
    }
   },
   "types_to_exclude": [
    "module",
    "function",
    "builtin_function_or_method",
    "instance",
    "_Feature"
   ],
   "window_display": false
  }
 },
 "nbformat": 4,
 "nbformat_minor": 2
}
