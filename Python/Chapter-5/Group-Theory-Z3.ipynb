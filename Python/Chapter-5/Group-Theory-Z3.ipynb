{
 "cells": [
  {
   "cell_type": "code",
   "execution_count": 1,
   "metadata": {},
   "outputs": [
    {
     "data": {
      "text/html": [
       "<link href='http://fonts.googleapis.com/css?family=Alegreya+Sans:100,300,400,500,700,800,900,100italic,300italic,400italic,500italic,700italic,800italic,900italic' rel='stylesheet' type='text/css'>\n",
       "<link href='http://fonts.googleapis.com/css?family=Arvo:400,700,400italic' rel='stylesheet' type='text/css'>\n",
       "<link href='http://fonts.googleapis.com/css?family=PT+Mono' rel='stylesheet' type='text/css'>\n",
       "<link href='http://fonts.googleapis.com/css?family=Shadows+Into+Light' rel='stylesheet' type='text/css'>\n",
       "<link href='http://fonts.googleapis.com/css?family=Philosopher:400,700,400italic,700italic' rel='stylesheet' type='text/css'>\n",
       "\n",
       "<style>\n",
       "\n",
       "@font-face {\n",
       "    font-family: \"Computer Modern\";\n",
       "    src: url('http://mirrors.ctan.org/fonts/cm-unicode/fonts/otf/cmunss.otf');\n",
       "}\n",
       "\n",
       ".container { width: 100% }\n",
       "\n",
       "/* Formatting for header cells */\n",
       ".text_cell_render h1 {\n",
       "    font-family: 'Philosopher', sans-serif;\n",
       "    font-weight: 400;\n",
       "    font-size: 2.2em;\n",
       "    line-height: 100%;\n",
       "    color: rgb(0, 80, 120);\n",
       "    margin-bottom: 0.1em;\n",
       "    margin-top: 0.1em;\n",
       "    display: block;\n",
       "}\t\n",
       ".text_cell_render h2 {\n",
       "    font-family: 'Philosopher', serif;\n",
       "    font-weight: 400;\n",
       "    font-size: 1.9em;\n",
       "    line-height: 100%;\n",
       "    color: rgb(200,100,0);\n",
       "    margin-bottom: 0.1em;\n",
       "    margin-top: 0.1em;\n",
       "    display: block;\n",
       "}\t\n",
       "\n",
       ".text_cell_render h3 {\n",
       "    font-family: 'Philosopher', serif;\n",
       "    margin-top:12px;\n",
       "    margin-bottom: 3px;\n",
       "    font-style: italic;\n",
       "    color: rgb(94,127,192);\n",
       "}\n",
       "\n",
       ".text_cell_render h4 {\n",
       "    font-family: 'Philosopher', serif;\n",
       "}\n",
       "\n",
       ".text_cell_render h5 {\n",
       "    font-family: 'Alegreya Sans', sans-serif;\n",
       "    font-weight: 300;\n",
       "    font-size: 16pt;\n",
       "    color: grey;\n",
       "    font-style: italic;\n",
       "    margin-bottom: .1em;\n",
       "    margin-top: 0.1em;\n",
       "    display: block;\n",
       "}\n",
       "\n",
       ".text_cell_render h6 {\n",
       "    font-family: 'PT Mono', sans-serif;\n",
       "    font-weight: 300;\n",
       "    font-size: 10pt;\n",
       "    color: grey;\n",
       "    margin-bottom: 1px;\n",
       "    margin-top: 1px;\n",
       "}\n",
       "\n",
       ".text_cell_render em {\n",
       "    font-family: 'Philosopher', sans-serif;\n",
       "    color:        blue;\n",
       "    background-color: rgb(255,220,180);\n",
       "    font-size:    110%;\n",
       "    margin-left:   2px;\n",
       "    margin-right:  2px;\n",
       "    font-weight:   100;\n",
       "}\n",
       "\n",
       ".text_cell_render b {\n",
       "    color:            rgb(255,195,195);\n",
       "    background-color: rgb(0,0,0);\n",
       "    font-size:    110%;\n",
       "    margin-left:   2px;\n",
       "    margin-right:  2px;\n",
       "    font-weight:   650;\n",
       "}\n",
       "\n",
       ".text_cell_render tt {\n",
       "    font-size:    120%;\n",
       "    margin-left:   2px;\n",
       "    margin-right:  2px;\n",
       "    font-weight:   150;\n",
       "}\n",
       "\n",
       ".Codemirror {\n",
       "    font-family: \"PT Mono\";\n",
       "    font-size: 100%;\n",
       "}\n",
       "\n",
       "</style>\n",
       "\n"
      ],
      "text/plain": [
       "<IPython.core.display.HTML object>"
      ]
     },
     "execution_count": 1,
     "metadata": {},
     "output_type": "execute_result"
    }
   ],
   "source": [
    "from IPython.core.display import HTML\n",
    "with open('../style.css') as f:\n",
    "    css = f.read()\n",
    "HTML(css)"
   ]
  },
  {
   "cell_type": "markdown",
   "metadata": {},
   "source": [
    "# Group Theory with Z3"
   ]
  },
  {
   "cell_type": "markdown",
   "metadata": {},
   "source": [
    "In this notebook we show how to investigate topics in [group theory](https://en.wikipedia.org/wiki/Group_theory) using the constraint solver `Z3`.  In particular, \n",
    "we want to show that not every group is *commutative* by constructing a group in which the commutative law does not hold."
   ]
  },
  {
   "cell_type": "code",
   "execution_count": 2,
   "metadata": {},
   "outputs": [
    {
     "name": "stdout",
     "output_type": "stream",
     "text": [
      "Defaulting to user installation because normal site-packages is not writeable\r\n",
      "Requirement already satisfied: z3-solver in /Users/stroetmann/.local/lib/python3.10/site-packages (4.12.2.0)\r\n"
     ]
    }
   ],
   "source": [
    "!pip install z3-solver"
   ]
  },
  {
   "cell_type": "code",
   "execution_count": 3,
   "metadata": {},
   "outputs": [],
   "source": [
    "import z3"
   ]
  },
  {
   "cell_type": "markdown",
   "metadata": {},
   "source": [
    "A [group](https://en.wikipedia.org/wiki/Group_(mathematics)) is defined as a triple \n",
    "$$ \\mathcal{G} = \\langle G, \\mathrm{e}, \\circ \\rangle $$\n",
    "such that\n",
    "- $G$ is a non-empty set,\n",
    "- $\\mathrm{e}$ is an element from $G$, and\n",
    "- $\\circ:G \\times G \\rightarrow G$ is a binary operation on $G$ such that the following axioms are satisfied:\n",
    "  * $\\forall x: \\mathrm{e} \\circ  x = x$,\n",
    "  * $\\forall x: \\exists{y}: y \\circ x = \\mathrm{e}$,\n",
    "  * $\\forall x: \\forall y: \\forall z: (x \\circ y) \\circ z = x \\circ (y \\circ z)$.\n",
    "  \n",
    "The group $\\mathcal{G}$ is *commutative* if, additionally, the following holds:\n",
    "  $$\\forall x: \\forall y: x \\circ y = y \\circ x. $$\n",
    "For example, the triple $\\langle \\mathbb{Z}, 0, + \\rangle$ is a commutative group. \n",
    "  \n",
    "It is natural to ask whether every group is commutative, i.e. whether the formula \n",
    "$\\forall x: \\forall y: x \\circ y = y \\circ x$ is a logical consequence of the three group axioms.\n",
    "To this end we can try to prove the following\n",
    "$$ \\{ \\forall x: \\mathrm{e} \\circ  x = x,\\; \\forall x: \\exists{y}: y \\circ x = \\mathrm{e},\\;\n",
    "      \\forall x: \\forall y: \\forall z: (x \\circ y) \\circ z = x \\circ (y \\circ z) \\} \\models \\forall x: \\forall y: x \\circ y = y \\circ x\n",
    "$$\n",
    "using automatic theorem proving.  "
   ]
  },
  {
   "cell_type": "code",
   "execution_count": 4,
   "metadata": {},
   "outputs": [
    {
     "name": "stdout",
     "output_type": "stream",
     "text": [
      "% We try to prove that every group is commutative.\r\n",
      "\r\n",
      "% e is the neutral element.\r\n",
      "fof(a1, axiom, ! [X] : mult(e,X) = X).\r\n",
      "\r\n",
      "% For every element X there is a left inverse element Y.\r\n",
      "fof(a2, axiom, ! [X] : ? [Y]: mult(Y, X) = e).\r\n",
      "\r\n",
      "% The law of associativity holds.\r\n",
      "fof(a3, axiom, ! [X,Y,Z] : mult(mult(X, Y), Z) = mult(X, mult(Y, Z))).\r\n",
      "\r\n",
      "% Question: Does the law of commutativity hold?\r\n",
      "fof(commute, conjecture, ! [X, Y] : mult(X, Y) = mult(Y, X)).\r\n"
     ]
    }
   ],
   "source": [
    "!cat ../../Vampire/non-commutative-group.tptp"
   ]
  },
  {
   "cell_type": "code",
   "execution_count": 5,
   "metadata": {},
   "outputs": [
    {
     "name": "stdout",
     "output_type": "stream",
     "text": [
      "% Time limit reached!\r\n",
      "% ------------------------------\r\n",
      "% Version: Vampire 4.7 (commit )\r\n",
      "% Termination reason: Time limit\r\n",
      "% Termination phase: Saturation\r\n",
      "\r\n",
      "% Memory used [KB]: 4236775\r\n",
      "% Time elapsed: 60.100 s\r\n",
      "% ------------------------------\r\n",
      "% ------------------------------\r\n"
     ]
    }
   ],
   "source": [
    "!vampire --input_syntax tptp ../../Vampire/non-commutative-group.tptp"
   ]
  },
  {
   "cell_type": "markdown",
   "metadata": {},
   "source": [
    "However, as this attempt produces no result we can instead try to refute the hypothesis that every group is commutative by constructing a group that is not commutative.  We will try to find a *finite* non-commutative group.\n",
    "\n",
    "In a finite group with $n$ elements we can assume without loss of generality that the elements\n",
    "are the natural numbers $\\{ 0, 1, 2, \\cdots, n-1 \\}$.  Furthermore, by reordering the elements \n",
    "we can assume that $0$ is the neutral element $\\mathrm{e}$, i.e. we have $\\mathrm{e} = 0$.\n",
    "\n",
    "Therefore, in order to construct a group we only have to find a binary operation $\\circ$ on the set\n",
    "$\\{ 0, \\cdots, n-1 \\}$ that satisfies the three axioms specifying a group.  We will specify this operation \n",
    "as a dictionary `Multiply` that maps pairs of the form $\\langle x, y \\rangle \\in \\{ 0, \\cdots, n-1 \\} \\times \\{ 0, \\cdots, n-1 \\}$\n",
    "into the set $\\{ 0, \\cdots, n-1 \\}$.  The dictionary `Multiply` can be represented by the following set of `Z3` variables:"
   ]
  },
  {
   "cell_type": "code",
   "execution_count": 8,
   "metadata": {},
   "outputs": [
    {
     "data": {
      "text/plain": [
       "{(0, 0): V00,\n",
       " (1, 0): V10,\n",
       " (2, 0): V20,\n",
       " (0, 1): V01,\n",
       " (1, 1): V11,\n",
       " (2, 1): V21,\n",
       " (0, 2): V02,\n",
       " (1, 2): V12,\n",
       " (2, 2): V22}"
      ]
     },
     "execution_count": 8,
     "metadata": {},
     "output_type": "execute_result"
    }
   ],
   "source": [
    "n = 3\n",
    "Variables = { (row, col): z3.Int(f'V{row}{col}') for col in range(n) \n",
    "                                                 for row in range(n) \n",
    "            }\n",
    "Variables"
   ]
  },
  {
   "cell_type": "markdown",
   "metadata": {},
   "source": [
    "The idea is that we have\n",
    "$$ x \\circ y = z \\;\\Longleftrightarrow\\; \\texttt{Variables}[x, y] = z.$$"
   ]
  },
  {
   "cell_type": "markdown",
   "metadata": {},
   "source": [
    "The axiom \n",
    "$$ \\forall x: \\mathrm{e} \\circ x = x $$\n",
    "that $0$ is the left neutral element of the binary operation $\\circ$ translates into the formula:\n",
    "$$ \\texttt{Multiply}[0, x] = x \\quad \\mbox{for all $x \\in \\{0, \\cdots, n-1\\}$.} $$\n",
    "The function `left_neutral` takes two arguments:\n",
    "* `n` is the size of the group.\n",
    "* `Variables` is the dictionary that encodes the binary operation of the group.\n",
    "\n",
    "The function returns a set of constraints specifying that $0$ is the *left neutral element* of the group."
   ]
  },
  {
   "cell_type": "code",
   "execution_count": 6,
   "metadata": {},
   "outputs": [],
   "source": [
    "def left_neutral(n, Variables):\n",
    "    return { Variables[0, x] == x for x in range(n) }"
   ]
  },
  {
   "cell_type": "code",
   "execution_count": 9,
   "metadata": {},
   "outputs": [
    {
     "data": {
      "text/plain": [
       "{V00 == 0, V01 == 1, V02 == 2}"
      ]
     },
     "execution_count": 9,
     "metadata": {},
     "output_type": "execute_result"
    }
   ],
   "source": [
    "left_neutral(3, Variables)"
   ]
  },
  {
   "cell_type": "markdown",
   "metadata": {},
   "source": [
    "The axiom\n",
    "$$ \\forall x: \\exists y: y \\circ x = \\mathrm{e} $$\n",
    "that every element $x$ has a left inverse element $y$ translates into the formula\n",
    "$$ \\forall x \\in \\{0, \\cdots, n-1\\}: \\exists y \\in \\{0, \\cdots, n-1\\}: \\texttt{Multiply}[y, x] = 0. $$\n",
    "\n",
    "The function `left_inverse` takes two arguments:\n",
    "* `n` is the size of the group.\n",
    "* `Variables` is the dictionary that encodes the binary operation of the group.\n",
    "\n",
    "The function returns a set of constraints that specify that every element has a left inverse element.\n",
    "Since the neutral element $0$ is already its own left inverse, for reasons of efficiency this element is excluded.\n",
    "Furthermore, we already know that the neutral element $0$ can never be the left inverse element of an\n",
    "element that is different from $0$."
   ]
  },
  {
   "cell_type": "code",
   "execution_count": 10,
   "metadata": {},
   "outputs": [],
   "source": [
    "def left_inverse(n, Variables):\n",
    "    Constraints = set()\n",
    "    for x in range(1, n):\n",
    "        Constraints |= { z3.Or({ Variables[y, x] == 0 for y in range(1, n) }) }\n",
    "    return Constraints"
   ]
  },
  {
   "cell_type": "code",
   "execution_count": 11,
   "metadata": {},
   "outputs": [
    {
     "data": {
      "text/plain": [
       "{Or(V12 == 0, V22 == 0), Or(V21 == 0, V11 == 0)}"
      ]
     },
     "execution_count": 11,
     "metadata": {},
     "output_type": "execute_result"
    }
   ],
   "source": [
    "left_inverse(3, Variables)"
   ]
  },
  {
   "cell_type": "markdown",
   "metadata": {},
   "source": [
    "The axiom\n",
    "$$ \\forall x: \\forall y: \\forall z: (x \\circ y) \\circ z = x \\circ (y \\circ z) $$\n",
    "translates into the formula\n",
    "$$ \\forall x \\in G: \n",
    "   \\forall y \\in G:\n",
    "   \\forall z \\in G:\n",
    "   \\forall xy \\in G:\n",
    "   \\forall zy \\in G:\n",
    "     \\bigl(\\texttt{Multiply}[x, y] = u \\wedge \\texttt{Multiply}[y, z] = v \\rightarrow \\texttt{Multiply}[u, z] = \\texttt{Multiply}[x, v]\\bigr), $$\n",
    "where we have defined $G = \\{0, \\cdots n-1\\}$.\n",
    "\n",
    "The function `associative` takes two arguments:\n",
    "* `n` is the size of the group.\n",
    "* `Variables` is the dictionary that encodes the binary operation of the group.\n",
    "\n",
    "The function returns a set of constraints that specify that the binary operation is associative."
   ]
  },
  {
   "cell_type": "code",
   "execution_count": 13,
   "metadata": {},
   "outputs": [],
   "source": [
    "def associative(n, Variables):\n",
    "    L = range(0, n)\n",
    "    Constraints = set()\n",
    "    for x in L:\n",
    "        for y in L:\n",
    "            for z in L:\n",
    "                for xy in L:\n",
    "                    for yz in L:\n",
    "                        Constraints |= { z3.Implies(z3.And(Variables[x, y] == xy, Variables[y, z] == yz),\n",
    "                                                    Variables[xy, z] == Variables[x, yz]) \n",
    "                                       }\n",
    "    return Constraints"
   ]
  },
  {
   "cell_type": "code",
   "execution_count": 14,
   "metadata": {},
   "outputs": [
    {
     "data": {
      "text/plain": [
       "{Implies(And(V00 == 0, V00 == 0), V00 == V00),\n",
       " Implies(And(V00 == 0, V00 == 1), V00 == V01),\n",
       " Implies(And(V00 == 0, V00 == 2), V00 == V02),\n",
       " Implies(And(V00 == 0, V01 == 0), V01 == V00),\n",
       " Implies(And(V00 == 0, V01 == 1), V01 == V01),\n",
       " Implies(And(V00 == 0, V01 == 2), V01 == V02),\n",
       " Implies(And(V00 == 0, V02 == 0), V02 == V00),\n",
       " Implies(And(V00 == 0, V02 == 1), V02 == V01),\n",
       " Implies(And(V00 == 0, V02 == 2), V02 == V02),\n",
       " Implies(And(V00 == 1, V00 == 0), V10 == V00),\n",
       " Implies(And(V00 == 1, V00 == 1), V10 == V01),\n",
       " Implies(And(V00 == 1, V00 == 2), V10 == V02),\n",
       " Implies(And(V00 == 1, V01 == 0), V11 == V00),\n",
       " Implies(And(V00 == 1, V01 == 1), V11 == V01),\n",
       " Implies(And(V00 == 1, V01 == 2), V11 == V02),\n",
       " Implies(And(V00 == 1, V02 == 0), V12 == V00),\n",
       " Implies(And(V00 == 1, V02 == 1), V12 == V01),\n",
       " Implies(And(V00 == 1, V02 == 2), V12 == V02),\n",
       " Implies(And(V00 == 2, V00 == 0), V20 == V00),\n",
       " Implies(And(V00 == 2, V00 == 1), V20 == V01),\n",
       " Implies(And(V00 == 2, V00 == 2), V20 == V02),\n",
       " Implies(And(V00 == 2, V01 == 0), V21 == V00),\n",
       " Implies(And(V00 == 2, V01 == 1), V21 == V01),\n",
       " Implies(And(V00 == 2, V01 == 2), V21 == V02),\n",
       " Implies(And(V00 == 2, V02 == 0), V22 == V00),\n",
       " Implies(And(V00 == 2, V02 == 1), V22 == V01),\n",
       " Implies(And(V00 == 2, V02 == 2), V22 == V02),\n",
       " Implies(And(V01 == 0, V10 == 0), V00 == V00),\n",
       " Implies(And(V01 == 0, V10 == 1), V00 == V01),\n",
       " Implies(And(V01 == 0, V10 == 2), V00 == V02),\n",
       " Implies(And(V01 == 0, V11 == 0), V01 == V00),\n",
       " Implies(And(V01 == 0, V11 == 1), V01 == V01),\n",
       " Implies(And(V01 == 0, V11 == 2), V01 == V02),\n",
       " Implies(And(V01 == 0, V12 == 0), V02 == V00),\n",
       " Implies(And(V01 == 0, V12 == 1), V02 == V01),\n",
       " Implies(And(V01 == 0, V12 == 2), V02 == V02),\n",
       " Implies(And(V01 == 1, V10 == 0), V10 == V00),\n",
       " Implies(And(V01 == 1, V10 == 1), V10 == V01),\n",
       " Implies(And(V01 == 1, V10 == 2), V10 == V02),\n",
       " Implies(And(V01 == 1, V11 == 0), V11 == V00),\n",
       " Implies(And(V01 == 1, V11 == 1), V11 == V01),\n",
       " Implies(And(V01 == 1, V11 == 2), V11 == V02),\n",
       " Implies(And(V01 == 1, V12 == 0), V12 == V00),\n",
       " Implies(And(V01 == 1, V12 == 1), V12 == V01),\n",
       " Implies(And(V01 == 1, V12 == 2), V12 == V02),\n",
       " Implies(And(V01 == 2, V10 == 0), V20 == V00),\n",
       " Implies(And(V01 == 2, V10 == 1), V20 == V01),\n",
       " Implies(And(V01 == 2, V10 == 2), V20 == V02),\n",
       " Implies(And(V01 == 2, V11 == 0), V21 == V00),\n",
       " Implies(And(V01 == 2, V11 == 1), V21 == V01),\n",
       " Implies(And(V01 == 2, V11 == 2), V21 == V02),\n",
       " Implies(And(V01 == 2, V12 == 0), V22 == V00),\n",
       " Implies(And(V01 == 2, V12 == 1), V22 == V01),\n",
       " Implies(And(V01 == 2, V12 == 2), V22 == V02),\n",
       " Implies(And(V02 == 0, V20 == 0), V00 == V00),\n",
       " Implies(And(V02 == 0, V20 == 1), V00 == V01),\n",
       " Implies(And(V02 == 0, V20 == 2), V00 == V02),\n",
       " Implies(And(V02 == 0, V21 == 0), V01 == V00),\n",
       " Implies(And(V02 == 0, V21 == 1), V01 == V01),\n",
       " Implies(And(V02 == 0, V21 == 2), V01 == V02),\n",
       " Implies(And(V02 == 0, V22 == 0), V02 == V00),\n",
       " Implies(And(V02 == 0, V22 == 1), V02 == V01),\n",
       " Implies(And(V02 == 0, V22 == 2), V02 == V02),\n",
       " Implies(And(V02 == 1, V20 == 0), V10 == V00),\n",
       " Implies(And(V02 == 1, V20 == 1), V10 == V01),\n",
       " Implies(And(V02 == 1, V20 == 2), V10 == V02),\n",
       " Implies(And(V02 == 1, V21 == 0), V11 == V00),\n",
       " Implies(And(V02 == 1, V21 == 1), V11 == V01),\n",
       " Implies(And(V02 == 1, V21 == 2), V11 == V02),\n",
       " Implies(And(V02 == 1, V22 == 0), V12 == V00),\n",
       " Implies(And(V02 == 1, V22 == 1), V12 == V01),\n",
       " Implies(And(V02 == 1, V22 == 2), V12 == V02),\n",
       " Implies(And(V02 == 2, V20 == 0), V20 == V00),\n",
       " Implies(And(V02 == 2, V20 == 1), V20 == V01),\n",
       " Implies(And(V02 == 2, V20 == 2), V20 == V02),\n",
       " Implies(And(V02 == 2, V21 == 0), V21 == V00),\n",
       " Implies(And(V02 == 2, V21 == 1), V21 == V01),\n",
       " Implies(And(V02 == 2, V21 == 2), V21 == V02),\n",
       " Implies(And(V02 == 2, V22 == 0), V22 == V00),\n",
       " Implies(And(V02 == 2, V22 == 1), V22 == V01),\n",
       " Implies(And(V02 == 2, V22 == 2), V22 == V02),\n",
       " Implies(And(V10 == 0, V00 == 0), V00 == V10),\n",
       " Implies(And(V10 == 0, V00 == 1), V00 == V11),\n",
       " Implies(And(V10 == 0, V00 == 2), V00 == V12),\n",
       " Implies(And(V10 == 0, V01 == 0), V01 == V10),\n",
       " Implies(And(V10 == 0, V01 == 1), V01 == V11),\n",
       " Implies(And(V10 == 0, V01 == 2), V01 == V12),\n",
       " Implies(And(V10 == 0, V02 == 0), V02 == V10),\n",
       " Implies(And(V10 == 0, V02 == 1), V02 == V11),\n",
       " Implies(And(V10 == 0, V02 == 2), V02 == V12),\n",
       " Implies(And(V10 == 1, V00 == 0), V10 == V10),\n",
       " Implies(And(V10 == 1, V00 == 1), V10 == V11),\n",
       " Implies(And(V10 == 1, V00 == 2), V10 == V12),\n",
       " Implies(And(V10 == 1, V01 == 0), V11 == V10),\n",
       " Implies(And(V10 == 1, V01 == 1), V11 == V11),\n",
       " Implies(And(V10 == 1, V01 == 2), V11 == V12),\n",
       " Implies(And(V10 == 1, V02 == 0), V12 == V10),\n",
       " Implies(And(V10 == 1, V02 == 1), V12 == V11),\n",
       " Implies(And(V10 == 1, V02 == 2), V12 == V12),\n",
       " Implies(And(V10 == 2, V00 == 0), V20 == V10),\n",
       " Implies(And(V10 == 2, V00 == 1), V20 == V11),\n",
       " Implies(And(V10 == 2, V00 == 2), V20 == V12),\n",
       " Implies(And(V10 == 2, V01 == 0), V21 == V10),\n",
       " Implies(And(V10 == 2, V01 == 1), V21 == V11),\n",
       " Implies(And(V10 == 2, V01 == 2), V21 == V12),\n",
       " Implies(And(V10 == 2, V02 == 0), V22 == V10),\n",
       " Implies(And(V10 == 2, V02 == 1), V22 == V11),\n",
       " Implies(And(V10 == 2, V02 == 2), V22 == V12),\n",
       " Implies(And(V11 == 0, V10 == 0), V00 == V10),\n",
       " Implies(And(V11 == 0, V10 == 1), V00 == V11),\n",
       " Implies(And(V11 == 0, V10 == 2), V00 == V12),\n",
       " Implies(And(V11 == 0, V11 == 0), V01 == V10),\n",
       " Implies(And(V11 == 0, V11 == 1), V01 == V11),\n",
       " Implies(And(V11 == 0, V11 == 2), V01 == V12),\n",
       " Implies(And(V11 == 0, V12 == 0), V02 == V10),\n",
       " Implies(And(V11 == 0, V12 == 1), V02 == V11),\n",
       " Implies(And(V11 == 0, V12 == 2), V02 == V12),\n",
       " Implies(And(V11 == 1, V10 == 0), V10 == V10),\n",
       " Implies(And(V11 == 1, V10 == 1), V10 == V11),\n",
       " Implies(And(V11 == 1, V10 == 2), V10 == V12),\n",
       " Implies(And(V11 == 1, V11 == 0), V11 == V10),\n",
       " Implies(And(V11 == 1, V11 == 1), V11 == V11),\n",
       " Implies(And(V11 == 1, V11 == 2), V11 == V12),\n",
       " Implies(And(V11 == 1, V12 == 0), V12 == V10),\n",
       " Implies(And(V11 == 1, V12 == 1), V12 == V11),\n",
       " Implies(And(V11 == 1, V12 == 2), V12 == V12),\n",
       " Implies(And(V11 == 2, V10 == 0), V20 == V10),\n",
       " Implies(And(V11 == 2, V10 == 1), V20 == V11),\n",
       " Implies(And(V11 == 2, V10 == 2), V20 == V12),\n",
       " Implies(And(V11 == 2, V11 == 0), V21 == V10),\n",
       " Implies(And(V11 == 2, V11 == 1), V21 == V11),\n",
       " Implies(And(V11 == 2, V11 == 2), V21 == V12),\n",
       " Implies(And(V11 == 2, V12 == 0), V22 == V10),\n",
       " Implies(And(V11 == 2, V12 == 1), V22 == V11),\n",
       " Implies(And(V11 == 2, V12 == 2), V22 == V12),\n",
       " Implies(And(V12 == 0, V20 == 0), V00 == V10),\n",
       " Implies(And(V12 == 0, V20 == 1), V00 == V11),\n",
       " Implies(And(V12 == 0, V20 == 2), V00 == V12),\n",
       " Implies(And(V12 == 0, V21 == 0), V01 == V10),\n",
       " Implies(And(V12 == 0, V21 == 1), V01 == V11),\n",
       " Implies(And(V12 == 0, V21 == 2), V01 == V12),\n",
       " Implies(And(V12 == 0, V22 == 0), V02 == V10),\n",
       " Implies(And(V12 == 0, V22 == 1), V02 == V11),\n",
       " Implies(And(V12 == 0, V22 == 2), V02 == V12),\n",
       " Implies(And(V12 == 1, V20 == 0), V10 == V10),\n",
       " Implies(And(V12 == 1, V20 == 1), V10 == V11),\n",
       " Implies(And(V12 == 1, V20 == 2), V10 == V12),\n",
       " Implies(And(V12 == 1, V21 == 0), V11 == V10),\n",
       " Implies(And(V12 == 1, V21 == 1), V11 == V11),\n",
       " Implies(And(V12 == 1, V21 == 2), V11 == V12),\n",
       " Implies(And(V12 == 1, V22 == 0), V12 == V10),\n",
       " Implies(And(V12 == 1, V22 == 1), V12 == V11),\n",
       " Implies(And(V12 == 1, V22 == 2), V12 == V12),\n",
       " Implies(And(V12 == 2, V20 == 0), V20 == V10),\n",
       " Implies(And(V12 == 2, V20 == 1), V20 == V11),\n",
       " Implies(And(V12 == 2, V20 == 2), V20 == V12),\n",
       " Implies(And(V12 == 2, V21 == 0), V21 == V10),\n",
       " Implies(And(V12 == 2, V21 == 1), V21 == V11),\n",
       " Implies(And(V12 == 2, V21 == 2), V21 == V12),\n",
       " Implies(And(V12 == 2, V22 == 0), V22 == V10),\n",
       " Implies(And(V12 == 2, V22 == 1), V22 == V11),\n",
       " Implies(And(V12 == 2, V22 == 2), V22 == V12),\n",
       " Implies(And(V20 == 0, V00 == 0), V00 == V20),\n",
       " Implies(And(V20 == 0, V00 == 1), V00 == V21),\n",
       " Implies(And(V20 == 0, V00 == 2), V00 == V22),\n",
       " Implies(And(V20 == 0, V01 == 0), V01 == V20),\n",
       " Implies(And(V20 == 0, V01 == 1), V01 == V21),\n",
       " Implies(And(V20 == 0, V01 == 2), V01 == V22),\n",
       " Implies(And(V20 == 0, V02 == 0), V02 == V20),\n",
       " Implies(And(V20 == 0, V02 == 1), V02 == V21),\n",
       " Implies(And(V20 == 0, V02 == 2), V02 == V22),\n",
       " Implies(And(V20 == 1, V00 == 0), V10 == V20),\n",
       " Implies(And(V20 == 1, V00 == 1), V10 == V21),\n",
       " Implies(And(V20 == 1, V00 == 2), V10 == V22),\n",
       " Implies(And(V20 == 1, V01 == 0), V11 == V20),\n",
       " Implies(And(V20 == 1, V01 == 1), V11 == V21),\n",
       " Implies(And(V20 == 1, V01 == 2), V11 == V22),\n",
       " Implies(And(V20 == 1, V02 == 0), V12 == V20),\n",
       " Implies(And(V20 == 1, V02 == 1), V12 == V21),\n",
       " Implies(And(V20 == 1, V02 == 2), V12 == V22),\n",
       " Implies(And(V20 == 2, V00 == 0), V20 == V20),\n",
       " Implies(And(V20 == 2, V00 == 1), V20 == V21),\n",
       " Implies(And(V20 == 2, V00 == 2), V20 == V22),\n",
       " Implies(And(V20 == 2, V01 == 0), V21 == V20),\n",
       " Implies(And(V20 == 2, V01 == 1), V21 == V21),\n",
       " Implies(And(V20 == 2, V01 == 2), V21 == V22),\n",
       " Implies(And(V20 == 2, V02 == 0), V22 == V20),\n",
       " Implies(And(V20 == 2, V02 == 1), V22 == V21),\n",
       " Implies(And(V20 == 2, V02 == 2), V22 == V22),\n",
       " Implies(And(V21 == 0, V10 == 0), V00 == V20),\n",
       " Implies(And(V21 == 0, V10 == 1), V00 == V21),\n",
       " Implies(And(V21 == 0, V10 == 2), V00 == V22),\n",
       " Implies(And(V21 == 0, V11 == 0), V01 == V20),\n",
       " Implies(And(V21 == 0, V11 == 1), V01 == V21),\n",
       " Implies(And(V21 == 0, V11 == 2), V01 == V22),\n",
       " Implies(And(V21 == 0, V12 == 0), V02 == V20),\n",
       " Implies(And(V21 == 0, V12 == 1), V02 == V21),\n",
       " Implies(And(V21 == 0, V12 == 2), V02 == V22),\n",
       " Implies(And(V21 == 1, V10 == 0), V10 == V20),\n",
       " Implies(And(V21 == 1, V10 == 1), V10 == V21),\n",
       " Implies(And(V21 == 1, V10 == 2), V10 == V22),\n",
       " Implies(And(V21 == 1, V11 == 0), V11 == V20),\n",
       " Implies(And(V21 == 1, V11 == 1), V11 == V21),\n",
       " Implies(And(V21 == 1, V11 == 2), V11 == V22),\n",
       " Implies(And(V21 == 1, V12 == 0), V12 == V20),\n",
       " Implies(And(V21 == 1, V12 == 1), V12 == V21),\n",
       " Implies(And(V21 == 1, V12 == 2), V12 == V22),\n",
       " Implies(And(V21 == 2, V10 == 0), V20 == V20),\n",
       " Implies(And(V21 == 2, V10 == 1), V20 == V21),\n",
       " Implies(And(V21 == 2, V10 == 2), V20 == V22),\n",
       " Implies(And(V21 == 2, V11 == 0), V21 == V20),\n",
       " Implies(And(V21 == 2, V11 == 1), V21 == V21),\n",
       " Implies(And(V21 == 2, V11 == 2), V21 == V22),\n",
       " Implies(And(V21 == 2, V12 == 0), V22 == V20),\n",
       " Implies(And(V21 == 2, V12 == 1), V22 == V21),\n",
       " Implies(And(V21 == 2, V12 == 2), V22 == V22),\n",
       " Implies(And(V22 == 0, V20 == 0), V00 == V20),\n",
       " Implies(And(V22 == 0, V20 == 1), V00 == V21),\n",
       " Implies(And(V22 == 0, V20 == 2), V00 == V22),\n",
       " Implies(And(V22 == 0, V21 == 0), V01 == V20),\n",
       " Implies(And(V22 == 0, V21 == 1), V01 == V21),\n",
       " Implies(And(V22 == 0, V21 == 2), V01 == V22),\n",
       " Implies(And(V22 == 0, V22 == 0), V02 == V20),\n",
       " Implies(And(V22 == 0, V22 == 1), V02 == V21),\n",
       " Implies(And(V22 == 0, V22 == 2), V02 == V22),\n",
       " Implies(And(V22 == 1, V20 == 0), V10 == V20),\n",
       " Implies(And(V22 == 1, V20 == 1), V10 == V21),\n",
       " Implies(And(V22 == 1, V20 == 2), V10 == V22),\n",
       " Implies(And(V22 == 1, V21 == 0), V11 == V20),\n",
       " Implies(And(V22 == 1, V21 == 1), V11 == V21),\n",
       " Implies(And(V22 == 1, V21 == 2), V11 == V22),\n",
       " Implies(And(V22 == 1, V22 == 0), V12 == V20),\n",
       " Implies(And(V22 == 1, V22 == 1), V12 == V21),\n",
       " Implies(And(V22 == 1, V22 == 2), V12 == V22),\n",
       " Implies(And(V22 == 2, V20 == 0), V20 == V20),\n",
       " Implies(And(V22 == 2, V20 == 1), V20 == V21),\n",
       " Implies(And(V22 == 2, V20 == 2), V20 == V22),\n",
       " Implies(And(V22 == 2, V21 == 0), V21 == V20),\n",
       " Implies(And(V22 == 2, V21 == 1), V21 == V21),\n",
       " Implies(And(V22 == 2, V21 == 2), V21 == V22),\n",
       " Implies(And(V22 == 2, V22 == 0), V22 == V20),\n",
       " Implies(And(V22 == 2, V22 == 1), V22 == V21),\n",
       " Implies(And(V22 == 2, V22 == 2), V22 == V22)}"
      ]
     },
     "execution_count": 14,
     "metadata": {},
     "output_type": "execute_result"
    }
   ],
   "source": [
    "associative(3, Variables)"
   ]
  },
  {
   "cell_type": "markdown",
   "metadata": {},
   "source": [
    "The function `non_commute` takes two arguments:\n",
    "* `n` is the size of the group.\n",
    "* `Variables` is the dictionary that encodes the binary operation of the group.\n",
    "\n",
    "The function returns a set of constraints that specify that the binary operation $\\circ$ is \n",
    "not commutative, i.e. there is some $x$ and some $y$ such that $x \\circ y \\not= y \\circ x$."
   ]
  },
  {
   "cell_type": "code",
   "execution_count": 15,
   "metadata": {},
   "outputs": [],
   "source": [
    "def non_commute(n, Variables):\n",
    "    Formulas = set()\n",
    "    for x in range(1, n):\n",
    "        for y in range(1, n):\n",
    "            if x != y:\n",
    "                Formulas |= { Variables[x, y] != Variables[y, x] }\n",
    "    return { z3.Or(Formulas) }"
   ]
  },
  {
   "cell_type": "code",
   "execution_count": 16,
   "metadata": {},
   "outputs": [
    {
     "data": {
      "text/plain": [
       "{Or(V12 != V21, V21 != V12)}"
      ]
     },
     "execution_count": 16,
     "metadata": {},
     "output_type": "execute_result"
    }
   ],
   "source": [
    "non_commute(3, Variables)"
   ]
  },
  {
   "cell_type": "markdown",
   "metadata": {},
   "source": [
    "All group elements are from the set $\\{0,1,\\cdots,n-1\\}$.\n",
    "\n",
    "The function `in_range` takes two arguments:\n",
    "* `n` is the size of the group.\n",
    "* `Variables` is the dictionary that encodes the binary operation of the group.\n",
    "\n",
    "The function returns a set of constraints that specify that the values of all variables are elements of\n",
    "the set $\\{0,1,\\cdots,n-1\\}$."
   ]
  },
  {
   "cell_type": "code",
   "execution_count": 17,
   "metadata": {},
   "outputs": [],
   "source": [
    "def in_range(n, Variables):\n",
    "    Constraints = set()\n",
    "    for x in range(n):\n",
    "        for y in range(n):\n",
    "            Constraints |= { 0 <= Variables[x, y], Variables[x, y] < n }\n",
    "    return Constraints"
   ]
  },
  {
   "cell_type": "markdown",
   "metadata": {},
   "source": [
    "The function `all_constraints` returns a CSP that encodes the given sudoku as a CSP."
   ]
  },
  {
   "cell_type": "code",
   "execution_count": 18,
   "metadata": {},
   "outputs": [],
   "source": [
    "def all_constraints(n, Variables):\n",
    "    Constraints  = left_neutral(n, Variables)\n",
    "    Constraints |= left_inverse(n, Variables)\n",
    "    Constraints |= associative (n, Variables)\n",
    "    Constraints |= non_commute (n, Variables)\n",
    "    Constraints |= in_range    (n, Variables)\n",
    "    return Constraints"
   ]
  },
  {
   "cell_type": "code",
   "execution_count": 19,
   "metadata": {},
   "outputs": [
    {
     "data": {
      "text/plain": [
       "267"
      ]
     },
     "execution_count": 19,
     "metadata": {},
     "output_type": "execute_result"
    }
   ],
   "source": [
    "len(all_constraints(3, Variables))"
   ]
  },
  {
   "cell_type": "markdown",
   "metadata": {},
   "source": [
    "The function `solve` receives one argument:\n",
    "- `n` is the size of the group that should be constructed.\n",
    "\n",
    "The function tries to construct a non-commutative group of size `n`.  It returns a solution if such a group exists.\n",
    "Otherwise, `None` is returned."
   ]
  },
  {
   "cell_type": "code",
   "execution_count": 20,
   "metadata": {},
   "outputs": [],
   "source": [
    "def solve(n):\n",
    "    Variables = { (row, col): z3.Int(f'V{row}{col}') for col in range(n) \n",
    "                                                     for row in range(n) }\n",
    "    S = z3.Solver()\n",
    "    Constraints = all_constraints(n, Variables)\n",
    "    print(f'Number of constraints: {len(Constraints)}.')\n",
    "    S.add(Constraints)\n",
    "    result = str(S.check())\n",
    "    if result == 'sat':\n",
    "        M = S.model()\n",
    "        Solution = { f'V{row}{col}': M[Variables[row, col]] for row in range(n)\n",
    "                                                            for col in range(n)\n",
    "                   }\n",
    "        return Solution"
   ]
  },
  {
   "cell_type": "markdown",
   "metadata": {},
   "source": [
    "The function `find_non_commutative_group` tries to find a non-commutative group."
   ]
  },
  {
   "cell_type": "code",
   "execution_count": 21,
   "metadata": {},
   "outputs": [],
   "source": [
    "def find_non_commutative_group():\n",
    "    n = 1\n",
    "    while True:\n",
    "        print(f'Testing n = {n} ...')\n",
    "        Solution = solve(n)\n",
    "        if Solution:\n",
    "            return Solution\n",
    "        n += 1"
   ]
  },
  {
   "cell_type": "code",
   "execution_count": 22,
   "metadata": {},
   "outputs": [
    {
     "name": "stdout",
     "output_type": "stream",
     "text": [
      "Testing n = 1 ...\n",
      "Number of constraints: 5.\n",
      "Testing n = 2 ...\n",
      "Number of constraints: 44.\n",
      "Testing n = 3 ...\n",
      "Number of constraints: 267.\n",
      "Testing n = 4 ...\n",
      "Number of constraints: 1064.\n",
      "Testing n = 5 ...\n",
      "Number of constraints: 3185.\n",
      "Testing n = 6 ...\n",
      "Number of constraints: 7860.\n",
      "CPU times: user 1.29 s, sys: 36.1 ms, total: 1.33 s\n",
      "Wall time: 1.35 s\n"
     ]
    },
    {
     "data": {
      "text/plain": [
       "{'V00': 0,\n",
       " 'V01': 1,\n",
       " 'V02': 2,\n",
       " 'V03': 3,\n",
       " 'V04': 4,\n",
       " 'V05': 5,\n",
       " 'V10': 1,\n",
       " 'V11': 2,\n",
       " 'V12': 0,\n",
       " 'V13': 4,\n",
       " 'V14': 5,\n",
       " 'V15': 3,\n",
       " 'V20': 2,\n",
       " 'V21': 0,\n",
       " 'V22': 1,\n",
       " 'V23': 5,\n",
       " 'V24': 3,\n",
       " 'V25': 4,\n",
       " 'V30': 3,\n",
       " 'V31': 5,\n",
       " 'V32': 4,\n",
       " 'V33': 0,\n",
       " 'V34': 2,\n",
       " 'V35': 1,\n",
       " 'V40': 4,\n",
       " 'V41': 3,\n",
       " 'V42': 5,\n",
       " 'V43': 1,\n",
       " 'V44': 0,\n",
       " 'V45': 2,\n",
       " 'V50': 5,\n",
       " 'V51': 4,\n",
       " 'V52': 3,\n",
       " 'V53': 2,\n",
       " 'V54': 1,\n",
       " 'V55': 0}"
      ]
     },
     "execution_count": 22,
     "metadata": {},
     "output_type": "execute_result"
    }
   ],
   "source": [
    "%%time\n",
    "Solution = find_non_commutative_group()\n",
    "Solution"
   ]
  },
  {
   "cell_type": "markdown",
   "metadata": {},
   "source": [
    "## Graphical Representation"
   ]
  },
  {
   "cell_type": "code",
   "execution_count": 23,
   "metadata": {},
   "outputs": [],
   "source": [
    "import math"
   ]
  },
  {
   "cell_type": "code",
   "execution_count": 24,
   "metadata": {},
   "outputs": [],
   "source": [
    "def show(Solution):\n",
    "    n = round(math.sqrt(len(Solution)))\n",
    "    # Determine the width of the widest element in the matrix\n",
    "    # Create the top and bottom of the matrix\n",
    "    top_line = '╔'\n",
    "    for i in range(n - 1):\n",
    "        top_line += '═' * 3 + '╦'\n",
    "    top_line += '═' * 3 + '╗'\n",
    "    mid_line = '╠'\n",
    "    for i in range(n - 1):\n",
    "        mid_line += '═' * 3 + '╬'\n",
    "    mid_line += '═' * 3 + '╣'    \n",
    "    bot_line = '╚'\n",
    "    for i in range(n - 1):\n",
    "        bot_line += '═' * 3 + '╩'\n",
    "    bot_line += '═' * 3 + '╝'\n",
    "    # Print the top of the matrix\n",
    "    print(top_line)\n",
    "    # Iterate through the rows and columns of the matrix, and print\n",
    "    # each element with proper padding\n",
    "    for row in range(n):\n",
    "        line = '\\u2551'\n",
    "        for col in range(n):\n",
    "            element = Solution[f'V{row}{col}']\n",
    "            line += f' {element} ║'\n",
    "        print(line)\n",
    "        # Print a horizontal line\n",
    "        if row < n - 1:\n",
    "            print(mid_line)\n",
    "    # Print the bottom of the matrix\n",
    "    print(bot_line)"
   ]
  },
  {
   "cell_type": "code",
   "execution_count": 25,
   "metadata": {},
   "outputs": [
    {
     "name": "stdout",
     "output_type": "stream",
     "text": [
      "╔═══╦═══╦═══╦═══╦═══╦═══╗\n",
      "║ 0 ║ 1 ║ 2 ║ 3 ║ 4 ║ 5 ║\n",
      "╠═══╬═══╬═══╬═══╬═══╬═══╣\n",
      "║ 1 ║ 2 ║ 0 ║ 4 ║ 5 ║ 3 ║\n",
      "╠═══╬═══╬═══╬═══╬═══╬═══╣\n",
      "║ 2 ║ 0 ║ 1 ║ 5 ║ 3 ║ 4 ║\n",
      "╠═══╬═══╬═══╬═══╬═══╬═══╣\n",
      "║ 3 ║ 5 ║ 4 ║ 0 ║ 2 ║ 1 ║\n",
      "╠═══╬═══╬═══╬═══╬═══╬═══╣\n",
      "║ 4 ║ 3 ║ 5 ║ 1 ║ 0 ║ 2 ║\n",
      "╠═══╬═══╬═══╬═══╬═══╬═══╣\n",
      "║ 5 ║ 4 ║ 3 ║ 2 ║ 1 ║ 0 ║\n",
      "╚═══╩═══╩═══╩═══╩═══╩═══╝\n"
     ]
    }
   ],
   "source": [
    "show(Solution)"
   ]
  },
  {
   "cell_type": "code",
   "execution_count": null,
   "metadata": {},
   "outputs": [],
   "source": []
  }
 ],
 "metadata": {
  "kernelspec": {
   "display_name": "Python 3 (ipykernel)",
   "language": "python",
   "name": "python3"
  },
  "language_info": {
   "codemirror_mode": {
    "name": "ipython",
    "version": 3
   },
   "file_extension": ".py",
   "mimetype": "text/x-python",
   "name": "python",
   "nbconvert_exporter": "python",
   "pygments_lexer": "ipython3",
   "version": "3.10.11"
  },
  "toc": {
   "base_numbering": 1,
   "nav_menu": {},
   "number_sections": true,
   "sideBar": true,
   "skip_h1_title": false,
   "title_cell": "Table of Contents",
   "title_sidebar": "Contents",
   "toc_cell": false,
   "toc_position": {},
   "toc_section_display": true,
   "toc_window_display": false
  },
  "varInspector": {
   "cols": {
    "lenName": 16,
    "lenType": 16,
    "lenVar": 40
   },
   "kernels_config": {
    "python": {
     "delete_cmd_postfix": "",
     "delete_cmd_prefix": "del ",
     "library": "var_list.py",
     "varRefreshCmd": "print(var_dic_list())"
    },
    "r": {
     "delete_cmd_postfix": ") ",
     "delete_cmd_prefix": "rm(",
     "library": "var_list.r",
     "varRefreshCmd": "cat(var_dic_list()) "
    }
   },
   "types_to_exclude": [
    "module",
    "function",
    "builtin_function_or_method",
    "instance",
    "_Feature"
   ],
   "window_display": false
  }
 },
 "nbformat": 4,
 "nbformat_minor": 2
}
