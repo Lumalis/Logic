{
 "cells": [
  {
   "cell_type": "markdown",
   "metadata": {},
   "source": [
    "# Evaluation of Formulas from First Order Logic"
   ]
  },
  {
   "cell_type": "markdown",
   "metadata": {},
   "source": [
    "In this notebook we show how formulas from *first order logic* can be evaluated in Python."
   ]
  },
  {
   "cell_type": "markdown",
   "metadata": {},
   "source": [
    "## The Axioms of Group Theory"
   ]
  },
  {
   "cell_type": "markdown",
   "metadata": {},
   "source": [
    "To have a nontrivial example of formulas, we use the formulas from \n",
    "[group theory](https://en.wikipedia.org/wiki/Group_theory).  \n",
    "A [group](https://en.wikipedia.org/wiki/Group_(mathematics)) is defined as a triple \n",
    "$$ \\langle G, \\mathrm{e}, * \\rangle $$\n",
    "where \n",
    "- $G$ is a non-empty set,\n",
    "- $\\mathrm{e}$ is an element from $G$, and\n",
    "- $*:G \\times G \\rightarrow G$ is a binary function on $G$.\n",
    "- Furthermore, the following axioms have to be satisfied:\n",
    "  * $\\forall x: \\mathrm{e} * x = x$,\n",
    "  * $\\forall x: \\exists{y}: y * x = \\mathrm{e}$,\n",
    "  * $\\forall x: \\forall y: \\forall z: (x * y) * z = x * (y * z)$.\n",
    "- A group is <em style=\"color:blue\">commutative</em> if, additionally, the following formula is satisfied:\n",
    "  $$\\forall x: \\forall y: x * y = y * x. $$"
   ]
  },
  {
   "cell_type": "markdown",
   "metadata": {},
   "source": [
    "The notebook `FOL-Parser.ipynb` contains a notebook implementing a parser for first order logic."
   ]
  },
  {
   "cell_type": "code",
   "execution_count": 1,
   "metadata": {},
   "outputs": [],
   "source": [
    "%%capture\n",
    "%run FOL-Parser.ipynb"
   ]
  },
  {
   "cell_type": "markdown",
   "metadata": {},
   "source": [
    "We import a parser for FOL formulas.  This parser distinguishes between variables and function symbol as follows:\n",
    "- A word starting with a lower case letter is interpreted as a *variable*.\n",
    "- A word starting with an upper case letter is assumed to be a *function* or \n",
    "  *predicate symbol*.\n",
    "\n",
    "Therefore, we represent the symbols from group theory as follows:\n",
    "- The neutral element $\\mathrm{e}$ of group theory is represented as the nullary function symbol `E`.\n",
    "- As our parser does not support using the symbol $*$ as a binary operator, we will use the function symbol     \n",
    "  `Multiply` to represent this operator.\n",
    "- The predicate symbol $=$ is repesented as `Equals`\n",
    "\n",
    "Then the formulas of group theory can be represented as follows:"
   ]
  },
  {
   "cell_type": "code",
   "execution_count": 2,
   "metadata": {},
   "outputs": [],
   "source": [
    "G1 = '∀x:Equals(Multiply(E(),x),x)'"
   ]
  },
  {
   "cell_type": "code",
   "execution_count": 3,
   "metadata": {},
   "outputs": [],
   "source": [
    "G2 = '∀x:∃y:Equals(Multiply(y,x),E())'"
   ]
  },
  {
   "cell_type": "code",
   "execution_count": 4,
   "metadata": {},
   "outputs": [],
   "source": [
    "G3 = '∀x:∀y:∀z:Equals(Multiply(Multiply(x,y),z), Multiply(x,Multiply(y,z)))'"
   ]
  },
  {
   "cell_type": "code",
   "execution_count": 5,
   "metadata": {},
   "outputs": [],
   "source": [
    "G4 = '∀x:∀y:Equals(Multiply(x,y), Multiply(y,x))'"
   ]
  },
  {
   "cell_type": "markdown",
   "metadata": {},
   "source": [
    "The function $\\texttt{parse}(s)$ takes a string $s$ and converts it into a nested tuple."
   ]
  },
  {
   "cell_type": "code",
   "execution_count": 6,
   "metadata": {},
   "outputs": [],
   "source": [
    "def parse(s):\n",
    "    \"Parse string s as fol formula.\"\n",
    "    p = LogicParser(s)\n",
    "    return p.parse()"
   ]
  },
  {
   "cell_type": "code",
   "execution_count": 7,
   "metadata": {},
   "outputs": [
    {
     "data": {
      "text/plain": [
       "('∀', 'x', ('Equals', ('Multiply', ('E',), 'x'), 'x'))"
      ]
     },
     "execution_count": 7,
     "metadata": {},
     "output_type": "execute_result"
    }
   ],
   "source": [
    "F1 = parse(G1)\n",
    "F1"
   ]
  },
  {
   "cell_type": "code",
   "execution_count": 8,
   "metadata": {},
   "outputs": [
    {
     "data": {
      "text/plain": [
       "('∀', 'x', ('∃', 'y', ('Equals', ('Multiply', 'y', 'x'), ('E',))))"
      ]
     },
     "execution_count": 8,
     "metadata": {},
     "output_type": "execute_result"
    }
   ],
   "source": [
    "F2 = parse(G2)\n",
    "F2"
   ]
  },
  {
   "cell_type": "code",
   "execution_count": 9,
   "metadata": {},
   "outputs": [
    {
     "data": {
      "text/plain": [
       "('∀',\n",
       " 'x',\n",
       " ('∀',\n",
       "  'y',\n",
       "  ('∀',\n",
       "   'z',\n",
       "   ('Equals',\n",
       "    ('Multiply', ('Multiply', 'x', 'y'), 'z'),\n",
       "    ('Multiply', 'x', ('Multiply', 'y', 'z'))))))"
      ]
     },
     "execution_count": 9,
     "metadata": {},
     "output_type": "execute_result"
    }
   ],
   "source": [
    "F3 = parse(G3)\n",
    "F3"
   ]
  },
  {
   "cell_type": "code",
   "execution_count": 10,
   "metadata": {},
   "outputs": [
    {
     "data": {
      "text/plain": [
       "('∀',\n",
       " 'x',\n",
       " ('∀', 'y', ('Equals', ('Multiply', 'x', 'y'), ('Multiply', 'y', 'x'))))"
      ]
     },
     "execution_count": 10,
     "metadata": {},
     "output_type": "execute_result"
    }
   ],
   "source": [
    "F4 = parse(G4)\n",
    "F4"
   ]
  },
  {
   "cell_type": "markdown",
   "metadata": {},
   "source": [
    "## A Structure for Group Theory"
   ]
  },
  {
   "cell_type": "markdown",
   "metadata": {},
   "source": [
    "The smallest non-trivial group has just two elements.  Therefore, we can define the universe `U` as follows:"
   ]
  },
  {
   "cell_type": "code",
   "execution_count": 11,
   "metadata": {},
   "outputs": [],
   "source": [
    "U = { 0, 1 }"
   ]
  },
  {
   "cell_type": "markdown",
   "metadata": {},
   "source": [
    "Next, we need to define the nullary function that represents the nullary function `E`.  We define this function as a dictionary mapping the empty tuple into the element `0`. "
   ]
  },
  {
   "cell_type": "code",
   "execution_count": 12,
   "metadata": {},
   "outputs": [],
   "source": [
    "NeutralElement = { (): 0 }"
   ]
  },
  {
   "cell_type": "markdown",
   "metadata": {},
   "source": [
    "The binary function symbol `Multiply` is implemented as the dictionary `Product`:"
   ]
  },
  {
   "cell_type": "code",
   "execution_count": 13,
   "metadata": {},
   "outputs": [],
   "source": [
    "Product = { (0, 0): 0,  (0, 1): 1,  (1, 0): 1,  (1, 1): 0 }"
   ]
  },
  {
   "cell_type": "markdown",
   "metadata": {},
   "source": [
    "The predicate symbol `Equals` is implemented as the binary relation `Identity`."
   ]
  },
  {
   "cell_type": "code",
   "execution_count": 14,
   "metadata": {},
   "outputs": [
    {
     "data": {
      "text/plain": [
       "{(0, 0), (1, 1)}"
      ]
     },
     "execution_count": 14,
     "metadata": {},
     "output_type": "execute_result"
    }
   ],
   "source": [
    "Identity = { (x, x) for x in U }\n",
    "Identity"
   ]
  },
  {
   "cell_type": "markdown",
   "metadata": {},
   "source": [
    "Now the interpretation $\\mathcal{J}$ can be implemented as a dictionary mapping symbols to dictionaries that interpret these symbols. "
   ]
  },
  {
   "cell_type": "code",
   "execution_count": 15,
   "metadata": {},
   "outputs": [],
   "source": [
    "J = { \"E\": NeutralElement, \"Multiply\": Product, \"Equals\": Identity }"
   ]
  },
  {
   "cell_type": "markdown",
   "metadata": {},
   "source": [
    "Next, we define the *first order structure* $\\mathcal{S}$ as the pair $(\\mathcal{U}, \\mathcal{J})$."
   ]
  },
  {
   "cell_type": "code",
   "execution_count": 16,
   "metadata": {},
   "outputs": [
    {
     "data": {
      "text/plain": [
       "({0, 1},\n",
       " {'E': {(): 0},\n",
       "  'Multiply': {(0, 0): 0, (0, 1): 1, (1, 0): 1, (1, 1): 0},\n",
       "  'Equals': {(0, 0), (1, 1)}})"
      ]
     },
     "execution_count": 16,
     "metadata": {},
     "output_type": "execute_result"
    }
   ],
   "source": [
    "S = (U, J)\n",
    "S"
   ]
  },
  {
   "cell_type": "markdown",
   "metadata": {},
   "source": [
    "Finally, we define an *interpretation* $\\mathcal{I}$ of the variables $x$, $y$, and $z$. "
   ]
  },
  {
   "cell_type": "code",
   "execution_count": 17,
   "metadata": {},
   "outputs": [
    {
     "data": {
      "text/plain": [
       "{'x': 0, 'y': 1, 'z': 0}"
      ]
     },
     "execution_count": 17,
     "metadata": {},
     "output_type": "execute_result"
    }
   ],
   "source": [
    "I = { \"x\": 0, \"y\": 1, \"z\": 0 } \n",
    "I"
   ]
  },
  {
   "cell_type": "markdown",
   "metadata": {},
   "source": [
    "## Functions to Evaluate Formulas"
   ]
  },
  {
   "cell_type": "markdown",
   "metadata": {},
   "source": [
    "In Python, if we precede a variable name with the asteriks `*` in an assignment, then it can consume an arbitrary number of elements.\n",
    "In the code below, the variable `R` collects all elements from the list `L` with the exception of the first element, which is assigned to `x`. "
   ]
  },
  {
   "cell_type": "code",
   "execution_count": 18,
   "metadata": {},
   "outputs": [
    {
     "data": {
      "text/plain": [
       "(1, [2, 3, 4])"
      ]
     },
     "execution_count": 18,
     "metadata": {},
     "output_type": "execute_result"
    }
   ],
   "source": [
    "L = [1, 2, 3, 4]\n",
    "x, *R = L\n",
    "x, R"
   ]
  },
  {
   "cell_type": "markdown",
   "metadata": {},
   "source": [
    "The procedure $\\texttt{evalTerm}(t, \\mathcal{S}, \\mathcal{I})$ evaluates the term $t$ in the structure $\\mathcal{S}$ using the variable assignment $\\mathcal{I}$."
   ]
  },
  {
   "cell_type": "code",
   "execution_count": 19,
   "metadata": {},
   "outputs": [],
   "source": [
    "def evalTerm(t, S, I):\n",
    "    if isinstance(t, str):  # t is a variable\n",
    "        return I[t]\n",
    "    _, J     = S      # J is the dictionary of interpretations\n",
    "    f, *Args = t      # function symbol and list of arguments\n",
    "    fJ       = J[f]   # interpretation of function symbol\n",
    "    ArgVals  = tuple(evalTerm(arg, S, I) for arg in Args) # recursively evaluate arguments\n",
    "    return fJ[ArgVals]"
   ]
  },
  {
   "cell_type": "code",
   "execution_count": 20,
   "metadata": {},
   "outputs": [
    {
     "data": {
      "text/plain": [
       "('Multiply', ('E',), 'x')"
      ]
     },
     "execution_count": 20,
     "metadata": {},
     "output_type": "execute_result"
    }
   ],
   "source": [
    "t = parse('Multiply(E(),x)')\n",
    "t"
   ]
  },
  {
   "cell_type": "code",
   "execution_count": 21,
   "metadata": {},
   "outputs": [
    {
     "data": {
      "text/plain": [
       "0"
      ]
     },
     "execution_count": 21,
     "metadata": {},
     "output_type": "execute_result"
    }
   ],
   "source": [
    "evalTerm(t, S, I)"
   ]
  },
  {
   "cell_type": "markdown",
   "metadata": {},
   "source": [
    "This procedure evaluates the atomic formula a in the structure S using the variable assignment I."
   ]
  },
  {
   "cell_type": "code",
   "execution_count": 22,
   "metadata": {},
   "outputs": [],
   "source": [
    "def evalAtomic(a, S, I):\n",
    "    _, J     = S     # J is the dictionary of interpretations\n",
    "    p, *Args = a     # predicate symbol and arguments\n",
    "    pJ       = J[p]  # interpretation of predicate symbol\n",
    "    ArgVals  = tuple(evalTerm(arg, S, I) for arg in Args)\n",
    "    return ArgVals in pJ"
   ]
  },
  {
   "cell_type": "code",
   "execution_count": 23,
   "metadata": {},
   "outputs": [
    {
     "data": {
      "text/plain": [
       "('Equals', ('Multiply', ('E',), 'x'), 'x')"
      ]
     },
     "execution_count": 23,
     "metadata": {},
     "output_type": "execute_result"
    }
   ],
   "source": [
    "f = parse('Equals(Multiply(E(),x),x)')\n",
    "f"
   ]
  },
  {
   "cell_type": "code",
   "execution_count": 24,
   "metadata": {},
   "outputs": [
    {
     "data": {
      "text/plain": [
       "True"
      ]
     },
     "execution_count": 24,
     "metadata": {},
     "output_type": "execute_result"
    }
   ],
   "source": [
    "evalAtomic(f, S, I)"
   ]
  },
  {
   "cell_type": "markdown",
   "metadata": {},
   "source": [
    "Given a variable assignment $\\mathcal{I}$, a variable $x$, and an element $c$ from the universe $\\mathcal{U}$, the function $\\texttt{modify}(\\mathcal{I}, x, c)$ computes the variable assignment $\\mathcal{I}[x/c]$ which is defined for all variables $y$ as follows:\n",
    "$$ I[x/c](y) = \\left\\{ \\begin{array}{ll}\n",
    "                        c     & \\mbox{if $x = y$,}  \\\\\n",
    "                        I(y)  & \\mbox{otherwise.}\n",
    "                        \\end{array}\n",
    "               \\right.\n",
    "$$"
   ]
  },
  {
   "cell_type": "code",
   "execution_count": 25,
   "metadata": {},
   "outputs": [],
   "source": [
    "def modify(I, x, c):\n",
    "    J = I.copy() # do not modify I\n",
    "    J[x] = c\n",
    "    return J"
   ]
  },
  {
   "cell_type": "markdown",
   "metadata": {},
   "source": [
    "Given a first order logic formula $F$, a structure $\\mathcal{S}$, and a variable assignment $\\mathcal{I}$, the function $\\texttt{evalFormula}(F, \\mathcal{S}, \\mathcal{I})$ computes the truth value of the formula $F$."
   ]
  },
  {
   "cell_type": "code",
   "execution_count": 26,
   "metadata": {},
   "outputs": [],
   "source": [
    "def evalFormula(F, S, I):\n",
    "    U, _ = S # U is the universe\n",
    "    match F:\n",
    "        case ('⊤', ):     return True\n",
    "        case ('⊥', ):     return False\n",
    "        case ('¬', G):    return not evalFormula(G, S, I)\n",
    "        case ('∧', G, H): return evalFormula(G, S, I) and evalFormula(H, S, I)\n",
    "        case ('∨', G, H): return evalFormula(G, S, I) or evalFormula(H, S, I)\n",
    "        case ('→', G, H): return not evalFormula(G, S, I) or evalFormula(H, S, I)\n",
    "        case ('↔', G, H): return evalFormula(G, S, I) == evalFormula(H, S, I)\n",
    "        case ('∀', x, G): return all(evalFormula(G, S, modify(I, x, c)) for c in U)\n",
    "        case ('∃', x, G): return any(evalFormula(G, S, modify(I, x, c)) for c in U)\n",
    "    return evalAtomic(F, S, I) "
   ]
  },
  {
   "cell_type": "markdown",
   "metadata": {},
   "source": [
    "## Checking whether $\\mathcal{S}$ is a Group"
   ]
  },
  {
   "cell_type": "code",
   "execution_count": 27,
   "metadata": {},
   "outputs": [
    {
     "name": "stdout",
     "output_type": "stream",
     "text": [
      "evalFormula(∀x:Equals(Multiply(E(),x),x), S, I) = True\n",
      "evalFormula(∀x:∃y:Equals(Multiply(y,x),E()), S, I) = True\n",
      "evalFormula(∀x:∀y:∀z:Equals(Multiply(Multiply(x,y),z), Multiply(x,Multiply(y,z))), S, I) = True\n",
      "evalFormula(∀x:∀y:Equals(Multiply(x,y), Multiply(y,x)), S, I) = True\n"
     ]
    }
   ],
   "source": [
    "print(f\"evalFormula({G1}, S, I) = {evalFormula(F1, S, I)}\")\n",
    "print(f\"evalFormula({G2}, S, I) = {evalFormula(F2, S, I)}\")\n",
    "print(f\"evalFormula({G3}, S, I) = {evalFormula(F3, S, I)}\")\n",
    "print(f\"evalFormula({G4}, S, I) = {evalFormula(F4, S, I)}\")"
   ]
  },
  {
   "cell_type": "markdown",
   "metadata": {},
   "source": [
    "This shows that the structure $\\mathcal{S}$ defined above is indeed a group.  Furthermore, it is a *commutative* group."
   ]
  },
  {
   "cell_type": "markdown",
   "metadata": {},
   "source": [
    "## Another Example\n",
    "\n",
    "Let's show that the formula $\\forall x: \\exists y:p(x,y) \\rightarrow \\exists y:\\forall x:p(x,y)$ is not *universally valid*, i.e. let's show the following:\n",
    "$$ \\not\\models \\forall x: \\exists y:p(x,y) \\rightarrow \\exists y:\\forall x:p(x,y) $$"
   ]
  },
  {
   "cell_type": "code",
   "execution_count": 28,
   "metadata": {},
   "outputs": [],
   "source": [
    "G = '∀x:∃y:P(x,y)→∃y:∀x:P(x,y)'"
   ]
  },
  {
   "cell_type": "code",
   "execution_count": 29,
   "metadata": {},
   "outputs": [
    {
     "data": {
      "text/plain": [
       "('→',\n",
       " ('∀', 'x', ('∃', 'y', ('P', 'x', 'y'))),\n",
       " ('∃', 'y', ('∀', 'x', ('P', 'x', 'y'))))"
      ]
     },
     "execution_count": 29,
     "metadata": {},
     "output_type": "execute_result"
    }
   ],
   "source": [
    "F = parse(G)\n",
    "F"
   ]
  },
  {
   "cell_type": "markdown",
   "metadata": {},
   "source": [
    "Our aim is to construct a structure $\\mathcal{S} = \\langle\\mathcal{U}, \\mathcal{J} \\rangle$  such that \n",
    "$$\\mathcal{S}(F) = \\mathtt{False}.$$ "
   ]
  },
  {
   "cell_type": "code",
   "execution_count": 30,
   "metadata": {},
   "outputs": [],
   "source": [
    "U = {0, 1}"
   ]
  },
  {
   "cell_type": "code",
   "execution_count": 31,
   "metadata": {},
   "outputs": [],
   "source": [
    "pJ = { (0, 0), (1, 1) }"
   ]
  },
  {
   "cell_type": "code",
   "execution_count": 32,
   "metadata": {},
   "outputs": [],
   "source": [
    "J = { 'P': pJ }"
   ]
  },
  {
   "cell_type": "code",
   "execution_count": 33,
   "metadata": {},
   "outputs": [],
   "source": [
    "S = (U, J)"
   ]
  },
  {
   "cell_type": "code",
   "execution_count": 34,
   "metadata": {},
   "outputs": [],
   "source": [
    "I = { 'x': 0, 'y': 0 }"
   ]
  },
  {
   "cell_type": "code",
   "execution_count": 35,
   "metadata": {},
   "outputs": [
    {
     "data": {
      "text/plain": [
       "False"
      ]
     },
     "execution_count": 35,
     "metadata": {},
     "output_type": "execute_result"
    }
   ],
   "source": [
    "evalFormula(F, S, I)"
   ]
  },
  {
   "cell_type": "code",
   "execution_count": null,
   "metadata": {},
   "outputs": [],
   "source": []
  }
 ],
 "metadata": {
  "hide_input": false,
  "kernelspec": {
   "display_name": "Python 3 (ipykernel)",
   "language": "python",
   "name": "python3"
  },
  "language_info": {
   "codemirror_mode": {
    "name": "ipython",
    "version": 3
   },
   "file_extension": ".py",
   "mimetype": "text/x-python",
   "name": "python",
   "nbconvert_exporter": "python",
   "pygments_lexer": "ipython3",
   "version": "3.12.2"
  },
  "toc": {
   "base_numbering": 1,
   "nav_menu": {},
   "number_sections": true,
   "sideBar": true,
   "skip_h1_title": false,
   "title_cell": "Table of Contents",
   "title_sidebar": "Contents",
   "toc_cell": false,
   "toc_position": {},
   "toc_section_display": true,
   "toc_window_display": false
  },
  "varInspector": {
   "cols": {
    "lenName": 16,
    "lenType": 16,
    "lenVar": 40
   },
   "kernels_config": {
    "python": {
     "delete_cmd_postfix": "",
     "delete_cmd_prefix": "del ",
     "library": "var_list.py",
     "varRefreshCmd": "print(var_dic_list())"
    },
    "r": {
     "delete_cmd_postfix": ") ",
     "delete_cmd_prefix": "rm(",
     "library": "var_list.r",
     "varRefreshCmd": "cat(var_dic_list()) "
    }
   },
   "types_to_exclude": [
    "module",
    "function",
    "builtin_function_or_method",
    "instance",
    "_Feature"
   ],
   "window_display": false
  }
 },
 "nbformat": 4,
 "nbformat_minor": 4
}
