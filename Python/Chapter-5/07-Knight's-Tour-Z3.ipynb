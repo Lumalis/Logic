{
 "cells": [
  {
   "cell_type": "markdown",
   "id": "04a66319",
   "metadata": {},
   "source": [
    "# The Knight's Tour\n",
    "\n",
    "This notebook computes a solution to the [knight's tour](https://en.wikipedia.org/wiki/Knight%27s_tour) using the constraint solver `Z3`.  "
   ]
  },
  {
   "cell_type": "code",
   "execution_count": 1,
   "id": "64b503b6",
   "metadata": {},
   "outputs": [],
   "source": [
    "import z3"
   ]
  },
  {
   "cell_type": "markdown",
   "id": "7c198b8b",
   "metadata": {},
   "source": [
    "Given an integer from the set $\\{0, 1, \\cdots, 63\\}$, the function `row(i)` computes the name of the variable that specifies the *row* of the knight after its $i^{\\textrm{th}}$ move."
   ]
  },
  {
   "cell_type": "code",
   "execution_count": 2,
   "id": "9ec0ad9d",
   "metadata": {},
   "outputs": [],
   "source": [
    "def row(i):\n",
    "    return f'R{i}'"
   ]
  },
  {
   "cell_type": "markdown",
   "id": "2d2c51a2",
   "metadata": {},
   "source": [
    "Given an integer from the set $\\{0, 1, \\cdots, 63\\}$, the function `col(i)` computes the name of the variable that specifies the *column* of the knight after its $i^{\\textrm{th}}$ move."
   ]
  },
  {
   "cell_type": "code",
   "execution_count": 3,
   "id": "efeb28b3",
   "metadata": {},
   "outputs": [],
   "source": [
    "def col(i):\n",
    "    return f'C{i}'"
   ]
  },
  {
   "cell_type": "markdown",
   "id": "ddb0863a",
   "metadata": {},
   "source": [
    "The function `is_knight_move(row, col, rowX, colX)` takes three arguments:\n",
    "* `row` is a `Z3` variable that specifies the row of the position of the knight before the move.\n",
    "* `col` is a `Z3` variable that specifies the column of the position of the knight before the move.\n",
    "* `rowX` is a `Z3` variable that specifies the row of the position of the knight after the move.\n",
    "* `colX` is a `Z3` variable that specifies the column of the position of the knight after the move.\n",
    "\n",
    "It returns a formula that specifies that the specified position represents a legal move for a knight.\n",
    "\n",
    "In order to form the *conjunction* of two formulas we use the function `z3.And`, \n",
    "while the *disjunction* is build with the function `z3.Or`.  Note that these functions can be called with \n",
    "any number of arguments.\n",
    "\n",
    "The figure below shows the moves of a knight:  The knight on `e4` can jump to all red squares.\n",
    "<img src=\"knight-moves.png\" width=\"50%\">"
   ]
  },
  {
   "cell_type": "code",
   "execution_count": 4,
   "id": "06ada6d8-870a-4d70-8ff6-172addfe12f6",
   "metadata": {},
   "outputs": [
    {
     "data": {
      "text/plain": [
       "{(-2, -1), (-2, 1), (-1, -2), (-1, 2), (1, -2), (1, 2), (2, -1), (2, 1)}"
      ]
     },
     "execution_count": 4,
     "metadata": {},
     "output_type": "execute_result"
    }
   ],
   "source": [
    "S = {1, 2, -1, -2}\n",
    "{(x, y) for x in S for y in S if abs(x) != abs(y)}"
   ]
  },
  {
   "cell_type": "code",
   "execution_count": 5,
   "id": "7c8ff1e0",
   "metadata": {},
   "outputs": [],
   "source": [
    "def is_knight_move(row, col, rowX, colX):\n",
    "    Formulas = set()\n",
    "    S = {1, 2, -1, -2}\n",
    "    DeltaSet = {(x, y) for x in S for y in S if abs(x) != abs(y)}\n",
    "    for delta_r, delta_c in DeltaSet:\n",
    "        Formulas.add(z3.And(rowX == row + delta_r, colX == col + delta_c))\n",
    "    return z3.Or(Formulas)"
   ]
  },
  {
   "cell_type": "markdown",
   "id": "1de6df39",
   "metadata": {},
   "source": [
    "The function `all_different` takes two arguments:\n",
    "* `Rows` is a list of `Z3` variables. The variable `Rows[i]` specifies the row of the position of the knight after the $i^{\\textrm{th}}$ move.\n",
    "* `Cols` is a list of `Z3` variables. The variable `Cols[i]` specifies the column of the position of the knight after the $i^{\\textrm{th}}$ move.\n",
    "\n",
    "The function returns a set of formulas stating that for $i \\not= j$ the positions after the $i^{\\textrm{th}}$ move\n",
    "differs from the position after the $j^{\\textrm{th}}$ move."
   ]
  },
  {
   "cell_type": "code",
   "execution_count": 6,
   "id": "83b77b18",
   "metadata": {},
   "outputs": [],
   "source": [
    "def all_different(Rows, Cols):\n",
    "    Result = set()\n",
    "    for i in range(62+1):\n",
    "        for j in range (i+1, 63+1):\n",
    "            Result.add(z3.Or(Rows[i] != Rows[j], Cols[i] != Cols[j]))\n",
    "    return Result"
   ]
  },
  {
   "cell_type": "markdown",
   "id": "500543b6",
   "metadata": {},
   "source": [
    "The function `all_constraints` takes two arguments:\n",
    "* `Rows` is a list of `Z3` variables. The variable `Rows[i]` specifies the row of the position of the knight after the $i^{\\textrm{th}}$ move.\n",
    "* `Cols` is a list of `Z3` variables. The variable `Cols[i]` specifies the column of the position of the knight after the $i^{\\textrm{th}}$ move.\n",
    "\n",
    "`all_constraints` returns a set containing all constraints of the problem."
   ]
  },
  {
   "cell_type": "code",
   "execution_count": 7,
   "id": "e6c93b7f",
   "metadata": {},
   "outputs": [],
   "source": [
    "def all_constraints(Rows, Cols):\n",
    "    Constraints = all_different(Rows, Cols)\n",
    "    Constraints.add(Rows[0] == 0)\n",
    "    Constraints.add(Cols[0] == 0)\n",
    "    for i in range(62+1):\n",
    "        Constraints.add(is_knight_move(Rows[i], Cols[i], Rows[i+1], Cols[i+1]))\n",
    "    for i in range(63+1):\n",
    "        Constraints.add(Rows[i] >= 0) \n",
    "        Constraints.add(Cols[i] >= 0) \n",
    "    return Constraints"
   ]
  },
  {
   "cell_type": "markdown",
   "id": "f59d865d",
   "metadata": {},
   "source": [
    "The function `solve()` computes a solution of the knight's problem and returns this solution."
   ]
  },
  {
   "cell_type": "code",
   "execution_count": 8,
   "id": "8b7ddd17",
   "metadata": {},
   "outputs": [],
   "source": [
    "def solve():\n",
    "    Rows = [z3.BitVec(row(i), 4) for i in range(63+1)]\n",
    "    Cols = [z3.BitVec(col(i), 4) for i in range(63+1)]\n",
    "    Constraints = all_constraints(Rows, Cols)\n",
    "    S = z3.Solver()\n",
    "    S.add(Constraints)\n",
    "    result = str(S.check())\n",
    "    if result == 'sat':\n",
    "        Model    = S.model()\n",
    "        Solution = (  { row(i): Model[Rows[i]] for i in range(63+1) } \n",
    "                    | { col(i): Model[Cols[i]] for i in range(63+1) })\n",
    "        return Solution\n",
    "    elif result == 'unsat':\n",
    "        print('The problem is not solvable.')\n",
    "    else:\n",
    "        print('Z3 cannot determine whether the problem is solvable.')"
   ]
  },
  {
   "cell_type": "markdown",
   "id": "caa181ac",
   "metadata": {},
   "source": [
    "Unfortunately, the execution time of the following cell varies greatly between\n",
    "different runs.  Sometimes the cell runs in less one minute and 28 seconds, sometimes \n",
    "it might take 30 minutes."
   ]
  },
  {
   "cell_type": "code",
   "execution_count": 9,
   "id": "fa4dd09b",
   "metadata": {},
   "outputs": [
    {
     "name": "stdout",
     "output_type": "stream",
     "text": [
      "CPU times: user 2min 15s, sys: 65.1 ms, total: 2min 15s\n",
      "Wall time: 2min 17s\n"
     ]
    },
    {
     "data": {
      "text/plain": [
       "{'R0': 0,\n",
       " 'R1': 2,\n",
       " 'R2': 4,\n",
       " 'R3': 6,\n",
       " 'R4': 5,\n",
       " 'R5': 7,\n",
       " 'R6': 6,\n",
       " 'R7': 4,\n",
       " 'R8': 3,\n",
       " 'R9': 1,\n",
       " 'R10': 2,\n",
       " 'R11': 0,\n",
       " 'R12': 2,\n",
       " 'R13': 3,\n",
       " 'R14': 4,\n",
       " 'R15': 2,\n",
       " 'R16': 0,\n",
       " 'R17': 1,\n",
       " 'R18': 3,\n",
       " 'R19': 1,\n",
       " 'R20': 0,\n",
       " 'R21': 1,\n",
       " 'R22': 3,\n",
       " 'R23': 2,\n",
       " 'R24': 0,\n",
       " 'R25': 2,\n",
       " 'R26': 1,\n",
       " 'R27': 0,\n",
       " 'R28': 2,\n",
       " 'R29': 3,\n",
       " 'R30': 1,\n",
       " 'R31': 0,\n",
       " 'R32': 1,\n",
       " 'R33': 3,\n",
       " 'R34': 5,\n",
       " 'R35': 4,\n",
       " 'R36': 2,\n",
       " 'R37': 0,\n",
       " 'R38': 1,\n",
       " 'R39': 3,\n",
       " 'R40': 4,\n",
       " 'R41': 5,\n",
       " 'R42': 6,\n",
       " 'R43': 7,\n",
       " 'R44': 5,\n",
       " 'R45': 7,\n",
       " 'R46': 6,\n",
       " 'R47': 4,\n",
       " 'R48': 3,\n",
       " 'R49': 5,\n",
       " 'R50': 7,\n",
       " 'R51': 6,\n",
       " 'R52': 7,\n",
       " 'R53': 6,\n",
       " 'R54': 4,\n",
       " 'R55': 5,\n",
       " 'R56': 7,\n",
       " 'R57': 6,\n",
       " 'R58': 7,\n",
       " 'R59': 5,\n",
       " 'R60': 6,\n",
       " 'R61': 4,\n",
       " 'R62': 5,\n",
       " 'R63': 7,\n",
       " 'C0': 0,\n",
       " 'C1': 1,\n",
       " 'C2': 0,\n",
       " 'C3': 1,\n",
       " 'C4': 3,\n",
       " 'C5': 4,\n",
       " 'C6': 6,\n",
       " 'C7': 7,\n",
       " 'C8': 5,\n",
       " 'C9': 4,\n",
       " 'C10': 2,\n",
       " 'C11': 1,\n",
       " 'C12': 0,\n",
       " 'C13': 2,\n",
       " 'C14': 4,\n",
       " 'C15': 3,\n",
       " 'C16': 2,\n",
       " 'C17': 0,\n",
       " 'C18': 1,\n",
       " 'C19': 2,\n",
       " 'C20': 4,\n",
       " 'C21': 6,\n",
       " 'C22': 7,\n",
       " 'C23': 5,\n",
       " 'C24': 6,\n",
       " 'C25': 7,\n",
       " 'C26': 5,\n",
       " 'C27': 7,\n",
       " 'C28': 6,\n",
       " 'C29': 4,\n",
       " 'C30': 3,\n",
       " 'C31': 5,\n",
       " 'C32': 7,\n",
       " 'C33': 6,\n",
       " 'C34': 5,\n",
       " 'C35': 3,\n",
       " 'C36': 4,\n",
       " 'C37': 3,\n",
       " 'C38': 1,\n",
       " 'C39': 0,\n",
       " 'C40': 2,\n",
       " 'C41': 0,\n",
       " 'C42': 2,\n",
       " 'C43': 0,\n",
       " 'C44': 1,\n",
       " 'C45': 2,\n",
       " 'C46': 0,\n",
       " 'C47': 1,\n",
       " 'C48': 3,\n",
       " 'C49': 2,\n",
       " 'C50': 1,\n",
       " 'C51': 3,\n",
       " 'C52': 5,\n",
       " 'C53': 7,\n",
       " 'C54': 6,\n",
       " 'C55': 4,\n",
       " 'C56': 3,\n",
       " 'C57': 5,\n",
       " 'C58': 7,\n",
       " 'C59': 6,\n",
       " 'C60': 4,\n",
       " 'C61': 5,\n",
       " 'C62': 7,\n",
       " 'C63': 6}"
      ]
     },
     "execution_count": 9,
     "metadata": {},
     "output_type": "execute_result"
    }
   ],
   "source": [
    "%%time\n",
    "Solution = solve()\n",
    "Solution"
   ]
  },
  {
   "cell_type": "markdown",
   "id": "903ead7e",
   "metadata": {},
   "source": [
    "The function `create_board(Solution)` returns a matrix `Board` of size $8\\times 8$.\n",
    "The following holds:\n",
    "$$ \\texttt{Board}[\\texttt{R}i][\\texttt{C}i] = i $$\n",
    "Therefore, if `Board[r][c] == i`, then at the beginning of the $i^{\\textrm{th}}$ move the knight is located in row `r` and column `c`. "
   ]
  },
  {
   "cell_type": "code",
   "execution_count": 10,
   "id": "e6e0d40f",
   "metadata": {},
   "outputs": [],
   "source": [
    "def create_board(Solution):\n",
    "    Board = [[0 for _ in range(8)] for _ in range(8)]\n",
    "    for i in range(1, 63+1):\n",
    "        r = Solution[row(i)].as_long()\n",
    "        c = Solution[col(i)].as_long()\n",
    "        Board[r][c] = i\n",
    "    return Board"
   ]
  },
  {
   "cell_type": "code",
   "execution_count": 11,
   "id": "b97bfed0",
   "metadata": {},
   "outputs": [
    {
     "data": {
      "text/plain": [
       "[[0, 11, 16, 37, 20, 31, 24, 27],\n",
       " [17, 38, 19, 30, 9, 26, 21, 32],\n",
       " [12, 1, 10, 15, 36, 23, 28, 25],\n",
       " [39, 18, 13, 48, 29, 8, 33, 22],\n",
       " [2, 47, 40, 35, 14, 61, 54, 7],\n",
       " [41, 44, 49, 4, 55, 34, 59, 62],\n",
       " [46, 3, 42, 51, 60, 57, 6, 53],\n",
       " [43, 50, 45, 56, 5, 52, 63, 58]]"
      ]
     },
     "execution_count": 11,
     "metadata": {},
     "output_type": "execute_result"
    }
   ],
   "source": [
    "create_board(Solution)"
   ]
  },
  {
   "cell_type": "markdown",
   "id": "0c7fcc3d",
   "metadata": {},
   "source": [
    "The function `print_board` prints the given `Board`."
   ]
  },
  {
   "cell_type": "code",
   "execution_count": 12,
   "id": "afa11e70",
   "metadata": {},
   "outputs": [],
   "source": [
    "def print_board(Board):\n",
    "    n = len(Board)\n",
    "    # Determine the width of the widest element in the matrix\n",
    "    width = max([ len(str(element)) for row in Board\n",
    "                                    for element in row\n",
    "                ])\n",
    "    # Create the top and bottom of the matrix\n",
    "    top_line = '╔'\n",
    "    for i in range(n - 1):\n",
    "        top_line += '═' * (width + 2) + '╦'\n",
    "    top_line += '═' * (width + 2) + '╗'\n",
    "    mid_line = '╠'\n",
    "    for i in range(n - 1):\n",
    "        mid_line += '═' * (width + 2) + '╬'\n",
    "    mid_line += '═' * (width + 2) + '╣'    \n",
    "    bot_line = '╚'\n",
    "    for i in range(n - 1):\n",
    "        bot_line += '═' * (width + 2) + '╩'\n",
    "    bot_line += '═' * (width + 2) + '╝'\n",
    "    # Print the top of the matrix\n",
    "    print(top_line)\n",
    "    # Iterate through the rows and columns of the matrix, and print\n",
    "    # each element with proper padding\n",
    "    for i, row in enumerate(Board):\n",
    "        line = '\\u2551'\n",
    "        for element in row:\n",
    "            line += f' {element:>{width}} ║'\n",
    "        print(line)\n",
    "        # Print a horizontal line\n",
    "        if i < len(Board) - 1:\n",
    "            print(mid_line)\n",
    "    # Print the bottom of the matrix\n",
    "    print(bot_line)"
   ]
  },
  {
   "cell_type": "code",
   "execution_count": 13,
   "id": "96e3cda7",
   "metadata": {},
   "outputs": [
    {
     "name": "stdout",
     "output_type": "stream",
     "text": [
      "╔════╦════╦════╦════╦════╦════╦════╦════╗\n",
      "║  0 ║ 11 ║ 16 ║ 37 ║ 20 ║ 31 ║ 24 ║ 27 ║\n",
      "╠════╬════╬════╬════╬════╬════╬════╬════╣\n",
      "║ 17 ║ 38 ║ 19 ║ 30 ║  9 ║ 26 ║ 21 ║ 32 ║\n",
      "╠════╬════╬════╬════╬════╬════╬════╬════╣\n",
      "║ 12 ║  1 ║ 10 ║ 15 ║ 36 ║ 23 ║ 28 ║ 25 ║\n",
      "╠════╬════╬════╬════╬════╬════╬════╬════╣\n",
      "║ 39 ║ 18 ║ 13 ║ 48 ║ 29 ║  8 ║ 33 ║ 22 ║\n",
      "╠════╬════╬════╬════╬════╬════╬════╬════╣\n",
      "║  2 ║ 47 ║ 40 ║ 35 ║ 14 ║ 61 ║ 54 ║  7 ║\n",
      "╠════╬════╬════╬════╬════╬════╬════╬════╣\n",
      "║ 41 ║ 44 ║ 49 ║  4 ║ 55 ║ 34 ║ 59 ║ 62 ║\n",
      "╠════╬════╬════╬════╬════╬════╬════╬════╣\n",
      "║ 46 ║  3 ║ 42 ║ 51 ║ 60 ║ 57 ║  6 ║ 53 ║\n",
      "╠════╬════╬════╬════╬════╬════╬════╬════╣\n",
      "║ 43 ║ 50 ║ 45 ║ 56 ║  5 ║ 52 ║ 63 ║ 58 ║\n",
      "╚════╩════╩════╩════╩════╩════╩════╩════╝\n"
     ]
    }
   ],
   "source": [
    "print_board(create_board(Solution))"
   ]
  },
  {
   "cell_type": "markdown",
   "id": "f402f17d",
   "metadata": {},
   "source": [
    "# Visualization"
   ]
  },
  {
   "cell_type": "markdown",
   "id": "8c31e606",
   "metadata": {},
   "source": [
    "If you have not yet installed `chess-problem-visuals` you have to uncomment the following line."
   ]
  },
  {
   "cell_type": "code",
   "execution_count": 14,
   "id": "30f1bf4d",
   "metadata": {},
   "outputs": [
    {
     "name": "stdout",
     "output_type": "stream",
     "text": [
      "Collecting git+https://github.com/reclinarka/chess-problem-visuals\n",
      "  Cloning https://github.com/reclinarka/chess-problem-visuals to /private/var/folders/q9/qftgdjx91wx4s5jcqkfz5bd00000gn/T/pip-req-build-raxsl4qy\n",
      "  Running command git clone --filter=blob:none --quiet https://github.com/reclinarka/chess-problem-visuals /private/var/folders/q9/qftgdjx91wx4s5jcqkfz5bd00000gn/T/pip-req-build-raxsl4qy\n",
      "  Resolved https://github.com/reclinarka/chess-problem-visuals to commit 764a29b376fe9dd3cbb2623ce8740f73c6711fa4\n",
      "  Preparing metadata (setup.py) ... \u001b[?25ldone\n",
      "\u001b[?25h"
     ]
    }
   ],
   "source": [
    "!pip install git+https://github.com/reclinarka/chess-problem-visuals"
   ]
  },
  {
   "cell_type": "code",
   "execution_count": 15,
   "id": "85fbf01a",
   "metadata": {},
   "outputs": [],
   "source": [
    "from chess_problem_visuals import problem_board"
   ]
  },
  {
   "cell_type": "markdown",
   "id": "650a79db",
   "metadata": {},
   "source": [
    "The function `show_solution` displays the given solution on a chessboard.\n",
    "The solution `Board` is represented as a list of lists.  We have `Board[row][col] == k` if the $k^\\textrm{th}$ move leads the knight to the position `(row, col)`."
   ]
  },
  {
   "cell_type": "code",
   "execution_count": 16,
   "id": "49dcea4a",
   "metadata": {},
   "outputs": [],
   "source": [
    "def show_solution(Board, width=\"50%\"):\n",
    "    n         = len(Board)\n",
    "    Positions = {}\n",
    "    for row in range(n):\n",
    "        for col in range(n):\n",
    "            k = Board[row][col]\n",
    "            Positions[k] = (col, row)\n",
    "    start = (0, 0)\n",
    "    Path  = [start]\n",
    "    for k in range(1, n*n):\n",
    "        Path.append(Positions[k])\n",
    "    Visual = problem_board(n, K_start=start, K_path=Path, \n",
    "                           html_width=width, \n",
    "                           arrow_color=\"darkblue\",\n",
    "                           arrow_width=0.2)\n",
    "    return Visual"
   ]
  },
  {
   "cell_type": "code",
   "execution_count": 17,
   "id": "af845106",
   "metadata": {},
   "outputs": [
    {
     "data": {
      "text/html": [
       "<div style='width:50%'><svg xmlns=\"http://www.w3.org/2000/svg\" xmlns:xlink=\"http://www.w3.org/1999/xlink\" version=\"1.2\" baseProfile=\"tiny\" viewBox=\"0 0 128 128\"><defs><g id=\"black-bishop\" class=\"black bishop\" fill=\"none\" fill-rule=\"evenodd\" stroke=\"#000\" stroke-width=\"1.5\" stroke-linecap=\"round\" stroke-linejoin=\"round\"><path d=\"M9 36c3.39-.97 10.11.43 13.5-2 3.39 2.43 10.11 1.03 13.5 2 0 0 1.65.54 3 2-.68.97-1.65.99-3 .5-3.39-.97-10.11.46-13.5-1-3.39 1.46-10.11.03-13.5 1-1.354.49-2.323.47-3-.5 1.354-1.94 3-2 3-2zm6-4c2.5 2.5 12.5 2.5 15 0 .5-1.5 0-2 0-2 0-2.5-2.5-4-2.5-4 5.5-1.5 6-11.5-5-15.5-11 4-10.5 14-5 15.5 0 0-2.5 1.5-2.5 4 0 0-.5.5 0 2zM25 8a2.5 2.5 0 1 1-5 0 2.5 2.5 0 1 1 5 0z\" fill=\"#000\" stroke-linecap=\"butt\" /><path d=\"M17.5 26h10M15 30h15m-7.5-14.5v5M20 18h5\" stroke=\"#fff\" stroke-linejoin=\"miter\" /></g><g id=\"black-king\" class=\"black king\" fill=\"none\" fill-rule=\"evenodd\" stroke=\"#000\" stroke-width=\"1.5\" stroke-linecap=\"round\" stroke-linejoin=\"round\"><path d=\"M22.5 11.63V6\" stroke-linejoin=\"miter\" /><path d=\"M22.5 25s4.5-7.5 3-10.5c0 0-1-2.5-3-2.5s-3 2.5-3 2.5c-1.5 3 3 10.5 3 10.5\" fill=\"#000\" stroke-linecap=\"butt\" stroke-linejoin=\"miter\" /><path d=\"M11.5 37c5.5 3.5 15.5 3.5 21 0v-7s9-4.5 6-10.5c-4-6.5-13.5-3.5-16 4V27v-3.5c-3.5-7.5-13-10.5-16-4-3 6 5 10 5 10V37z\" fill=\"#000\" /><path d=\"M20 8h5\" stroke-linejoin=\"miter\" /><path d=\"M32 29.5s8.5-4 6.03-9.65C34.15 14 25 18 22.5 24.5l.01 2.1-.01-2.1C20 18 9.906 14 6.997 19.85c-2.497 5.65 4.853 9 4.853 9M11.5 30c5.5-3 15.5-3 21 0m-21 3.5c5.5-3 15.5-3 21 0m-21 3.5c5.5-3 15.5-3 21 0\" stroke=\"#fff\" /></g><g id=\"black-knight\" class=\"black knight\" fill=\"none\" fill-rule=\"evenodd\" stroke=\"#000\" stroke-width=\"1.5\" stroke-linecap=\"round\" stroke-linejoin=\"round\"><path d=\"M 22,10 C 32.5,11 38.5,18 38,39 L 15,39 C 15,30 25,32.5 23,18\" style=\"fill:#000000; stroke:#000000;\" /><path d=\"M 24,18 C 24.38,20.91 18.45,25.37 16,27 C 13,29 13.18,31.34 11,31 C 9.958,30.06 12.41,27.96 11,28 C 10,28 11.19,29.23 10,30 C 9,30 5.997,31 6,26 C 6,24 12,14 12,14 C 12,14 13.89,12.1 14,10.5 C 13.27,9.506 13.5,8.5 13.5,7.5 C 14.5,6.5 16.5,10 16.5,10 L 18.5,10 C 18.5,10 19.28,8.008 21,7 C 22,7 22,10 22,10\" style=\"fill:#000000; stroke:#000000;\" /><path d=\"M 9.5 25.5 A 0.5 0.5 0 1 1 8.5,25.5 A 0.5 0.5 0 1 1 9.5 25.5 z\" style=\"fill:#ececec; stroke:#ececec;\" /><path d=\"M 15 15.5 A 0.5 1.5 0 1 1 14,15.5 A 0.5 1.5 0 1 1 15 15.5 z\" transform=\"matrix(0.866,0.5,-0.5,0.866,9.693,-5.173)\" style=\"fill:#ececec; stroke:#ececec;\" /><path d=\"M 24.55,10.4 L 24.1,11.85 L 24.6,12 C 27.75,13 30.25,14.49 32.5,18.75 C 34.75,23.01 35.75,29.06 35.25,39 L 35.2,39.5 L 37.45,39.5 L 37.5,39 C 38,28.94 36.62,22.15 34.25,17.66 C 31.88,13.17 28.46,11.02 25.06,10.5 L 24.55,10.4 z \" style=\"fill:#ececec; stroke:none;\" /></g><g id=\"black-pawn\" class=\"black pawn\"><path d=\"M22.5 9c-2.21 0-4 1.79-4 4 0 .89.29 1.71.78 2.38C17.33 16.5 16 18.59 16 21c0 2.03.94 3.84 2.41 5.03-3 1.06-7.41 5.55-7.41 13.47h23c0-7.92-4.41-12.41-7.41-13.47 1.47-1.19 2.41-3 2.41-5.03 0-2.41-1.33-4.5-3.28-5.62.49-.67.78-1.49.78-2.38 0-2.21-1.79-4-4-4z\" fill=\"#000\" stroke=\"#000\" stroke-width=\"1.5\" stroke-linecap=\"round\" /></g><g id=\"black-queen\" class=\"black queen\" fill=\"#000\" fill-rule=\"evenodd\" stroke=\"#000\" stroke-width=\"1.5\" stroke-linecap=\"round\" stroke-linejoin=\"round\"><g fill=\"#000\" stroke=\"none\"><circle cx=\"6\" cy=\"12\" r=\"2.75\" /><circle cx=\"14\" cy=\"9\" r=\"2.75\" /><circle cx=\"22.5\" cy=\"8\" r=\"2.75\" /><circle cx=\"31\" cy=\"9\" r=\"2.75\" /><circle cx=\"39\" cy=\"12\" r=\"2.75\" /></g><path d=\"M9 26c8.5-1.5 21-1.5 27 0l2.5-12.5L31 25l-.3-14.1-5.2 13.6-3-14.5-3 14.5-5.2-13.6L14 25 6.5 13.5 9 26zM9 26c0 2 1.5 2 2.5 4 1 1.5 1 1 .5 3.5-1.5 1-1.5 2.5-1.5 2.5-1.5 1.5.5 2.5.5 2.5 6.5 1 16.5 1 23 0 0 0 1.5-1 0-2.5 0 0 .5-1.5-1-2.5-.5-2.5-.5-2 .5-3.5 1-2 2.5-2 2.5-4-8.5-1.5-18.5-1.5-27 0z\" stroke-linecap=\"butt\" /><path d=\"M11 38.5a35 35 1 0 0 23 0\" fill=\"none\" stroke-linecap=\"butt\" /><path d=\"M11 29a35 35 1 0 1 23 0M12.5 31.5h20M11.5 34.5a35 35 1 0 0 22 0M10.5 37.5a35 35 1 0 0 24 0\" fill=\"none\" stroke=\"#fff\" /></g><g id=\"black-rook\" class=\"black rook\" fill=\"#000\" fill-rule=\"evenodd\" stroke=\"#000\" stroke-width=\"1.5\" stroke-linecap=\"round\" stroke-linejoin=\"round\"><path d=\"M9 39h27v-3H9v3zM12.5 32l1.5-2.5h17l1.5 2.5h-20zM12 36v-4h21v4H12z\" stroke-linecap=\"butt\" /><path d=\"M14 29.5v-13h17v13H14z\" stroke-linecap=\"butt\" stroke-linejoin=\"miter\" /><path d=\"M14 16.5L11 14h23l-3 2.5H14zM11 14V9h4v2h5V9h5v2h5V9h4v5H11z\" stroke-linecap=\"butt\" /><path d=\"M12 35.5h21M13 31.5h19M14 29.5h17M14 16.5h17M11 14h23\" fill=\"none\" stroke=\"#fff\" stroke-width=\"1\" stroke-linejoin=\"miter\" /></g><g id=\"white-bishop\" class=\"white bishop\" fill=\"none\" fill-rule=\"evenodd\" stroke=\"#000\" stroke-width=\"1.5\" stroke-linecap=\"round\" stroke-linejoin=\"round\"><g fill=\"#fff\" stroke-linecap=\"butt\"><path d=\"M9 36c3.39-.97 10.11.43 13.5-2 3.39 2.43 10.11 1.03 13.5 2 0 0 1.65.54 3 2-.68.97-1.65.99-3 .5-3.39-.97-10.11.46-13.5-1-3.39 1.46-10.11.03-13.5 1-1.354.49-2.323.47-3-.5 1.354-1.94 3-2 3-2zM15 32c2.5 2.5 12.5 2.5 15 0 .5-1.5 0-2 0-2 0-2.5-2.5-4-2.5-4 5.5-1.5 6-11.5-5-15.5-11 4-10.5 14-5 15.5 0 0-2.5 1.5-2.5 4 0 0-.5.5 0 2zM25 8a2.5 2.5 0 1 1-5 0 2.5 2.5 0 1 1 5 0z\" /></g><path d=\"M17.5 26h10M15 30h15m-7.5-14.5v5M20 18h5\" stroke-linejoin=\"miter\" /></g><g id=\"white-king\" class=\"white king\" fill=\"none\" fill-rule=\"evenodd\" stroke=\"#000\" stroke-width=\"1.5\" stroke-linecap=\"round\" stroke-linejoin=\"round\"><path d=\"M22.5 11.63V6M20 8h5\" stroke-linejoin=\"miter\" /><path d=\"M22.5 25s4.5-7.5 3-10.5c0 0-1-2.5-3-2.5s-3 2.5-3 2.5c-1.5 3 3 10.5 3 10.5\" fill=\"#fff\" stroke-linecap=\"butt\" stroke-linejoin=\"miter\" /><path d=\"M11.5 37c5.5 3.5 15.5 3.5 21 0v-7s9-4.5 6-10.5c-4-6.5-13.5-3.5-16 4V27v-3.5c-3.5-7.5-13-10.5-16-4-3 6 5 10 5 10V37z\" fill=\"#fff\" /><path d=\"M11.5 30c5.5-3 15.5-3 21 0m-21 3.5c5.5-3 15.5-3 21 0m-21 3.5c5.5-3 15.5-3 21 0\" /></g><g id=\"white-knight\" class=\"white knight\" fill=\"none\" fill-rule=\"evenodd\" stroke=\"#000\" stroke-width=\"1.5\" stroke-linecap=\"round\" stroke-linejoin=\"round\"><path d=\"M 22,10 C 32.5,11 38.5,18 38,39 L 15,39 C 15,30 25,32.5 23,18\" style=\"fill:#ffffff; stroke:#000000;\" /><path d=\"M 24,18 C 24.38,20.91 18.45,25.37 16,27 C 13,29 13.18,31.34 11,31 C 9.958,30.06 12.41,27.96 11,28 C 10,28 11.19,29.23 10,30 C 9,30 5.997,31 6,26 C 6,24 12,14 12,14 C 12,14 13.89,12.1 14,10.5 C 13.27,9.506 13.5,8.5 13.5,7.5 C 14.5,6.5 16.5,10 16.5,10 L 18.5,10 C 18.5,10 19.28,8.008 21,7 C 22,7 22,10 22,10\" style=\"fill:#ffffff; stroke:#000000;\" /><path d=\"M 9.5 25.5 A 0.5 0.5 0 1 1 8.5,25.5 A 0.5 0.5 0 1 1 9.5 25.5 z\" style=\"fill:#000000; stroke:#000000;\" /><path d=\"M 15 15.5 A 0.5 1.5 0 1 1 14,15.5 A 0.5 1.5 0 1 1 15 15.5 z\" transform=\"matrix(0.866,0.5,-0.5,0.866,9.693,-5.173)\" style=\"fill:#000000; stroke:#000000;\" /></g><g id=\"white-pawn\" class=\"white pawn\"><path d=\"M22.5 9c-2.21 0-4 1.79-4 4 0 .89.29 1.71.78 2.38C17.33 16.5 16 18.59 16 21c0 2.03.94 3.84 2.41 5.03-3 1.06-7.41 5.55-7.41 13.47h23c0-7.92-4.41-12.41-7.41-13.47 1.47-1.19 2.41-3 2.41-5.03 0-2.41-1.33-4.5-3.28-5.62.49-.67.78-1.49.78-2.38 0-2.21-1.79-4-4-4z\" fill=\"#fff\" stroke=\"#000\" stroke-width=\"1.5\" stroke-linecap=\"round\" /></g><g id=\"white-queen\" class=\"white queen\" fill=\"#fff\" fill-rule=\"evenodd\" stroke=\"#000\" stroke-width=\"1.5\" stroke-linecap=\"round\" stroke-linejoin=\"round\"><path d=\"M8 12a2 2 0 1 1-4 0 2 2 0 1 1 4 0zM24.5 7.5a2 2 0 1 1-4 0 2 2 0 1 1 4 0zM41 12a2 2 0 1 1-4 0 2 2 0 1 1 4 0zM16 8.5a2 2 0 1 1-4 0 2 2 0 1 1 4 0zM33 9a2 2 0 1 1-4 0 2 2 0 1 1 4 0z\" /><path d=\"M9 26c8.5-1.5 21-1.5 27 0l2-12-7 11V11l-5.5 13.5-3-15-3 15-5.5-14V25L7 14l2 12zM9 26c0 2 1.5 2 2.5 4 1 1.5 1 1 .5 3.5-1.5 1-1.5 2.5-1.5 2.5-1.5 1.5.5 2.5.5 2.5 6.5 1 16.5 1 23 0 0 0 1.5-1 0-2.5 0 0 .5-1.5-1-2.5-.5-2.5-.5-2 .5-3.5 1-2 2.5-2 2.5-4-8.5-1.5-18.5-1.5-27 0z\" stroke-linecap=\"butt\" /><path d=\"M11.5 30c3.5-1 18.5-1 22 0M12 33.5c6-1 15-1 21 0\" fill=\"none\" /></g><g id=\"white-rook\" class=\"white rook\" fill=\"#fff\" fill-rule=\"evenodd\" stroke=\"#000\" stroke-width=\"1.5\" stroke-linecap=\"round\" stroke-linejoin=\"round\"><path d=\"M9 39h27v-3H9v3zM12 36v-4h21v4H12zM11 14V9h4v2h5V9h5v2h5V9h4v5\" stroke-linecap=\"butt\" /><path d=\"M34 14l-3 3H14l-3-3\" /><path d=\"M31 17v12.5H14V17\" stroke-linecap=\"butt\" stroke-linejoin=\"miter\" /><path d=\"M31 29.5l1.5 2.5h-20l1.5-2.5\" /><path d=\"M11 14h23\" fill=\"none\" stroke-linejoin=\"miter\" /></g></defs><rect x=\"0\" y=\"0\" width=\"16\" height=\"16\" class=\"square light\" stroke=\"none\" fill=\"#ffce9e\" opacity=\"1.0\" /><rect x=\"0\" y=\"16\" width=\"16\" height=\"16\" class=\"square dark\" stroke=\"none\" fill=\"#d18b47\" opacity=\"1.0\" /><rect x=\"0\" y=\"32\" width=\"16\" height=\"16\" class=\"square light\" stroke=\"none\" fill=\"#ffce9e\" opacity=\"1.0\" /><rect x=\"0\" y=\"48\" width=\"16\" height=\"16\" class=\"square dark\" stroke=\"none\" fill=\"#d18b47\" opacity=\"1.0\" /><rect x=\"0\" y=\"64\" width=\"16\" height=\"16\" class=\"square light\" stroke=\"none\" fill=\"#ffce9e\" opacity=\"1.0\" /><rect x=\"0\" y=\"80\" width=\"16\" height=\"16\" class=\"square dark\" stroke=\"none\" fill=\"#d18b47\" opacity=\"1.0\" /><rect x=\"0\" y=\"96\" width=\"16\" height=\"16\" class=\"square light\" stroke=\"none\" fill=\"#ffce9e\" opacity=\"1.0\" /><rect x=\"0\" y=\"112\" width=\"16\" height=\"16\" class=\"square dark\" stroke=\"none\" fill=\"#d18b47\" opacity=\"1.0\" /><rect x=\"16\" y=\"0\" width=\"16\" height=\"16\" class=\"square dark\" stroke=\"none\" fill=\"#d18b47\" opacity=\"1.0\" /><rect x=\"16\" y=\"16\" width=\"16\" height=\"16\" class=\"square light\" stroke=\"none\" fill=\"#ffce9e\" opacity=\"1.0\" /><rect x=\"16\" y=\"32\" width=\"16\" height=\"16\" class=\"square dark\" stroke=\"none\" fill=\"#d18b47\" opacity=\"1.0\" /><rect x=\"16\" y=\"48\" width=\"16\" height=\"16\" class=\"square light\" stroke=\"none\" fill=\"#ffce9e\" opacity=\"1.0\" /><rect x=\"16\" y=\"64\" width=\"16\" height=\"16\" class=\"square dark\" stroke=\"none\" fill=\"#d18b47\" opacity=\"1.0\" /><rect x=\"16\" y=\"80\" width=\"16\" height=\"16\" class=\"square light\" stroke=\"none\" fill=\"#ffce9e\" opacity=\"1.0\" /><rect x=\"16\" y=\"96\" width=\"16\" height=\"16\" class=\"square dark\" stroke=\"none\" fill=\"#d18b47\" opacity=\"1.0\" /><rect x=\"16\" y=\"112\" width=\"16\" height=\"16\" class=\"square light\" stroke=\"none\" fill=\"#ffce9e\" opacity=\"1.0\" /><rect x=\"32\" y=\"0\" width=\"16\" height=\"16\" class=\"square light\" stroke=\"none\" fill=\"#ffce9e\" opacity=\"1.0\" /><rect x=\"32\" y=\"16\" width=\"16\" height=\"16\" class=\"square dark\" stroke=\"none\" fill=\"#d18b47\" opacity=\"1.0\" /><rect x=\"32\" y=\"32\" width=\"16\" height=\"16\" class=\"square light\" stroke=\"none\" fill=\"#ffce9e\" opacity=\"1.0\" /><rect x=\"32\" y=\"48\" width=\"16\" height=\"16\" class=\"square dark\" stroke=\"none\" fill=\"#d18b47\" opacity=\"1.0\" /><rect x=\"32\" y=\"64\" width=\"16\" height=\"16\" class=\"square light\" stroke=\"none\" fill=\"#ffce9e\" opacity=\"1.0\" /><rect x=\"32\" y=\"80\" width=\"16\" height=\"16\" class=\"square dark\" stroke=\"none\" fill=\"#d18b47\" opacity=\"1.0\" /><rect x=\"32\" y=\"96\" width=\"16\" height=\"16\" class=\"square light\" stroke=\"none\" fill=\"#ffce9e\" opacity=\"1.0\" /><rect x=\"32\" y=\"112\" width=\"16\" height=\"16\" class=\"square dark\" stroke=\"none\" fill=\"#d18b47\" opacity=\"1.0\" /><rect x=\"48\" y=\"0\" width=\"16\" height=\"16\" class=\"square dark\" stroke=\"none\" fill=\"#d18b47\" opacity=\"1.0\" /><rect x=\"48\" y=\"16\" width=\"16\" height=\"16\" class=\"square light\" stroke=\"none\" fill=\"#ffce9e\" opacity=\"1.0\" /><rect x=\"48\" y=\"32\" width=\"16\" height=\"16\" class=\"square dark\" stroke=\"none\" fill=\"#d18b47\" opacity=\"1.0\" /><rect x=\"48\" y=\"48\" width=\"16\" height=\"16\" class=\"square light\" stroke=\"none\" fill=\"#ffce9e\" opacity=\"1.0\" /><rect x=\"48\" y=\"64\" width=\"16\" height=\"16\" class=\"square dark\" stroke=\"none\" fill=\"#d18b47\" opacity=\"1.0\" /><rect x=\"48\" y=\"80\" width=\"16\" height=\"16\" class=\"square light\" stroke=\"none\" fill=\"#ffce9e\" opacity=\"1.0\" /><rect x=\"48\" y=\"96\" width=\"16\" height=\"16\" class=\"square dark\" stroke=\"none\" fill=\"#d18b47\" opacity=\"1.0\" /><rect x=\"48\" y=\"112\" width=\"16\" height=\"16\" class=\"square light\" stroke=\"none\" fill=\"#ffce9e\" opacity=\"1.0\" /><rect x=\"64\" y=\"0\" width=\"16\" height=\"16\" class=\"square light\" stroke=\"none\" fill=\"#ffce9e\" opacity=\"1.0\" /><rect x=\"64\" y=\"16\" width=\"16\" height=\"16\" class=\"square dark\" stroke=\"none\" fill=\"#d18b47\" opacity=\"1.0\" /><rect x=\"64\" y=\"32\" width=\"16\" height=\"16\" class=\"square light\" stroke=\"none\" fill=\"#ffce9e\" opacity=\"1.0\" /><rect x=\"64\" y=\"48\" width=\"16\" height=\"16\" class=\"square dark\" stroke=\"none\" fill=\"#d18b47\" opacity=\"1.0\" /><rect x=\"64\" y=\"64\" width=\"16\" height=\"16\" class=\"square light\" stroke=\"none\" fill=\"#ffce9e\" opacity=\"1.0\" /><rect x=\"64\" y=\"80\" width=\"16\" height=\"16\" class=\"square dark\" stroke=\"none\" fill=\"#d18b47\" opacity=\"1.0\" /><rect x=\"64\" y=\"96\" width=\"16\" height=\"16\" class=\"square light\" stroke=\"none\" fill=\"#ffce9e\" opacity=\"1.0\" /><rect x=\"64\" y=\"112\" width=\"16\" height=\"16\" class=\"square dark\" stroke=\"none\" fill=\"#d18b47\" opacity=\"1.0\" /><rect x=\"80\" y=\"0\" width=\"16\" height=\"16\" class=\"square dark\" stroke=\"none\" fill=\"#d18b47\" opacity=\"1.0\" /><rect x=\"80\" y=\"16\" width=\"16\" height=\"16\" class=\"square light\" stroke=\"none\" fill=\"#ffce9e\" opacity=\"1.0\" /><rect x=\"80\" y=\"32\" width=\"16\" height=\"16\" class=\"square dark\" stroke=\"none\" fill=\"#d18b47\" opacity=\"1.0\" /><rect x=\"80\" y=\"48\" width=\"16\" height=\"16\" class=\"square light\" stroke=\"none\" fill=\"#ffce9e\" opacity=\"1.0\" /><rect x=\"80\" y=\"64\" width=\"16\" height=\"16\" class=\"square dark\" stroke=\"none\" fill=\"#d18b47\" opacity=\"1.0\" /><rect x=\"80\" y=\"80\" width=\"16\" height=\"16\" class=\"square light\" stroke=\"none\" fill=\"#ffce9e\" opacity=\"1.0\" /><rect x=\"80\" y=\"96\" width=\"16\" height=\"16\" class=\"square dark\" stroke=\"none\" fill=\"#d18b47\" opacity=\"1.0\" /><rect x=\"80\" y=\"112\" width=\"16\" height=\"16\" class=\"square light\" stroke=\"none\" fill=\"#ffce9e\" opacity=\"1.0\" /><rect x=\"96\" y=\"0\" width=\"16\" height=\"16\" class=\"square light\" stroke=\"none\" fill=\"#ffce9e\" opacity=\"1.0\" /><rect x=\"96\" y=\"16\" width=\"16\" height=\"16\" class=\"square dark\" stroke=\"none\" fill=\"#d18b47\" opacity=\"1.0\" /><rect x=\"96\" y=\"32\" width=\"16\" height=\"16\" class=\"square light\" stroke=\"none\" fill=\"#ffce9e\" opacity=\"1.0\" /><rect x=\"96\" y=\"48\" width=\"16\" height=\"16\" class=\"square dark\" stroke=\"none\" fill=\"#d18b47\" opacity=\"1.0\" /><rect x=\"96\" y=\"64\" width=\"16\" height=\"16\" class=\"square light\" stroke=\"none\" fill=\"#ffce9e\" opacity=\"1.0\" /><rect x=\"96\" y=\"80\" width=\"16\" height=\"16\" class=\"square dark\" stroke=\"none\" fill=\"#d18b47\" opacity=\"1.0\" /><rect x=\"96\" y=\"96\" width=\"16\" height=\"16\" class=\"square light\" stroke=\"none\" fill=\"#ffce9e\" opacity=\"1.0\" /><rect x=\"96\" y=\"112\" width=\"16\" height=\"16\" class=\"square dark\" stroke=\"none\" fill=\"#d18b47\" opacity=\"1.0\" /><rect x=\"112\" y=\"0\" width=\"16\" height=\"16\" class=\"square dark\" stroke=\"none\" fill=\"#d18b47\" opacity=\"1.0\" /><rect x=\"112\" y=\"16\" width=\"16\" height=\"16\" class=\"square light\" stroke=\"none\" fill=\"#ffce9e\" opacity=\"1.0\" /><rect x=\"112\" y=\"32\" width=\"16\" height=\"16\" class=\"square dark\" stroke=\"none\" fill=\"#d18b47\" opacity=\"1.0\" /><rect x=\"112\" y=\"48\" width=\"16\" height=\"16\" class=\"square light\" stroke=\"none\" fill=\"#ffce9e\" opacity=\"1.0\" /><rect x=\"112\" y=\"64\" width=\"16\" height=\"16\" class=\"square dark\" stroke=\"none\" fill=\"#d18b47\" opacity=\"1.0\" /><rect x=\"112\" y=\"80\" width=\"16\" height=\"16\" class=\"square light\" stroke=\"none\" fill=\"#ffce9e\" opacity=\"1.0\" /><rect x=\"112\" y=\"96\" width=\"16\" height=\"16\" class=\"square dark\" stroke=\"none\" fill=\"#d18b47\" opacity=\"1.0\" /><rect x=\"112\" y=\"112\" width=\"16\" height=\"16\" class=\"square light\" stroke=\"none\" fill=\"#ffce9e\" opacity=\"1.0\" /><use href=\"#white-knight\" xlink:href=\"#white-knight\" transform=\"translate(0, 0) scale(0.355556)\" /><line x1=\"8.0\" y1=\"8.0\" x2=\"17.91789510120057\" y2=\"27.835790202401142\" stroke=\"darkblue\" stroke-width=\"0.6400000000000001\" stroke-linecap=\"butt\" class=\"arrow\" /><polygon points=\"23.284458247200067,38.568916494400135 18.991207730400472,27.299133887801194 16.84458247200067,28.37244651700109\" fill=\"darkblue\" class=\"arrow\" /><line x1=\"24.0\" y1=\"40.0\" x2=\"14.082104898799429\" y2=\"59.83579020240114\" stroke=\"darkblue\" stroke-width=\"0.6400000000000001\" stroke-linecap=\"butt\" class=\"arrow\" /><polygon points=\"8.715541752799933,70.56891649440013 15.155417527999328,60.372446517001094 13.00879226959953,59.29913388780119\" fill=\"darkblue\" class=\"arrow\" /><line x1=\"8.0\" y1=\"72.0\" x2=\"17.91789510120057\" y2=\"91.83579020240114\" stroke=\"darkblue\" stroke-width=\"0.6400000000000001\" stroke-linecap=\"butt\" class=\"arrow\" /><polygon points=\"23.284458247200067,102.56891649440013 18.991207730400472,91.29913388780119 16.84458247200067,92.3724465170011\" fill=\"darkblue\" class=\"arrow\" /><line x1=\"24.0\" y1=\"104.0\" x2=\"43.83579020240114\" y2=\"94.08210489879943\" stroke=\"darkblue\" stroke-width=\"0.6400000000000001\" stroke-linecap=\"butt\" class=\"arrow\" /><polygon points=\"54.568916494400135,88.71554175279994 43.29913388780119,93.00879226959952 44.372446517001094,95.15541752799933\" fill=\"darkblue\" class=\"arrow\" /><line x1=\"56.0\" y1=\"88.0\" x2=\"65.91789510120057\" y2=\"107.83579020240114\" stroke=\"darkblue\" stroke-width=\"0.6400000000000001\" stroke-linecap=\"butt\" class=\"arrow\" /><polygon points=\"71.28445824720006,118.56891649440013 66.99120773040048,107.29913388780119 64.84458247200067,108.3724465170011\" fill=\"darkblue\" class=\"arrow\" /><line x1=\"72.0\" y1=\"120.0\" x2=\"91.83579020240114\" y2=\"110.08210489879943\" stroke=\"darkblue\" stroke-width=\"0.6400000000000001\" stroke-linecap=\"butt\" class=\"arrow\" /><polygon points=\"102.56891649440013,104.71554175279994 91.29913388780119,109.00879226959952 92.3724465170011,111.15541752799933\" fill=\"darkblue\" class=\"arrow\" /><line x1=\"104.0\" y1=\"104.0\" x2=\"113.91789510120057\" y2=\"84.16420979759886\" stroke=\"darkblue\" stroke-width=\"0.6400000000000001\" stroke-linecap=\"butt\" class=\"arrow\" /><polygon points=\"119.28445824720006,73.43108350559987 112.84458247200067,83.6275534829989 114.99120773040048,84.70086611219881\" fill=\"darkblue\" class=\"arrow\" /><line x1=\"120.0\" y1=\"72.0\" x2=\"100.16420979759886\" y2=\"62.08210489879943\" stroke=\"darkblue\" stroke-width=\"0.6400000000000001\" stroke-linecap=\"butt\" class=\"arrow\" /><polygon points=\"89.43108350559987,56.715541752799936 99.6275534829989,63.155417527999326 100.70086611219881,61.00879226959953\" fill=\"darkblue\" class=\"arrow\" /><line x1=\"88.0\" y1=\"56.0\" x2=\"78.08210489879943\" y2=\"36.16420979759886\" stroke=\"darkblue\" stroke-width=\"0.6400000000000001\" stroke-linecap=\"butt\" class=\"arrow\" /><polygon points=\"72.71554175279994,25.431083505599865 77.00879226959952,36.70086611219881 79.15541752799933,35.627553482998906\" fill=\"darkblue\" class=\"arrow\" /><line x1=\"72.0\" y1=\"24.0\" x2=\"52.16420979759886\" y2=\"33.91789510120057\" stroke=\"darkblue\" stroke-width=\"0.6400000000000001\" stroke-linecap=\"butt\" class=\"arrow\" /><polygon points=\"41.431083505599865,39.284458247200064 52.70086611219881,34.99120773040047 51.627553482998906,32.844582472000674\" fill=\"darkblue\" class=\"arrow\" /><line x1=\"40.0\" y1=\"40.0\" x2=\"30.08210489879943\" y2=\"20.164209797598858\" stroke=\"darkblue\" stroke-width=\"0.6400000000000001\" stroke-linecap=\"butt\" class=\"arrow\" /><polygon points=\"24.715541752799933,9.431083505599865 29.008792269599528,20.700866112198806 31.15541752799933,19.62755348299891\" fill=\"darkblue\" class=\"arrow\" /><line x1=\"24.0\" y1=\"8.0\" x2=\"14.082104898799429\" y2=\"27.835790202401142\" stroke=\"darkblue\" stroke-width=\"0.6400000000000001\" stroke-linecap=\"butt\" class=\"arrow\" /><polygon points=\"8.715541752799933,38.568916494400135 15.155417527999328,28.37244651700109 13.00879226959953,27.299133887801194\" fill=\"darkblue\" class=\"arrow\" /><line x1=\"8.0\" y1=\"40.0\" x2=\"27.835790202401142\" y2=\"49.91789510120057\" stroke=\"darkblue\" stroke-width=\"0.6400000000000001\" stroke-linecap=\"butt\" class=\"arrow\" /><polygon points=\"38.568916494400135,55.284458247200064 28.37244651700109,48.844582472000674 27.299133887801194,50.99120773040047\" fill=\"darkblue\" class=\"arrow\" /><line x1=\"40.0\" y1=\"56.0\" x2=\"59.83579020240114\" y2=\"65.91789510120057\" stroke=\"darkblue\" stroke-width=\"0.6400000000000001\" stroke-linecap=\"butt\" class=\"arrow\" /><polygon points=\"70.56891649440013,71.28445824720006 60.372446517001094,64.84458247200067 59.29913388780119,66.99120773040048\" fill=\"darkblue\" class=\"arrow\" /><line x1=\"72.0\" y1=\"72.0\" x2=\"62.08210489879943\" y2=\"52.16420979759886\" stroke=\"darkblue\" stroke-width=\"0.6400000000000001\" stroke-linecap=\"butt\" class=\"arrow\" /><polygon points=\"56.715541752799936,41.431083505599865 61.00879226959953,52.70086611219881 63.155417527999326,51.627553482998906\" fill=\"darkblue\" class=\"arrow\" /><line x1=\"56.0\" y1=\"40.0\" x2=\"46.08210489879943\" y2=\"20.164209797598858\" stroke=\"darkblue\" stroke-width=\"0.6400000000000001\" stroke-linecap=\"butt\" class=\"arrow\" /><polygon points=\"40.715541752799936,9.431083505599865 45.00879226959953,20.700866112198806 47.155417527999326,19.62755348299891\" fill=\"darkblue\" class=\"arrow\" /><line x1=\"40.0\" y1=\"8.0\" x2=\"20.164209797598858\" y2=\"17.91789510120057\" stroke=\"darkblue\" stroke-width=\"0.6400000000000001\" stroke-linecap=\"butt\" class=\"arrow\" /><polygon points=\"9.431083505599865,23.284458247200067 20.700866112198806,18.991207730400472 19.62755348299891,16.84458247200067\" fill=\"darkblue\" class=\"arrow\" /><line x1=\"8.0\" y1=\"24.0\" x2=\"17.91789510120057\" y2=\"43.83579020240114\" stroke=\"darkblue\" stroke-width=\"0.6400000000000001\" stroke-linecap=\"butt\" class=\"arrow\" /><polygon points=\"23.284458247200067,54.568916494400135 18.991207730400472,43.29913388780119 16.84458247200067,44.372446517001094\" fill=\"darkblue\" class=\"arrow\" /><line x1=\"24.0\" y1=\"56.0\" x2=\"33.91789510120057\" y2=\"36.16420979759886\" stroke=\"darkblue\" stroke-width=\"0.6400000000000001\" stroke-linecap=\"butt\" class=\"arrow\" /><polygon points=\"39.284458247200064,25.431083505599865 32.844582472000674,35.627553482998906 34.99120773040047,36.70086611219881\" fill=\"darkblue\" class=\"arrow\" /><line x1=\"40.0\" y1=\"24.0\" x2=\"59.83579020240114\" y2=\"14.082104898799429\" stroke=\"darkblue\" stroke-width=\"0.6400000000000001\" stroke-linecap=\"butt\" class=\"arrow\" /><polygon points=\"70.56891649440013,8.715541752799933 59.29913388780119,13.00879226959953 60.372446517001094,15.155417527999328\" fill=\"darkblue\" class=\"arrow\" /><line x1=\"72.0\" y1=\"8.0\" x2=\"91.83579020240114\" y2=\"17.91789510120057\" stroke=\"darkblue\" stroke-width=\"0.6400000000000001\" stroke-linecap=\"butt\" class=\"arrow\" /><polygon points=\"102.56891649440013,23.284458247200067 92.3724465170011,16.84458247200067 91.29913388780119,18.991207730400472\" fill=\"darkblue\" class=\"arrow\" /><line x1=\"104.0\" y1=\"24.0\" x2=\"113.91789510120057\" y2=\"43.83579020240114\" stroke=\"darkblue\" stroke-width=\"0.6400000000000001\" stroke-linecap=\"butt\" class=\"arrow\" /><polygon points=\"119.28445824720006,54.568916494400135 114.99120773040048,43.29913388780119 112.84458247200067,44.372446517001094\" fill=\"darkblue\" class=\"arrow\" /><line x1=\"120.0\" y1=\"56.0\" x2=\"100.16420979759886\" y2=\"46.08210489879943\" stroke=\"darkblue\" stroke-width=\"0.6400000000000001\" stroke-linecap=\"butt\" class=\"arrow\" /><polygon points=\"89.43108350559987,40.715541752799936 99.6275534829989,47.155417527999326 100.70086611219881,45.00879226959953\" fill=\"darkblue\" class=\"arrow\" /><line x1=\"88.0\" y1=\"40.0\" x2=\"97.91789510120057\" y2=\"20.164209797598858\" stroke=\"darkblue\" stroke-width=\"0.6400000000000001\" stroke-linecap=\"butt\" class=\"arrow\" /><polygon points=\"103.28445824720006,9.431083505599865 96.84458247200067,19.62755348299891 98.99120773040048,20.700866112198806\" fill=\"darkblue\" class=\"arrow\" /><line x1=\"104.0\" y1=\"8.0\" x2=\"113.91789510120057\" y2=\"27.835790202401142\" stroke=\"darkblue\" stroke-width=\"0.6400000000000001\" stroke-linecap=\"butt\" class=\"arrow\" /><polygon points=\"119.28445824720006,38.568916494400135 114.99120773040048,27.299133887801194 112.84458247200067,28.37244651700109\" fill=\"darkblue\" class=\"arrow\" /><line x1=\"120.0\" y1=\"40.0\" x2=\"100.16420979759886\" y2=\"30.08210489879943\" stroke=\"darkblue\" stroke-width=\"0.6400000000000001\" stroke-linecap=\"butt\" class=\"arrow\" /><polygon points=\"89.43108350559987,24.715541752799933 99.6275534829989,31.15541752799933 100.70086611219881,29.008792269599528\" fill=\"darkblue\" class=\"arrow\" /><line x1=\"88.0\" y1=\"24.0\" x2=\"107.83579020240114\" y2=\"14.082104898799429\" stroke=\"darkblue\" stroke-width=\"0.6400000000000001\" stroke-linecap=\"butt\" class=\"arrow\" /><polygon points=\"118.56891649440013,8.715541752799933 107.29913388780119,13.00879226959953 108.3724465170011,15.155417527999328\" fill=\"darkblue\" class=\"arrow\" /><line x1=\"120.0\" y1=\"8.0\" x2=\"110.08210489879943\" y2=\"27.835790202401142\" stroke=\"darkblue\" stroke-width=\"0.6400000000000001\" stroke-linecap=\"butt\" class=\"arrow\" /><polygon points=\"104.71554175279994,38.568916494400135 111.15541752799933,28.37244651700109 109.00879226959952,27.299133887801194\" fill=\"darkblue\" class=\"arrow\" /><line x1=\"104.0\" y1=\"40.0\" x2=\"84.16420979759886\" y2=\"49.91789510120057\" stroke=\"darkblue\" stroke-width=\"0.6400000000000001\" stroke-linecap=\"butt\" class=\"arrow\" /><polygon points=\"73.43108350559987,55.284458247200064 84.70086611219881,50.99120773040047 83.6275534829989,48.844582472000674\" fill=\"darkblue\" class=\"arrow\" /><line x1=\"72.0\" y1=\"56.0\" x2=\"62.08210489879943\" y2=\"36.16420979759886\" stroke=\"darkblue\" stroke-width=\"0.6400000000000001\" stroke-linecap=\"butt\" class=\"arrow\" /><polygon points=\"56.715541752799936,25.431083505599865 61.00879226959953,36.70086611219881 63.155417527999326,35.627553482998906\" fill=\"darkblue\" class=\"arrow\" /><line x1=\"56.0\" y1=\"24.0\" x2=\"75.83579020240114\" y2=\"14.082104898799429\" stroke=\"darkblue\" stroke-width=\"0.6400000000000001\" stroke-linecap=\"butt\" class=\"arrow\" /><polygon points=\"86.56891649440013,8.715541752799933 75.29913388780119,13.00879226959953 76.3724465170011,15.155417527999328\" fill=\"darkblue\" class=\"arrow\" /><line x1=\"88.0\" y1=\"8.0\" x2=\"107.83579020240114\" y2=\"17.91789510120057\" stroke=\"darkblue\" stroke-width=\"0.6400000000000001\" stroke-linecap=\"butt\" class=\"arrow\" /><polygon points=\"118.56891649440013,23.284458247200067 108.3724465170011,16.84458247200067 107.29913388780119,18.991207730400472\" fill=\"darkblue\" class=\"arrow\" /><line x1=\"120.0\" y1=\"24.0\" x2=\"110.08210489879943\" y2=\"43.83579020240114\" stroke=\"darkblue\" stroke-width=\"0.6400000000000001\" stroke-linecap=\"butt\" class=\"arrow\" /><polygon points=\"104.71554175279994,54.568916494400135 111.15541752799933,44.372446517001094 109.00879226959952,43.29913388780119\" fill=\"darkblue\" class=\"arrow\" /><line x1=\"104.0\" y1=\"56.0\" x2=\"94.08210489879943\" y2=\"75.83579020240114\" stroke=\"darkblue\" stroke-width=\"0.6400000000000001\" stroke-linecap=\"butt\" class=\"arrow\" /><polygon points=\"88.71554175279994,86.56891649440013 95.15541752799933,76.3724465170011 93.00879226959952,75.29913388780119\" fill=\"darkblue\" class=\"arrow\" /><line x1=\"88.0\" y1=\"88.0\" x2=\"68.16420979759886\" y2=\"78.08210489879943\" stroke=\"darkblue\" stroke-width=\"0.6400000000000001\" stroke-linecap=\"butt\" class=\"arrow\" /><polygon points=\"57.431083505599865,72.71554175279994 67.6275534829989,79.15541752799933 68.70086611219881,77.00879226959952\" fill=\"darkblue\" class=\"arrow\" /><line x1=\"56.0\" y1=\"72.0\" x2=\"65.91789510120057\" y2=\"52.16420979759886\" stroke=\"darkblue\" stroke-width=\"0.6400000000000001\" stroke-linecap=\"butt\" class=\"arrow\" /><polygon points=\"71.28445824720006,41.431083505599865 64.84458247200067,51.627553482998906 66.99120773040048,52.70086611219881\" fill=\"darkblue\" class=\"arrow\" /><line x1=\"72.0\" y1=\"40.0\" x2=\"62.08210489879943\" y2=\"20.164209797598858\" stroke=\"darkblue\" stroke-width=\"0.6400000000000001\" stroke-linecap=\"butt\" class=\"arrow\" /><polygon points=\"56.715541752799936,9.431083505599865 61.00879226959953,20.700866112198806 63.155417527999326,19.62755348299891\" fill=\"darkblue\" class=\"arrow\" /><line x1=\"56.0\" y1=\"8.0\" x2=\"36.16420979759886\" y2=\"17.91789510120057\" stroke=\"darkblue\" stroke-width=\"0.6400000000000001\" stroke-linecap=\"butt\" class=\"arrow\" /><polygon points=\"25.431083505599865,23.284458247200067 36.70086611219881,18.991207730400472 35.627553482998906,16.84458247200067\" fill=\"darkblue\" class=\"arrow\" /><line x1=\"24.0\" y1=\"24.0\" x2=\"14.082104898799429\" y2=\"43.83579020240114\" stroke=\"darkblue\" stroke-width=\"0.6400000000000001\" stroke-linecap=\"butt\" class=\"arrow\" /><polygon points=\"8.715541752799933,54.568916494400135 15.155417527999328,44.372446517001094 13.00879226959953,43.29913388780119\" fill=\"darkblue\" class=\"arrow\" /><line x1=\"8.0\" y1=\"56.0\" x2=\"27.835790202401142\" y2=\"65.91789510120057\" stroke=\"darkblue\" stroke-width=\"0.6400000000000001\" stroke-linecap=\"butt\" class=\"arrow\" /><polygon points=\"38.568916494400135,71.28445824720006 28.37244651700109,64.84458247200067 27.299133887801194,66.99120773040048\" fill=\"darkblue\" class=\"arrow\" /><line x1=\"40.0\" y1=\"72.0\" x2=\"20.164209797598858\" y2=\"81.91789510120057\" stroke=\"darkblue\" stroke-width=\"0.6400000000000001\" stroke-linecap=\"butt\" class=\"arrow\" /><polygon points=\"9.431083505599865,87.28445824720006 20.700866112198806,82.99120773040048 19.62755348299891,80.84458247200067\" fill=\"darkblue\" class=\"arrow\" /><line x1=\"8.0\" y1=\"88.0\" x2=\"27.835790202401142\" y2=\"97.91789510120057\" stroke=\"darkblue\" stroke-width=\"0.6400000000000001\" stroke-linecap=\"butt\" class=\"arrow\" /><polygon points=\"38.568916494400135,103.28445824720006 28.37244651700109,96.84458247200067 27.299133887801194,98.99120773040048\" fill=\"darkblue\" class=\"arrow\" /><line x1=\"40.0\" y1=\"104.0\" x2=\"20.164209797598858\" y2=\"113.91789510120057\" stroke=\"darkblue\" stroke-width=\"0.6400000000000001\" stroke-linecap=\"butt\" class=\"arrow\" /><polygon points=\"9.431083505599865,119.28445824720006 20.700866112198806,114.99120773040048 19.62755348299891,112.84458247200067\" fill=\"darkblue\" class=\"arrow\" /><line x1=\"8.0\" y1=\"120.0\" x2=\"17.91789510120057\" y2=\"100.16420979759886\" stroke=\"darkblue\" stroke-width=\"0.6400000000000001\" stroke-linecap=\"butt\" class=\"arrow\" /><polygon points=\"23.284458247200067,89.43108350559987 16.84458247200067,99.6275534829989 18.991207730400472,100.70086611219881\" fill=\"darkblue\" class=\"arrow\" /><line x1=\"24.0\" y1=\"88.0\" x2=\"33.91789510120057\" y2=\"107.83579020240114\" stroke=\"darkblue\" stroke-width=\"0.6400000000000001\" stroke-linecap=\"butt\" class=\"arrow\" /><polygon points=\"39.284458247200064,118.56891649440013 34.99120773040047,107.29913388780119 32.844582472000674,108.3724465170011\" fill=\"darkblue\" class=\"arrow\" /><line x1=\"40.0\" y1=\"120.0\" x2=\"20.164209797598858\" y2=\"110.08210489879943\" stroke=\"darkblue\" stroke-width=\"0.6400000000000001\" stroke-linecap=\"butt\" class=\"arrow\" /><polygon points=\"9.431083505599865,104.71554175279994 19.62755348299891,111.15541752799933 20.700866112198806,109.00879226959952\" fill=\"darkblue\" class=\"arrow\" /><line x1=\"8.0\" y1=\"104.0\" x2=\"17.91789510120057\" y2=\"84.16420979759886\" stroke=\"darkblue\" stroke-width=\"0.6400000000000001\" stroke-linecap=\"butt\" class=\"arrow\" /><polygon points=\"23.284458247200067,73.43108350559987 16.84458247200067,83.6275534829989 18.991207730400472,84.70086611219881\" fill=\"darkblue\" class=\"arrow\" /><line x1=\"24.0\" y1=\"72.0\" x2=\"43.83579020240114\" y2=\"62.08210489879943\" stroke=\"darkblue\" stroke-width=\"0.6400000000000001\" stroke-linecap=\"butt\" class=\"arrow\" /><polygon points=\"54.568916494400135,56.715541752799936 43.29913388780119,61.00879226959953 44.372446517001094,63.155417527999326\" fill=\"darkblue\" class=\"arrow\" /><line x1=\"56.0\" y1=\"56.0\" x2=\"46.08210489879943\" y2=\"75.83579020240114\" stroke=\"darkblue\" stroke-width=\"0.6400000000000001\" stroke-linecap=\"butt\" class=\"arrow\" /><polygon points=\"40.715541752799936,86.56891649440013 47.155417527999326,76.3724465170011 45.00879226959953,75.29913388780119\" fill=\"darkblue\" class=\"arrow\" /><line x1=\"40.0\" y1=\"88.0\" x2=\"30.08210489879943\" y2=\"107.83579020240114\" stroke=\"darkblue\" stroke-width=\"0.6400000000000001\" stroke-linecap=\"butt\" class=\"arrow\" /><polygon points=\"24.715541752799933,118.56891649440013 31.15541752799933,108.3724465170011 29.008792269599528,107.29913388780119\" fill=\"darkblue\" class=\"arrow\" /><line x1=\"24.0\" y1=\"120.0\" x2=\"43.83579020240114\" y2=\"110.08210489879943\" stroke=\"darkblue\" stroke-width=\"0.6400000000000001\" stroke-linecap=\"butt\" class=\"arrow\" /><polygon points=\"54.568916494400135,104.71554175279994 43.29913388780119,109.00879226959952 44.372446517001094,111.15541752799933\" fill=\"darkblue\" class=\"arrow\" /><line x1=\"56.0\" y1=\"104.0\" x2=\"75.83579020240114\" y2=\"113.91789510120057\" stroke=\"darkblue\" stroke-width=\"0.6400000000000001\" stroke-linecap=\"butt\" class=\"arrow\" /><polygon points=\"86.56891649440013,119.28445824720006 76.3724465170011,112.84458247200067 75.29913388780119,114.99120773040048\" fill=\"darkblue\" class=\"arrow\" /><line x1=\"88.0\" y1=\"120.0\" x2=\"107.83579020240114\" y2=\"110.08210489879943\" stroke=\"darkblue\" stroke-width=\"0.6400000000000001\" stroke-linecap=\"butt\" class=\"arrow\" /><polygon points=\"118.56891649440013,104.71554175279994 107.29913388780119,109.00879226959952 108.3724465170011,111.15541752799933\" fill=\"darkblue\" class=\"arrow\" /><line x1=\"120.0\" y1=\"104.0\" x2=\"110.08210489879943\" y2=\"84.16420979759886\" stroke=\"darkblue\" stroke-width=\"0.6400000000000001\" stroke-linecap=\"butt\" class=\"arrow\" /><polygon points=\"104.71554175279994,73.43108350559987 109.00879226959952,84.70086611219881 111.15541752799933,83.6275534829989\" fill=\"darkblue\" class=\"arrow\" /><line x1=\"104.0\" y1=\"72.0\" x2=\"84.16420979759886\" y2=\"81.91789510120057\" stroke=\"darkblue\" stroke-width=\"0.6400000000000001\" stroke-linecap=\"butt\" class=\"arrow\" /><polygon points=\"73.43108350559987,87.28445824720006 84.70086611219881,82.99120773040048 83.6275534829989,80.84458247200067\" fill=\"darkblue\" class=\"arrow\" /><line x1=\"72.0\" y1=\"88.0\" x2=\"62.08210489879943\" y2=\"107.83579020240114\" stroke=\"darkblue\" stroke-width=\"0.6400000000000001\" stroke-linecap=\"butt\" class=\"arrow\" /><polygon points=\"56.715541752799936,118.56891649440013 63.155417527999326,108.3724465170011 61.00879226959953,107.29913388780119\" fill=\"darkblue\" class=\"arrow\" /><line x1=\"56.0\" y1=\"120.0\" x2=\"75.83579020240114\" y2=\"110.08210489879943\" stroke=\"darkblue\" stroke-width=\"0.6400000000000001\" stroke-linecap=\"butt\" class=\"arrow\" /><polygon points=\"86.56891649440013,104.71554175279994 75.29913388780119,109.00879226959952 76.3724465170011,111.15541752799933\" fill=\"darkblue\" class=\"arrow\" /><line x1=\"88.0\" y1=\"104.0\" x2=\"107.83579020240114\" y2=\"113.91789510120057\" stroke=\"darkblue\" stroke-width=\"0.6400000000000001\" stroke-linecap=\"butt\" class=\"arrow\" /><polygon points=\"118.56891649440013,119.28445824720006 108.3724465170011,112.84458247200067 107.29913388780119,114.99120773040048\" fill=\"darkblue\" class=\"arrow\" /><line x1=\"120.0\" y1=\"120.0\" x2=\"110.08210489879943\" y2=\"100.16420979759886\" stroke=\"darkblue\" stroke-width=\"0.6400000000000001\" stroke-linecap=\"butt\" class=\"arrow\" /><polygon points=\"104.71554175279994,89.43108350559987 109.00879226959952,100.70086611219881 111.15541752799933,99.6275534829989\" fill=\"darkblue\" class=\"arrow\" /><line x1=\"104.0\" y1=\"88.0\" x2=\"84.16420979759886\" y2=\"97.91789510120057\" stroke=\"darkblue\" stroke-width=\"0.6400000000000001\" stroke-linecap=\"butt\" class=\"arrow\" /><polygon points=\"73.43108350559987,103.28445824720006 84.70086611219881,98.99120773040048 83.6275534829989,96.84458247200067\" fill=\"darkblue\" class=\"arrow\" /><line x1=\"72.0\" y1=\"104.0\" x2=\"81.91789510120057\" y2=\"84.16420979759886\" stroke=\"darkblue\" stroke-width=\"0.6400000000000001\" stroke-linecap=\"butt\" class=\"arrow\" /><polygon points=\"87.28445824720006,73.43108350559987 80.84458247200067,83.6275534829989 82.99120773040048,84.70086611219881\" fill=\"darkblue\" class=\"arrow\" /><line x1=\"88.0\" y1=\"72.0\" x2=\"107.83579020240114\" y2=\"81.91789510120057\" stroke=\"darkblue\" stroke-width=\"0.6400000000000001\" stroke-linecap=\"butt\" class=\"arrow\" /><polygon points=\"118.56891649440013,87.28445824720006 108.3724465170011,80.84458247200067 107.29913388780119,82.99120773040048\" fill=\"darkblue\" class=\"arrow\" /><line x1=\"120.0\" y1=\"88.0\" x2=\"110.08210489879943\" y2=\"107.83579020240114\" stroke=\"darkblue\" stroke-width=\"0.6400000000000001\" stroke-linecap=\"butt\" class=\"arrow\" /><polygon points=\"104.71554175279994,118.56891649440013 111.15541752799933,108.3724465170011 109.00879226959952,107.29913388780119\" fill=\"darkblue\" class=\"arrow\" /></svg></div>"
      ],
      "text/plain": [
       "<chess_problem_visuals.board.Board at 0x113817920>"
      ]
     },
     "execution_count": 17,
     "metadata": {},
     "output_type": "execute_result"
    }
   ],
   "source": [
    "show_solution(create_board(Solution))"
   ]
  },
  {
   "cell_type": "code",
   "execution_count": null,
   "id": "0eb8d8aa",
   "metadata": {},
   "outputs": [],
   "source": []
  }
 ],
 "metadata": {
  "kernelspec": {
   "display_name": "Python 3 (ipykernel)",
   "language": "python",
   "name": "python3"
  },
  "language_info": {
   "codemirror_mode": {
    "name": "ipython",
    "version": 3
   },
   "file_extension": ".py",
   "mimetype": "text/x-python",
   "name": "python",
   "nbconvert_exporter": "python",
   "pygments_lexer": "ipython3",
   "version": "3.12.2"
  }
 },
 "nbformat": 4,
 "nbformat_minor": 5
}
