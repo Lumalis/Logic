{
 "cells": [
  {
   "cell_type": "code",
   "execution_count": 1,
   "id": "84683fdc",
   "metadata": {},
   "outputs": [
    {
     "data": {
      "text/html": [
       "<link href='http://fonts.googleapis.com/css?family=Alegreya+Sans:100,300,400,500,700,800,900,100italic,300italic,400italic,500italic,700italic,800italic,900italic' rel='stylesheet' type='text/css'>\n",
       "<link href='http://fonts.googleapis.com/css?family=Arvo:400,700,400italic' rel='stylesheet' type='text/css'>\n",
       "<link href='http://fonts.googleapis.com/css?family=PT+Mono' rel='stylesheet' type='text/css'>\n",
       "<link href='http://fonts.googleapis.com/css?family=Shadows+Into+Light' rel='stylesheet' type='text/css'>\n",
       "<link href='http://fonts.googleapis.com/css?family=Philosopher:400,700,400italic,700italic' rel='stylesheet' type='text/css'>\n",
       "\n",
       "<style>\n",
       "\n",
       "@font-face {\n",
       "    font-family: \"Computer Modern\";\n",
       "    src: url('http://mirrors.ctan.org/fonts/cm-unicode/fonts/otf/cmunss.otf');\n",
       "}\n",
       "\n",
       ".container { width: 100% }\n",
       "\n",
       "/* Formatting for header cells */\n",
       ".text_cell_render h1 {\n",
       "    font-family: 'Philosopher', sans-serif;\n",
       "    font-weight: 400;\n",
       "    font-size: 2.2em;\n",
       "    line-height: 100%;\n",
       "    color: rgb(0, 80, 120);\n",
       "    margin-bottom: 0.1em;\n",
       "    margin-top: 0.1em;\n",
       "    display: block;\n",
       "}\t\n",
       ".text_cell_render h2 {\n",
       "    font-family: 'Philosopher', serif;\n",
       "    font-weight: 400;\n",
       "    font-size: 1.9em;\n",
       "    line-height: 100%;\n",
       "    color: rgb(200,100,0);\n",
       "    margin-bottom: 0.1em;\n",
       "    margin-top: 0.1em;\n",
       "    display: block;\n",
       "}\t\n",
       "\n",
       ".text_cell_render h3 {\n",
       "    font-family: 'Philosopher', serif;\n",
       "    margin-top:12px;\n",
       "    margin-bottom: 3px;\n",
       "    font-style: italic;\n",
       "    color: rgb(94,127,192);\n",
       "}\n",
       "\n",
       ".text_cell_render h4 {\n",
       "    font-family: 'Philosopher', serif;\n",
       "}\n",
       "\n",
       ".text_cell_render h5 {\n",
       "    font-family: 'Alegreya Sans', sans-serif;\n",
       "    font-weight: 300;\n",
       "    font-size: 16pt;\n",
       "    color: grey;\n",
       "    font-style: italic;\n",
       "    margin-bottom: .1em;\n",
       "    margin-top: 0.1em;\n",
       "    display: block;\n",
       "}\n",
       "\n",
       ".text_cell_render h6 {\n",
       "    font-family: 'PT Mono', sans-serif;\n",
       "    font-weight: 300;\n",
       "    font-size: 10pt;\n",
       "    color: grey;\n",
       "    margin-bottom: 1px;\n",
       "    margin-top: 1px;\n",
       "}\n",
       "\n",
       ".text_cell_render em {\n",
       "    font-family: 'Philosopher', sans-serif;\n",
       "    color:        blue;\n",
       "    background-color: rgb(255,220,180);\n",
       "    font-size:    110%;\n",
       "    margin-left:   2px;\n",
       "    margin-right:  2px;\n",
       "    font-weight:   100;\n",
       "}\n",
       "\n",
       ".text_cell_render b {\n",
       "    color:            rgb(255,195,195);\n",
       "    background-color: rgb(0,0,0);\n",
       "    font-size:    110%;\n",
       "    margin-left:   2px;\n",
       "    margin-right:  2px;\n",
       "    font-weight:   650;\n",
       "}\n",
       "\n",
       ".text_cell_render tt {\n",
       "    font-size:    120%;\n",
       "    margin-left:   2px;\n",
       "    margin-right:  2px;\n",
       "    font-weight:   150;\n",
       "}\n",
       "\n",
       ".Codemirror {\n",
       "    font-family: \"PT Mono\";\n",
       "    font-size: 100%;\n",
       "}\n",
       "\n",
       "</style>\n",
       "\n"
      ],
      "text/plain": [
       "<IPython.core.display.HTML object>"
      ]
     },
     "execution_count": 1,
     "metadata": {},
     "output_type": "execute_result"
    }
   ],
   "source": [
    "from IPython.core.display import HTML\n",
    "with open('../style.css') as f:\n",
    "    css = f.read()\n",
    "HTML(css)"
   ]
  },
  {
   "cell_type": "markdown",
   "id": "939d0df0",
   "metadata": {},
   "source": [
    "# Solving a Quadratic Equation with `Z3`.\n",
    "\n",
    "In this notebook we are going to solve the following exercise using the constraint solver `Z3`.\n",
    "*  A train travels at a uniform speed for 360 miles.  \n",
    "*  The train would have taken 48 minutes less to travel the same distance \n",
    "   if it had been faster by 5 miles per hour.\n",
    "\n",
    "**Find the speed of the train!**"
   ]
  },
  {
   "cell_type": "markdown",
   "id": "db7d38ac",
   "metadata": {},
   "source": [
    "**Hints**\n",
    "\n",
    "* As the speed is a real number you should declare this variable via the `Z3` function `Real` instead of using\n",
    "  the function `Int`.\n",
    "* When you formulate the information given above, you will get a system of *non-linear* equations,\n",
    "  which is equivalent to a quadratic equation.  This quadratic equation has two different solutions.\n",
    "  One of these solutions is negative.  In order to exclude the negative solution you need to add a\n",
    "  constraint stating that the speed of the train has to be greater than zero."
   ]
  },
  {
   "cell_type": "code",
   "execution_count": null,
   "id": "82c55835",
   "metadata": {},
   "outputs": [],
   "source": [
    "!pip install z3-solver"
   ]
  },
  {
   "cell_type": "markdown",
   "id": "c4bbf097",
   "metadata": {},
   "source": [
    "Next, we import the Python API of `Z3`. "
   ]
  },
  {
   "cell_type": "code",
   "execution_count": null,
   "id": "174da55b",
   "metadata": {},
   "outputs": [],
   "source": [
    "import z3"
   ]
  },
  {
   "cell_type": "markdown",
   "id": "7337a62e",
   "metadata": {},
   "source": [
    "In `Z3`, every variable has to be declared.  In this case, all our variables are integer valued.  The function `Real(v)` declares a variable with the name `v` that can take real numbers as values. "
   ]
  },
  {
   "cell_type": "code",
   "execution_count": null,
   "id": "da6dd4d0",
   "metadata": {},
   "outputs": [],
   "source": [
    "\"your code here\""
   ]
  },
  {
   "cell_type": "markdown",
   "id": "c2625602",
   "metadata": {},
   "source": [
    "Next, we create a *solver* object."
   ]
  },
  {
   "cell_type": "code",
   "execution_count": null,
   "id": "211739d3",
   "metadata": {},
   "outputs": [],
   "source": [
    "S = z3.Solver()"
   ]
  },
  {
   "cell_type": "markdown",
   "id": "da3792d0",
   "metadata": {},
   "source": [
    "We can add constraints to this solver object via the method `add`.  There are two constraints:\n",
    "* A train travels at a uniform speed for 360 miles.  \n",
    "*  The train would have taken 48 minutes less to travel the same distance \n",
    "   if it had been faster by 5 miles per hour."
   ]
  },
  {
   "cell_type": "code",
   "execution_count": null,
   "id": "60da9c3e",
   "metadata": {},
   "outputs": [],
   "source": [
    "\"your code here\""
   ]
  },
  {
   "cell_type": "markdown",
   "id": "b5c45e51",
   "metadata": {},
   "source": [
    "The method `check` examines whether the given set of constraints is satisfiable.\n",
    "In general, it can return one of the following results:\n",
    "- `sat`   is returned if the problem is solvable, (`sat` is short for *satisfiable*)\n",
    "- `unsat` is returned if the problem is unsatisfiable,\n",
    "- `unknown` is returned if the constraint solver is not powerful enough to solve the given problem."
   ]
  },
  {
   "cell_type": "code",
   "execution_count": null,
   "id": "ae45fd4e",
   "metadata": {},
   "outputs": [],
   "source": [
    "S.check()"
   ]
  },
  {
   "cell_type": "markdown",
   "id": "a30cfba0",
   "metadata": {},
   "source": [
    "To extract the solution of the given problem we use the method `model`."
   ]
  },
  {
   "cell_type": "code",
   "execution_count": null,
   "id": "95f5b419",
   "metadata": {},
   "outputs": [],
   "source": [
    "solution = S.model()\n",
    "solution"
   ]
  },
  {
   "cell_type": "code",
   "execution_count": null,
   "id": "7406526d",
   "metadata": {},
   "outputs": [],
   "source": [
    "s = solution[speed]"
   ]
  },
  {
   "cell_type": "code",
   "execution_count": null,
   "id": "e1f0f5eb",
   "metadata": {},
   "outputs": [],
   "source": [
    "print(f'The speed of the train is {s} miles per hour.')"
   ]
  },
  {
   "cell_type": "code",
   "execution_count": null,
   "id": "8596c24c",
   "metadata": {},
   "outputs": [],
   "source": []
  }
 ],
 "metadata": {
  "kernelspec": {
   "display_name": "Python 3 (ipykernel)",
   "language": "python",
   "name": "python3"
  },
  "language_info": {
   "codemirror_mode": {
    "name": "ipython",
    "version": 3
   },
   "file_extension": ".py",
   "mimetype": "text/x-python",
   "name": "python",
   "nbconvert_exporter": "python",
   "pygments_lexer": "ipython3",
   "version": "3.10.11"
  }
 },
 "nbformat": 4,
 "nbformat_minor": 5
}
