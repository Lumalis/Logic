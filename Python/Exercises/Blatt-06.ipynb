{
 "cells": [
  {
   "cell_type": "code",
   "execution_count": 1,
   "metadata": {},
   "outputs": [
    {
     "data": {
      "text/html": [
       "<link href='http://fonts.googleapis.com/css?family=Alegreya+Sans:100,300,400,500,700,800,900,100italic,300italic,400italic,500italic,700italic,800italic,900italic' rel='stylesheet' type='text/css'>\n",
       "<link href='http://fonts.googleapis.com/css?family=Arvo:400,700,400italic' rel='stylesheet' type='text/css'>\n",
       "<link href='http://fonts.googleapis.com/css?family=PT+Mono' rel='stylesheet' type='text/css'>\n",
       "<link href='http://fonts.googleapis.com/css?family=Shadows+Into+Light' rel='stylesheet' type='text/css'>\n",
       "<link href='http://fonts.googleapis.com/css?family=Philosopher:400,700,400italic,700italic' rel='stylesheet' type='text/css'>\n",
       "\n",
       "<style>\n",
       "\n",
       "@font-face {\n",
       "    font-family: \"Computer Modern\";\n",
       "    src: url('http://mirrors.ctan.org/fonts/cm-unicode/fonts/otf/cmunss.otf');\n",
       "}\n",
       "\n",
       ".container { width: 100% }\n",
       "\n",
       "/* Formatting for header cells */\n",
       ".text_cell_render h1 {\n",
       "    font-family: 'Philosopher', sans-serif;\n",
       "    font-weight: 400;\n",
       "    font-size: 2.2em;\n",
       "    line-height: 100%;\n",
       "    color: rgb(0, 80, 120);\n",
       "    margin-bottom: 0.1em;\n",
       "    margin-top: 0.1em;\n",
       "    display: block;\n",
       "}\t\n",
       ".text_cell_render h2 {\n",
       "    font-family: 'Philosopher', serif;\n",
       "    font-weight: 400;\n",
       "    font-size: 1.9em;\n",
       "    line-height: 100%;\n",
       "    color: rgb(200,100,0);\n",
       "    margin-bottom: 0.1em;\n",
       "    margin-top: 0.1em;\n",
       "    display: block;\n",
       "}\t\n",
       "\n",
       ".text_cell_render h3 {\n",
       "    font-family: 'Philosopher', serif;\n",
       "    margin-top:12px;\n",
       "    margin-bottom: 3px;\n",
       "    font-style: italic;\n",
       "    color: rgb(94,127,192);\n",
       "}\n",
       "\n",
       ".text_cell_render h4 {\n",
       "    font-family: 'Philosopher', serif;\n",
       "}\n",
       "\n",
       ".text_cell_render h5 {\n",
       "    font-family: 'Alegreya Sans', sans-serif;\n",
       "    font-weight: 300;\n",
       "    font-size: 16pt;\n",
       "    color: grey;\n",
       "    font-style: italic;\n",
       "    margin-bottom: .1em;\n",
       "    margin-top: 0.1em;\n",
       "    display: block;\n",
       "}\n",
       "\n",
       ".text_cell_render h6 {\n",
       "    font-family: 'PT Mono', sans-serif;\n",
       "    font-weight: 300;\n",
       "    font-size: 10pt;\n",
       "    color: grey;\n",
       "    margin-bottom: 1px;\n",
       "    margin-top: 1px;\n",
       "}\n",
       "\n",
       ".text_cell_render em {\n",
       "    font-family: 'Philosopher', sans-serif;\n",
       "    color:        blue;\n",
       "    background-color: rgb(255,220,180);\n",
       "    font-size:    110%;\n",
       "    margin-left:   2px;\n",
       "    margin-right:  2px;\n",
       "    font-weight:   100;\n",
       "}\n",
       "\n",
       ".text_cell_render b {\n",
       "    color:            rgb(255,195,195);\n",
       "    background-color: rgb(0,0,0);\n",
       "    font-size:    110%;\n",
       "    margin-left:   2px;\n",
       "    margin-right:  2px;\n",
       "    font-weight:   650;\n",
       "}\n",
       "\n",
       ".text_cell_render tt {\n",
       "    font-size:    120%;\n",
       "    margin-left:   2px;\n",
       "    margin-right:  2px;\n",
       "    font-weight:   150;\n",
       "}\n",
       "\n",
       ".Codemirror {\n",
       "    font-family: \"PT Mono\";\n",
       "    font-size: 100%;\n",
       "}\n",
       "\n",
       "</style>\n",
       "\n"
      ],
      "text/plain": [
       "<IPython.core.display.HTML object>"
      ]
     },
     "execution_count": 1,
     "metadata": {},
     "output_type": "execute_result"
    }
   ],
   "source": [
    "from IPython.core.display import HTML\n",
    "with open('style.css', 'r') as file:\n",
    "    css = file.read()\n",
    "HTML(css)"
   ]
  },
  {
   "cell_type": "markdown",
   "metadata": {},
   "source": [
    "# The $3 \\times 3$ Sliding Puzzle"
   ]
  },
  {
   "cell_type": "markdown",
   "metadata": {},
   "source": [
    "<img src=\"8-puzzle.png\">"
   ]
  },
  {
   "cell_type": "markdown",
   "metadata": {},
   "source": [
    "The picture above shows an instance of the $3 \\times 3$ \n",
    "<a href=\"https://en.wikipedia.org/wiki/Sliding_puzzle\">sliding puzzle</a>:\n",
    "There is a board of size $3 \\times 3$ with 8 tiles on it. These tiles are numbered with digits from the set $\\{1,\\cdots, 8\\}$.  As the the $3 \\times 3$ board has an area of $9$ but there are only $8$ tiles, there is an empty square on the board.  Tiles adjacent to the empty square can be moved into the square, thereby emptying the space that was previously occupied by theses tiles.  The goal of the $3 \\times 3$ puzzle is to transform the state shown on the left of the picture above into the state shown on the right.\n",
    "\n",
    "In order to get an idea of the sliding puzzle, you can play it online at \n",
    "<a href=\"https://www.helpfulgames.com/subjects/brain-training/sliding-puzzle.html\">https://www.helpfulgames.com/subjects/brain-training/sliding-puzzle.html</a>."
   ]
  },
  {
   "cell_type": "markdown",
   "metadata": {},
   "source": [
    "## Utilities to Display the Solution"
   ]
  },
  {
   "cell_type": "markdown",
   "metadata": {},
   "source": [
    "We use a different color for each tile."
   ]
  },
  {
   "cell_type": "code",
   "execution_count": 2,
   "metadata": {},
   "outputs": [],
   "source": [
    "Colors = ['white', 'lightblue', 'pink', 'magenta', \n",
    "          'orange', 'red', 'yellow', 'lightgreen', 'salmon'\n",
    "         ]"
   ]
  },
  {
   "cell_type": "code",
   "execution_count": 3,
   "metadata": {},
   "outputs": [],
   "source": [
    "def get_style(n):\n",
    "    return 'background-color: ' + Colors[n] + ';\">'"
   ]
  },
  {
   "cell_type": "code",
   "execution_count": 4,
   "metadata": {},
   "outputs": [],
   "source": [
    "CSS_Table = { 'border'      : '2px solid darkblue',\n",
    "              'border-style': 'double',\n",
    "              'border-width': '4px'\n",
    "            }"
   ]
  },
  {
   "cell_type": "code",
   "execution_count": 5,
   "metadata": {},
   "outputs": [],
   "source": [
    "CSS_TD = { 'border'      : '2px solid black', \n",
    "           'border-style': 'groove',\n",
    "           'border-width': '8px',\n",
    "           'padding'     : '15px',\n",
    "           'font-size'   : '150%', \n",
    "         }"
   ]
  },
  {
   "cell_type": "code",
   "execution_count": 6,
   "metadata": {},
   "outputs": [],
   "source": [
    "def css_style(Dictionary):\n",
    "    result = ''\n",
    "    for k, v in Dictionary.items():\n",
    "        result += k + ':' + v + ';'\n",
    "    return result"
   ]
  },
  {
   "cell_type": "markdown",
   "metadata": {},
   "source": [
    "The function `state_to_html` displays a given state as an `Html` tabel."
   ]
  },
  {
   "cell_type": "code",
   "execution_count": 7,
   "metadata": {},
   "outputs": [],
   "source": [
    "def state_to_html(State):\n",
    "    result = '<table style=\"' + css_style(CSS_Table) + '\">\\n'\n",
    "    for row in State:\n",
    "        result += '<tr>'\n",
    "        for number in row:\n",
    "            result += '<td style=\"' + css_style(CSS_TD)\n",
    "            if number > 0:\n",
    "                result += get_style(number) + str(number)\n",
    "            else:\n",
    "                result += get_style(number)\n",
    "            result += '</td>'\n",
    "        result += '</tr>\\n'\n",
    "    result += '</table>'\n",
    "    return result"
   ]
  },
  {
   "cell_type": "markdown",
   "metadata": {},
   "source": [
    "Given a non-empty set `S`, the function `arb` returns an arbitrary element of `S`.\n",
    "The set `S` is left unchanged."
   ]
  },
  {
   "cell_type": "code",
   "execution_count": 8,
   "metadata": {},
   "outputs": [],
   "source": [
    "def arb(S):\n",
    "    for x in S:\n",
    "        return x"
   ]
  },
  {
   "cell_type": "code",
   "execution_count": 9,
   "metadata": {},
   "outputs": [],
   "source": [
    "%run Breadth-First-Fast.ipynb"
   ]
  },
  {
   "cell_type": "markdown",
   "metadata": {},
   "source": [
    "## Problem Specific Code"
   ]
  },
  {
   "cell_type": "markdown",
   "metadata": {},
   "source": [
    "We will represent states as tuples of tuples.  For example, the start state that is shown in the picture at the beginnning of this notebook is represented as follows:"
   ]
  },
  {
   "cell_type": "code",
   "execution_count": 10,
   "metadata": {},
   "outputs": [],
   "source": [
    "start = ((8, 0, 6),\n",
    "         (5, 4, 7),\n",
    "         (2, 3, 1)\n",
    "        )"
   ]
  },
  {
   "cell_type": "markdown",
   "metadata": {},
   "source": [
    "Note that the empty tile is represented by the digit $0$.  "
   ]
  },
  {
   "cell_type": "markdown",
   "metadata": {},
   "source": [
    "**Exercise 1**: Define the goal state below."
   ]
  },
  {
   "cell_type": "code",
   "execution_count": 11,
   "metadata": {},
   "outputs": [],
   "source": [
    "goal = \"your code here\""
   ]
  },
  {
   "cell_type": "markdown",
   "metadata": {},
   "source": [
    "**Exercise 2:** \n",
    "The function $\\texttt{findZero}(S)$ takes a state $S$ and returns a pair $(r, c)$ that specifies the row and the column of the blank in the state $S$.  For example, we should have:\n",
    "$$ \\texttt{findZero}(\\texttt{start}) = (0, 1) \\quad\\mbox{and}\\quad \n",
    "   \\texttt{findZero}(\\texttt{goal}) = (0, 0) \n",
    "$$"
   ]
  },
  {
   "cell_type": "code",
   "execution_count": 12,
   "metadata": {},
   "outputs": [],
   "source": [
    "def findZero(State):\n",
    "    \"your code here\""
   ]
  },
  {
   "cell_type": "code",
   "execution_count": 13,
   "metadata": {},
   "outputs": [],
   "source": [
    "findZero(start)"
   ]
  },
  {
   "cell_type": "code",
   "execution_count": 14,
   "metadata": {},
   "outputs": [],
   "source": [
    "findZero(goal)"
   ]
  },
  {
   "cell_type": "markdown",
   "metadata": {},
   "source": [
    "We have to represent states as tuples of tuples in order to be able to insert them into sets.  However, as tuples are immutable, we need to be able to convert them to lists in order to change them.  The function $\\texttt{listOfLists}(S)$ takes a state $S$ and transforms it into a list of lists."
   ]
  },
  {
   "cell_type": "code",
   "execution_count": 15,
   "metadata": {},
   "outputs": [],
   "source": [
    "def listOfLists(S):\n",
    "    'Transform a tuple of tuples into a list of lists.'\n",
    "    return [ [x for x in row] for row in S ]"
   ]
  },
  {
   "cell_type": "code",
   "execution_count": 16,
   "metadata": {},
   "outputs": [
    {
     "data": {
      "text/plain": [
       "[[8, 0, 6], [5, 4, 7], [2, 3, 1]]"
      ]
     },
     "execution_count": 16,
     "metadata": {},
     "output_type": "execute_result"
    }
   ],
   "source": [
    "listOfLists(start)"
   ]
  },
  {
   "cell_type": "markdown",
   "metadata": {},
   "source": [
    "As lists can not be inserted into sets, we also need a function that takes a list of list and transforms it back into a tuple of tuple."
   ]
  },
  {
   "cell_type": "code",
   "execution_count": 17,
   "metadata": {},
   "outputs": [],
   "source": [
    "def tupleOfTuples(S):\n",
    "    'Transform a list of lists into a tuple of tuples.'\n",
    "    return tuple(tuple(x for x in row) for row in S)"
   ]
  },
  {
   "cell_type": "code",
   "execution_count": 18,
   "metadata": {},
   "outputs": [
    {
     "data": {
      "text/plain": [
       "((8, 0, 6), (5, 4, 7), (2, 3, 1))"
      ]
     },
     "execution_count": 18,
     "metadata": {},
     "output_type": "execute_result"
    }
   ],
   "source": [
    "tupleOfTuples([[8, 0, 6], [5, 4, 7], [2, 3, 1]])"
   ]
  },
  {
   "cell_type": "markdown",
   "metadata": {},
   "source": [
    "**Exercise 3**: Implement a function $\\texttt{moveUp}(S, r, c)$ that computes the state that results from moving the tile below the blank space **up** in state $S$.  The variables $r$ and $c$ specify the location of the *row* and *column* of the blank tile.  Therefore we have $S[r][c] = 0$.\n",
    "\n",
    "In your implementation you may assume that there is indeed a tile below the blank space, i.e. we have $r < 2$.  "
   ]
  },
  {
   "cell_type": "code",
   "execution_count": 19,
   "metadata": {},
   "outputs": [],
   "source": [
    "def moveUp(S, r, c):\n",
    "    'Move the tile below the blank up.'\n",
    "    \"your code here\""
   ]
  },
  {
   "cell_type": "code",
   "execution_count": 20,
   "metadata": {},
   "outputs": [
    {
     "data": {
      "text/html": [
       "<table style=\"border:2px solid darkblue;border-style:double;border-width:4px;\">\n",
       "<tr><td style=\"border:2px solid black;border-style:groove;border-width:8px;padding:15px;font-size:150%;background-color: salmon;\">8</td><td style=\"border:2px solid black;border-style:groove;border-width:8px;padding:15px;font-size:150%;background-color: white;\"></td><td style=\"border:2px solid black;border-style:groove;border-width:8px;padding:15px;font-size:150%;background-color: yellow;\">6</td></tr>\n",
       "<tr><td style=\"border:2px solid black;border-style:groove;border-width:8px;padding:15px;font-size:150%;background-color: red;\">5</td><td style=\"border:2px solid black;border-style:groove;border-width:8px;padding:15px;font-size:150%;background-color: orange;\">4</td><td style=\"border:2px solid black;border-style:groove;border-width:8px;padding:15px;font-size:150%;background-color: lightgreen;\">7</td></tr>\n",
       "<tr><td style=\"border:2px solid black;border-style:groove;border-width:8px;padding:15px;font-size:150%;background-color: pink;\">2</td><td style=\"border:2px solid black;border-style:groove;border-width:8px;padding:15px;font-size:150%;background-color: magenta;\">3</td><td style=\"border:2px solid black;border-style:groove;border-width:8px;padding:15px;font-size:150%;background-color: lightblue;\">1</td></tr>\n",
       "</table>"
      ],
      "text/plain": [
       "<IPython.core.display.HTML object>"
      ]
     },
     "execution_count": 20,
     "metadata": {},
     "output_type": "execute_result"
    }
   ],
   "source": [
    "HTML(state_to_html(start))"
   ]
  },
  {
   "cell_type": "code",
   "execution_count": 21,
   "metadata": {},
   "outputs": [
    {
     "ename": "TypeError",
     "evalue": "'NoneType' object is not iterable",
     "output_type": "error",
     "traceback": [
      "\u001b[1;31m---------------------------------------------------------------------------\u001b[0m",
      "\u001b[1;31mTypeError\u001b[0m                                 Traceback (most recent call last)",
      "Input \u001b[1;32mIn [21]\u001b[0m, in \u001b[0;36m<cell line: 1>\u001b[1;34m()\u001b[0m\n\u001b[1;32m----> 1\u001b[0m HTML(\u001b[43mstate_to_html\u001b[49m\u001b[43m(\u001b[49m\u001b[43mmoveUp\u001b[49m\u001b[43m(\u001b[49m\u001b[43mstart\u001b[49m\u001b[43m,\u001b[49m\u001b[43m \u001b[49m\u001b[38;5;241;43m0\u001b[39;49m\u001b[43m,\u001b[49m\u001b[43m \u001b[49m\u001b[38;5;241;43m1\u001b[39;49m\u001b[43m)\u001b[49m\u001b[43m)\u001b[49m)\n",
      "Input \u001b[1;32mIn [7]\u001b[0m, in \u001b[0;36mstate_to_html\u001b[1;34m(State)\u001b[0m\n\u001b[0;32m      1\u001b[0m \u001b[38;5;28;01mdef\u001b[39;00m \u001b[38;5;21mstate_to_html\u001b[39m(State):\n\u001b[0;32m      2\u001b[0m     result \u001b[38;5;241m=\u001b[39m \u001b[38;5;124m'\u001b[39m\u001b[38;5;124m<table style=\u001b[39m\u001b[38;5;124m\"\u001b[39m\u001b[38;5;124m'\u001b[39m \u001b[38;5;241m+\u001b[39m css_style(CSS_Table) \u001b[38;5;241m+\u001b[39m \u001b[38;5;124m'\u001b[39m\u001b[38;5;124m\"\u001b[39m\u001b[38;5;124m>\u001b[39m\u001b[38;5;130;01m\\n\u001b[39;00m\u001b[38;5;124m'\u001b[39m\n\u001b[1;32m----> 3\u001b[0m     \u001b[38;5;28;01mfor\u001b[39;00m row \u001b[38;5;129;01min\u001b[39;00m State:\n\u001b[0;32m      4\u001b[0m         result \u001b[38;5;241m+\u001b[39m\u001b[38;5;241m=\u001b[39m \u001b[38;5;124m'\u001b[39m\u001b[38;5;124m<tr>\u001b[39m\u001b[38;5;124m'\u001b[39m\n\u001b[0;32m      5\u001b[0m         \u001b[38;5;28;01mfor\u001b[39;00m number \u001b[38;5;129;01min\u001b[39;00m row:\n",
      "\u001b[1;31mTypeError\u001b[0m: 'NoneType' object is not iterable"
     ]
    }
   ],
   "source": [
    "HTML(state_to_html(moveUp(start, 0, 1)))"
   ]
  },
  {
   "cell_type": "markdown",
   "metadata": {},
   "source": [
    "**Exercise 4**: Implement a function $\\texttt{moveDown}(S, r, c)$ that computes the state that results from moving the tile below the blank space **down** in state $S$.  The variables $r$ and $c$ specify the location of the *row* and *column* of the blank tile.  Therefore we have $S[r][c] = 0$.\n",
    "\n",
    "In your implementation you may assume that there is indeed a tile above the blank space, i.e. we have $r > 0$.  "
   ]
  },
  {
   "cell_type": "code",
   "execution_count": null,
   "metadata": {},
   "outputs": [],
   "source": [
    "def moveDown(S, r, c):\n",
    "    'Move the tile above the blank down.'\n",
    "    \"your code here\""
   ]
  },
  {
   "cell_type": "markdown",
   "metadata": {},
   "source": [
    "**Exercise 5:**\n",
    "Similarly to the previous exercise, implement functions $\\texttt{moveRight}(S, r, c)$ and $\\texttt{moveLeft}(S, r, c)$."
   ]
  },
  {
   "cell_type": "code",
   "execution_count": null,
   "metadata": {},
   "outputs": [],
   "source": [
    "def moveRight(S, r, c):\n",
    "    'Move the tile left of the blank to the right.'\n",
    "    \"your code here\""
   ]
  },
  {
   "cell_type": "code",
   "execution_count": null,
   "metadata": {},
   "outputs": [],
   "source": [
    "def moveLeft(S, r, c):\n",
    "    'Move the tile right of the blank to the left.'\n",
    "    \"your code here\""
   ]
  },
  {
   "cell_type": "markdown",
   "metadata": {},
   "source": [
    "**Exercise 6:**. Implement a function $\\texttt{nextStates}(S)$ that takes a state $S$ represented as a tuple of tuple and that computes the set of states that are reachable from $S$ in one step.  Remember to use the previously defined functions `findZero`, `moveUp`, $\\cdots$, `moveLeft`.  However, when you do use the function `moveUp`, then you should also check that it is possible to move a tile up."
   ]
  },
  {
   "cell_type": "code",
   "execution_count": null,
   "metadata": {},
   "outputs": [],
   "source": [
    "def nextStates(State):\n",
    "    'Compute the set of states reachable in one step from the state S.'\n",
    "    \"your code here\""
   ]
  },
  {
   "cell_type": "code",
   "execution_count": null,
   "metadata": {},
   "outputs": [],
   "source": [
    "nextStates(start)"
   ]
  },
  {
   "cell_type": "markdown",
   "metadata": {},
   "source": [
    "The following computation takes about 3 seconds on my desktop computer, which has an *AMD Ryzen Threadripper PRO 3955WX* processor with 16 cores.  (It takes 9 seconds on my old iMac which has an 3,4 GHz Quad-Core *Intel Core i5 (7500)* prozessor."
   ]
  },
  {
   "cell_type": "code",
   "execution_count": null,
   "metadata": {},
   "outputs": [],
   "source": [
    "%%time\n",
    "Path = search(nextStates, start, goal)"
   ]
  },
  {
   "cell_type": "markdown",
   "metadata": {},
   "source": [
    "The tuple Path that is a solution to the sliding problem has a length of **32**.  If your path is shorter, then you have to inspect it carefully to identify the problem.  In order to do this, use the function <tt>printPath</tt> that is implemented at the bottom of this notebook."
   ]
  },
  {
   "cell_type": "code",
   "execution_count": null,
   "metadata": {},
   "outputs": [],
   "source": [
    "len(Path)"
   ]
  },
  {
   "cell_type": "markdown",
   "metadata": {},
   "source": [
    "Print the solution via `HTML` tables."
   ]
  },
  {
   "cell_type": "code",
   "execution_count": null,
   "metadata": {
    "scrolled": false
   },
   "outputs": [],
   "source": [
    "for State in Path:\n",
    "    display(HTML(state_to_html(State)))"
   ]
  },
  {
   "cell_type": "code",
   "execution_count": null,
   "metadata": {},
   "outputs": [],
   "source": []
  }
 ],
 "metadata": {
  "hide_input": false,
  "kernelspec": {
   "display_name": "Python 3 (ipykernel)",
   "language": "python",
   "name": "python3"
  },
  "language_info": {
   "codemirror_mode": {
    "name": "ipython",
    "version": 3
   },
   "file_extension": ".py",
   "mimetype": "text/x-python",
   "name": "python",
   "nbconvert_exporter": "python",
   "pygments_lexer": "ipython3",
   "version": "3.9.11"
  },
  "toc": {
   "base_numbering": 1,
   "nav_menu": {},
   "number_sections": true,
   "sideBar": true,
   "skip_h1_title": false,
   "title_cell": "Table of Contents",
   "title_sidebar": "Contents",
   "toc_cell": false,
   "toc_position": {},
   "toc_section_display": true,
   "toc_window_display": false
  },
  "varInspector": {
   "cols": {
    "lenName": 16,
    "lenType": 16,
    "lenVar": 40
   },
   "kernels_config": {
    "python": {
     "delete_cmd_postfix": "",
     "delete_cmd_prefix": "del ",
     "library": "var_list.py",
     "varRefreshCmd": "print(var_dic_list())"
    },
    "r": {
     "delete_cmd_postfix": ") ",
     "delete_cmd_prefix": "rm(",
     "library": "var_list.r",
     "varRefreshCmd": "cat(var_dic_list()) "
    }
   },
   "types_to_exclude": [
    "module",
    "function",
    "builtin_function_or_method",
    "instance",
    "_Feature"
   ],
   "window_display": false
  }
 },
 "nbformat": 4,
 "nbformat_minor": 2
}
