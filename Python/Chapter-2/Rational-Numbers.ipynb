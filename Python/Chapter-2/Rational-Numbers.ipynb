{
 "cells": [
  {
   "cell_type": "code",
   "execution_count": null,
   "id": "322da798-69d6-4276-9b8a-c4c902af8a30",
   "metadata": {},
   "outputs": [],
   "source": [
    "%load_ext nb_mypy"
   ]
  },
  {
   "cell_type": "markdown",
   "id": "143c3972-e6d3-468e-be3c-a6547a329366",
   "metadata": {},
   "source": [
    "# The Set $\\mathbb{Q}$ is Countable"
   ]
  },
  {
   "cell_type": "code",
   "execution_count": null,
   "id": "7f96fbab-c18c-4364-9e15-eef5857eeea3",
   "metadata": {},
   "outputs": [],
   "source": [
    "from fractions import Fraction"
   ]
  },
  {
   "cell_type": "code",
   "execution_count": null,
   "id": "90754e9d-84a6-4c7c-af8e-cca05206359f",
   "metadata": {},
   "outputs": [],
   "source": [
    "from typing import Generator, Tuple"
   ]
  },
  {
   "cell_type": "code",
   "execution_count": null,
   "id": "43eb8aeb-66dd-48fa-b81e-032b0e28a576",
   "metadata": {},
   "outputs": [],
   "source": [
    "def gcd(a: int, b: int) -> int:\n",
    "    if b == 0:\n",
    "        return a\n",
    "    return gcd(b, a % b)"
   ]
  },
  {
   "cell_type": "markdown",
   "id": "66687a3f-4573-4462-8679-56bb1854c391",
   "metadata": {},
   "source": [
    "The function `generate_rationals` is a generator that returns pairs of the form\n",
    "`(n, q)` where `n` is a natural number and `q` is the $n^\\mathrm{th}$ positive rational number."
   ]
  },
  {
   "cell_type": "code",
   "execution_count": null,
   "id": "5f769ad2-82e7-439f-9bca-73af855d1ac0",
   "metadata": {},
   "outputs": [],
   "source": [
    "def generate_rationals() -> Generator[Tuple[int, Fraction], None, None]:\n",
    "    sum = 1\n",
    "    cnt = 1\n",
    "    yield cnt, Fraction(0, 1)\n",
    "    sum += 1\n",
    "    cnt += 1\n",
    "    while True:\n",
    "        for numerator in range(1, sum):\n",
    "            denominator = sum - numerator\n",
    "            if gcd(numerator, denominator) == 1:\n",
    "                yield cnt, Fraction(numerator, denominator)\n",
    "                cnt += 1\n",
    "        sum += 1"
   ]
  },
  {
   "cell_type": "markdown",
   "id": "20eeadfd-c8b6-405d-99fc-1b431ddab739",
   "metadata": {},
   "source": [
    "The function `gen(cnt)` prints the first `cnt` rational numbers."
   ]
  },
  {
   "cell_type": "code",
   "execution_count": null,
   "id": "b6b7d889-467f-4ea5-b415-590f624c655c",
   "metadata": {},
   "outputs": [],
   "source": [
    "def gen(cnt: int) -> None:\n",
    "    g = generate_rationals()\n",
    "    for _ in range(cnt):\n",
    "        print(next(g))"
   ]
  },
  {
   "cell_type": "code",
   "execution_count": null,
   "id": "dec43223-ffa2-4d2e-8655-2e08cd900142",
   "metadata": {},
   "outputs": [],
   "source": [
    "gen(1000)"
   ]
  },
  {
   "cell_type": "code",
   "execution_count": null,
   "id": "c28e2d0e-948c-4b87-9bde-d366704f42d6",
   "metadata": {},
   "outputs": [],
   "source": []
  }
 ],
 "metadata": {
  "kernelspec": {
   "display_name": "Python 3 (ipykernel)",
   "language": "python",
   "name": "python3"
  },
  "language_info": {
   "codemirror_mode": {
    "name": "ipython",
    "version": 3
   },
   "file_extension": ".py",
   "mimetype": "text/x-python",
   "name": "python",
   "nbconvert_exporter": "python",
   "pygments_lexer": "ipython3",
   "version": "3.12.2"
  }
 },
 "nbformat": 4,
 "nbformat_minor": 5
}
