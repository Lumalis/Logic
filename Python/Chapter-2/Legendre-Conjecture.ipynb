{
 "cells": [
  {
   "cell_type": "code",
   "execution_count": 1,
   "metadata": {},
   "outputs": [
    {
     "data": {
      "text/html": [
       "<link href='http://fonts.googleapis.com/css?family=Alegreya+Sans:100,300,400,500,700,800,900,100italic,300italic,400italic,500italic,700italic,800italic,900italic' rel='stylesheet' type='text/css'>\n",
       "<link href='http://fonts.googleapis.com/css?family=Arvo:400,700,400italic' rel='stylesheet' type='text/css'>\n",
       "<link href='http://fonts.googleapis.com/css?family=PT+Mono' rel='stylesheet' type='text/css'>\n",
       "<link href='http://fonts.googleapis.com/css?family=Shadows+Into+Light' rel='stylesheet' type='text/css'>\n",
       "<link href='http://fonts.googleapis.com/css?family=Philosopher:400,700,400italic,700italic' rel='stylesheet' type='text/css'>\n",
       "\n",
       "<style>\n",
       "\n",
       "@font-face {\n",
       "    font-family: \"Computer Modern\";\n",
       "    src: url('http://mirrors.ctan.org/fonts/cm-unicode/fonts/otf/cmunss.otf');\n",
       "}\n",
       "\n",
       ".container { width: 100% }\n",
       "\n",
       "/* Formatting for header cells */\n",
       ".text_cell_render h1 {\n",
       "    font-family: 'Philosopher', sans-serif;\n",
       "    font-weight: 400;\n",
       "    font-size: 2.2em;\n",
       "    line-height: 100%;\n",
       "    color: rgb(0, 80, 120);\n",
       "    margin-bottom: 0.1em;\n",
       "    margin-top: 0.1em;\n",
       "    display: block;\n",
       "}\t\n",
       ".text_cell_render h2 {\n",
       "    font-family: 'Philosopher', serif;\n",
       "    font-weight: 400;\n",
       "    font-size: 1.9em;\n",
       "    line-height: 100%;\n",
       "    color: rgb(200,100,0);\n",
       "    margin-bottom: 0.1em;\n",
       "    margin-top: 0.1em;\n",
       "    display: block;\n",
       "}\t\n",
       "\n",
       ".text_cell_render h3 {\n",
       "    font-family: 'Philosopher', serif;\n",
       "    margin-top:12px;\n",
       "    margin-bottom: 3px;\n",
       "    font-style: italic;\n",
       "    color: rgb(94,127,192);\n",
       "}\n",
       "\n",
       ".text_cell_render h4 {\n",
       "    font-family: 'Philosopher', serif;\n",
       "}\n",
       "\n",
       ".text_cell_render h5 {\n",
       "    font-family: 'Alegreya Sans', sans-serif;\n",
       "    font-weight: 300;\n",
       "    font-size: 16pt;\n",
       "    color: grey;\n",
       "    font-style: italic;\n",
       "    margin-bottom: .1em;\n",
       "    margin-top: 0.1em;\n",
       "    display: block;\n",
       "}\n",
       "\n",
       ".text_cell_render h6 {\n",
       "    font-family: 'PT Mono', sans-serif;\n",
       "    font-weight: 300;\n",
       "    font-size: 10pt;\n",
       "    color: grey;\n",
       "    margin-bottom: 1px;\n",
       "    margin-top: 1px;\n",
       "}\n",
       "\n",
       ".text_cell_render em {\n",
       "    font-family: 'Philosopher', sans-serif;\n",
       "    color:        blue;\n",
       "    background-color: rgb(255,220,180);\n",
       "    font-size:    110%;\n",
       "    margin-left:   2px;\n",
       "    margin-right:  2px;\n",
       "    font-weight:   100;\n",
       "}\n",
       "\n",
       ".text_cell_render b {\n",
       "    color:            rgb(255,195,195);\n",
       "    background-color: rgb(0,0,0);\n",
       "    font-size:    110%;\n",
       "    margin-left:   2px;\n",
       "    margin-right:  2px;\n",
       "    font-weight:   650;\n",
       "}\n",
       "\n",
       ".text_cell_render tt {\n",
       "    font-size:    120%;\n",
       "    margin-left:   2px;\n",
       "    margin-right:  2px;\n",
       "    font-weight:   150;\n",
       "}\n",
       "\n",
       ".Codemirror {\n",
       "    font-family: \"PT Mono\";\n",
       "    font-size: 100%;\n",
       "}\n",
       "\n",
       "</style>\n",
       "\n"
      ],
      "text/plain": [
       "<IPython.core.display.HTML object>"
      ]
     },
     "execution_count": 1,
     "metadata": {},
     "output_type": "execute_result"
    }
   ],
   "source": [
    "from IPython.core.display import HTML\n",
    "with open ('../style.css', 'r') as file:\n",
    "    css = file.read()\n",
    "HTML(css)"
   ]
  },
  {
   "cell_type": "markdown",
   "metadata": {},
   "source": [
    "# <a href=\"https://en.wikipedia.org/wiki/Legendre%27s_conjecture\">Legendre's Conjecture</a>"
   ]
  },
  {
   "cell_type": "markdown",
   "metadata": {},
   "source": [
    "More than 200 years ago the French mathematician \n",
    "<a href=\"http://de.wikipedia.org/wiki/Adrien-Marie_Legendre\">Adrien-Marie Legendre</a> \n",
    "(1752 - 1833) conjectured that there is always a *prime number* between two successive squares bigger than one, i.e. if we denote the set of all *prime numbers* as $\\mathbb{P}$, then we have:\n",
    "$$ \\forall n \\in \\mathbb{N}: \\bigl(n \\geq 1 \\rightarrow \\exists p \\in \\mathbb{P}: n^2 < p < (n+1)^2 \\bigr) $$\n",
    "The question whether this claim is true is still open.  The function \n",
    "$\\texttt{legendre}(n)$ that is defined below takes a natural number $n$ as input and checks whether there is a prime number $p$ such that\n",
    "$$ n^2 < p < (n+1)^2 $$\n",
    "holds.  The function returns `True` if there is a prime number $p$ between $n^2$ and $(n+1)^2$.  Otherwise, `False` is returned."
   ]
  },
  {
   "cell_type": "code",
   "execution_count": 2,
   "metadata": {},
   "outputs": [],
   "source": [
    "def legendre(n):\n",
    "    k = n * n + 1\n",
    "    while k < (n + 1) ** 2:\n",
    "        if is_prime(k):\n",
    "            print(f'{n}**2 < {k} < {n+1}**2')\n",
    "            return True\n",
    "        k += 1\n",
    "    return False"
   ]
  },
  {
   "cell_type": "markdown",
   "metadata": {},
   "source": [
    "In order to test this function, we still need to implement the function <tt>is_prime</tt>.  This is done below using the observation that a number $k$ is prime if and only if the set of its divisors only contain the numbers $1$ and $k$:"
   ]
  },
  {
   "cell_type": "code",
   "execution_count": 3,
   "metadata": {},
   "outputs": [],
   "source": [
    "def is_prime(k):\n",
    "    return divisors(k) == {1, k}"
   ]
  },
  {
   "cell_type": "markdown",
   "metadata": {},
   "source": [
    "The set of divisors of a natural number $k$ can be computed as follows:"
   ]
  },
  {
   "cell_type": "code",
   "execution_count": 4,
   "metadata": {},
   "outputs": [],
   "source": [
    "def divisors(k):\n",
    "    return { t for t in range(1, k+1) if k % t == 0 }"
   ]
  },
  {
   "cell_type": "markdown",
   "metadata": {},
   "source": [
    "Let us test the functions <tt>divisors</tt> and <tt>is_prime</tt>:"
   ]
  },
  {
   "cell_type": "code",
   "execution_count": 5,
   "metadata": {},
   "outputs": [
    {
     "name": "stdout",
     "output_type": "stream",
     "text": [
      "{1}\n",
      "{1, 2}\n",
      "{1, 3}\n",
      "{1, 2, 4}\n",
      "{1, 5}\n",
      "{1, 2, 3, 6}\n",
      "{1, 7}\n",
      "{8, 1, 2, 4}\n",
      "{1, 3, 9}\n"
     ]
    }
   ],
   "source": [
    "for i in range(1, 10):\n",
    "    print(divisors(i))"
   ]
  },
  {
   "cell_type": "code",
   "execution_count": 6,
   "metadata": {},
   "outputs": [
    {
     "name": "stdout",
     "output_type": "stream",
     "text": [
      "{2, 3, 5, 7, 11, 13, 17, 19, 23, 29, 31, 37, 41, 43, 47, 53, 59, 61, 67, 71, 73, 79, 83, 89, 97}\n"
     ]
    }
   ],
   "source": [
    "print({ p for p in range(2, 100) if is_prime(p) })"
   ]
  },
  {
   "cell_type": "markdown",
   "metadata": {},
   "source": [
    "We are ready to test the function <tt>legendre</tt>:"
   ]
  },
  {
   "cell_type": "code",
   "execution_count": 7,
   "metadata": {},
   "outputs": [
    {
     "name": "stdout",
     "output_type": "stream",
     "text": [
      "2**2 < 5 < 3**2\n"
     ]
    },
    {
     "data": {
      "text/plain": [
       "True"
      ]
     },
     "execution_count": 7,
     "metadata": {},
     "output_type": "execute_result"
    }
   ],
   "source": [
    "legendre(2)"
   ]
  },
  {
   "cell_type": "code",
   "execution_count": 8,
   "metadata": {},
   "outputs": [
    {
     "name": "stdout",
     "output_type": "stream",
     "text": [
      "3**2 < 11 < 4**2\n"
     ]
    },
    {
     "data": {
      "text/plain": [
       "True"
      ]
     },
     "execution_count": 8,
     "metadata": {},
     "output_type": "execute_result"
    }
   ],
   "source": [
    "legendre(3)"
   ]
  },
  {
   "cell_type": "code",
   "execution_count": 9,
   "metadata": {},
   "outputs": [
    {
     "name": "stdout",
     "output_type": "stream",
     "text": [
      "4**2 < 17 < 5**2\n"
     ]
    },
    {
     "data": {
      "text/plain": [
       "True"
      ]
     },
     "execution_count": 9,
     "metadata": {},
     "output_type": "execute_result"
    }
   ],
   "source": [
    "legendre(4)"
   ]
  },
  {
   "cell_type": "markdown",
   "metadata": {},
   "source": [
    "This is getting tedious, lets automate the testing.  The function <tt>find_counter_example</tt> below tries to find a counter example for Legendre's conjecture, i.e. it tries to find a natural number $n$ such that there is no prime number $p$ between $n^2$ and $(n+1)^2$.  Once a counter example $n$ is found, the function stops and prints the natural number $n$ such that there is no prime between $n^2$ and $(n+1)^2$.  Otherwise, the function keeps going until the sun rises in the west. "
   ]
  },
  {
   "cell_type": "code",
   "execution_count": 10,
   "metadata": {},
   "outputs": [],
   "source": [
    "def find_counter_example(n):\n",
    "    while True:\n",
    "        if legendre(n):\n",
    "            n = n + 1\n",
    "        else:\n",
    "            print(f'Counter example: No prime between {n}**2 and {n+1}**2!')\n",
    "            return"
   ]
  },
  {
   "cell_type": "markdown",
   "metadata": {},
   "source": [
    "In our quest to get rich and famous, we start the function and wait for a counter example..."
   ]
  },
  {
   "cell_type": "code",
   "execution_count": 11,
   "metadata": {
    "scrolled": false
   },
   "outputs": [
    {
     "name": "stdout",
     "output_type": "stream",
     "text": [
      "1000**2 < 1000003 < 1001**2\n",
      "1001**2 < 1002017 < 1002**2\n",
      "1002**2 < 1004027 < 1003**2\n",
      "1003**2 < 1006021 < 1004**2\n",
      "1004**2 < 1008017 < 1005**2\n",
      "1005**2 < 1010033 < 1006**2\n",
      "1006**2 < 1012043 < 1007**2\n",
      "1007**2 < 1014061 < 1008**2\n",
      "1008**2 < 1016069 < 1009**2\n",
      "1009**2 < 1018091 < 1010**2\n",
      "1010**2 < 1020101 < 1011**2\n",
      "1011**2 < 1022123 < 1012**2\n",
      "1012**2 < 1024151 < 1013**2\n",
      "1013**2 < 1026197 < 1014**2\n",
      "1014**2 < 1028201 < 1015**2\n",
      "1015**2 < 1030241 < 1016**2\n",
      "1016**2 < 1032259 < 1017**2\n",
      "1017**2 < 1034309 < 1018**2\n",
      "1018**2 < 1036327 < 1019**2\n",
      "1019**2 < 1038383 < 1020**2\n",
      "1020**2 < 1040407 < 1021**2\n",
      "1021**2 < 1042451 < 1022**2\n",
      "1022**2 < 1044509 < 1023**2\n",
      "1023**2 < 1046557 < 1024**2\n",
      "1024**2 < 1048583 < 1025**2\n",
      "1025**2 < 1050631 < 1026**2\n",
      "1026**2 < 1052693 < 1027**2\n",
      "1027**2 < 1054733 < 1028**2\n",
      "1028**2 < 1056793 < 1029**2\n",
      "1029**2 < 1058861 < 1030**2\n",
      "1030**2 < 1060937 < 1031**2\n",
      "1031**2 < 1062977 < 1032**2\n",
      "1032**2 < 1065037 < 1033**2\n",
      "1033**2 < 1067137 < 1034**2\n",
      "1034**2 < 1069171 < 1035**2\n",
      "1035**2 < 1071227 < 1036**2\n",
      "1036**2 < 1073297 < 1037**2\n",
      "1037**2 < 1075391 < 1038**2\n",
      "1038**2 < 1077449 < 1039**2\n",
      "1039**2 < 1079527 < 1040**2\n",
      "1040**2 < 1081631 < 1041**2\n",
      "1041**2 < 1083689 < 1042**2\n",
      "1042**2 < 1085767 < 1043**2\n",
      "1043**2 < 1087861 < 1044**2\n",
      "1044**2 < 1089941 < 1045**2\n",
      "1045**2 < 1092041 < 1046**2\n",
      "1046**2 < 1094123 < 1047**2\n",
      "1047**2 < 1096219 < 1048**2\n",
      "1048**2 < 1098311 < 1049**2\n",
      "1049**2 < 1100419 < 1050**2\n",
      "1050**2 < 1102523 < 1051**2\n",
      "1051**2 < 1104613 < 1052**2\n",
      "1052**2 < 1106741 < 1053**2\n",
      "1053**2 < 1108817 < 1054**2\n",
      "1054**2 < 1110917 < 1055**2\n",
      "1055**2 < 1113029 < 1056**2\n",
      "1056**2 < 1115189 < 1057**2\n",
      "1057**2 < 1117253 < 1058**2\n",
      "1058**2 < 1119389 < 1059**2\n",
      "1059**2 < 1121509 < 1060**2\n",
      "1060**2 < 1123601 < 1061**2\n",
      "1061**2 < 1125739 < 1062**2\n",
      "1062**2 < 1127849 < 1063**2\n",
      "1063**2 < 1129991 < 1064**2\n",
      "1064**2 < 1132123 < 1065**2\n",
      "1065**2 < 1134239 < 1066**2\n",
      "1066**2 < 1136357 < 1067**2\n",
      "1067**2 < 1138519 < 1068**2\n",
      "1068**2 < 1140637 < 1069**2\n",
      "1069**2 < 1142773 < 1070**2\n",
      "1070**2 < 1144901 < 1071**2\n",
      "1071**2 < 1147043 < 1072**2\n",
      "1072**2 < 1149191 < 1073**2\n",
      "1073**2 < 1151333 < 1074**2\n",
      "1074**2 < 1153483 < 1075**2\n",
      "1075**2 < 1155629 < 1076**2\n",
      "1076**2 < 1157791 < 1077**2\n",
      "1077**2 < 1159967 < 1078**2\n"
     ]
    },
    {
     "ename": "KeyboardInterrupt",
     "evalue": "",
     "output_type": "error",
     "traceback": [
      "\u001b[0;31m---------------------------------------------------------------------------\u001b[0m",
      "\u001b[0;31mKeyboardInterrupt\u001b[0m                         Traceback (most recent call last)",
      "Cell \u001b[0;32mIn[11], line 1\u001b[0m\n\u001b[0;32m----> 1\u001b[0m \u001b[43mfind_counter_example\u001b[49m\u001b[43m(\u001b[49m\u001b[38;5;241;43m1000\u001b[39;49m\u001b[43m)\u001b[49m\n",
      "Cell \u001b[0;32mIn[10], line 3\u001b[0m, in \u001b[0;36mfind_counter_example\u001b[0;34m(n)\u001b[0m\n\u001b[1;32m      1\u001b[0m \u001b[38;5;28;01mdef\u001b[39;00m \u001b[38;5;21mfind_counter_example\u001b[39m(n):\n\u001b[1;32m      2\u001b[0m     \u001b[38;5;28;01mwhile\u001b[39;00m \u001b[38;5;28;01mTrue\u001b[39;00m:\n\u001b[0;32m----> 3\u001b[0m         \u001b[38;5;28;01mif\u001b[39;00m \u001b[43mlegendre\u001b[49m\u001b[43m(\u001b[49m\u001b[43mn\u001b[49m\u001b[43m)\u001b[49m:\n\u001b[1;32m      4\u001b[0m             n \u001b[38;5;241m=\u001b[39m n \u001b[38;5;241m+\u001b[39m \u001b[38;5;241m1\u001b[39m\n\u001b[1;32m      5\u001b[0m         \u001b[38;5;28;01melse\u001b[39;00m:\n",
      "Cell \u001b[0;32mIn[2], line 4\u001b[0m, in \u001b[0;36mlegendre\u001b[0;34m(n)\u001b[0m\n\u001b[1;32m      2\u001b[0m k \u001b[38;5;241m=\u001b[39m n \u001b[38;5;241m*\u001b[39m n \u001b[38;5;241m+\u001b[39m \u001b[38;5;241m1\u001b[39m\n\u001b[1;32m      3\u001b[0m \u001b[38;5;28;01mwhile\u001b[39;00m k \u001b[38;5;241m<\u001b[39m (n \u001b[38;5;241m+\u001b[39m \u001b[38;5;241m1\u001b[39m) \u001b[38;5;241m*\u001b[39m\u001b[38;5;241m*\u001b[39m \u001b[38;5;241m2\u001b[39m:\n\u001b[0;32m----> 4\u001b[0m     \u001b[38;5;28;01mif\u001b[39;00m \u001b[43mis_prime\u001b[49m\u001b[43m(\u001b[49m\u001b[43mk\u001b[49m\u001b[43m)\u001b[49m:\n\u001b[1;32m      5\u001b[0m         \u001b[38;5;28mprint\u001b[39m(\u001b[38;5;124mf\u001b[39m\u001b[38;5;124m'\u001b[39m\u001b[38;5;132;01m{\u001b[39;00mn\u001b[38;5;132;01m}\u001b[39;00m\u001b[38;5;124m**2 < \u001b[39m\u001b[38;5;132;01m{\u001b[39;00mk\u001b[38;5;132;01m}\u001b[39;00m\u001b[38;5;124m < \u001b[39m\u001b[38;5;132;01m{\u001b[39;00mn\u001b[38;5;241m+\u001b[39m\u001b[38;5;241m1\u001b[39m\u001b[38;5;132;01m}\u001b[39;00m\u001b[38;5;124m**2\u001b[39m\u001b[38;5;124m'\u001b[39m)\n\u001b[1;32m      6\u001b[0m         \u001b[38;5;28;01mreturn\u001b[39;00m \u001b[38;5;28;01mTrue\u001b[39;00m\n",
      "Cell \u001b[0;32mIn[3], line 2\u001b[0m, in \u001b[0;36mis_prime\u001b[0;34m(k)\u001b[0m\n\u001b[1;32m      1\u001b[0m \u001b[38;5;28;01mdef\u001b[39;00m \u001b[38;5;21mis_prime\u001b[39m(k):\n\u001b[0;32m----> 2\u001b[0m     \u001b[38;5;28;01mreturn\u001b[39;00m \u001b[43mdivisors\u001b[49m\u001b[43m(\u001b[49m\u001b[43mk\u001b[49m\u001b[43m)\u001b[49m \u001b[38;5;241m==\u001b[39m {\u001b[38;5;241m1\u001b[39m, k}\n",
      "Cell \u001b[0;32mIn[4], line 2\u001b[0m, in \u001b[0;36mdivisors\u001b[0;34m(k)\u001b[0m\n\u001b[1;32m      1\u001b[0m \u001b[38;5;28;01mdef\u001b[39;00m \u001b[38;5;21mdivisors\u001b[39m(k):\n\u001b[0;32m----> 2\u001b[0m     \u001b[38;5;28;01mreturn\u001b[39;00m { t \u001b[38;5;28;01mfor\u001b[39;00m t \u001b[38;5;129;01min\u001b[39;00m \u001b[38;5;28mrange\u001b[39m(\u001b[38;5;241m1\u001b[39m, k\u001b[38;5;241m+\u001b[39m\u001b[38;5;241m1\u001b[39m) \u001b[38;5;28;01mif\u001b[39;00m k \u001b[38;5;241m%\u001b[39m t \u001b[38;5;241m==\u001b[39m \u001b[38;5;241m0\u001b[39m }\n",
      "Cell \u001b[0;32mIn[4], line 2\u001b[0m, in \u001b[0;36m<setcomp>\u001b[0;34m(.0)\u001b[0m\n\u001b[1;32m      1\u001b[0m \u001b[38;5;28;01mdef\u001b[39;00m \u001b[38;5;21mdivisors\u001b[39m(k):\n\u001b[0;32m----> 2\u001b[0m     \u001b[38;5;28;01mreturn\u001b[39;00m { t \u001b[38;5;28;01mfor\u001b[39;00m t \u001b[38;5;129;01min\u001b[39;00m \u001b[38;5;28mrange\u001b[39m(\u001b[38;5;241m1\u001b[39m, k\u001b[38;5;241m+\u001b[39m\u001b[38;5;241m1\u001b[39m) \u001b[38;5;28;01mif\u001b[39;00m k \u001b[38;5;241m%\u001b[39m t \u001b[38;5;241m==\u001b[39m \u001b[38;5;241m0\u001b[39m }\n",
      "\u001b[0;31mKeyboardInterrupt\u001b[0m: "
     ]
    }
   ],
   "source": [
    "find_counter_example(1000)"
   ]
  },
  {
   "cell_type": "markdown",
   "metadata": {},
   "source": [
    "The function call $\\texttt{find_counter_example}(1)$ will stop if and only if Legendre's conjecture is false.  Therefore, if we had a function that could take our definition of the function `find_counter_example` as input and that could then decide, whether the function call $\\texttt{find_counter_example}(1)$ would eventually terminate, then this function would be able to decide whether Legendre's conjecture is correct."
   ]
  },
  {
   "cell_type": "code",
   "execution_count": null,
   "metadata": {},
   "outputs": [],
   "source": []
  }
 ],
 "metadata": {
  "hide_input": false,
  "kernelspec": {
   "display_name": "Python 3 (ipykernel)",
   "language": "python",
   "name": "python3"
  },
  "language_info": {
   "codemirror_mode": {
    "name": "ipython",
    "version": 3
   },
   "file_extension": ".py",
   "mimetype": "text/x-python",
   "name": "python",
   "nbconvert_exporter": "python",
   "pygments_lexer": "ipython3",
   "version": "3.10.9"
  },
  "toc": {
   "base_numbering": 1,
   "nav_menu": {},
   "number_sections": true,
   "sideBar": true,
   "skip_h1_title": false,
   "title_cell": "Table of Contents",
   "title_sidebar": "Contents",
   "toc_cell": false,
   "toc_position": {},
   "toc_section_display": true,
   "toc_window_display": false
  },
  "varInspector": {
   "cols": {
    "lenName": 16,
    "lenType": 16,
    "lenVar": 40
   },
   "kernels_config": {
    "python": {
     "delete_cmd_postfix": "",
     "delete_cmd_prefix": "del ",
     "library": "var_list.py",
     "varRefreshCmd": "print(var_dic_list())"
    },
    "r": {
     "delete_cmd_postfix": ") ",
     "delete_cmd_prefix": "rm(",
     "library": "var_list.r",
     "varRefreshCmd": "cat(var_dic_list()) "
    }
   },
   "types_to_exclude": [
    "module",
    "function",
    "builtin_function_or_method",
    "instance",
    "_Feature"
   ],
   "window_display": false
  }
 },
 "nbformat": 4,
 "nbformat_minor": 2
}
