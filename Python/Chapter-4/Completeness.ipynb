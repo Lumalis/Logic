{
 "cells": [
  {
   "cell_type": "code",
   "execution_count": 1,
   "metadata": {},
   "outputs": [
    {
     "data": {
      "text/html": [
       "<link href='http://fonts.googleapis.com/css?family=Alegreya+Sans:100,300,400,500,700,800,900,100italic,300italic,400italic,500italic,700italic,800italic,900italic' rel='stylesheet' type='text/css'>\n",
       "<link href='http://fonts.googleapis.com/css?family=Arvo:400,700,400italic' rel='stylesheet' type='text/css'>\n",
       "<link href='http://fonts.googleapis.com/css?family=PT+Mono' rel='stylesheet' type='text/css'>\n",
       "<link href='http://fonts.googleapis.com/css?family=Shadows+Into+Light' rel='stylesheet' type='text/css'>\n",
       "<link href='http://fonts.googleapis.com/css?family=Philosopher:400,700,400italic,700italic' rel='stylesheet' type='text/css'>\n",
       "\n",
       "<style>\n",
       "\n",
       "@font-face {\n",
       "    font-family: \"Computer Modern\";\n",
       "    src: url('http://mirrors.ctan.org/fonts/cm-unicode/fonts/otf/cmunss.otf');\n",
       "}\n",
       "\n",
       ".container { width: 100% }\n",
       "\n",
       "/* Formatting for header cells */\n",
       ".text_cell_render h1 {\n",
       "    font-family: 'Philosopher', sans-serif;\n",
       "    font-weight: 400;\n",
       "    font-size: 2.2em;\n",
       "    line-height: 100%;\n",
       "    color: rgb(0, 80, 120);\n",
       "    margin-bottom: 0.1em;\n",
       "    margin-top: 0.1em;\n",
       "    display: block;\n",
       "}\t\n",
       ".text_cell_render h2 {\n",
       "    font-family: 'Philosopher', serif;\n",
       "    font-weight: 400;\n",
       "    font-size: 1.9em;\n",
       "    line-height: 100%;\n",
       "    color: rgb(200,100,0);\n",
       "    margin-bottom: 0.1em;\n",
       "    margin-top: 0.1em;\n",
       "    display: block;\n",
       "}\t\n",
       "\n",
       ".text_cell_render h3 {\n",
       "    font-family: 'Philosopher', serif;\n",
       "    margin-top:12px;\n",
       "    margin-bottom: 3px;\n",
       "    font-style: italic;\n",
       "    color: rgb(94,127,192);\n",
       "}\n",
       "\n",
       ".text_cell_render h4 {\n",
       "    font-family: 'Philosopher', serif;\n",
       "}\n",
       "\n",
       ".text_cell_render h5 {\n",
       "    font-family: 'Alegreya Sans', sans-serif;\n",
       "    font-weight: 300;\n",
       "    font-size: 16pt;\n",
       "    color: grey;\n",
       "    font-style: italic;\n",
       "    margin-bottom: .1em;\n",
       "    margin-top: 0.1em;\n",
       "    display: block;\n",
       "}\n",
       "\n",
       ".text_cell_render h6 {\n",
       "    font-family: 'PT Mono', sans-serif;\n",
       "    font-weight: 300;\n",
       "    font-size: 10pt;\n",
       "    color: grey;\n",
       "    margin-bottom: 1px;\n",
       "    margin-top: 1px;\n",
       "}\n",
       "\n",
       ".text_cell_render em {\n",
       "    font-family: 'Philosopher', sans-serif;\n",
       "    color:        blue;\n",
       "    background-color: rgb(255,220,180);\n",
       "    font-size:    110%;\n",
       "    margin-left:   2px;\n",
       "    margin-right:  2px;\n",
       "    font-weight:   100;\n",
       "}\n",
       "\n",
       ".text_cell_render b {\n",
       "    color:            rgb(255,195,195);\n",
       "    background-color: rgb(0,0,0);\n",
       "    font-size:    110%;\n",
       "    margin-left:   2px;\n",
       "    margin-right:  2px;\n",
       "    font-weight:   650;\n",
       "}\n",
       "\n",
       ".text_cell_render tt {\n",
       "    font-size:    120%;\n",
       "    margin-left:   2px;\n",
       "    margin-right:  2px;\n",
       "    font-weight:   150;\n",
       "}\n",
       "\n",
       ".Codemirror {\n",
       "    font-family: \"PT Mono\";\n",
       "    font-size: 100%;\n",
       "}\n",
       "\n",
       "</style>\n",
       "\n"
      ],
      "text/plain": [
       "<IPython.core.display.HTML object>"
      ]
     },
     "execution_count": 1,
     "metadata": {},
     "output_type": "execute_result"
    }
   ],
   "source": [
    "from IPython.core.display import HTML\n",
    "with open('../style.css', 'r') as file:\n",
    "    css = file.read()\n",
    "HTML(css)"
   ]
  },
  {
   "cell_type": "markdown",
   "metadata": {},
   "source": [
    "# Refutational Completeness of the Cut Rule"
   ]
  },
  {
   "cell_type": "markdown",
   "metadata": {},
   "source": [
    "This notebook implements a number of procedures that are needed in our proof of the <em style=\"color:blue\">refutational completeness</em> of the cut rule."
   ]
  },
  {
   "cell_type": "markdown",
   "metadata": {},
   "source": [
    "The function $\\texttt{complement}(l)$ computes the <em style=\"color:blue\">complement</em> of a literal $l$.\n",
    "If $p$ is a propositional variable, we have the following: \n",
    "<ol>\n",
    "    <li>$\\texttt{complement}(p) = \\neg p$,\n",
    "    </li>\n",
    "    <li>$\\texttt{complement}(\\neg p) = p$.\n",
    "    </li>\n",
    "</ol>"
   ]
  },
  {
   "cell_type": "code",
   "execution_count": 2,
   "metadata": {},
   "outputs": [],
   "source": [
    "def complement(l):\n",
    "    \"Compute the complement of the literal l.\"\n",
    "    match l:\n",
    "        case p if isinstance(p, str):  return ('¬', p)\n",
    "        case ('¬', p):                 return p        "
   ]
  },
  {
   "cell_type": "code",
   "execution_count": 3,
   "metadata": {},
   "outputs": [
    {
     "data": {
      "text/plain": [
       "('¬', 'p')"
      ]
     },
     "execution_count": 3,
     "metadata": {},
     "output_type": "execute_result"
    }
   ],
   "source": [
    "complement('p')"
   ]
  },
  {
   "cell_type": "code",
   "execution_count": 4,
   "metadata": {},
   "outputs": [
    {
     "data": {
      "text/plain": [
       "'p'"
      ]
     },
     "execution_count": 4,
     "metadata": {},
     "output_type": "execute_result"
    }
   ],
   "source": [
    "complement(('¬', 'p'))"
   ]
  },
  {
   "cell_type": "markdown",
   "metadata": {},
   "source": [
    "The function $\\texttt{extractVariable}(l)$ extracts the propositional variable from the literal $l$.\n",
    "If $p$ is a propositional variable, we have the following: \n",
    "<ol>\n",
    "    <li>$\\texttt{extractVariable}(p) = p$,\n",
    "    </li>\n",
    "    <li>$\\texttt{extractVariable}(\\neg p) = p$.\n",
    "    </li>\n",
    "</ol>"
   ]
  },
  {
   "cell_type": "code",
   "execution_count": 5,
   "metadata": {},
   "outputs": [],
   "source": [
    "def extractVariable(l):\n",
    "    \"Extract the variable of the literal l.\"\n",
    "    match l:\n",
    "        case p if isinstance(p, str): return p           \n",
    "        case ('¬', p):                return p"
   ]
  },
  {
   "cell_type": "code",
   "execution_count": 6,
   "metadata": {},
   "outputs": [
    {
     "data": {
      "text/plain": [
       "'p'"
      ]
     },
     "execution_count": 6,
     "metadata": {},
     "output_type": "execute_result"
    }
   ],
   "source": [
    "extractVariable('p')"
   ]
  },
  {
   "cell_type": "code",
   "execution_count": 7,
   "metadata": {},
   "outputs": [
    {
     "data": {
      "text/plain": [
       "'q'"
      ]
     },
     "execution_count": 7,
     "metadata": {},
     "output_type": "execute_result"
    }
   ],
   "source": [
    "extractVariable(('¬', 'q'))"
   ]
  },
  {
   "cell_type": "markdown",
   "metadata": {},
   "source": [
    "The function $\\texttt{collectsVariables}(M)$ takes a set of clauses $M$ as its input and computes the set of all propositional variables occurring in $M$.  The clauses in $M$ are represented as sets of literals."
   ]
  },
  {
   "cell_type": "code",
   "execution_count": 8,
   "metadata": {},
   "outputs": [],
   "source": [
    "def collectVariables(M):\n",
    "    \"Return the set of all variables occurring in M.\"\n",
    "    return { extractVariable(literal) for Clause  in M \n",
    "                                      for literal in Clause\n",
    "           }"
   ]
  },
  {
   "cell_type": "code",
   "execution_count": 9,
   "metadata": {},
   "outputs": [
    {
     "data": {
      "text/plain": [
       "{'p', 'q', 'r', 's'}"
      ]
     },
     "execution_count": 9,
     "metadata": {},
     "output_type": "execute_result"
    }
   ],
   "source": [
    "C1 = frozenset({ 'p', 'q', 'r' })\n",
    "C2 = frozenset({ ('¬', 'p'), ('¬', 'q'), ('¬', 's') })\n",
    "collectVariables({ C1, C2 })"
   ]
  },
  {
   "cell_type": "markdown",
   "metadata": {},
   "source": [
    "Given two clauses $C_1$ and $C_2$ that are represented as sets of literals, the function `cutRule`$(C_1, C_2)$ computes the set of all clauses that can be derived from $C_1$ and $C_2$ using the *cut rule*.  In set notation, the cut rule is the following rule of inference:\n",
    "$$\n",
    "   \\frac{\\displaystyle \\;C_1\\cup \\{l\\} \\quad C_2 \\cup \\bigl\\{\\overline{\\,l\\,}\\bigr\\}}{\\displaystyle C_1 \\cup C_2}\n",
    "$$"
   ]
  },
  {
   "cell_type": "code",
   "execution_count": 10,
   "metadata": {},
   "outputs": [],
   "source": [
    "def cutRule(C1, C2):\n",
    "    \"Return the set of all clauses that can be deduced by the cut rule from C1 and C2.\"\n",
    "    return { C1 - {l} | C2 - {complement(l)} for l in C1\n",
    "                                             if  complement(l) in C2\n",
    "           }"
   ]
  },
  {
   "cell_type": "code",
   "execution_count": 11,
   "metadata": {},
   "outputs": [
    {
     "data": {
      "text/plain": [
       "{frozenset({('¬', 'q'), 'q'}), frozenset({('¬', 'r'), 'r'})}"
      ]
     },
     "execution_count": 11,
     "metadata": {},
     "output_type": "execute_result"
    }
   ],
   "source": [
    "C1 = frozenset({ ('¬', 'q'), ('¬', 'r') })\n",
    "C2 = frozenset({ 'q', 'r' })\n",
    "cutRule(C1, C2)"
   ]
  },
  {
   "cell_type": "markdown",
   "metadata": {},
   "source": [
    "In the expression `saturate(Clauses)` below, `Clauses` is a set of *clauses*, where each clause is a set of *literals*.  The call `saturate(Clauses)` computes the set of all clauses that can be derived from clauses in the set `Clauses` using the *cut rule*.  The function keeps applying the cut rule until either no new clauses can be derived, or the empty clause $\\{\\}$ is derived.  The resulting set of clauses is *saturated* in the following sense:  If $C_1$ and $C_2$ are clauses from the set `Clauses` and the clause $D$ can be derived from $C_1$ and $C_2$ via the cut rule, then $D \\in \\texttt{Clauses}$ or $\\{\\} \\in \\texttt{Clauses}$."
   ]
  },
  {
   "cell_type": "code",
   "execution_count": 12,
   "metadata": {},
   "outputs": [],
   "source": [
    "def saturate(Clauses):\n",
    "    while True:\n",
    "        Derived = { C for C1 in Clauses\n",
    "                      for C2 in Clauses\n",
    "                      for C  in cutRule(C1, C2)\n",
    "                  }\n",
    "        if frozenset() in Derived:\n",
    "            return { frozenset() }  # This is the set notation of ⊥ in CNF.\n",
    "        Derived -= Clauses          # remove clauses that were already present.\n",
    "        if Derived == set():        # no new clauses have been found\n",
    "            return Clauses\n",
    "        Clauses |= Derived"
   ]
  },
  {
   "cell_type": "code",
   "execution_count": 13,
   "metadata": {},
   "outputs": [
    {
     "data": {
      "text/plain": [
       "{frozenset({('¬', 'p'), ('¬', 'q')}),\n",
       " frozenset({'p', 'q'}),\n",
       " frozenset({('¬', 'p'), 'p'}),\n",
       " frozenset({('¬', 'q'), 'q'}),\n",
       " frozenset({('¬', 'p')}),\n",
       " frozenset({'q'})}"
      ]
     },
     "execution_count": 13,
     "metadata": {},
     "output_type": "execute_result"
    }
   ],
   "source": [
    "C1 = frozenset({ 'p', 'q' })\n",
    "C2 = frozenset({ ('¬', 'p') })\n",
    "C3 = frozenset({ ('¬', 'p'), ('¬', 'q') })\n",
    "saturate({C1, C2, C3})"
   ]
  },
  {
   "cell_type": "markdown",
   "metadata": {},
   "source": [
    "The function $\\texttt{findValuation}(\\texttt{Clauses})$ takes a set of clauses as input.  The function tries to compute a variable interpretation that makes all of the clauses true.  If this is successful, a set of literals is returned.  This set of literals does not contain  any complementary literals and therefore corresponds to a variable assignment satisfying all clauses.  If $\\texttt{Clauses}$ is unsatisfiable, <tt>False</tt> is returned."
   ]
  },
  {
   "cell_type": "code",
   "execution_count": 14,
   "metadata": {},
   "outputs": [],
   "source": [
    "def findValuation(Clauses):\n",
    "    \"Given a set of Clauses, find a propositional valuation satisfying all of these clauses.\"\n",
    "    Variables = collectVariables(Clauses)\n",
    "    Clauses   = saturate(Clauses)\n",
    "    if frozenset() in Clauses:  # The set Clauses is inconsistent.\n",
    "        return False\n",
    "    Literals = set()\n",
    "    for p in Variables:\n",
    "        if any(C for C in Clauses \n",
    "                 if  p in C and C - {p} <= { complement(l) for l in Literals }\n",
    "              ):\n",
    "            Literals |= { p }\n",
    "        else:\n",
    "            Literals |= { ('¬', p) }\n",
    "    return Literals"
   ]
  },
  {
   "cell_type": "code",
   "execution_count": 16,
   "metadata": {},
   "outputs": [
    {
     "data": {
      "text/plain": [
       "False"
      ]
     },
     "execution_count": 16,
     "metadata": {},
     "output_type": "execute_result"
    }
   ],
   "source": [
    "C1 = frozenset({ 'r', 'p', 's' })\n",
    "C2 = frozenset({ 'r', 's' })\n",
    "C3 = frozenset({ 'p', 'q', 's' })\n",
    "C4 = frozenset({ ('¬', 'p'), ('¬', 'q') })\n",
    "C5 = frozenset({ ('¬', 'p'), 's', ('¬', 'r') })\n",
    "C6 = frozenset({ 'p', ('¬', 'q'), 'r'})\n",
    "C7 = frozenset({ ('¬', 'r'), ('¬', 's'), 'q' })\n",
    "C8 = frozenset({ ('¬', 'p'), ('¬', 's')})\n",
    "C9 = frozenset({ 'p', ('¬', 'r'), ('¬', 'q') })\n",
    "C0 = frozenset({ ('¬', 'p'), 'r', 'q', ('¬', 's') })\n",
    "C10 = frozenset({ 'p', 'q', 'r', ('¬', 's') })\n",
    "Clauses  = { C0, C1, C2, C3, C4, C5, C6, C7, C8, C9, C10 }\n",
    "findValuation(Clauses)"
   ]
  },
  {
   "cell_type": "code",
   "execution_count": null,
   "metadata": {},
   "outputs": [],
   "source": []
  }
 ],
 "metadata": {
  "hide_input": false,
  "kernelspec": {
   "display_name": "Python 3 (ipykernel)",
   "language": "python",
   "name": "python3"
  },
  "language_info": {
   "codemirror_mode": {
    "name": "ipython",
    "version": 3
   },
   "file_extension": ".py",
   "mimetype": "text/x-python",
   "name": "python",
   "nbconvert_exporter": "python",
   "pygments_lexer": "ipython3",
   "version": "3.10.11"
  },
  "toc": {
   "base_numbering": 1,
   "nav_menu": {},
   "number_sections": true,
   "sideBar": true,
   "skip_h1_title": false,
   "title_cell": "Table of Contents",
   "title_sidebar": "Contents",
   "toc_cell": false,
   "toc_position": {},
   "toc_section_display": true,
   "toc_window_display": false
  },
  "varInspector": {
   "cols": {
    "lenName": 16,
    "lenType": 16,
    "lenVar": 40
   },
   "kernels_config": {
    "python": {
     "delete_cmd_postfix": "",
     "delete_cmd_prefix": "del ",
     "library": "var_list.py",
     "varRefreshCmd": "print(var_dic_list())"
    },
    "r": {
     "delete_cmd_postfix": ") ",
     "delete_cmd_prefix": "rm(",
     "library": "var_list.r",
     "varRefreshCmd": "cat(var_dic_list()) "
    }
   },
   "types_to_exclude": [
    "module",
    "function",
    "builtin_function_or_method",
    "instance",
    "_Feature"
   ],
   "window_display": false
  }
 },
 "nbformat": 4,
 "nbformat_minor": 2
}
