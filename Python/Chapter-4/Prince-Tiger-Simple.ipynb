{
 "cells": [
  {
   "cell_type": "code",
   "execution_count": null,
   "metadata": {},
   "outputs": [],
   "source": [
    "from IPython.core.display import HTML\n",
    "with open('../style.css', 'r') as file:\n",
    "    css = file.read()\n",
    "HTML(css)"
   ]
  },
  {
   "cell_type": "markdown",
   "metadata": {},
   "source": [
    "The following puzzle first appears in the book\n",
    "    <center>\n",
    "        [The Lady or the Tiger?](https://www.amazon.com/Lady-Tiger-Other-Puzzles-Recreational/dp/048647027X/=8-1)\n",
    "    </center>\n",
    "by [Raymond Smullyan](https://en.wikipedia.org/wiki/Raymond_Smullyan), which was published in 1982 by Times Books, which is a divison of Random House, Inc., New York."
   ]
  },
  {
   "cell_type": "markdown",
   "metadata": {},
   "source": [
    "# The Prince and the Tiger"
   ]
  },
  {
   "cell_type": "markdown",
   "metadata": {},
   "source": [
    "Once upon a time there was a king who wanted to marry his daughter to a prince. He had it announced throughout the country that he was looking for a husband for his daughter. One day a prince came along to apply. Since the king did not want to marry his daughter to some dumbass, the king led the prince into a room with 3 doors. The king told the prince that the princess would be in one of the rooms, but that there was another room behind which a hungry tiger would be waiting. One room would be empty.\n",
    "\n",
    "Further the king said that at all doors signs had been attached. These signs contained a statement that was either true or false.  Furthermore,\n",
    "- in the room, where a tiger is inside, the statement, which is written on the sign, \n",
    "  is wrong.\n",
    "- In the room where the princess is, the statement is correct.\n",
    "- In the empty room, the statement is either true or false.\n",
    "\n",
    "The prince then read the inscriptions. They were as follows:\n",
    "* Room 1: Room three is empty.\n",
    "* Room 2: The tiger is in the first room.\n",
    "* Room 3: This room is empty.\n",
    "\n",
    "Note: The task becomes easy if you use appropriate propositional variables to encode the king's statements and the inscriptions on the rooms. In my solution, I used the following variables:\n",
    "- $\\mathtt{𝙿}i$ is true if and only if the princess is in the $i^\\mathrm{th}$ room.  \n",
    "\n",
    "  Here, and in the folowing, the index $i$ is an element of the set ${1,2,3}$.\n",
    " \n",
    "- $\\mathtt{T}i$ is true if and only if the tiger is in the $i^\\mathrm{th}$ room. \n",
    "- $\\mathtt{Z}i$ is true if and only if the label on the $i^\\mathrm{th}$ room is true. "
   ]
  },
  {
   "cell_type": "markdown",
   "metadata": {},
   "source": [
    "## Setting up Required Modules"
   ]
  },
  {
   "cell_type": "markdown",
   "metadata": {},
   "source": [
    "We will use the parser for propositional logic which is implemented in the module <tt>propLogParser</tt>."
   ]
  },
  {
   "cell_type": "code",
   "execution_count": null,
   "metadata": {},
   "outputs": [],
   "source": [
    "import propLogParser as plp"
   ]
  },
  {
   "cell_type": "markdown",
   "metadata": {},
   "source": [
    "The function $\\texttt{parseAndNormalize}(s)$ takes a string $s$ that represents a formula from propositional logic, parses this string as a propositional formula and then turns this formula into a set of clauses.  We have used this function already in the previous exercise sheet."
   ]
  },
  {
   "cell_type": "code",
   "execution_count": null,
   "metadata": {},
   "outputs": [],
   "source": [
    "def parseFormula(s):\n",
    "    return plp.LogicParser(s).parse()"
   ]
  },
  {
   "cell_type": "markdown",
   "metadata": {},
   "source": [
    "## Auxilliary Functions"
   ]
  },
  {
   "cell_type": "code",
   "execution_count": null,
   "metadata": {},
   "outputs": [],
   "source": [
    "def evaluate(F, I):\n",
    "    match F:\n",
    "        case p if isinstance(p, str): \n",
    "            return p in I\n",
    "        case ('⊤', ):     return True\n",
    "        case ('⊥', ):     return False\n",
    "        case ('¬', G):    return not evaluate(G, I)\n",
    "        case ('∧', G, H): return     evaluate(G, I) and evaluate(H, I)\n",
    "        case ('∨', G, H): return     evaluate(G, I) or  evaluate(H, I)\n",
    "        case ('→', G, H): return not evaluate(G, I) or  evaluate(H, I)\n",
    "        case ('↔', G, H): return     evaluate(G, I) ==  evaluate(H, I)"
   ]
  },
  {
   "cell_type": "markdown",
   "metadata": {},
   "source": [
    "The functions defined below make it convenient to create the propositional variables $\\texttt{Prinzessin<}i\\texttt{>}$, $\\texttt{Tiger<}i\\texttt{>}$, and $\\texttt{Zimmer<}i\\texttt{>}$ for $i \\in \\{1,\\cdots,n\\}$."
   ]
  },
  {
   "cell_type": "code",
   "execution_count": null,
   "metadata": {},
   "outputs": [],
   "source": [
    "def P(i):\n",
    "    \"Return the string 'Pi'\"\n",
    "    return f'P{i}'"
   ]
  },
  {
   "cell_type": "code",
   "execution_count": null,
   "metadata": {},
   "outputs": [],
   "source": [
    "P(1)"
   ]
  },
  {
   "cell_type": "code",
   "execution_count": null,
   "metadata": {},
   "outputs": [],
   "source": [
    "def T(i):\n",
    "    \"Return the string 'Ti'\"\n",
    "    return f'T{i}'"
   ]
  },
  {
   "cell_type": "code",
   "execution_count": null,
   "metadata": {},
   "outputs": [],
   "source": [
    "T(2)"
   ]
  },
  {
   "cell_type": "code",
   "execution_count": null,
   "metadata": {},
   "outputs": [],
   "source": [
    "def Z(i):\n",
    "    \"Return the string 'Zi'\"\n",
    "    return f'Z{i}'"
   ]
  },
  {
   "cell_type": "code",
   "execution_count": null,
   "metadata": {},
   "outputs": [],
   "source": [
    "Z(3)"
   ]
  },
  {
   "cell_type": "markdown",
   "metadata": {},
   "source": [
    "Given a set of propositional variables $S$, the function $\\texttt{atMostOne}(S)$ computes a set of clauses expressing the fact that at most one of the variables of $S$ is <tt>True</tt>.\n",
    "\n",
    "In my solution, I have used the *Python* string method [`join`](https://www.programiz.com/python-programming/methods/string/join)."
   ]
  },
  {
   "cell_type": "code",
   "execution_count": null,
   "metadata": {},
   "outputs": [],
   "source": [
    "def atMostOne(S): \n",
    "    f = 'Your formula here.' \n",
    "    return parseFormula(f)"
   ]
  },
  {
   "cell_type": "code",
   "execution_count": null,
   "metadata": {},
   "outputs": [],
   "source": [
    "atMostOne({'a', 'b', 'c'})"
   ]
  },
  {
   "cell_type": "code",
   "execution_count": null,
   "metadata": {},
   "outputs": [],
   "source": [
    "import power"
   ]
  },
  {
   "cell_type": "markdown",
   "metadata": {},
   "source": [
    "The function `solve` takes a set of formulas `Fs` and returns a list of a propositional interpretations that satisfy all of the formulas in `Fs`."
   ]
  },
  {
   "cell_type": "code",
   "execution_count": null,
   "metadata": {},
   "outputs": [],
   "source": [
    "def solve(Fs):\n",
    "    R = (1, 2, 3)\n",
    "    allVars = { P(i) for i in R } | { T(i) for i in R } | { Z(i) for i in R } \n",
    "    Result = []\n",
    "    for I in power.allSubsets(allVars):\n",
    "        if all(evaluate(f, I) for f in Fs):\n",
    "            Result.append(I)\n",
    "    return Result"
   ]
  },
  {
   "cell_type": "markdown",
   "metadata": {},
   "source": [
    "## Generating the Formulas describing the Problem"
   ]
  },
  {
   "cell_type": "markdown",
   "metadata": {},
   "source": [
    "##### Below, you might need the following symbols: ¬ ∧ ∨ → ↔"
   ]
  },
  {
   "cell_type": "markdown",
   "metadata": {},
   "source": [
    "The function `allFormulas` computes the set of formulas that encode the given problem."
   ]
  },
  {
   "cell_type": "code",
   "execution_count": null,
   "metadata": {},
   "outputs": [],
   "source": [
    "def allFormulas():\n",
    "    \"your code here\""
   ]
  },
  {
   "cell_type": "code",
   "execution_count": null,
   "metadata": {},
   "outputs": [],
   "source": [
    "Fs = allFormulas() \n",
    "Fs"
   ]
  },
  {
   "cell_type": "markdown",
   "metadata": {},
   "source": [
    "Finally, we call the function `solve`."
   ]
  },
  {
   "cell_type": "code",
   "execution_count": null,
   "metadata": {},
   "outputs": [],
   "source": [
    "%%time\n",
    "solve(Fs)"
   ]
  },
  {
   "cell_type": "code",
   "execution_count": null,
   "metadata": {},
   "outputs": [],
   "source": []
  }
 ],
 "metadata": {
  "hide_input": false,
  "kernelspec": {
   "display_name": "Python 3 (ipykernel)",
   "language": "python",
   "name": "python3"
  },
  "language_info": {
   "codemirror_mode": {
    "name": "ipython",
    "version": 3
   },
   "file_extension": ".py",
   "mimetype": "text/x-python",
   "name": "python",
   "nbconvert_exporter": "python",
   "pygments_lexer": "ipython3",
   "version": "3.10.10"
  },
  "toc": {
   "base_numbering": 1,
   "nav_menu": {},
   "number_sections": true,
   "sideBar": true,
   "skip_h1_title": false,
   "title_cell": "Table of Contents",
   "title_sidebar": "Contents",
   "toc_cell": false,
   "toc_position": {},
   "toc_section_display": true,
   "toc_window_display": false
  },
  "varInspector": {
   "cols": {
    "lenName": 16,
    "lenType": 16,
    "lenVar": 40
   },
   "kernels_config": {
    "python": {
     "delete_cmd_postfix": "",
     "delete_cmd_prefix": "del ",
     "library": "var_list.py",
     "varRefreshCmd": "print(var_dic_list())"
    },
    "r": {
     "delete_cmd_postfix": ") ",
     "delete_cmd_prefix": "rm(",
     "library": "var_list.r",
     "varRefreshCmd": "cat(var_dic_list()) "
    }
   },
   "types_to_exclude": [
    "module",
    "function",
    "builtin_function_or_method",
    "instance",
    "_Feature"
   ],
   "window_display": false
  }
 },
 "nbformat": 4,
 "nbformat_minor": 2
}
