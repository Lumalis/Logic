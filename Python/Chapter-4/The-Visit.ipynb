{
 "cells": [
  {
   "cell_type": "code",
   "execution_count": null,
   "metadata": {},
   "outputs": [],
   "source": [
    "from IPython.display import HTML\n",
    "HTML(open('../style.css', 'r').read())"
   ]
  },
  {
   "cell_type": "markdown",
   "metadata": {},
   "source": [
    "# The Visit"
   ]
  },
  {
   "cell_type": "markdown",
   "metadata": {},
   "source": [
    "A portion of the Smith family is visiting the Walton family. *John* Smith and his wife *Helen* have three children. Their oldest child is a boy named *Thomas*. Thomas has two younger sisters named *Amy* and *Jennifer*. Jennifer is the youngest child. The following facts are known:\n",
    "\n",
    "* If John is going, he will take his wife Helen along.\n",
    "* At least one of the two older children will visit the Waltons.\n",
    "* Either Helen or Jennifer will visit the Waltons.\n",
    "* Either both daughters will visit the Waltons together or neither of them will.\n",
    "* If Thomas visits the Waltons, both John and Amy will also visit.\n",
    "\n",
    "What part of the Smith family will visit the Walton family?"
   ]
  },
  {
   "cell_type": "markdown",
   "metadata": {},
   "source": [
    "Define the set $\\mathcal{P}$ of propositional variables:"
   ]
  },
  {
   "cell_type": "code",
   "execution_count": null,
   "metadata": {},
   "outputs": [],
   "source": [
    "P = \"your code here\""
   ]
  },
  {
   "cell_type": "markdown",
   "metadata": {},
   "source": [
    "Your next task is to translate the facts given above into formulas from propositional logic. "
   ]
  },
  {
   "cell_type": "markdown",
   "metadata": {},
   "source": [
    "If Mr. Smith is going, he will take his wife Helen along:"
   ]
  },
  {
   "cell_type": "code",
   "execution_count": null,
   "metadata": {},
   "outputs": [],
   "source": [
    "f1 = 'your formula here'"
   ]
  },
  {
   "cell_type": "markdown",
   "metadata": {},
   "source": [
    "At least one of the two older children will visit the Waltons:"
   ]
  },
  {
   "cell_type": "code",
   "execution_count": null,
   "metadata": {},
   "outputs": [],
   "source": [
    "f2 = 'your formula here'"
   ]
  },
  {
   "cell_type": "markdown",
   "metadata": {
    "collapsed": true,
    "jupyter": {
     "outputs_hidden": true
    }
   },
   "source": [
    "Either Mrs. Smith or Jennifer will visit the Waltons:"
   ]
  },
  {
   "cell_type": "code",
   "execution_count": null,
   "metadata": {},
   "outputs": [],
   "source": [
    "f3 = 'your formula here'"
   ]
  },
  {
   "cell_type": "markdown",
   "metadata": {},
   "source": [
    "Either the two daughters will visit the Waltons together or neither of them will \n",
    "visit the Waltons:"
   ]
  },
  {
   "cell_type": "code",
   "execution_count": null,
   "metadata": {},
   "outputs": [],
   "source": [
    "f4 = 'your formula here'"
   ]
  },
  {
   "cell_type": "markdown",
   "metadata": {},
   "source": [
    "If Thomas visits the Waltons, both Mr. Smith and Amy will also visit the Waltons:"
   ]
  },
  {
   "cell_type": "code",
   "execution_count": null,
   "metadata": {},
   "outputs": [],
   "source": [
    "f5 = 'your formula here'"
   ]
  },
  {
   "cell_type": "markdown",
   "metadata": {},
   "source": [
    "We define the set $\\texttt{Fs}$ of all formulas:"
   ]
  },
  {
   "cell_type": "code",
   "execution_count": null,
   "metadata": {},
   "outputs": [],
   "source": [
    "Fs = { f1, f2, f3, f4, f5 }"
   ]
  },
  {
   "cell_type": "markdown",
   "metadata": {},
   "source": [
    "We need to transform the strings <tt>f1</tt> to <tt>f5</tt> into nested tuples representing formulas.  To this end we import a parser for propositional formulas."
   ]
  },
  {
   "cell_type": "code",
   "execution_count": null,
   "metadata": {},
   "outputs": [],
   "source": [
    "%%capture\n",
    "%run Propositional-Logic-Parser.ipynb\n",
    "\n",
    "def transform(s):\n",
    "    \"transform the string s into a nested tuple\"\n",
    "    return LogicParser(s).parse()"
   ]
  },
  {
   "cell_type": "markdown",
   "metadata": {},
   "source": [
    "Next, we transform all formulas into nested tuples:"
   ]
  },
  {
   "cell_type": "code",
   "execution_count": null,
   "metadata": {},
   "outputs": [],
   "source": [
    "Fs = { transform(f) for f in Fs }"
   ]
  },
  {
   "cell_type": "code",
   "execution_count": null,
   "metadata": {},
   "outputs": [],
   "source": [
    "Fs"
   ]
  },
  {
   "cell_type": "markdown",
   "metadata": {},
   "source": [
    "We are looking for a variable assignment $\\mathcal{I}$ that satisfies all formulas in the set <tt>Fs</tt>.  As variable assignments are represented as subsets of the set $\\mathcal{P}$ of propositional variables, we can just iterate of all subsets of $\\mathcal{P}$."
   ]
  },
  {
   "cell_type": "markdown",
   "metadata": {},
   "source": [
    "We have previously discussed how to compute the power set $2^M$ of a given set $M$:"
   ]
  },
  {
   "cell_type": "code",
   "execution_count": null,
   "metadata": {},
   "outputs": [],
   "source": [
    "def allSubsets(M: set[T]) -> list[set[T]]:\n",
    "    \"Compute a list containing all subsets of the set M\"\n",
    "    if M == set():\n",
    "        return [ set() ]\n",
    "    x = M.pop() # remove x from M and return x\n",
    "    L = allSubsets(M)\n",
    "    return L + [ A | { x } for A in L ]"
   ]
  },
  {
   "cell_type": "markdown",
   "metadata": {},
   "source": [
    "The function $\\texttt{evaluate}(F, I)$ takes a propositional formula $F$ and a propositional variable assignment $I$ and evaluates $F$ using the assignment $I$.  We have discussed the details of this function previously."
   ]
  },
  {
   "cell_type": "code",
   "execution_count": null,
   "metadata": {},
   "outputs": [],
   "source": [
    "def evaluate(F, I):\n",
    "    \"Evaluate the propositional formula F using the interpretation I\"\n",
    "    if isinstance(F, str):       # F is a propositional variable\n",
    "        return F in I            # This variable is true if it occurs in I\n",
    "    if F[0] == '⊤': return True\n",
    "    if F[0] == '⊥': return False\n",
    "    if F[0] == '¬': return not evaluate(F[1], I)\n",
    "    if F[0] == '∧': return     evaluate(F[1], I) and evaluate(F[2], I)\n",
    "    if F[0] == '∨': return     evaluate(F[1], I) or  evaluate(F[2], I)\n",
    "    if F[0] == '→': return     evaluate(F[1], I) <=  evaluate(F[2], I)\n",
    "    if F[0] == '↔': return     evaluate(F[1], I) == evaluate(F[2], I)"
   ]
  },
  {
   "cell_type": "markdown",
   "metadata": {},
   "source": [
    "The function $\\texttt{allTrue}(\\texttt{Fs}, I)$ takes a set of propositional formula \n",
    "$\\texttt{Fs}$ and a propositional variable assignment $I$.  It returns true only if and \n",
    "only if all formulas from $\\texttt{Fs}$ are true given the variable assignment $I$."
   ]
  },
  {
   "cell_type": "code",
   "execution_count": null,
   "metadata": {},
   "outputs": [],
   "source": [
    "def allTrue(Fs, I):\n",
    "    return all({evaluate(f, I) for f in Fs})"
   ]
  },
  {
   "cell_type": "markdown",
   "metadata": {},
   "source": [
    "Next, we compute the set of all variable assignments that render all formulas true:"
   ]
  },
  {
   "cell_type": "code",
   "execution_count": null,
   "metadata": {},
   "outputs": [],
   "source": [
    "\"your code here\""
   ]
  },
  {
   "cell_type": "markdown",
   "metadata": {},
   "source": [
    "Can you tell now who is going to visit the Waltons?"
   ]
  }
 ],
 "metadata": {
  "hide_input": false,
  "kernelspec": {
   "display_name": "Python 3 (ipykernel)",
   "language": "python",
   "name": "python3"
  },
  "language_info": {
   "codemirror_mode": {
    "name": "ipython",
    "version": 3
   },
   "file_extension": ".py",
   "mimetype": "text/x-python",
   "name": "python",
   "nbconvert_exporter": "python",
   "pygments_lexer": "ipython3",
   "version": "3.13.2"
  },
  "toc": {
   "base_numbering": 1,
   "nav_menu": {},
   "number_sections": true,
   "sideBar": true,
   "skip_h1_title": false,
   "title_cell": "Table of Contents",
   "title_sidebar": "Contents",
   "toc_cell": false,
   "toc_position": {},
   "toc_section_display": true,
   "toc_window_display": false
  },
  "varInspector": {
   "cols": {
    "lenName": 16,
    "lenType": 16,
    "lenVar": 40
   },
   "kernels_config": {
    "python": {
     "delete_cmd_postfix": "",
     "delete_cmd_prefix": "del ",
     "library": "var_list.py",
     "varRefreshCmd": "print(var_dic_list())"
    },
    "r": {
     "delete_cmd_postfix": ") ",
     "delete_cmd_prefix": "rm(",
     "library": "var_list.r",
     "varRefreshCmd": "cat(var_dic_list()) "
    }
   },
   "types_to_exclude": [
    "module",
    "function",
    "builtin_function_or_method",
    "instance",
    "_Feature"
   ],
   "window_display": false
  }
 },
 "nbformat": 4,
 "nbformat_minor": 4
}
