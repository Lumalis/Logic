{
 "cells": [
  {
   "cell_type": "code",
   "execution_count": 1,
   "metadata": {},
   "outputs": [
    {
     "data": {
      "text/html": [
       "<link href='http://fonts.googleapis.com/css?family=Alegreya+Sans:100,300,400,500,700,800,900,100italic,300italic,400italic,500italic,700italic,800italic,900italic' rel='stylesheet' type='text/css'>\n",
       "<link href='http://fonts.googleapis.com/css?family=Arvo:400,700,400italic' rel='stylesheet' type='text/css'>\n",
       "<link href='http://fonts.googleapis.com/css?family=PT+Mono' rel='stylesheet' type='text/css'>\n",
       "<link href='http://fonts.googleapis.com/css?family=Shadows+Into+Light' rel='stylesheet' type='text/css'>\n",
       "<link href='http://fonts.googleapis.com/css?family=Philosopher:400,700,400italic,700italic' rel='stylesheet' type='text/css'>\n",
       "\n",
       "<style>\n",
       "\n",
       "@font-face {\n",
       "    font-family: \"Computer Modern\";\n",
       "    src: url('http://mirrors.ctan.org/fonts/cm-unicode/fonts/otf/cmunss.otf');\n",
       "}\n",
       "\n",
       ".container { width: 100% }\n",
       "\n",
       "/* Formatting for header cells */\n",
       ".text_cell_render h1 {\n",
       "    font-family: 'Philosopher', sans-serif;\n",
       "    font-weight: 400;\n",
       "    font-size: 2.2em;\n",
       "    line-height: 100%;\n",
       "    color: rgb(0, 80, 120);\n",
       "    margin-bottom: 0.1em;\n",
       "    margin-top: 0.1em;\n",
       "    display: block;\n",
       "}\t\n",
       ".text_cell_render h2 {\n",
       "    font-family: 'Philosopher', serif;\n",
       "    font-weight: 400;\n",
       "    font-size: 1.9em;\n",
       "    line-height: 100%;\n",
       "    color: rgb(200,100,0);\n",
       "    margin-bottom: 0.1em;\n",
       "    margin-top: 0.1em;\n",
       "    display: block;\n",
       "}\t\n",
       "\n",
       ".text_cell_render h3 {\n",
       "    font-family: 'Philosopher', serif;\n",
       "    margin-top:12px;\n",
       "    margin-bottom: 3px;\n",
       "    font-style: italic;\n",
       "    color: rgb(94,127,192);\n",
       "}\n",
       "\n",
       ".text_cell_render h4 {\n",
       "    font-family: 'Philosopher', serif;\n",
       "}\n",
       "\n",
       ".text_cell_render h5 {\n",
       "    font-family: 'Alegreya Sans', sans-serif;\n",
       "    font-weight: 300;\n",
       "    font-size: 16pt;\n",
       "    color: grey;\n",
       "    font-style: italic;\n",
       "    margin-bottom: .1em;\n",
       "    margin-top: 0.1em;\n",
       "    display: block;\n",
       "}\n",
       "\n",
       ".text_cell_render h6 {\n",
       "    font-family: 'PT Mono', sans-serif;\n",
       "    font-weight: 300;\n",
       "    font-size: 10pt;\n",
       "    color: grey;\n",
       "    margin-bottom: 1px;\n",
       "    margin-top: 1px;\n",
       "}\n",
       "\n",
       ".text_cell_render em {\n",
       "    font-family: 'Philosopher', sans-serif;\n",
       "    color:        blue;\n",
       "    background-color: rgb(255,220,180);\n",
       "    font-size:    110%;\n",
       "    margin-left:   2px;\n",
       "    margin-right:  2px;\n",
       "    font-weight:   100;\n",
       "}\n",
       "\n",
       ".text_cell_render b {\n",
       "    color:            rgb(255,195,195);\n",
       "    background-color: rgb(0,0,0);\n",
       "    font-size:    110%;\n",
       "    margin-left:   2px;\n",
       "    margin-right:  2px;\n",
       "    font-weight:   650;\n",
       "}\n",
       "\n",
       ".text_cell_render tt {\n",
       "    font-size:    120%;\n",
       "    margin-left:   2px;\n",
       "    margin-right:  2px;\n",
       "    font-weight:   150;\n",
       "}\n",
       "\n",
       ".Codemirror {\n",
       "    font-family: \"PT Mono\";\n",
       "    font-size: 100%;\n",
       "}\n",
       "\n",
       "</style>\n",
       "\n"
      ],
      "text/plain": [
       "<IPython.core.display.HTML object>"
      ]
     },
     "execution_count": 1,
     "metadata": {},
     "output_type": "execute_result"
    }
   ],
   "source": [
    "from IPython.core.display import HTML\n",
    "with open('../style.css', 'r') as file:\n",
    "    css = file.read()\n",
    "HTML(css)"
   ]
  },
  {
   "cell_type": "markdown",
   "metadata": {},
   "source": [
    "# The <a href=\"https://en.wikipedia.org/wiki/DPLL_algorithm\">Davis-Putnam Algorithm</a>"
   ]
  },
  {
   "cell_type": "markdown",
   "metadata": {},
   "source": [
    "This notebook implements the algorithm of Davis and Putnam.  Further details about this algorithm are provided in the lecture notes."
   ]
  },
  {
   "cell_type": "markdown",
   "metadata": {},
   "source": [
    "The function `complement(l)` computes the complement of a literal `l`.\n",
    "If $p$ is a propositional variable, we have the following: \n",
    "* $\\texttt{complement}(p) = \\neg p$,\n",
    "* $\\texttt{complement}(\\neg p) = p$.\n",
    "\n",
    "As we are working with clauses that result form transforming given formulas into *conjunctive normal form* and these clauses do not contain $\\top$ or $\\bot$, we don't have to bother with $\\top$ or $\\bot$ in this function."
   ]
  },
  {
   "cell_type": "code",
   "execution_count": 2,
   "metadata": {},
   "outputs": [],
   "source": [
    "def complement(l):\n",
    "    'Compute the complement of the literal L.'\n",
    "    match l:\n",
    "        case ('¬', p): return p\n",
    "        case p       : return ('¬', p)"
   ]
  },
  {
   "cell_type": "code",
   "execution_count": 3,
   "metadata": {},
   "outputs": [
    {
     "data": {
      "text/plain": [
       "('¬', 'p')"
      ]
     },
     "execution_count": 3,
     "metadata": {},
     "output_type": "execute_result"
    }
   ],
   "source": [
    "complement('p')"
   ]
  },
  {
   "cell_type": "code",
   "execution_count": 4,
   "metadata": {},
   "outputs": [
    {
     "data": {
      "text/plain": [
       "'p'"
      ]
     },
     "execution_count": 4,
     "metadata": {},
     "output_type": "execute_result"
    }
   ],
   "source": [
    "complement(('¬', 'p'))"
   ]
  },
  {
   "cell_type": "markdown",
   "metadata": {},
   "source": [
    "The function `extractVariable(l)` extracts the variable from the literal `l`.\n",
    "If $p$ is a propositional variable, we have the following: \n",
    "* $\\texttt{extractVariable}(p) = p$,\n",
    "* $\\texttt{extractVariable}(\\neg p) = p$."
   ]
  },
  {
   "cell_type": "code",
   "execution_count": 5,
   "metadata": {},
   "outputs": [],
   "source": [
    "def extractVariable(l):\n",
    "    'Extract the propositional variable from the literal l.'\n",
    "    match l:\n",
    "        case ('¬', p): return p\n",
    "        case p       : return p "
   ]
  },
  {
   "cell_type": "code",
   "execution_count": 6,
   "metadata": {},
   "outputs": [
    {
     "data": {
      "text/plain": [
       "'p'"
      ]
     },
     "execution_count": 6,
     "metadata": {},
     "output_type": "execute_result"
    }
   ],
   "source": [
    "extractVariable('p')"
   ]
  },
  {
   "cell_type": "code",
   "execution_count": 7,
   "metadata": {},
   "outputs": [
    {
     "data": {
      "text/plain": [
       "'p'"
      ]
     },
     "execution_count": 7,
     "metadata": {},
     "output_type": "execute_result"
    }
   ],
   "source": [
    "extractVariable(('¬', 'p'))"
   ]
  },
  {
   "cell_type": "markdown",
   "metadata": {},
   "source": [
    "The function `arb(S)` returns an arbitrary element from the set `S`."
   ]
  },
  {
   "cell_type": "code",
   "execution_count": 8,
   "metadata": {},
   "outputs": [],
   "source": [
    "def arb(S):\n",
    "    'Return some member from the set S.'\n",
    "    for x in S: \n",
    "        return x"
   ]
  },
  {
   "cell_type": "code",
   "execution_count": 9,
   "metadata": {},
   "outputs": [],
   "source": [
    "import random as rnd"
   ]
  },
  {
   "cell_type": "markdown",
   "metadata": {},
   "source": [
    "The function `selectVariable(Clauses, Forbidden)`\n",
    "selects an arbitrary variable from a clause from the set `Clauses` that does not occur in the set `Forbidden`.  This variable is returned."
   ]
  },
  {
   "cell_type": "code",
   "execution_count": 10,
   "metadata": {},
   "outputs": [],
   "source": [
    "def selectVariable(Clauses, Forbidden):\n",
    "    #return rnd.choice(list({ extractVariable(l) for C in Clauses for l in C } - Forbidden))\n",
    "    return arb({ extractVariable(l) for C in Clauses for l in C } - Forbidden)"
   ]
  },
  {
   "cell_type": "markdown",
   "metadata": {},
   "source": [
    "Given a set of clauses `Clauses` and a literal `l`, the procedure `reduce(Clauses, l)` performs all unit cuts and all unit subsumptions on clauses of of the set `Clauses` that are possible using the unit clause $\\{\\mathtt{l}\\}$.  The resulting set of clauses is returned.  Mathematically, the function `reduce` is defined as follows:\n",
    "$$\\texttt{reduce}(\\texttt{Clauses},l)  := \n",
    " \\Bigl\\{\\, C \\backslash \\bigl\\{\\overline{\\,l\\,}\\bigr\\} \\;|\\; C \\in \\texttt{Clauses} \\wedge \\overline{\\,l\\,} \\in C \\,\\Bigr\\} \n",
    "       \\,\\cup\\, \\Bigl\\{\\, C \\in \\texttt{Clauses} \\mid \\overline{\\,l\\,} \\not\\in C \\wedge l \\not\\in C \\Bigr\\} \\cup \\bigl\\{\\{l\\}\\bigr\\}.\n",
    "$$\n",
    "This function should only be called if the unit clause $\\{l\\}$ is an element of the set `Clauses`."
   ]
  },
  {
   "cell_type": "code",
   "execution_count": 11,
   "metadata": {},
   "outputs": [],
   "source": [
    "def reduce(Clauses, l):\n",
    "    lBar = complement(l)  \n",
    "    return   { C - { lBar } for C in Clauses if lBar     in C                }  \\\n",
    "           | { C            for C in Clauses if lBar not in C and l not in C }  \\\n",
    "           | { frozenset({l}) }"
   ]
  },
  {
   "cell_type": "markdown",
   "metadata": {},
   "source": [
    "`Clauses` is a set of clauses.  The call `saturate(Clauses)` computes the set of those clauses that can be derived from `Clauses` via repeated applications of unit cuts or unit subsumptions."
   ]
  },
  {
   "cell_type": "code",
   "execution_count": 12,
   "metadata": {},
   "outputs": [],
   "source": [
    "def saturate(Clauses):\n",
    "    S     = Clauses.copy()\n",
    "    Units = { C for C in S if len(C) == 1 } # set of unit clauses occurring in C\n",
    "    Used  = set()                           # remember which unit clauses have already been used\n",
    "    while len(Units) > 0:  # iterate as long as we derive new unit clauses\n",
    "        unit  = Units.pop()\n",
    "        Used |= { unit }\n",
    "        l     = arb(unit)\n",
    "        S     = reduce(S, l)\n",
    "        Units = { C for C in S if len(C) == 1 } - Used        \n",
    "    return S"
   ]
  },
  {
   "cell_type": "markdown",
   "metadata": {},
   "source": [
    "The function `isFalsum(Clauses)` is true if and only if `Clauses` is a set of clauses that contains nothing but the empty clause `{}`. "
   ]
  },
  {
   "cell_type": "code",
   "execution_count": 13,
   "metadata": {},
   "outputs": [],
   "source": [
    "def isFalsum(Clauses):\n",
    "    return Clauses == { frozenset() }"
   ]
  },
  {
   "cell_type": "markdown",
   "metadata": {},
   "source": [
    "The function `solve(Clauses, Variables)` takes a set of clauses and a set of variables as input.  The function tries to compute a variable assignment that satisfies all clauses in `Clauses`.  If this is successful, a set of unit clauses is returned.  This set of unit clauses does not contain  any complementary literals and therefore corresponds to a variable assignment satisfying all clauses.  If the set `Clauses` is unsatisfiable, then the set `{{}}` is returned instead.\n",
    "\n",
    "The argument `Variables` is a set containing all those variables that have already been used to reduce the clauses.  Initially, this set is empty."
   ]
  },
  {
   "cell_type": "code",
   "execution_count": 14,
   "metadata": {},
   "outputs": [],
   "source": [
    "def solve(Clauses, Variables):\n",
    "    S      = saturate(Clauses)\n",
    "    empty  = frozenset()\n",
    "    Falsum = {empty}\n",
    "    if empty in S:                  # S is inconsistent\n",
    "        return Falsum           \n",
    "    if all(len(C) == 1 for C in S): # S is trivial\n",
    "        return S\n",
    "    # case distinction on variable p\n",
    "    p      = selectVariable(S, Variables)\n",
    "    Result = solve(S | { frozenset({p}) },  Variables | { p })\n",
    "    if not isFalsum(Result):\n",
    "        return Result\n",
    "    return solve(S | { frozenset({complement(p)}) }, Variables | { p })"
   ]
  },
  {
   "cell_type": "markdown",
   "metadata": {},
   "source": [
    "The function $\\texttt{toString}(S)$ takes a set $S$ as input.  The set $S$ is a set of frozensets and the function converts $S$ into a string that looks like a set of sets.  This is only used for pretty printing."
   ]
  },
  {
   "cell_type": "code",
   "execution_count": 15,
   "metadata": {},
   "outputs": [],
   "source": [
    "def literal_to_str(C):\n",
    "    'Convert a unit clause to a string.'\n",
    "    l = arb(C)\n",
    "    if l[0] == '¬':\n",
    "        return f'{str(l[1])} ↦ False' \n",
    "    else:\n",
    "        return f'{str(l)} ↦ True'\n",
    "    \n",
    "def toString(S, Simplified):\n",
    "    'Convert the set S of frozen sets to a string where frozen sets are written as sets.'\n",
    "    if len(Simplified) == 1:\n",
    "        Clause = arb(Simplified)\n",
    "        if len(Clause) == 0:\n",
    "            return f'{prettify(S)} is unsolvable'\n",
    "    else:\n",
    "        result = '{ ' + ', '.join({ literal_to_str(C) for C in Simplified }) + ' }'\n",
    "        return result"
   ]
  },
  {
   "cell_type": "code",
   "execution_count": 16,
   "metadata": {},
   "outputs": [],
   "source": [
    "def prettify(Clauses):\n",
    "    return ', '.join({str(set(C)) for C in Clauses})"
   ]
  },
  {
   "cell_type": "code",
   "execution_count": 17,
   "metadata": {},
   "outputs": [
    {
     "name": "stdout",
     "output_type": "stream",
     "text": [
      "{ p ↦ False, s ↦ True, q ↦ False, r ↦ False }\n"
     ]
    }
   ],
   "source": [
    "c1 = frozenset({ 'r', 'p', 's' })\n",
    "c2 = frozenset({ 'r', 's' })\n",
    "c3 = frozenset({ 'p', 'q', 's' })\n",
    "c4 = frozenset({ ('¬', 'p'), ('¬', 'q') })\n",
    "c5 = frozenset({ ('¬', 'p'), 's', ('¬', 'r') })\n",
    "c6 = frozenset({ 'p', ('¬', 'q'), 'r'})\n",
    "c7 = frozenset({ ('¬', 'r'), ('¬', 's'), 'q' })\n",
    "c8 = frozenset({ ('¬', 'p'), ('¬', 's')})\n",
    "c9 = frozenset({ 'p', ('¬', 'r'), ('¬', 'q') })\n",
    "c0 = frozenset({ ('¬', 'p'), 'r', 'q', ('¬', 's') })\n",
    "S  = { c0, c1, c2, c3, c4, c5, c6, c7, c8, c9 }\n",
    "print(toString(S, solve(S, set())))"
   ]
  },
  {
   "cell_type": "code",
   "execution_count": 18,
   "metadata": {},
   "outputs": [
    {
     "name": "stdout",
     "output_type": "stream",
     "text": [
      "{('¬', 'q'), ('¬', 'p')}, {('¬', 'q'), 'r', 'p'}, {'s', 'q', 'p'}, {('¬', 's'), 'q', 'r', ('¬', 'p')}, {'s', 'r', 'p'}, {('¬', 's'), ('¬', 'r'), 'q'}, {'s', 'r'}, {('¬', 's'), ('¬', 'p')}, {('¬', 's'), 'q', 'r', 'p'}, {('¬', 'r'), ('¬', 'q'), 'p'}, {'s', ('¬', 'r'), ('¬', 'p')} is unsolvable\n"
     ]
    }
   ],
   "source": [
    "c10 = frozenset({ 'p', 'r', 'q', ('¬', 's') })\n",
    "S   = { c0, c1, c2, c3, c4, c5, c6, c7, c8, c9, c10 }\n",
    "print(toString(S, solve(S, set())))"
   ]
  },
  {
   "cell_type": "code",
   "execution_count": 19,
   "metadata": {},
   "outputs": [
    {
     "data": {
      "text/plain": [
       "{frozenset({'q'}), frozenset({'r'}), frozenset({'s'}), frozenset({('¬', 'p')})}"
      ]
     },
     "execution_count": 19,
     "metadata": {},
     "output_type": "execute_result"
    }
   ],
   "source": [
    "c1 = frozenset({ 'r', 'p', 's' })\n",
    "c2 = frozenset({ 'r', 's' })\n",
    "c3 = frozenset({ 'q', 'p', 's' })\n",
    "c4 = frozenset({ ('¬', 'p'), ('¬', 'q') })\n",
    "c5 = frozenset({ ('¬', 'p'), 's', ('¬', 'r') })\n",
    "c6 = frozenset({ 'p', ('¬', 'q'), 'r' })\n",
    "c7 = frozenset({ ('¬', 'r'), ('¬', 's'), 'q' })\n",
    "c8 = frozenset({ 'p', 'q', 'r', 's' })\n",
    "c9 = frozenset({ 'r', ('¬', 's'), 'q' })\n",
    "c10 = frozenset({ 's', ('¬', 'r'), ('¬', 'q') })\n",
    "c11 = frozenset({ 's', ('¬', 'r') })\n",
    "c12 = frozenset({ 'r', ('¬', 's') })\n",
    "S  = {c1, c2, c3, c4, c5, c6, c7, c8, c9, c10, c11, c12}\n",
    "solve(S, set())"
   ]
  },
  {
   "cell_type": "code",
   "execution_count": null,
   "metadata": {},
   "outputs": [],
   "source": []
  }
 ],
 "metadata": {
  "hide_input": false,
  "kernelspec": {
   "display_name": "Python 3 (ipykernel)",
   "language": "python",
   "name": "python3"
  },
  "language_info": {
   "codemirror_mode": {
    "name": "ipython",
    "version": 3
   },
   "file_extension": ".py",
   "mimetype": "text/x-python",
   "name": "python",
   "nbconvert_exporter": "python",
   "pygments_lexer": "ipython3",
   "version": "3.10.11"
  },
  "toc": {
   "base_numbering": 1,
   "nav_menu": {},
   "number_sections": true,
   "sideBar": true,
   "skip_h1_title": false,
   "title_cell": "Table of Contents",
   "title_sidebar": "Contents",
   "toc_cell": false,
   "toc_position": {},
   "toc_section_display": true,
   "toc_window_display": false
  },
  "varInspector": {
   "cols": {
    "lenName": 16,
    "lenType": 16,
    "lenVar": 40
   },
   "kernels_config": {
    "python": {
     "delete_cmd_postfix": "",
     "delete_cmd_prefix": "del ",
     "library": "var_list.py",
     "varRefreshCmd": "print(var_dic_list())"
    },
    "r": {
     "delete_cmd_postfix": ") ",
     "delete_cmd_prefix": "rm(",
     "library": "var_list.r",
     "varRefreshCmd": "cat(var_dic_list()) "
    }
   },
   "types_to_exclude": [
    "module",
    "function",
    "builtin_function_or_method",
    "instance",
    "_Feature"
   ],
   "window_display": false
  }
 },
 "nbformat": 4,
 "nbformat_minor": 2
}
