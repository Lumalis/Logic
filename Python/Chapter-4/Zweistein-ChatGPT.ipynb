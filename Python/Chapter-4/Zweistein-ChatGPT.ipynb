{
 "cells": [
  {
   "cell_type": "markdown",
   "id": "6a29f99c-7048-4876-9e0a-9f3aac8f823d",
   "metadata": {},
   "source": [
    "# A Logic Puzzle"
   ]
  },
  {
   "cell_type": "markdown",
   "id": "6333d1cb-012f-4e4f-bd7d-898ea4c19555",
   "metadata": {},
   "source": [
    "The following exercise is taken from the book \n",
    "<a href=\"https://www.amazon.de/Logeleien-Zweistein-ihren-Antworten-Wegner/dp/B006YF0VUE\">\"99 Logeleien von Zweistein\"</a>.\n",
    "This book has been published 1968.  It is written by \n",
    "<a href=\"http://de.wikipedia.org/wiki/Thomas_von_Randow\">Thomas von Randow</a>."
   ]
  },
  {
   "cell_type": "markdown",
   "id": "28f0d3c4-adae-40dd-9bc2-0c58e9449df4",
   "metadata": {},
   "source": [
    "---\n",
    "The gentlemen Amann, Bemann, Cemann and Demann are called - not necessarily in the same order - by their first names Erich, Fritz, Gustav and Heiner. They are all married to exactly one woman. We also know the following about them and their wives:\n",
    "\n",
    "- Either Amann's first name is Heiner, or Bemann's wife is Inge.\n",
    "- If Cemann is married to Josefa, then - **and only in this case** - Klara's husband is **not** called Fritz.\n",
    "- If Josefa's husband is **not** called Erich, then Inge is married to Fritz.\n",
    "- If Luise's husband is called Fritz, then Klara's husband's first name is **not** Gustav.\n",
    "- If the wife of Fritz is called Inge, then Erich is **not** married to Josefa.\n",
    "- If Fritz is **not** married to Luise, then Gustav's wife's name is Klara.\n",
    "- Either Demann is married to Luise, or Cemann is called Gustav.\n",
    "\n",
    "*What are the full fullnames of these gentlemen, and what are their wives' first names?*\n",
    "\n",
    "---"
   ]
  },
  {
   "cell_type": "code",
   "execution_count": 1,
   "id": "fa13fb7e-b678-46b2-a4c5-6f2fe8300d27",
   "metadata": {},
   "outputs": [],
   "source": [
    "from itertools import permutations"
   ]
  },
  {
   "cell_type": "markdown",
   "id": "706111f1-7387-4f63-8cdc-a3d6d2ec63ee",
   "metadata": {},
   "source": [
    "Possible first names and wives' names"
   ]
  },
  {
   "cell_type": "code",
   "execution_count": 2,
   "id": "042eeb60-3123-4b41-960c-0e989611fbd9",
   "metadata": {},
   "outputs": [],
   "source": [
    "first_names = ['Erich', 'Fritz' , 'Gustav', 'Heiner']\n",
    "wives       = ['Inge' , 'Josefa', 'Klara' , 'Luise' ]"
   ]
  },
  {
   "cell_type": "markdown",
   "id": "598c338e-d516-4c93-ab16-19c89f9d82dc",
   "metadata": {},
   "source": [
    "All possible permutations of names and wives"
   ]
  },
  {
   "cell_type": "code",
   "execution_count": 3,
   "id": "feb10833-57f3-4ce3-b736-0d80322f4e46",
   "metadata": {},
   "outputs": [],
   "source": [
    "first_name_permutations = list(permutations(first_names))\n",
    "wife_permutations       = list(permutations(wives))"
   ]
  },
  {
   "cell_type": "markdown",
   "id": "c9db56da-4de3-4bd0-853a-8637c32079ae",
   "metadata": {},
   "source": [
    "Function to check if a setup is valid according to the given constraints"
   ]
  },
  {
   "cell_type": "code",
   "execution_count": 4,
   "id": "cf78e200-8252-4255-86ec-1d07708b1ac0",
   "metadata": {},
   "outputs": [],
   "source": [
    "def is_valid_setup(marriages):\n",
    "    amann, bemann, cemann, demann = marriages\n",
    "    amann_name,  amann_wife  = amann\n",
    "    bemann_name, bemann_wife = bemann\n",
    "    cemann_name, cemann_wife = cemann\n",
    "    demann_name, demann_wife = demann\n",
    "    # Constraint 1: Either Amann's first name is Heiner, or Bemann's wife is Inge, but not both.\n",
    "    if (amann_name == 'Heiner') == (bemann_wife == 'Inge'):\n",
    "        return False\n",
    "    # Constraint 2.(a): If Cemann is married to Josefa, then Klara's husband is not called Fritz\n",
    "    if cemann_wife == 'Josefa':\n",
    "        if ('Fritz', 'Klara') in marriages:\n",
    "            return False\n",
    "    # Constraint 2.(b): If Cemann is not married to Josefa, then Klara's husband is called Fritz            \n",
    "    if cemann_wife != 'Josefa':\n",
    "        if ('Fritz', 'Klara') not in marriages:\n",
    "            return False\n",
    "    # Constraint 3: If Josefa's husband is not called Erich, then Inge is married to Fritz\n",
    "    if ('Erich', 'Josef') not in marriages:\n",
    "        if not ('Fritz', 'Inge') in marriages:\n",
    "            return False\n",
    "    # Constraint 4: If Luise's husband is called Fritz, then Klara's husband is not Gustav\n",
    "    if ('Fritz', 'Luise') in marriages:\n",
    "        if ('Gustav', 'Klara') in marriages:\n",
    "            return False\n",
    "    # Constraint 5: If the wife of Fritz is called Inge, then Erich is not married to Josefa\n",
    "    if ('Fritz', 'Inge') in marriages:\n",
    "        if ('Erich', 'Josefa') in marriages:\n",
    "            return False\n",
    "    # Constraint 6: If Fritz is not married to Luise, then Gustav's wife's name is Klara\n",
    "    if ('Fritz', 'Luise') not in marriages:\n",
    "        if ('Gustav', 'Klara') not in marriages:\n",
    "            return False\n",
    "    # Constraint 7: Exclusive or (either Demann is married to Luise, or Cemann is called Gustav, but not both)\n",
    "    if (demann_wife == 'Luise') == (cemann_name == 'Gustav'):\n",
    "        return False\n",
    "    return True"
   ]
  },
  {
   "cell_type": "markdown",
   "id": "38452980-fd51-4c16-b924-7b5b1cd6c712",
   "metadata": {},
   "source": [
    "Try all permutations until a valid setup is found"
   ]
  },
  {
   "cell_type": "code",
   "execution_count": 5,
   "id": "f5a2206f-20e5-467c-92df-d98e77f9f880",
   "metadata": {},
   "outputs": [
    {
     "name": "stdout",
     "output_type": "stream",
     "text": [
      "Amann: ('Gustav', 'Klara')\n",
      "Bemann: ('Fritz', 'Inge')\n",
      "Cemann: ('Heiner', 'Josefa')\n",
      "Demann: ('Erich', 'Luise')\n",
      "CPU times: user 2.07 ms, sys: 130 µs, total: 2.2 ms\n",
      "Wall time: 2.18 ms\n"
     ]
    }
   ],
   "source": [
    "%%time\n",
    "for first_names in first_name_permutations:\n",
    "    for wives in wife_permutations:\n",
    "        marriages = list(zip(first_names, wives))\n",
    "        amann, bemann, cemann, demann = marriages\n",
    "        if is_valid_setup(marriages):\n",
    "            print(f\"Amann: {amann}\")\n",
    "            print(f\"Bemann: {bemann}\")\n",
    "            print(f\"Cemann: {cemann}\")\n",
    "            print(f\"Demann: {demann}\")\n",
    "            break"
   ]
  },
  {
   "cell_type": "code",
   "execution_count": null,
   "id": "ff318678-ddcb-468b-8334-39e1f94ab819",
   "metadata": {},
   "outputs": [],
   "source": []
  }
 ],
 "metadata": {
  "kernelspec": {
   "display_name": "Python 3 (ipykernel)",
   "language": "python",
   "name": "python3"
  },
  "language_info": {
   "codemirror_mode": {
    "name": "ipython",
    "version": 3
   },
   "file_extension": ".py",
   "mimetype": "text/x-python",
   "name": "python",
   "nbconvert_exporter": "python",
   "pygments_lexer": "ipython3",
   "version": "3.12.2"
  }
 },
 "nbformat": 4,
 "nbformat_minor": 5
}
