{
 "cells": [
  {
   "cell_type": "markdown",
   "metadata": {},
   "source": [
    "# The [Zebra Puzzle](https://en.wikipedia.org/wiki/Zebra_Puzzle)"
   ]
  },
  {
   "cell_type": "markdown",
   "metadata": {},
   "source": [
    "The following puzzle appeared in the magazine *Life International* on the 17th of December in the year 1962:\n",
    "* There are five houses.\n",
    "* The Englishman lives in the red house.\n",
    "* The Spaniard owns the dog.\n",
    "* Coffee is drunk in the green house.\n",
    "* The Ukrainian drinks tea.\n",
    "* The green house is immediately to the right of the ivory house.\n",
    "* The Old Gold smoker owns snails.\n",
    "* Kools are smoked in the yellow house.\n",
    "* Milk is drunk in the middle house.\n",
    "* The Norwegian lives in the first house.\n",
    "* The man who smokes Chesterfields lives in the house next to the man with the fox.\n",
    "* Kools are smoked in the house next to the house where the horse is kept.\n",
    "* The Lucky Strike smoker drinks orange juice.\n",
    "* The Japanese smokes Parliaments.*\n",
    "* The Norwegian lives next to the blue house.\n",
    "\n",
    "Furthermore, each of the five houses is painted in a different colour, their inhabitants are of different nationalities, own different pets, drink different beverages, and smoke different brands of cigarettes.\n",
    "\n",
    "Our task is to answers the following questions: \n",
    "1. *Who drinks water?*\n",
    "2. *Who owns the zebra?*"
   ]
  },
  {
   "cell_type": "markdown",
   "metadata": {},
   "source": [
    "## Choosing the Appropriate Variables"
   ]
  },
  {
   "cell_type": "markdown",
   "metadata": {},
   "source": [
    "In order to solve this problem we use the following propositional variables, where the counter $i$ ranges from $1$ to $5$.  \n",
    "\n",
    "* $\\texttt{English}\\langle i \\rangle$ expresses the fact\n",
    "  that the Englishman lives in house number $i$.\n",
    "  \n",
    "  The remaining nationalities are coded using the variables\n",
    "  $\\texttt{Spanish}\\langle i \\rangle$, $\\texttt{Ukrainian}\\langle i \\rangle$,\n",
    "  $\\texttt{Norwegian}\\langle i \\rangle$, and $\\texttt{Japanese}\\langle i \\rangle$.\n",
    "* $\\mathtt{Red}\\langle i \\rangle$ expresses that house number $i$ is red.\n",
    "  \n",
    "  We use the variables $\\texttt{Green}\\langle i \\rangle$, $\\texttt{Ivory}\\langle i \\rangle$,\n",
    "  $\\texttt{Yellow}\\langle i \\rangle$, and $\\texttt{Blue}\\langle i \\rangle$ to encode the remaining\n",
    "  colors.\n",
    "* $\\texttt{OldGold}\\langle i \\rangle$ expresses that the inhabitant of house      \n",
    "  number $i$ smokes cigarettes of the brand \"Old Gold\".\n",
    "  \n",
    "  We use the variables $\\texttt{Kools}\\langle i \\rangle$,\n",
    "  $\\texttt{Chesterfields}\\langle i \\rangle$, $\\texttt{LuckyStrike}\\langle i \\rangle$, and\n",
    "  $\\texttt{Parliaments}\\langle i \\rangle$ to encode the cigarette brands.\n",
    "* $\\texttt{Dog}\\langle i \\rangle$ expresses the fact that the inhabitant of house number\n",
    "  $i$ keeps a dog as his pet.\n",
    "\n",
    "  We use the variables $\\texttt{Snails}\\langle i \\rangle$, $\\texttt{Fox}\\langle i \\rangle$,\n",
    "  $\\texttt{Horse}\\langle i \\rangle$, and $\\texttt{Zebra}\\langle i \\rangle$ to encode the\n",
    "  remaining pets.\n",
    "* $\\texttt{Coffee}\\langle i \\rangle$ expresses the fact the the inhabitant of house number $i$\n",
    "  drinks coffee.\n",
    "\n",
    "  We use the variables $\\texttt{Milk}\\langle i \\rangle$,\n",
    "  $\\texttt{OrangeJuice}\\langle i \\rangle$, $\\texttt{Tea}\\langle i \\rangle$, \n",
    "  and $\\texttt{Water}\\langle i \\rangle$ to encode the remaining drinks.\n",
    "\n",
    "We are using the angular brackets \"$\\langle$\" and \"$\\rangle$\" as part of the variable names \n",
    "because our parser for propositional logic accepts these symbols as part of variable names.  The parser would be confused if we would use the normal parenthesis."
   ]
  },
  {
   "cell_type": "markdown",
   "metadata": {},
   "source": [
    "## Importing the Necessary Modules"
   ]
  },
  {
   "cell_type": "markdown",
   "metadata": {},
   "source": [
    "Our goal is to solve this puzzle by first coding it as a solvability problem of propositional logic and then to solve the resulting set of clauses using the algorithm of Davis and Putnam."
   ]
  },
  {
   "cell_type": "code",
   "execution_count": 5,
   "metadata": {},
   "outputs": [],
   "source": [
    "%%capture \n",
    "%run 07-Davis-Putnam-JW.ipynb"
   ]
  },
  {
   "cell_type": "markdown",
   "metadata": {},
   "source": [
    "In order to be able to transform formulas from propositional logic into sets of clauses we import the module <tt>cnf</tt> which implements the function <tt>normalize</tt> that takes a formula and transforms it into a set of clauses."
   ]
  },
  {
   "cell_type": "code",
   "execution_count": 6,
   "metadata": {},
   "outputs": [],
   "source": [
    "%%capture\n",
    "%run 04-CNF.ipynb"
   ]
  },
  {
   "cell_type": "markdown",
   "metadata": {},
   "source": [
    "In order to write formulas conveniently, we use the parser for propositional logic."
   ]
  },
  {
   "cell_type": "code",
   "execution_count": 7,
   "metadata": {},
   "outputs": [],
   "source": [
    "%%capture\n",
    "%run Propositional-Logic-Parser.ipynb"
   ]
  },
  {
   "cell_type": "markdown",
   "metadata": {},
   "source": [
    "Using the parser and the module <tt>cnf</tt> we can impement a function $\\texttt{parseKNF}(s)$ that takes a string $s$ representing a formula and transforms $s$ into an equivalent set of clauses."
   ]
  },
  {
   "cell_type": "code",
   "execution_count": 8,
   "metadata": {},
   "outputs": [],
   "source": [
    "def parseKNF(s):\n",
    "    nestedTuple = parse(s)\n",
    "    Clauses     = normalize(nestedTuple)\n",
    "    return Clauses"
   ]
  },
  {
   "cell_type": "code",
   "execution_count": 9,
   "metadata": {},
   "outputs": [
    {
     "data": {
      "text/plain": [
       "{frozenset({('¬', 'r'), 'q'}), frozenset({('¬', 'p'), 'q'})}"
      ]
     },
     "execution_count": 9,
     "metadata": {},
     "output_type": "execute_result"
    }
   ],
   "source": [
    "parseKNF('p ∨ r → q')"
   ]
  },
  {
   "cell_type": "markdown",
   "metadata": {},
   "source": [
    "## Auxiliary Functions"
   ]
  },
  {
   "cell_type": "markdown",
   "metadata": {},
   "source": [
    "In order to succinctly express the constraints that all houses have different colours, the inhabitants have different nationalities etc., it is convenient to implement a function $\\texttt{atMostOne}(V)$ that takes a set of variables $V$ and returns a set of formulas that is true if and only if all the variables from $V$ have different values."
   ]
  },
  {
   "cell_type": "code",
   "execution_count": 10,
   "metadata": {},
   "outputs": [],
   "source": [
    "def atMostOne(V):\n",
    "    return { frozenset({('¬',p), ('¬', q)}) for p in V\n",
    "                                            for q in V \n",
    "                                            if  p != q \n",
    "           }"
   ]
  },
  {
   "cell_type": "markdown",
   "metadata": {},
   "source": [
    "Given a name $f$ and an index $i \\in\\{1,2,3,4,5\\}$, the function $\\texttt{var}(i)$ creates the string \n",
    "$f\\langle i \\rangle$, e.g. the call `var(\"Japanese\", 2)` the following string:\n",
    "```\n",
    "Japanese<2>\n",
    "```"
   ]
  },
  {
   "cell_type": "code",
   "execution_count": 11,
   "metadata": {},
   "outputs": [],
   "source": [
    "def var(f, i):\n",
    "    return f + \"<\" + str(i) + \">\" "
   ]
  },
  {
   "cell_type": "code",
   "execution_count": 12,
   "metadata": {},
   "outputs": [
    {
     "data": {
      "text/plain": [
       "'Japanese<2>'"
      ]
     },
     "execution_count": 12,
     "metadata": {},
     "output_type": "execute_result"
    }
   ],
   "source": [
    "var(\"Japanese\", 2)"
   ]
  },
  {
   "cell_type": "markdown",
   "metadata": {},
   "source": [
    "A call of the form $\\texttt{somewhere}(x)$ will return a clause that specifies that the person with property $x$ has to live in one of the houses from $1$ to $5$.  In order to be able to insert this clause into a set, we have to make sure that we return a `frozenset`."
   ]
  },
  {
   "cell_type": "code",
   "execution_count": 13,
   "metadata": {},
   "outputs": [],
   "source": [
    "def somewhere(x):\n",
    "    return frozenset({ var(x, i) for i in range(1, 5+1) })"
   ]
  },
  {
   "cell_type": "code",
   "execution_count": 14,
   "metadata": {},
   "outputs": [
    {
     "data": {
      "text/plain": [
       "frozenset({'Japanese<1>',\n",
       "           'Japanese<2>',\n",
       "           'Japanese<3>',\n",
       "           'Japanese<4>',\n",
       "           'Japanese<5>'})"
      ]
     },
     "execution_count": 14,
     "metadata": {},
     "output_type": "execute_result"
    }
   ],
   "source": [
    "somewhere('Japanese')"
   ]
  },
  {
   "cell_type": "markdown",
   "metadata": {},
   "source": [
    "Given an exclusive set of properties $S$ and a house number $i$, the function $\\texttt{atMostOne}(S, i)$ returns a set of clauses that specifies that the person living in house number $i$ has at most one of the properties from the set $S$.  For example, if \n",
    "$S = \\{\\texttt{\"Japanese\"}, \\texttt{\"Englishman\"}, \\texttt{\"Spaniard\"}, \\texttt{\"Norwegian\"}, \\texttt{\"Ukranian\"}\\}$, \n",
    "then $\\texttt{atMostOne}(S, 3)$ specifies that the inhabitant of house number 3 has at most one of the nationalities from the set $S$."
   ]
  },
  {
   "cell_type": "code",
   "execution_count": 11,
   "metadata": {},
   "outputs": [],
   "source": [
    "def atMostOneAt(S, i):\n",
    "    return atMostOne({var(x, i) for x in S})"
   ]
  },
  {
   "cell_type": "code",
   "execution_count": 12,
   "metadata": {},
   "outputs": [
    {
     "data": {
      "text/plain": [
       "{frozenset({('¬', 'A<1>'), ('¬', 'B<1>')}),\n",
       " frozenset({('¬', 'A<1>'), ('¬', 'C<1>')}),\n",
       " frozenset({('¬', 'B<1>'), ('¬', 'C<1>')})}"
      ]
     },
     "execution_count": 12,
     "metadata": {},
     "output_type": "execute_result"
    }
   ],
   "source": [
    "atMostOneAt({\"A\", \"B\", \"C\"}, 1)"
   ]
  },
  {
   "cell_type": "markdown",
   "metadata": {},
   "source": [
    "The function $\\texttt{onePerHouse}(S)$ is called as follows:\n",
    "$$\\texttt{onePerHouse}(\\{\\texttt{\"Japanese\"},\n",
    "       \\texttt{\"English\"}, \n",
    "       \\texttt{\"Spanish\"}, \\texttt{\"Norwegian\"}, \n",
    "       \\texttt{\"Ukrainian\"}\\})\n",
    "$$\n",
    "This function creates a set of clauses that expresses that there has to be a house where the Japanese lives, a house where the Englishman lives, a house where the Spaniard lives, a house where the Norwegian lives, and a house\n",
    "where the Ukranian lives.  Furthermore, the set of clauses would contain clauses that express that these five persons live in **different** houses."
   ]
  },
  {
   "cell_type": "code",
   "execution_count": 13,
   "metadata": {},
   "outputs": [],
   "source": [
    "def onePerHouse(S):\n",
    "    Clauses = { somewhere(x) for x in S } \n",
    "    for i in range(1, 5+1):\n",
    "        Clauses |= atMostOneAt(S, i)\n",
    "    return Clauses"
   ]
  },
  {
   "cell_type": "code",
   "execution_count": 14,
   "metadata": {},
   "outputs": [
    {
     "data": {
      "text/plain": [
       "{frozenset({('¬', 'A<1>'), ('¬', 'B<1>')}),\n",
       " frozenset({'A<1>', 'A<2>', 'A<3>', 'A<4>', 'A<5>'}),\n",
       " frozenset({'B<1>', 'B<2>', 'B<3>', 'B<4>', 'B<5>'}),\n",
       " frozenset({('¬', 'A<3>'), ('¬', 'B<3>')}),\n",
       " frozenset({('¬', 'A<5>'), ('¬', 'B<5>')}),\n",
       " frozenset({('¬', 'A<2>'), ('¬', 'B<2>')}),\n",
       " frozenset({('¬', 'A<4>'), ('¬', 'B<4>')})}"
      ]
     },
     "execution_count": 14,
     "metadata": {},
     "output_type": "execute_result"
    }
   ],
   "source": [
    "onePerHouse({\"A\", \"B\"})"
   ]
  },
  {
   "cell_type": "markdown",
   "metadata": {},
   "source": [
    "Given to properties $a$ and $b$ the function $\\texttt{sameHouse}(a, b)$ computes a set of clauses that specifies that if the inhabitant of house number $i$ has the property $a$, then he also has the the property $b$ and vice versa.  For example, $\\texttt{sameHouse}(\\texttt{\"Japanese\"}, \\texttt{\"Dog\"})$ specifies that the Japanese guy keeps a dog."
   ]
  },
  {
   "cell_type": "code",
   "execution_count": 15,
   "metadata": {},
   "outputs": [],
   "source": [
    "def sameHouse(a, b):\n",
    "    return { C for i in range(1,5+1)\n",
    "               for C in parseKNF(f\"{var(a, i)} ↔ {var(b, i)}\") \n",
    "           }"
   ]
  },
  {
   "cell_type": "code",
   "execution_count": 16,
   "metadata": {},
   "outputs": [
    {
     "data": {
      "text/plain": [
       "{frozenset({('¬', 'Red<2>'), 'Tea<2>'}),\n",
       " frozenset({('¬', 'Red<3>'), 'Tea<3>'}),\n",
       " frozenset({('¬', 'Red<4>'), 'Tea<4>'}),\n",
       " frozenset({('¬', 'Tea<3>'), 'Red<3>'}),\n",
       " frozenset({('¬', 'Tea<5>'), 'Red<5>'}),\n",
       " frozenset({('¬', 'Tea<1>'), 'Red<1>'}),\n",
       " frozenset({('¬', 'Red<1>'), 'Tea<1>'}),\n",
       " frozenset({('¬', 'Tea<2>'), 'Red<2>'}),\n",
       " frozenset({('¬', 'Tea<4>'), 'Red<4>'}),\n",
       " frozenset({('¬', 'Red<5>'), 'Tea<5>'})}"
      ]
     },
     "execution_count": 16,
     "metadata": {},
     "output_type": "execute_result"
    }
   ],
   "source": [
    "sameHouse(\"Red\", \"Tea\")"
   ]
  },
  {
   "cell_type": "markdown",
   "metadata": {},
   "source": [
    "Given to properties $a$ and $b$ the function $\\texttt{nextTo}(a, b)$ computes a set of clauses that specifies that the inhabitants with properties $a$ and $b$ are direct neighbours.  For example, $\\texttt{nextTo}(\\texttt{'Japanese'}, \\texttt{'Dog'})$ specifies that the Japanese guy lives next to the guy who keeps a dog."
   ]
  },
  {
   "cell_type": "code",
   "execution_count": 17,
   "metadata": {},
   "outputs": [],
   "source": [
    "def nextTo(a, b):\n",
    "    Result = parseKNF(f\"{var(a,1)} → {var(b,2)}\")\n",
    "    for i in [2, 3, 4]:\n",
    "        Result |= parseKNF(f\"{var(a,i)} → {var(b,i-1)} ∨ {var(b,i+1)}\")\n",
    "    Result |= parseKNF(f\"{var(a,5)} → {var(b,4)}\")\n",
    "    return Result"
   ]
  },
  {
   "cell_type": "code",
   "execution_count": 18,
   "metadata": {},
   "outputs": [
    {
     "data": {
      "text/plain": [
       "{frozenset({('¬', 'A<2>'), 'B<1>', 'B<3>'}),\n",
       " frozenset({('¬', 'A<5>'), 'B<4>'}),\n",
       " frozenset({('¬', 'A<3>'), 'B<2>', 'B<4>'}),\n",
       " frozenset({('¬', 'A<4>'), 'B<3>', 'B<5>'}),\n",
       " frozenset({('¬', 'A<1>'), 'B<2>'})}"
      ]
     },
     "execution_count": 18,
     "metadata": {},
     "output_type": "execute_result"
    }
   ],
   "source": [
    "nextTo('A', 'B')"
   ]
  },
  {
   "cell_type": "markdown",
   "metadata": {},
   "source": [
    "Given to properties $a$ and $b$ the function $\\texttt{leftTo}(a, b)$ computes a list of clauses that specifies that the inhabitants with properties $a$ lives in the house to the left of the inhabitant who has property $b$.  For example, $\\texttt{livesTo}(\\texttt{'Japanese'}, \\texttt{'Dog'})$ specifies that the Japanese guy lives in the house to the left of the house where there is a dog."
   ]
  },
  {
   "cell_type": "code",
   "execution_count": 19,
   "metadata": {},
   "outputs": [],
   "source": [
    "def leftTo(a, b):\n",
    "    Result = set()\n",
    "    for i in [1, 2, 3, 4]:\n",
    "        Result |= parseKNF(f\"{var(a,i)} ↔ {var(b,i+1)}\")\n",
    "    Result |= parseKNF(f\"¬{var(a,5)}\")\n",
    "    return Result"
   ]
  },
  {
   "cell_type": "code",
   "execution_count": 20,
   "metadata": {},
   "outputs": [
    {
     "data": {
      "text/plain": [
       "{frozenset({('¬', 'A<5>')}),\n",
       " frozenset({('¬', 'B<3>'), 'A<2>'}),\n",
       " frozenset({('¬', 'A<2>'), 'B<3>'}),\n",
       " frozenset({('¬', 'A<3>'), 'B<4>'}),\n",
       " frozenset({('¬', 'B<2>'), 'A<1>'}),\n",
       " frozenset({('¬', 'B<5>'), 'A<4>'}),\n",
       " frozenset({('¬', 'A<4>'), 'B<5>'}),\n",
       " frozenset({('¬', 'B<4>'), 'A<3>'}),\n",
       " frozenset({('¬', 'A<1>'), 'B<2>'})}"
      ]
     },
     "execution_count": 20,
     "metadata": {},
     "output_type": "execute_result"
    }
   ],
   "source": [
    "leftTo('A', 'B')"
   ]
  },
  {
   "cell_type": "code",
   "execution_count": 23,
   "metadata": {},
   "outputs": [],
   "source": [
    "Nations  = { \"English\", \"Spanish\", \"Ukrainian\", \"Norwegian\", \"Japanese\" }\n",
    "Drinks   = { \"Coffee\", \"Tea\", \"Milk\", \"OrangeJuice\", \"Water\" }\n",
    "Pets     = { \"Dog\", \"Snails\", \"Horse\", \"Fox\", \"Zebra\" }\n",
    "Brands   = { \"LuckyStrike\", \"Parliaments\", \"Kools\", \"Chesterfields\", \"OldGold\" }\n",
    "Colours  = { \"Red\", \"Green\", \"Ivory\", \"Yellow\", \"Blue\" }"
   ]
  },
  {
   "cell_type": "code",
   "execution_count": 24,
   "metadata": {},
   "outputs": [],
   "source": [
    "def allClauses():\n",
    "    # Every house has exactly one inhabitant.  This inhabitant has exactly one\n",
    "    # nationality, one pet, smokes one brand of cigarettes, and has one type\n",
    "    # of drink.  Furthermore, every house has exactly one color.\n",
    "    Clauses  = onePerHouse(Nations)\n",
    "    Clauses |= onePerHouse(Drinks)\n",
    "    Clauses |= onePerHouse(Pets)\n",
    "    Clauses |= onePerHouse(Brands)\n",
    "    Clauses |= onePerHouse(Colours)\n",
    "    # The Englishman lives in the red house.\n",
    "    Clauses |= sameHouse(\"English\", \"Red\")\n",
    "    # The Spaniard owns the dog.\n",
    "    Clauses |= sameHouse(\"Spanish\", \"Dog\")\n",
    "    # Coffee is drunk in the green house.\n",
    "    Clauses |= sameHouse(\"Coffee\", \"Green\")\n",
    "    # The Ukrainian drinks tea.\n",
    "    Clauses |= sameHouse(\"Ukrainian\", \"Tea\")\n",
    "    # The green house is immediately to the right of the ivory house.\n",
    "    Clauses |= leftTo(\"Ivory\", \"Green\")\n",
    "    # The Old Gold smoker owns snails.\n",
    "    Clauses |= sameHouse(\"OldGold\", \"Snails\")\n",
    "    # Kools are smoked in the yellow house.\n",
    "    Clauses |= sameHouse(\"Kools\", \"Yellow\")\n",
    "    # Milk is drunk in the middle house.\n",
    "    Clauses |= parseKNF(\"Milk<3>\")\n",
    "    # The Norwegian lives in the first house.\n",
    "    Clauses |= parseKNF(\"Norwegian<1>\")\n",
    "    # The man who smokes Chesterfields lives in the house next \n",
    "    # to the man with the fox.\n",
    "    Clauses |= nextTo(\"Chesterfields\", \"Fox\")\n",
    "    # Kools are smoked in the house next to the house where the horse is kept.\n",
    "    Clauses |= nextTo(\"Kools\", \"Horse\")\n",
    "    # The Lucky Strike smoker drinks orange juice.\n",
    "    Clauses |= sameHouse(\"LuckyStrike\", \"OrangeJuice\")\n",
    "    # The Japanese smokes Parliaments.\n",
    "    Clauses |= sameHouse(\"Japanese\", \"Parliaments\")\n",
    "    # The Norwegian lives next to the blue house.\n",
    "    Clauses |= nextTo(\"Norwegian\", \"Blue\")\n",
    "    return Clauses"
   ]
  },
  {
   "cell_type": "code",
   "execution_count": 25,
   "metadata": {},
   "outputs": [
    {
     "data": {
      "text/plain": [
       "{frozenset({('¬', 'Norwegian<5>'), ('¬', 'Spanish<5>')}),\n",
       " frozenset({('¬', 'English<4>'), ('¬', 'Norwegian<4>')}),\n",
       " frozenset({('¬', 'OrangeJuice<1>'), ('¬', 'Water<1>')}),\n",
       " frozenset({('¬', 'Chesterfields<2>'), ('¬', 'OldGold<2>')}),\n",
       " frozenset({('¬', 'Ukrainian<2>'), 'Tea<2>'}),\n",
       " frozenset({('¬', 'OrangeJuice<2>'), ('¬', 'Water<2>')}),\n",
       " frozenset({'Fox<1>', 'Fox<2>', 'Fox<3>', 'Fox<4>', 'Fox<5>'}),\n",
       " frozenset({('¬', 'Dog<1>'), ('¬', 'Snails<1>')}),\n",
       " frozenset({('¬', 'OldGold<2>'), ('¬', 'Parliaments<2>')}),\n",
       " frozenset({('¬', 'Coffee<5>'), ('¬', 'Tea<5>')}),\n",
       " frozenset({('¬', 'English<1>'), ('¬', 'Japanese<1>')}),\n",
       " frozenset({('¬', 'LuckyStrike<3>'), ('¬', 'Parliaments<3>')}),\n",
       " frozenset({('¬', 'Blue<5>'), ('¬', 'Ivory<5>')}),\n",
       " frozenset({('¬', 'Coffee<4>'), ('¬', 'OrangeJuice<4>')}),\n",
       " frozenset({'Norwegian<1>'}),\n",
       " frozenset({('¬', 'Dog<2>'), ('¬', 'Snails<2>')}),\n",
       " frozenset({('¬', 'Dog<2>'), 'Spanish<2>'}),\n",
       " frozenset({'LuckyStrike<1>',\n",
       "            'LuckyStrike<2>',\n",
       "            'LuckyStrike<3>',\n",
       "            'LuckyStrike<4>',\n",
       "            'LuckyStrike<5>'}),\n",
       " frozenset({('¬', 'Kools<5>'), ('¬', 'Parliaments<5>')}),\n",
       " frozenset({('¬', 'Coffee<1>'), ('¬', 'Tea<1>')}),\n",
       " frozenset({('¬', 'Milk<5>'), ('¬', 'Tea<5>')}),\n",
       " frozenset({('¬', 'Norwegian<2>'), ('¬', 'Spanish<2>')}),\n",
       " frozenset({'Norwegian<1>',\n",
       "            'Norwegian<2>',\n",
       "            'Norwegian<3>',\n",
       "            'Norwegian<4>',\n",
       "            'Norwegian<5>'}),\n",
       " frozenset({('¬', 'Chesterfields<2>'), ('¬', 'LuckyStrike<2>')}),\n",
       " frozenset({('¬', 'Fox<5>'), ('¬', 'Horse<5>')}),\n",
       " frozenset({('¬', 'Dog<3>'), 'Spanish<3>'}),\n",
       " frozenset({('¬', 'Coffee<3>'), ('¬', 'Water<3>')}),\n",
       " frozenset({('¬', 'Tea<3>'), 'Ukrainian<3>'}),\n",
       " frozenset({('¬', 'Blue<4>'), ('¬', 'Yellow<4>')}),\n",
       " frozenset({('¬', 'Green<1>'), ('¬', 'Yellow<1>')}),\n",
       " frozenset({('¬', 'Snails<3>'), ('¬', 'Zebra<3>')}),\n",
       " frozenset({('¬', 'Dog<4>'), ('¬', 'Horse<4>')}),\n",
       " frozenset({('¬', 'Milk<3>'), ('¬', 'Tea<3>')}),\n",
       " frozenset({('¬', 'Green<4>'), 'Ivory<3>'}),\n",
       " frozenset({('¬', 'Yellow<1>'), 'Kools<1>'}),\n",
       " frozenset({('¬', 'Red<2>'), 'English<2>'}),\n",
       " frozenset({('¬', 'LuckyStrike<1>'), ('¬', 'Parliaments<1>')}),\n",
       " frozenset({('¬', 'English<2>'), ('¬', 'Ukrainian<2>')}),\n",
       " frozenset({('¬', 'Kools<3>'), 'Yellow<3>'}),\n",
       " frozenset({('¬', 'Coffee<2>'), ('¬', 'OrangeJuice<2>')}),\n",
       " frozenset({('¬', 'Spanish<2>'), ('¬', 'Ukrainian<2>')}),\n",
       " frozenset({'Coffee<1>', 'Coffee<2>', 'Coffee<3>', 'Coffee<4>', 'Coffee<5>'}),\n",
       " frozenset({('¬', 'Kools<3>'), ('¬', 'Parliaments<3>')}),\n",
       " frozenset({('¬', 'Fox<1>'), ('¬', 'Snails<1>')}),\n",
       " frozenset({('¬', 'LuckyStrike<2>'), ('¬', 'OldGold<2>')}),\n",
       " frozenset({('¬', 'Fox<3>'), ('¬', 'Zebra<3>')}),\n",
       " frozenset({('¬', 'Dog<2>'), ('¬', 'Fox<2>')}),\n",
       " frozenset({('¬', 'Ivory<4>'), ('¬', 'Yellow<4>')}),\n",
       " frozenset({('¬', 'Norwegian<5>'), 'Blue<4>'}),\n",
       " frozenset({('¬', 'Snails<1>'), 'OldGold<1>'}),\n",
       " frozenset({('¬', 'Fox<2>'), ('¬', 'Horse<2>')}),\n",
       " frozenset({('¬', 'Ukrainian<1>'), 'Tea<1>'}),\n",
       " frozenset({('¬', 'Yellow<4>'), 'Kools<4>'}),\n",
       " frozenset({('¬', 'Milk<2>'), ('¬', 'Water<2>')}),\n",
       " frozenset({('¬', 'Blue<3>'), ('¬', 'Red<3>')}),\n",
       " frozenset({('¬', 'Norwegian<2>'), 'Blue<1>', 'Blue<3>'}),\n",
       " frozenset({('¬', 'English<2>'), ('¬', 'Spanish<2>')}),\n",
       " frozenset({('¬', 'Green<2>'), ('¬', 'Red<2>')}),\n",
       " frozenset({('¬', 'Chesterfields<1>'), 'Fox<2>'}),\n",
       " frozenset({('¬', 'Spanish<5>'), ('¬', 'Ukrainian<5>')}),\n",
       " frozenset({('¬', 'Dog<4>'), ('¬', 'Fox<4>')}),\n",
       " frozenset({('¬', 'Kools<1>'), 'Horse<2>'}),\n",
       " frozenset({'Snails<1>', 'Snails<2>', 'Snails<3>', 'Snails<4>', 'Snails<5>'}),\n",
       " frozenset({('¬', 'Fox<2>'), ('¬', 'Snails<2>')}),\n",
       " frozenset({('¬', 'Tea<4>'), ('¬', 'Water<4>')}),\n",
       " frozenset({('¬', 'Dog<3>'), ('¬', 'Horse<3>')}),\n",
       " frozenset({('¬', 'Ivory<5>')}),\n",
       " frozenset({('¬', 'Japanese<3>'), 'Parliaments<3>'}),\n",
       " frozenset({('¬', 'Snails<2>'), 'OldGold<2>'}),\n",
       " frozenset({('¬', 'Kools<1>'), ('¬', 'Parliaments<1>')}),\n",
       " frozenset({('¬', 'Dog<3>'), ('¬', 'Snails<3>')}),\n",
       " frozenset({('¬', 'Chesterfields<5>'), ('¬', 'OldGold<5>')}),\n",
       " frozenset({('¬', 'Spanish<3>'), ('¬', 'Ukrainian<3>')}),\n",
       " frozenset({('¬', 'English<3>'), ('¬', 'Ukrainian<3>')}),\n",
       " frozenset({('¬', 'Coffee<5>'), 'Green<5>'}),\n",
       " frozenset({('¬', 'Chesterfields<4>'), ('¬', 'Kools<4>')}),\n",
       " frozenset({('¬', 'Green<3>'), 'Coffee<3>'}),\n",
       " frozenset({('¬', 'Kools<4>'), ('¬', 'LuckyStrike<4>')}),\n",
       " frozenset({('¬', 'Blue<5>'), ('¬', 'Red<5>')}),\n",
       " frozenset({('¬', 'Fox<1>'), ('¬', 'Zebra<1>')}),\n",
       " frozenset({('¬', 'Blue<3>'), ('¬', 'Green<3>')}),\n",
       " frozenset({('¬', 'English<4>'), ('¬', 'Ukrainian<4>')}),\n",
       " frozenset({('¬', 'Dog<1>'), 'Spanish<1>'}),\n",
       " frozenset({('¬', 'Tea<3>'), ('¬', 'Water<3>')}),\n",
       " frozenset({('¬', 'Tea<1>'), ('¬', 'Water<1>')}),\n",
       " frozenset({('¬', 'Coffee<3>'), 'Green<3>'}),\n",
       " frozenset({('¬', 'Horse<2>'), ('¬', 'Snails<2>')}),\n",
       " frozenset({('¬', 'Kools<4>'), 'Horse<3>', 'Horse<5>'}),\n",
       " frozenset({('¬', 'OrangeJuice<2>'), 'LuckyStrike<2>'}),\n",
       " frozenset({('¬', 'Green<1>'), 'Coffee<1>'}),\n",
       " frozenset({('¬', 'Horse<4>'), ('¬', 'Snails<4>')}),\n",
       " frozenset({('¬', 'Green<5>'), ('¬', 'Red<5>')}),\n",
       " frozenset({('¬', 'Blue<3>'), ('¬', 'Yellow<3>')}),\n",
       " frozenset({('¬', 'Coffee<1>'), ('¬', 'Water<1>')}),\n",
       " frozenset({('¬', 'Green<1>'), ('¬', 'Red<1>')}),\n",
       " frozenset({('¬', 'Dog<4>'), 'Spanish<4>'}),\n",
       " frozenset({('¬', 'Coffee<2>'), ('¬', 'Water<2>')}),\n",
       " frozenset({('¬', 'Blue<1>'), ('¬', 'Red<1>')}),\n",
       " frozenset({('¬', 'OrangeJuice<5>'), ('¬', 'Water<5>')}),\n",
       " frozenset({('¬', 'Red<5>'), ('¬', 'Yellow<5>')}),\n",
       " frozenset({('¬', 'Ukrainian<3>'), 'Tea<3>'}),\n",
       " frozenset({('¬', 'Chesterfields<3>'), 'Fox<2>', 'Fox<4>'}),\n",
       " frozenset({('¬', 'Green<2>'), ('¬', 'Yellow<2>')}),\n",
       " frozenset({('¬', 'Kools<4>'), ('¬', 'Parliaments<4>')}),\n",
       " frozenset({('¬', 'Red<2>'), ('¬', 'Yellow<2>')}),\n",
       " frozenset({('¬', 'OldGold<3>'), ('¬', 'Parliaments<3>')}),\n",
       " frozenset({('¬', 'Ivory<4>'), ('¬', 'Red<4>')}),\n",
       " frozenset({('¬', 'Tea<5>'), 'Ukrainian<5>'}),\n",
       " frozenset({'English<1>',\n",
       "            'English<2>',\n",
       "            'English<3>',\n",
       "            'English<4>',\n",
       "            'English<5>'}),\n",
       " frozenset({('¬', 'OrangeJuice<3>'), ('¬', 'Tea<3>')}),\n",
       " frozenset({('¬', 'Tea<1>'), 'Ukrainian<1>'}),\n",
       " frozenset({('¬', 'LuckyStrike<4>'), ('¬', 'Parliaments<4>')}),\n",
       " frozenset({'OldGold<1>',\n",
       "            'OldGold<2>',\n",
       "            'OldGold<3>',\n",
       "            'OldGold<4>',\n",
       "            'OldGold<5>'}),\n",
       " frozenset({('¬', 'Milk<4>'), ('¬', 'Water<4>')}),\n",
       " frozenset({('¬', 'Dog<3>'), ('¬', 'Zebra<3>')}),\n",
       " frozenset({('¬', 'OrangeJuice<1>'), 'LuckyStrike<1>'}),\n",
       " frozenset({('¬', 'Dog<5>'), ('¬', 'Snails<5>')}),\n",
       " frozenset({('¬', 'Dog<1>'), ('¬', 'Horse<1>')}),\n",
       " frozenset({('¬', 'Japanese<1>'), 'Parliaments<1>'}),\n",
       " frozenset({('¬', 'LuckyStrike<3>'), 'OrangeJuice<3>'}),\n",
       " frozenset({('¬', 'Kools<3>'), ('¬', 'OldGold<3>')}),\n",
       " frozenset({('¬', 'Chesterfields<3>'), ('¬', 'LuckyStrike<3>')}),\n",
       " frozenset({('¬', 'Japanese<3>'), ('¬', 'Norwegian<3>')}),\n",
       " frozenset({('¬', 'English<5>'), ('¬', 'Spanish<5>')}),\n",
       " frozenset({('¬', 'Chesterfields<1>'), ('¬', 'Parliaments<1>')}),\n",
       " frozenset({('¬', 'Norwegian<4>'), ('¬', 'Ukrainian<4>')}),\n",
       " frozenset({('¬', 'OrangeJuice<5>'), 'LuckyStrike<5>'}),\n",
       " frozenset({('¬', 'Coffee<2>'), ('¬', 'Milk<2>')}),\n",
       " frozenset({('¬', 'Blue<2>'), ('¬', 'Ivory<2>')}),\n",
       " frozenset({('¬', 'Norwegian<3>'), 'Blue<2>', 'Blue<4>'}),\n",
       " frozenset({('¬', 'Red<1>'), 'English<1>'}),\n",
       " frozenset({('¬', 'Green<2>'), 'Ivory<1>'}),\n",
       " frozenset({('¬', 'Green<5>'), ('¬', 'Yellow<5>')}),\n",
       " frozenset({('¬', 'Dog<1>'), ('¬', 'Fox<1>')}),\n",
       " frozenset({('¬', 'OldGold<2>'), 'Snails<2>'}),\n",
       " frozenset({('¬', 'Chesterfields<3>'), ('¬', 'OldGold<3>')}),\n",
       " frozenset({('¬', 'Kools<3>'), ('¬', 'LuckyStrike<3>')}),\n",
       " frozenset({('¬', 'Spanish<5>'), 'Dog<5>'}),\n",
       " frozenset({('¬', 'Green<5>'), ('¬', 'Ivory<5>')}),\n",
       " frozenset({('¬', 'Chesterfields<4>'), ('¬', 'LuckyStrike<4>')}),\n",
       " frozenset({'Ivory<1>', 'Ivory<2>', 'Ivory<3>', 'Ivory<4>', 'Ivory<5>'}),\n",
       " frozenset({('¬', 'LuckyStrike<1>'), 'OrangeJuice<1>'}),\n",
       " frozenset({('¬', 'Horse<3>'), ('¬', 'Snails<3>')}),\n",
       " frozenset({('¬', 'Chesterfields<4>'), ('¬', 'OldGold<4>')}),\n",
       " frozenset({('¬', 'Spanish<1>'), ('¬', 'Ukrainian<1>')}),\n",
       " frozenset({('¬', 'Ukrainian<4>'), 'Tea<4>'}),\n",
       " frozenset({('¬', 'Norwegian<4>'), 'Blue<3>', 'Blue<5>'}),\n",
       " frozenset({('¬', 'Chesterfields<5>'), ('¬', 'Kools<5>')}),\n",
       " frozenset({('¬', 'LuckyStrike<1>'), ('¬', 'OldGold<1>')}),\n",
       " frozenset({('¬', 'Kools<5>'), 'Yellow<5>'}),\n",
       " frozenset({'Yellow<1>', 'Yellow<2>', 'Yellow<3>', 'Yellow<4>', 'Yellow<5>'}),\n",
       " frozenset({('¬', 'Blue<5>'), ('¬', 'Green<5>')}),\n",
       " frozenset({'Blue<1>', 'Blue<2>', 'Blue<3>', 'Blue<4>', 'Blue<5>'}),\n",
       " frozenset({'Milk<3>'}),\n",
       " frozenset({('¬', 'Chesterfields<4>'), 'Fox<3>', 'Fox<5>'}),\n",
       " frozenset({('¬', 'Parliaments<4>'), 'Japanese<4>'}),\n",
       " frozenset({('¬', 'Milk<2>'), ('¬', 'OrangeJuice<2>')}),\n",
       " frozenset({('¬', 'Blue<3>'), ('¬', 'Ivory<3>')}),\n",
       " frozenset({('¬', 'Japanese<5>'), ('¬', 'Spanish<5>')}),\n",
       " frozenset({('¬', 'Norwegian<4>'), ('¬', 'Spanish<4>')}),\n",
       " frozenset({('¬', 'Japanese<3>'), ('¬', 'Spanish<3>')}),\n",
       " frozenset({('¬', 'English<3>'), ('¬', 'Japanese<3>')}),\n",
       " frozenset({('¬', 'Snails<4>'), 'OldGold<4>'}),\n",
       " frozenset({('¬', 'Tea<5>'), ('¬', 'Water<5>')}),\n",
       " frozenset({('¬', 'Green<5>'), 'Ivory<4>'}),\n",
       " frozenset({('¬', 'Ivory<2>'), ('¬', 'Red<2>')}),\n",
       " frozenset({('¬', 'Dog<4>'), ('¬', 'Zebra<4>')}),\n",
       " frozenset({('¬', 'Green<2>'), ('¬', 'Ivory<2>')}),\n",
       " frozenset({('¬', 'Norwegian<1>'), ('¬', 'Spanish<1>')}),\n",
       " frozenset({('¬', 'LuckyStrike<2>'), ('¬', 'Parliaments<2>')}),\n",
       " frozenset({('¬', 'Japanese<5>'), 'Parliaments<5>'}),\n",
       " frozenset({('¬', 'Blue<2>'), ('¬', 'Green<2>')}),\n",
       " frozenset({('¬', 'English<2>'), ('¬', 'Japanese<2>')}),\n",
       " frozenset({('¬', 'Blue<2>'), ('¬', 'Red<2>')}),\n",
       " frozenset({('¬', 'OldGold<1>'), ('¬', 'Parliaments<1>')}),\n",
       " frozenset({('¬', 'Red<3>'), 'English<3>'}),\n",
       " frozenset({('¬', 'Snails<1>'), ('¬', 'Zebra<1>')}),\n",
       " frozenset({('¬', 'OldGold<4>'), ('¬', 'Parliaments<4>')}),\n",
       " frozenset({('¬', 'Red<4>'), 'English<4>'}),\n",
       " frozenset({('¬', 'Blue<1>'), ('¬', 'Ivory<1>')}),\n",
       " frozenset({'Japanese<1>',\n",
       "            'Japanese<2>',\n",
       "            'Japanese<3>',\n",
       "            'Japanese<4>',\n",
       "            'Japanese<5>'}),\n",
       " frozenset({('¬', 'Norwegian<3>'), ('¬', 'Ukrainian<3>')}),\n",
       " frozenset({('¬', 'Green<4>'), ('¬', 'Yellow<4>')}),\n",
       " frozenset({('¬', 'Chesterfields<4>'), ('¬', 'Parliaments<4>')}),\n",
       " frozenset({('¬', 'Fox<4>'), ('¬', 'Horse<4>')}),\n",
       " frozenset({('¬', 'OldGold<3>'), 'Snails<3>'}),\n",
       " frozenset({('¬', 'Fox<5>'), ('¬', 'Snails<5>')}),\n",
       " frozenset({('¬', 'Snails<3>'), 'OldGold<3>'}),\n",
       " frozenset({('¬', 'English<5>'), 'Red<5>'}),\n",
       " frozenset({('¬', 'English<2>'), 'Red<2>'}),\n",
       " frozenset({('¬', 'Coffee<1>'), ('¬', 'OrangeJuice<1>')}),\n",
       " frozenset({('¬', 'Kools<1>'), ('¬', 'OldGold<1>')}),\n",
       " frozenset({('¬', 'Blue<5>'), ('¬', 'Yellow<5>')}),\n",
       " frozenset({('¬', 'English<5>'), ('¬', 'Japanese<5>')}),\n",
       " frozenset({('¬', 'Green<4>'), ('¬', 'Ivory<4>')}),\n",
       " frozenset({('¬', 'OrangeJuice<3>'), 'LuckyStrike<3>'}),\n",
       " frozenset({('¬', 'Fox<3>'), ('¬', 'Snails<3>')}),\n",
       " frozenset({('¬', 'Horse<4>'), ('¬', 'Zebra<4>')}),\n",
       " frozenset({('¬', 'Dog<4>'), ('¬', 'Snails<4>')}),\n",
       " frozenset({('¬', 'Spanish<2>'), 'Dog<2>'}),\n",
       " frozenset({('¬', 'LuckyStrike<4>'), 'OrangeJuice<4>'}),\n",
       " frozenset({('¬', 'Ivory<2>'), 'Green<3>'}),\n",
       " frozenset({('¬', 'Tea<2>'), 'Ukrainian<2>'}),\n",
       " frozenset({('¬', 'Chesterfields<2>'), 'Fox<1>', 'Fox<3>'}),\n",
       " frozenset({'Ukrainian<1>',\n",
       "            'Ukrainian<2>',\n",
       "            'Ukrainian<3>',\n",
       "            'Ukrainian<4>',\n",
       "            'Ukrainian<5>'}),\n",
       " frozenset({('¬', 'Coffee<5>'), ('¬', 'Milk<5>')}),\n",
       " frozenset({('¬', 'Ivory<4>'), 'Green<5>'}),\n",
       " frozenset({('¬', 'OldGold<5>'), 'Snails<5>'}),\n",
       " frozenset({('¬', 'Coffee<5>'), ('¬', 'OrangeJuice<5>')}),\n",
       " frozenset({('¬', 'English<3>'), 'Red<3>'}),\n",
       " frozenset({('¬', 'Coffee<1>'), ('¬', 'Milk<1>')}),\n",
       " frozenset({('¬', 'Coffee<3>'), ('¬', 'Milk<3>')}),\n",
       " frozenset({('¬', 'Horse<1>'), ('¬', 'Snails<1>')}),\n",
       " frozenset({('¬', 'English<3>'), ('¬', 'Spanish<3>')}),\n",
       " frozenset({('¬', 'English<1>'), 'Red<1>'}),\n",
       " frozenset({('¬', 'Kools<1>'), 'Yellow<1>'}),\n",
       " frozenset({('¬', 'Red<1>'), ('¬', 'Yellow<1>')}),\n",
       " frozenset({('¬', 'Parliaments<5>'), 'Japanese<5>'}),\n",
       " frozenset({('¬', 'Blue<2>'), ('¬', 'Yellow<2>')}),\n",
       " frozenset({('¬', 'Ivory<1>'), ('¬', 'Yellow<1>')}),\n",
       " frozenset({'Green<1>', 'Green<2>', 'Green<3>', 'Green<4>', 'Green<5>'}),\n",
       " frozenset({('¬', 'Tea<2>'), ('¬', 'Water<2>')}),\n",
       " frozenset({('¬', 'Dog<2>'), ('¬', 'Zebra<2>')}),\n",
       " frozenset({('¬', 'Kools<2>'), 'Horse<1>', 'Horse<3>'}),\n",
       " frozenset({('¬', 'Green<3>'), 'Ivory<2>'}),\n",
       " frozenset({('¬', 'Norwegian<5>'), ('¬', 'Ukrainian<5>')}),\n",
       " frozenset({('¬', 'Ukrainian<5>'), 'Tea<5>'}),\n",
       " frozenset({('¬', 'Green<3>'), ('¬', 'Red<3>')}),\n",
       " frozenset({('¬', 'Ivory<3>'), ('¬', 'Yellow<3>')}),\n",
       " frozenset({('¬', 'LuckyStrike<5>'), ('¬', 'Parliaments<5>')}),\n",
       " frozenset({'Water<1>', 'Water<2>', 'Water<3>', 'Water<4>', 'Water<5>'}),\n",
       " frozenset({'Horse<1>', 'Horse<2>', 'Horse<3>', 'Horse<4>', 'Horse<5>'}),\n",
       " frozenset({('¬', 'Yellow<2>'), 'Kools<2>'}),\n",
       " frozenset({('¬', 'Tea<4>'), 'Ukrainian<4>'}),\n",
       " frozenset({('¬', 'Snails<2>'), ('¬', 'Zebra<2>')}),\n",
       " frozenset({('¬', 'Chesterfields<1>'), ('¬', 'LuckyStrike<1>')}),\n",
       " frozenset({('¬', 'Chesterfields<5>'), ('¬', 'LuckyStrike<5>')}),\n",
       " frozenset({('¬', 'Coffee<3>'), ('¬', 'Tea<3>')}),\n",
       " frozenset({('¬', 'Kools<2>'), 'Yellow<2>'}),\n",
       " frozenset({('¬', 'Milk<1>'), ('¬', 'OrangeJuice<1>')}),\n",
       " frozenset({('¬', 'Coffee<4>'), ('¬', 'Tea<4>')}),\n",
       " frozenset({('¬', 'Snails<5>'), ('¬', 'Zebra<5>')}),\n",
       " frozenset({('¬', 'Chesterfields<3>'), ('¬', 'Kools<3>')}),\n",
       " frozenset({('¬', 'LuckyStrike<3>'), ('¬', 'OldGold<3>')}),\n",
       " frozenset({('¬', 'OrangeJuice<4>'), 'LuckyStrike<4>'}),\n",
       " frozenset({('¬', 'Norwegian<2>'), ('¬', 'Ukrainian<2>')}),\n",
       " frozenset({('¬', 'Green<4>'), ('¬', 'Red<4>')}),\n",
       " frozenset({('¬', 'English<1>'), ('¬', 'Ukrainian<1>')}),\n",
       " frozenset({('¬', 'Ivory<5>'), ('¬', 'Red<5>')}),\n",
       " frozenset({('¬', 'Horse<1>'), ('¬', 'Zebra<1>')}),\n",
       " frozenset({('¬', 'Japanese<4>'), ('¬', 'Norwegian<4>')}),\n",
       " frozenset({('¬', 'Japanese<1>'), ('¬', 'Spanish<1>')}),\n",
       " frozenset({('¬', 'Milk<2>'), ('¬', 'Tea<2>')}),\n",
       " frozenset({('¬', 'Red<4>'), ('¬', 'Yellow<4>')}),\n",
       " frozenset({('¬', 'Snails<5>'), 'OldGold<5>'}),\n",
       " frozenset({('¬', 'Blue<1>'), ('¬', 'Yellow<1>')}),\n",
       " frozenset({('¬', 'Japanese<1>'), ('¬', 'Norwegian<1>')}),\n",
       " frozenset({('¬', 'Milk<5>'), ('¬', 'OrangeJuice<5>')}),\n",
       " frozenset({('¬', 'LuckyStrike<5>'), 'OrangeJuice<5>'}),\n",
       " frozenset({('¬', 'OrangeJuice<4>'), ('¬', 'Tea<4>')}),\n",
       " frozenset({'Zebra<1>', 'Zebra<2>', 'Zebra<3>', 'Zebra<4>', 'Zebra<5>'}),\n",
       " frozenset({('¬', 'Chesterfields<3>'), ('¬', 'Parliaments<3>')}),\n",
       " frozenset({('¬', 'OrangeJuice<4>'), ('¬', 'Water<4>')}),\n",
       " frozenset({('¬', 'Green<2>'), 'Coffee<2>'}),\n",
       " frozenset({('¬', 'Milk<4>'), ('¬', 'Tea<4>')}),\n",
       " frozenset({'Milk<1>', 'Milk<2>', 'Milk<3>', 'Milk<4>', 'Milk<5>'}),\n",
       " frozenset({('¬', 'Chesterfields<2>'), ('¬', 'Kools<2>')}),\n",
       " frozenset({'Spanish<1>',\n",
       "            'Spanish<2>',\n",
       "            'Spanish<3>',\n",
       "            'Spanish<4>',\n",
       "            'Spanish<5>'}),\n",
       " frozenset({('¬', 'English<1>'), ('¬', 'Norwegian<1>')}),\n",
       " frozenset({('¬', 'Kools<2>'), ('¬', 'Parliaments<2>')}),\n",
       " frozenset({('¬', 'English<3>'), ('¬', 'Norwegian<3>')}),\n",
       " frozenset({('¬', 'Norwegian<3>'), ('¬', 'Spanish<3>')}),\n",
       " frozenset({('¬', 'Coffee<1>'), 'Green<1>'}),\n",
       " frozenset({('¬', 'Spanish<3>'), 'Dog<3>'}),\n",
       " frozenset({('¬', 'Horse<5>'), ('¬', 'Snails<5>')}),\n",
       " frozenset({('¬', 'Kools<2>'), ('¬', 'LuckyStrike<2>')}),\n",
       " frozenset({'Dog<1>', 'Dog<2>', 'Dog<3>', 'Dog<4>', 'Dog<5>'}),\n",
       " frozenset({('¬', 'Blue<4>'), ('¬', 'Ivory<4>')}),\n",
       " frozenset({'OrangeJuice<1>',\n",
       "            'OrangeJuice<2>',\n",
       "            'OrangeJuice<3>',\n",
       "            'OrangeJuice<4>',\n",
       "            'OrangeJuice<5>'}),\n",
       " frozenset({('¬', 'English<4>'), ('¬', 'Japanese<4>')}),\n",
       " frozenset({('¬', 'Coffee<4>'), ('¬', 'Water<4>')}),\n",
       " frozenset({('¬', 'English<2>'), ('¬', 'Norwegian<2>')}),\n",
       " frozenset({('¬', 'Spanish<1>'), 'Dog<1>'}),\n",
       " frozenset({('¬', 'Japanese<2>'), ('¬', 'Norwegian<2>')}),\n",
       " frozenset({('¬', 'LuckyStrike<2>'), 'OrangeJuice<2>'}),\n",
       " frozenset({('¬', 'Dog<3>'), ('¬', 'Fox<3>')}),\n",
       " frozenset({('¬', 'Coffee<5>'), ('¬', 'Water<5>')}),\n",
       " frozenset({('¬', 'Dog<5>'), 'Spanish<5>'}),\n",
       " frozenset({('¬', 'English<5>'), ('¬', 'Ukrainian<5>')}),\n",
       " frozenset({('¬', 'Japanese<2>'), 'Parliaments<2>'}),\n",
       " frozenset({('¬', 'Norwegian<1>'), 'Blue<2>'}),\n",
       " frozenset({('¬', 'Milk<1>'), ('¬', 'Water<1>')}),\n",
       " frozenset({('¬', 'English<4>'), ('¬', 'Spanish<4>')}),\n",
       " frozenset({('¬', 'LuckyStrike<5>'), ('¬', 'OldGold<5>')}),\n",
       " frozenset({('¬', 'Coffee<4>'), ('¬', 'Milk<4>')}),\n",
       " frozenset({('¬', 'Green<4>'), 'Coffee<4>'}),\n",
       " frozenset({('¬', 'Chesterfields<2>'), ('¬', 'Parliaments<2>')}),\n",
       " frozenset({('¬', 'Ivory<3>'), 'Green<4>'}),\n",
       " frozenset({('¬', 'Kools<5>'), ('¬', 'OldGold<5>')}),\n",
       " frozenset({('¬', 'Kools<4>'), ('¬', 'OldGold<4>')}),\n",
       " frozenset({('¬', 'Snails<4>'), ('¬', 'Zebra<4>')}),\n",
       " frozenset({('¬', 'Japanese<4>'), ('¬', 'Spanish<4>')}),\n",
       " frozenset({('¬', 'OrangeJuice<2>'), ('¬', 'Tea<2>')}),\n",
       " frozenset({('¬', 'Fox<1>'), ('¬', 'Horse<1>')}),\n",
       " frozenset({('¬', 'Milk<4>'), ('¬', 'OrangeJuice<4>')}),\n",
       " frozenset({('¬', 'Ivory<1>'), 'Green<2>'}),\n",
       " frozenset({('¬', 'Japanese<2>'), ('¬', 'Ukrainian<2>')}),\n",
       " frozenset({('¬', 'Chesterfields<1>'), ('¬', 'Kools<1>')}),\n",
       " frozenset({('¬', 'Kools<4>'), 'Yellow<4>'}),\n",
       " frozenset({('¬', 'OrangeJuice<5>'), ('¬', 'Tea<5>')}),\n",
       " frozenset({('¬', 'Japanese<5>'), ('¬', 'Ukrainian<5>')}),\n",
       " frozenset({('¬', 'Yellow<3>'), 'Kools<3>'}),\n",
       " frozenset({('¬', 'Chesterfields<5>'), 'Fox<4>'}),\n",
       " frozenset({('¬', 'Chesterfields<5>'), ('¬', 'Parliaments<5>')}),\n",
       " frozenset({('¬', 'Chesterfields<1>'), ('¬', 'OldGold<1>')}),\n",
       " frozenset({('¬', 'Fox<3>'), ('¬', 'Horse<3>')}),\n",
       " frozenset({('¬', 'Fox<4>'), ('¬', 'Zebra<4>')}),\n",
       " frozenset({('¬', 'Dog<5>'), ('¬', 'Zebra<5>')}),\n",
       " frozenset({('¬', 'Kools<5>'), ('¬', 'LuckyStrike<5>')}),\n",
       " frozenset({('¬', 'Kools<5>'), 'Horse<4>'}),\n",
       " frozenset({('¬', 'Coffee<3>'), ('¬', 'OrangeJuice<3>')}),\n",
       " frozenset({('¬', 'Blue<4>'), ('¬', 'Red<4>')}),\n",
       " frozenset({('¬', 'Japanese<5>'), ('¬', 'Norwegian<5>')}),\n",
       " frozenset({('¬', 'OrangeJuice<3>'), ('¬', 'Water<3>')}),\n",
       " frozenset({('¬', 'Coffee<4>'), 'Green<4>'}),\n",
       " frozenset({('¬', 'Kools<2>'), ('¬', 'OldGold<2>')}),\n",
       " frozenset({('¬', 'Japanese<2>'), ('¬', 'Spanish<2>')}),\n",
       " frozenset({('¬', 'Green<3>'), ('¬', 'Ivory<3>')}),\n",
       " frozenset({('¬', 'Coffee<2>'), ('¬', 'Tea<2>')}),\n",
       " frozenset({('¬', 'Kools<1>'), ('¬', 'LuckyStrike<1>')}),\n",
       " frozenset({('¬', 'Japanese<4>'), ('¬', 'Ukrainian<4>')}),\n",
       " frozenset({('¬', 'Red<3>'), ('¬', 'Yellow<3>')}),\n",
       " frozenset({('¬', 'Red<5>'), 'English<5>'}),\n",
       " frozenset({('¬', 'Green<5>'), 'Coffee<5>'}),\n",
       " frozenset({('¬', 'Green<1>'), ('¬', 'Ivory<1>')}),\n",
       " frozenset({('¬', 'Horse<2>'), ('¬', 'Zebra<2>')}),\n",
       " frozenset({('¬', 'Milk<1>'), ('¬', 'Tea<1>')}),\n",
       " frozenset({('¬', 'Parliaments<2>'), 'Japanese<2>'}),\n",
       " frozenset({('¬', 'OldGold<1>'), 'Snails<1>'}),\n",
       " frozenset({('¬', 'Spanish<4>'), ('¬', 'Ukrainian<4>')}),\n",
       " frozenset({('¬', 'Horse<3>'), ('¬', 'Zebra<3>')}),\n",
       " frozenset({('¬', 'Green<3>'), ('¬', 'Yellow<3>')}),\n",
       " frozenset({('¬', 'Ivory<3>'), ('¬', 'Red<3>')}),\n",
       " frozenset({('¬', 'Dog<2>'), ('¬', 'Horse<2>')}),\n",
       " frozenset({('¬', 'Dog<1>'), ('¬', 'Zebra<1>')}),\n",
       " frozenset({('¬', 'Kools<3>'), 'Horse<2>', 'Horse<4>'}),\n",
       " frozenset({('¬', 'OldGold<5>'), ('¬', 'Parliaments<5>')}),\n",
       " frozenset({('¬', 'Parliaments<1>'), 'Japanese<1>'}),\n",
       " frozenset({('¬', 'English<5>'), ('¬', 'Norwegian<5>')}),\n",
       " frozenset({('¬', 'English<1>'), ('¬', 'Spanish<1>')}),\n",
       " frozenset({('¬', 'Fox<2>'), ('¬', 'Zebra<2>')}),\n",
       " frozenset({('¬', 'Fox<4>'), ('¬', 'Snails<4>')}),\n",
       " frozenset({'Red<1>', 'Red<2>', 'Red<3>', 'Red<4>', 'Red<5>'}),\n",
       " frozenset({('¬', 'Japanese<1>'), ('¬', 'Ukrainian<1>')}),\n",
       " frozenset({'Chesterfields<1>',\n",
       "            'Chesterfields<2>',\n",
       "            'Chesterfields<3>',\n",
       "            'Chesterfields<4>',\n",
       "            'Chesterfields<5>'}),\n",
       " frozenset({('¬', 'Norwegian<1>'), ('¬', 'Ukrainian<1>')}),\n",
       " frozenset({('¬', 'OldGold<4>'), 'Snails<4>'}),\n",
       " frozenset({('¬', 'Parliaments<3>'), 'Japanese<3>'}),\n",
       " frozenset({'Parliaments<1>',\n",
       "            'Parliaments<2>',\n",
       "            'Parliaments<3>',\n",
       "            'Parliaments<4>',\n",
       "            'Parliaments<5>'}),\n",
       " frozenset({'Kools<1>', 'Kools<2>', 'Kools<3>', 'Kools<4>', 'Kools<5>'}),\n",
       " frozenset({('¬', 'Coffee<2>'), 'Green<2>'}),\n",
       " frozenset({('¬', 'OrangeJuice<1>'), ('¬', 'Tea<1>')}),\n",
       " frozenset({('¬', 'Japanese<3>'), ('¬', 'Ukrainian<3>')}),\n",
       " frozenset({('¬', 'Dog<5>'), ('¬', 'Horse<5>')}),\n",
       " frozenset({('¬', 'Milk<3>'), ('¬', 'Water<3>')}),\n",
       " frozenset({('¬', 'Ivory<2>'), ('¬', 'Yellow<2>')}),\n",
       " frozenset({('¬', 'Ivory<5>'), ('¬', 'Yellow<5>')}),\n",
       " frozenset({('¬', 'Fox<5>'), ('¬', 'Zebra<5>')}),\n",
       " frozenset({('¬', 'Spanish<4>'), 'Dog<4>'}),\n",
       " frozenset({('¬', 'Yellow<5>'), 'Kools<5>'}),\n",
       " frozenset({('¬', 'Milk<3>'), ('¬', 'OrangeJuice<3>')}),\n",
       " frozenset({('¬', 'Milk<5>'), ('¬', 'Water<5>')}),\n",
       " frozenset({('¬', 'Japanese<4>'), 'Parliaments<4>'}),\n",
       " frozenset({('¬', 'Blue<1>'), ('¬', 'Green<1>')}),\n",
       " frozenset({('¬', 'English<4>'), 'Red<4>'}),\n",
       " frozenset({('¬', 'Blue<4>'), ('¬', 'Green<4>')}),\n",
       " frozenset({('¬', 'Dog<5>'), ('¬', 'Fox<5>')}),\n",
       " frozenset({('¬', 'Ivory<1>'), ('¬', 'Red<1>')}),\n",
       " frozenset({('¬', 'Horse<5>'), ('¬', 'Zebra<5>')}),\n",
       " frozenset({'Tea<1>', 'Tea<2>', 'Tea<3>', 'Tea<4>', 'Tea<5>'}),\n",
       " frozenset({('¬', 'LuckyStrike<4>'), ('¬', 'OldGold<4>')})}"
      ]
     },
     "execution_count": 25,
     "metadata": {},
     "output_type": "execute_result"
    }
   ],
   "source": [
    "Clauses = allClauses()\n",
    "Clauses"
   ]
  },
  {
   "cell_type": "code",
   "execution_count": 26,
   "metadata": {},
   "outputs": [
    {
     "data": {
      "text/plain": [
       "381"
      ]
     },
     "execution_count": 26,
     "metadata": {},
     "output_type": "execute_result"
    }
   ],
   "source": [
    "len(Clauses)"
   ]
  },
  {
   "cell_type": "code",
   "execution_count": 27,
   "metadata": {},
   "outputs": [],
   "source": [
    "def main():\n",
    "    Clauses = allClauses()\n",
    "    return solve(Clauses)"
   ]
  },
  {
   "cell_type": "markdown",
   "metadata": {},
   "source": [
    "Solving the problem takes about 0.1 seconds on my computer."
   ]
  },
  {
   "cell_type": "code",
   "execution_count": 28,
   "metadata": {},
   "outputs": [
    {
     "name": "stdout",
     "output_type": "stream",
     "text": [
      "CPU times: user 11.8 ms, sys: 177 µs, total: 12 ms\n",
      "Wall time: 12.1 ms\n"
     ]
    }
   ],
   "source": [
    "%%time\n",
    "Solution = main()"
   ]
  },
  {
   "cell_type": "markdown",
   "metadata": {},
   "source": [
    "## Functions to PrettyPrint the Solution"
   ]
  },
  {
   "cell_type": "code",
   "execution_count": 29,
   "metadata": {},
   "outputs": [],
   "source": [
    "def arb(S):\n",
    "    for x in S:\n",
    "        return x"
   ]
  },
  {
   "cell_type": "code",
   "execution_count": 30,
   "metadata": {},
   "outputs": [],
   "source": [
    "def extractAssignment(Solution):\n",
    "    Assignment = {}\n",
    "    for Unit in Solution:\n",
    "        Literal = arb(Unit)\n",
    "        if isinstance(Literal, str):\n",
    "            number = int(Literal[-2])\n",
    "            name   = Literal[:-3]\n",
    "            Assignment[name] = number\n",
    "    return Assignment"
   ]
  },
  {
   "cell_type": "code",
   "execution_count": 31,
   "metadata": {},
   "outputs": [
    {
     "data": {
      "text/plain": [
       "{'Blue': 2,\n",
       " 'Snails': 3,\n",
       " 'Norwegian': 1,\n",
       " 'Zebra': 5,\n",
       " 'LuckyStrike': 4,\n",
       " 'OldGold': 3,\n",
       " 'Fox': 1,\n",
       " 'Green': 5,\n",
       " 'Ukrainian': 2,\n",
       " 'Spanish': 4,\n",
       " 'Ivory': 4,\n",
       " 'Horse': 2,\n",
       " 'Coffee': 5,\n",
       " 'English': 3,\n",
       " 'Parliaments': 5,\n",
       " 'Red': 3,\n",
       " 'Milk': 3,\n",
       " 'Japanese': 5,\n",
       " 'Water': 1,\n",
       " 'OrangeJuice': 4,\n",
       " 'Dog': 4,\n",
       " 'Tea': 2,\n",
       " 'Chesterfields': 2,\n",
       " 'Yellow': 1,\n",
       " 'Kools': 1}"
      ]
     },
     "execution_count": 31,
     "metadata": {},
     "output_type": "execute_result"
    }
   ],
   "source": [
    "extractAssignment(Solution)"
   ]
  },
  {
   "cell_type": "markdown",
   "metadata": {},
   "source": [
    "We need to import the functions `display` and `HTML` from `IPython.display` in order to be able to present the solution graphically. "
   ]
  },
  {
   "cell_type": "code",
   "execution_count": 32,
   "metadata": {},
   "outputs": [],
   "source": [
    "from IPython.display import display, HTML"
   ]
  },
  {
   "cell_type": "code",
   "execution_count": 33,
   "metadata": {},
   "outputs": [],
   "source": [
    "def showHTML(Solution):\n",
    "    Assignment = extractAssignment(Solution)\n",
    "    result  = '<table style=\"border:2px solid blue\">\\n'\n",
    "    result += '<tr>'\n",
    "    for name in ['House', 'Nationality',  'Drink', 'Animal', 'Brand', 'Colour']:\n",
    "        result += '<th style=\"color:gold; background-color:blue\">' + name + '</th>'\n",
    "    result += '</tr>\\n'\n",
    "    for chair in range(1, 5+1):\n",
    "        result += '<tr><td style=\"border:1px solid green\">' + str(chair) + '</td>'\n",
    "        for Class in [Nations, Drinks, Pets, Brands, Colours]:\n",
    "            for x in Class:\n",
    "                if Assignment[x] == chair:\n",
    "                    result += '<td  style=\"border:1px solid green\">' + x + '</td>'\n",
    "        result += '</tr>\\n'\n",
    "    result += '</table>'\n",
    "    display(HTML(result))"
   ]
  },
  {
   "cell_type": "code",
   "execution_count": 34,
   "metadata": {},
   "outputs": [
    {
     "data": {
      "text/html": [
       "<table style=\"border:2px solid blue\">\n",
       "<tr><th style=\"color:gold; background-color:blue\">House</th><th style=\"color:gold; background-color:blue\">Nationality</th><th style=\"color:gold; background-color:blue\">Drink</th><th style=\"color:gold; background-color:blue\">Animal</th><th style=\"color:gold; background-color:blue\">Brand</th><th style=\"color:gold; background-color:blue\">Colour</th></tr>\n",
       "<tr><td style=\"border:1px solid green\">1</td><td  style=\"border:1px solid green\">Norwegian</td><td  style=\"border:1px solid green\">Water</td><td  style=\"border:1px solid green\">Fox</td><td  style=\"border:1px solid green\">Kools</td><td  style=\"border:1px solid green\">Yellow</td></tr>\n",
       "<tr><td style=\"border:1px solid green\">2</td><td  style=\"border:1px solid green\">Ukrainian</td><td  style=\"border:1px solid green\">Tea</td><td  style=\"border:1px solid green\">Horse</td><td  style=\"border:1px solid green\">Chesterfields</td><td  style=\"border:1px solid green\">Blue</td></tr>\n",
       "<tr><td style=\"border:1px solid green\">3</td><td  style=\"border:1px solid green\">English</td><td  style=\"border:1px solid green\">Milk</td><td  style=\"border:1px solid green\">Snails</td><td  style=\"border:1px solid green\">OldGold</td><td  style=\"border:1px solid green\">Red</td></tr>\n",
       "<tr><td style=\"border:1px solid green\">4</td><td  style=\"border:1px solid green\">Spanish</td><td  style=\"border:1px solid green\">OrangeJuice</td><td  style=\"border:1px solid green\">Dog</td><td  style=\"border:1px solid green\">LuckyStrike</td><td  style=\"border:1px solid green\">Ivory</td></tr>\n",
       "<tr><td style=\"border:1px solid green\">5</td><td  style=\"border:1px solid green\">Japanese</td><td  style=\"border:1px solid green\">Coffee</td><td  style=\"border:1px solid green\">Zebra</td><td  style=\"border:1px solid green\">Parliaments</td><td  style=\"border:1px solid green\">Green</td></tr>\n",
       "</table>"
      ],
      "text/plain": [
       "<IPython.core.display.HTML object>"
      ]
     },
     "metadata": {},
     "output_type": "display_data"
    }
   ],
   "source": [
    "showHTML(Solution)"
   ]
  },
  {
   "cell_type": "markdown",
   "metadata": {},
   "source": [
    "## Checking the Uniqueness of the Solution"
   ]
  },
  {
   "cell_type": "markdown",
   "metadata": {},
   "source": [
    "Given a set of unit clauses $U$, the function $\\texttt{negateSolution}(U)$ returns a clause that is the logical negation of $U$."
   ]
  },
  {
   "cell_type": "code",
   "execution_count": 35,
   "metadata": {},
   "outputs": [],
   "source": [
    "def negateSolution(UnitClauses):\n",
    "    return { complement(arb(unit)) for unit in UnitClauses }"
   ]
  },
  {
   "cell_type": "code",
   "execution_count": 36,
   "metadata": {},
   "outputs": [
    {
     "data": {
      "text/plain": [
       "{('¬', 'a'), 'b'}"
      ]
     },
     "execution_count": 36,
     "metadata": {},
     "output_type": "execute_result"
    }
   ],
   "source": [
    "negateSolution({frozenset({'a'}), frozenset({('¬', 'b')})})"
   ]
  },
  {
   "cell_type": "code",
   "execution_count": 37,
   "metadata": {},
   "outputs": [],
   "source": [
    "def checkUniqueness(Solution, Clauses):\n",
    "    negation = negateSolution(Solution)\n",
    "    Clauses.add(frozenset(negation))\n",
    "    alternative = solve(Clauses)\n",
    "    if alternative == { frozenset() }:\n",
    "        print(\"The solution is unique!\")\n",
    "    else:\n",
    "        print(\"ERROR: The solution is not unique!\")"
   ]
  },
  {
   "cell_type": "code",
   "execution_count": 38,
   "metadata": {},
   "outputs": [
    {
     "name": "stdout",
     "output_type": "stream",
     "text": [
      "The solution is unique!\n",
      "CPU times: user 28.9 ms, sys: 711 µs, total: 29.6 ms\n",
      "Wall time: 29.1 ms\n"
     ]
    }
   ],
   "source": [
    "%%time\n",
    "checkUniqueness(Solution, Clauses)"
   ]
  },
  {
   "cell_type": "code",
   "execution_count": null,
   "metadata": {},
   "outputs": [],
   "source": []
  }
 ],
 "metadata": {
  "hide_input": false,
  "kernelspec": {
   "display_name": "Python 3 (ipykernel)",
   "language": "python",
   "name": "python3"
  },
  "language_info": {
   "codemirror_mode": {
    "name": "ipython",
    "version": 3
   },
   "file_extension": ".py",
   "mimetype": "text/x-python",
   "name": "python",
   "nbconvert_exporter": "python",
   "pygments_lexer": "ipython3",
   "version": "3.12.2"
  },
  "toc": {
   "base_numbering": 1,
   "nav_menu": {},
   "number_sections": true,
   "sideBar": true,
   "skip_h1_title": false,
   "title_cell": "Table of Contents",
   "title_sidebar": "Contents",
   "toc_cell": false,
   "toc_position": {},
   "toc_section_display": true,
   "toc_window_display": false
  },
  "varInspector": {
   "cols": {
    "lenName": 16,
    "lenType": 16,
    "lenVar": 40
   },
   "kernels_config": {
    "python": {
     "delete_cmd_postfix": "",
     "delete_cmd_prefix": "del ",
     "library": "var_list.py",
     "varRefreshCmd": "print(var_dic_list())"
    },
    "r": {
     "delete_cmd_postfix": ") ",
     "delete_cmd_prefix": "rm(",
     "library": "var_list.r",
     "varRefreshCmd": "cat(var_dic_list()) "
    }
   },
   "types_to_exclude": [
    "module",
    "function",
    "builtin_function_or_method",
    "instance",
    "_Feature"
   ],
   "window_display": false
  }
 },
 "nbformat": 4,
 "nbformat_minor": 4
}
