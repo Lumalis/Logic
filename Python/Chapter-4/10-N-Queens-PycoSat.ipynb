{
 "cells": [
  {
   "cell_type": "code",
   "execution_count": null,
   "metadata": {},
   "outputs": [],
   "source": [
    "from IPython.display import HTML\n",
    "HTML(open('../style.css', 'r').read())"
   ]
  },
  {
   "cell_type": "markdown",
   "metadata": {},
   "source": [
    "# PicoSat"
   ]
  },
  {
   "cell_type": "markdown",
   "metadata": {},
   "source": [
    "[PicoSat](https://fmv.jku.at/picosat/) is a SAT solver by [Armine Biere](https://cca.informatik.uni-freiburg.de/biere/).\n",
    "A [Python API](https://github.com/conda/pycosat) to this solver is available as [pycosat](https://pypi.org/project/pycosat/).  We can install it via `pip`."
   ]
  },
  {
   "cell_type": "code",
   "execution_count": null,
   "metadata": {},
   "outputs": [],
   "source": [
    "pip install pycosat"
   ]
  },
  {
   "cell_type": "code",
   "execution_count": null,
   "metadata": {},
   "outputs": [],
   "source": [
    "import pycosat"
   ]
  },
  {
   "cell_type": "markdown",
   "metadata": {},
   "source": [
    "In *PicoSat* propositional variables are represented as follows:\n",
    "* A propositional variable $p$ is represented as a positive natural number.\n",
    "* If $n$ is the natural number representing $p$, then $\\neg p$ is represented as the integer $-n$.\n",
    "* A clause is represented as a list of integers.\n",
    "* A formula in CNF is represented as a list of clauses and hence as a list of list of integers.\n",
    "\n",
    "For example, if the propositional variables $p$, $q$, and $r$ are represented as the natural numbers\n",
    "$1$, $2$, and $3$ respectively, then \n",
    "* $p \\vee \\neg q \\vee r$ is represented as the list `[1, -2, 3]`,\n",
    "* $\\neg p \\vee q \\vee \\neg r$ is represented as the list `[-1, 2, -3]`,\n",
    "* $\\neg p \\vee \\neg q \\vee r$ is represented as the list `[-1, -2, 3]`, and\n",
    "* $p \\vee q \\vee \\neg r$ is represented as the list `[1, 2, -3]`.\n",
    "\n",
    "Finally, the formula \n",
    "$$ (p \\vee \\neg q \\vee r) \\wedge (\\neg p \\vee q \\vee \\neg r) \\wedge (\\neg p \\vee \\neg q \\vee r) \\wedge (p \\vee q \\vee \\neg r), $$\n",
    "which is in conjunctive normal form, is represented as follows:\n",
    "```\n",
    "   [ [1, -2, 3], [-1, 2, -3], [-1, -2, 3], [1, 2, -3] ]\n",
    "```"
   ]
  },
  {
   "cell_type": "code",
   "execution_count": null,
   "metadata": {},
   "outputs": [],
   "source": [
    "f = [ [1, -2, 3], [-1, 2, -3], [-1, -2, 3], [1, 2, -3] ]"
   ]
  },
  {
   "cell_type": "markdown",
   "metadata": {},
   "source": [
    "In order to check whether this formula is satifiable, we can use the method `pycosat.solve` as follows:"
   ]
  },
  {
   "cell_type": "code",
   "execution_count": null,
   "metadata": {},
   "outputs": [],
   "source": [
    "pycosat.solve(f)"
   ]
  },
  {
   "cell_type": "markdown",
   "metadata": {},
   "source": [
    "This shows that the formula `f` is satisfiable and that the  propositional valuation \n",
    "$$ \\mathcal{I} = \\{ p \\mapsto \\texttt{False}, p \\mapsto \\texttt{False}, p \\mapsto \\texttt{False} \\} $$\n",
    "is a solution for `f`, i.e. we have\n",
    "$$ \\mathcal{I}(\\texttt{f}) = \\texttt{True}. $$"
   ]
  },
  {
   "cell_type": "markdown",
   "metadata": {},
   "source": [
    "## Transforming Clauses into PyCoSat Format"
   ]
  },
  {
   "cell_type": "markdown",
   "metadata": {},
   "source": [
    "In order to use *PicoSat* for the examples discussed in our lecture, we need a function that transforms a formula that is in conjunctive normal form\n",
    "into the format of *PicoSat*.  Furthermore, we nee a function that can translate a solution found by *PicoSat* back into our format."
   ]
  },
  {
   "cell_type": "markdown",
   "metadata": {},
   "source": [
    "The function `findVariables` takes a set of `Clauses` and returns the set of all propositional variables\n",
    "occurring in this set.  "
   ]
  },
  {
   "cell_type": "code",
   "execution_count": null,
   "metadata": {},
   "outputs": [],
   "source": [
    "def findVariables(Clauses):\n",
    "    Variables = set()\n",
    "    for Clause in Clauses:\n",
    "        for literal in Clause:\n",
    "            match literal:\n",
    "                case ('¬', var): Variables |= { var }\n",
    "                case var       : Variables |= { var }\n",
    "    return Variables"
   ]
  },
  {
   "cell_type": "markdown",
   "metadata": {},
   "source": [
    "The function `numberVariables(Clauses)` takes a set of `Clauses` as input.  It returns two dictionaries:\n",
    "* The dictionary `Var2Int` maps every propositional variable occurring in `Clauses` to a unique natural number.\n",
    "* The dictionary `Int2Var` is the mapping that is inverse to the dictionary `Var2Int`."
   ]
  },
  {
   "cell_type": "code",
   "execution_count": null,
   "metadata": {},
   "outputs": [],
   "source": [
    "def numberVariables(Clauses):\n",
    "    Variables = findVariables(Clauses)\n",
    "    count     = 1\n",
    "    Var2Int   = {}\n",
    "    Int2Var   = {}\n",
    "    for variable in Variables:\n",
    "        Var2Int[variable] = count\n",
    "        Int2Var[count   ] = variable\n",
    "        count += 1\n",
    "    return Var2Int, Int2Var"
   ]
  },
  {
   "cell_type": "markdown",
   "metadata": {},
   "source": [
    "The function `literal2int` takes a literal and transforms this literal into an integer number,\n",
    "representing the literal.  If the literal is a negated variable, the integer is negative, else it is positive.\n",
    "`Var2Int` is a dictionary mapping propositional variables to integers."
   ]
  },
  {
   "cell_type": "code",
   "execution_count": null,
   "metadata": {},
   "outputs": [],
   "source": [
    "def literal2int(literal, Var2Int):\n",
    "    match literal:\n",
    "        case ('¬', var): return -Var2Int[var]\n",
    "        case var       : return  Var2Int[var]"
   ]
  },
  {
   "cell_type": "markdown",
   "metadata": {},
   "source": [
    "The function `clause2pyco(Clause, Var2Int)` transforms a set of literals into a list of integers.\n",
    "`Var2Int` is a dictionary mapping the propositional variables to integers."
   ]
  },
  {
   "cell_type": "code",
   "execution_count": null,
   "metadata": {},
   "outputs": [],
   "source": [
    "def clause2pyco(Clause, Var2Int):\n",
    "    return [literal2int(literal, Var2Int) for literal in Clause]"
   ]
  },
  {
   "cell_type": "markdown",
   "metadata": {},
   "source": [
    "The function `clauses2pyco(Clauses, Var2Int)` transforms a set of `Clauses` into a list of lists of integers.\n",
    "`Var2Int` is a dictionary mapping the propositional variables to integers."
   ]
  },
  {
   "cell_type": "code",
   "execution_count": null,
   "metadata": {},
   "outputs": [],
   "source": [
    "def clauses2pyco(Clauses, Var2Int):\n",
    "    return [clause2pyco(clause, Var2Int) for clause in Clauses ]"
   ]
  },
  {
   "cell_type": "markdown",
   "metadata": {},
   "source": [
    "The function `int2var(Numbers, Int2Var)` takes a list of numbers representing a set of literals\n",
    "and returns the associated list of literals."
   ]
  },
  {
   "cell_type": "code",
   "execution_count": null,
   "metadata": {},
   "outputs": [],
   "source": [
    "def int2var(Numbers, Int2Var):\n",
    "    Result = set()\n",
    "    for n in Numbers:\n",
    "        if n > 0:\n",
    "            Result |= {frozenset({Int2Var[n]})}\n",
    "        else: \n",
    "            Result |= {frozenset({ ('¬', Int2Var[-n]) })}\n",
    "    return Result"
   ]
  },
  {
   "cell_type": "markdown",
   "metadata": {},
   "source": [
    "## Solving the N-Queens-Problem"
   ]
  },
  {
   "cell_type": "code",
   "execution_count": null,
   "metadata": {},
   "outputs": [],
   "source": [
    "%%capture\n",
    "%run 08-N-Queens.ipynb"
   ]
  },
  {
   "cell_type": "markdown",
   "metadata": {},
   "source": [
    "The function $\\texttt{queens}(n)$ solves the *n queens problem*."
   ]
  },
  {
   "cell_type": "code",
   "execution_count": null,
   "metadata": {
    "scrolled": true
   },
   "outputs": [],
   "source": [
    "def queens(n):\n",
    "    \"Solve the n queens problem.\"\n",
    "    Clauses  = allClauses(n)\n",
    "    V2I, I2V = numberVariables(Clauses)\n",
    "    Clauses  = clauses2pyco(Clauses, V2I)\n",
    "    Solution = pycosat.solve(Clauses)\n",
    "    if Solution:\n",
    "        return int2var(Solution, I2V)\n",
    "    else:\n",
    "        print(f'The problem is not solvable for {n} queens!')"
   ]
  },
  {
   "cell_type": "code",
   "execution_count": null,
   "metadata": {},
   "outputs": [],
   "source": [
    "%%time\n",
    "Solution = queens(16)"
   ]
  },
  {
   "cell_type": "markdown",
   "metadata": {},
   "source": [
    "Note that this is more than a 100 times faster than our Python implementation of the Davis-Putnam algorithm.\n",
    "There are two reasons for this:\n",
    "* The version of the Davis-Putnam algorithm that is implemented in *PycoSat* is much more refined\n",
    "  than our naive implementation.\n",
    "* The programming language `C` is much faster than Python."
   ]
  },
  {
   "cell_type": "code",
   "execution_count": null,
   "metadata": {
    "scrolled": false
   },
   "outputs": [],
   "source": [
    "show_solution(Solution)"
   ]
  },
  {
   "cell_type": "code",
   "execution_count": null,
   "metadata": {},
   "outputs": [],
   "source": []
  }
 ],
 "metadata": {
  "hide_input": false,
  "kernelspec": {
   "display_name": "Python 3 (ipykernel)",
   "language": "python",
   "name": "python3"
  },
  "language_info": {
   "codemirror_mode": {
    "name": "ipython",
    "version": 3
   },
   "file_extension": ".py",
   "mimetype": "text/x-python",
   "name": "python",
   "nbconvert_exporter": "python",
   "pygments_lexer": "ipython3",
   "version": "3.13.2"
  },
  "toc": {
   "base_numbering": 1,
   "nav_menu": {},
   "number_sections": true,
   "sideBar": true,
   "skip_h1_title": false,
   "title_cell": "Table of Contents",
   "title_sidebar": "Contents",
   "toc_cell": false,
   "toc_position": {},
   "toc_section_display": true,
   "toc_window_display": false
  },
  "varInspector": {
   "cols": {
    "lenName": 16,
    "lenType": 16,
    "lenVar": 40
   },
   "kernels_config": {
    "python": {
     "delete_cmd_postfix": "",
     "delete_cmd_prefix": "del ",
     "library": "var_list.py",
     "varRefreshCmd": "print(var_dic_list())"
    },
    "r": {
     "delete_cmd_postfix": ") ",
     "delete_cmd_prefix": "rm(",
     "library": "var_list.r",
     "varRefreshCmd": "cat(var_dic_list()) "
    }
   },
   "types_to_exclude": [
    "module",
    "function",
    "builtin_function_or_method",
    "instance",
    "_Feature"
   ],
   "window_display": false
  }
 },
 "nbformat": 4,
 "nbformat_minor": 4
}
