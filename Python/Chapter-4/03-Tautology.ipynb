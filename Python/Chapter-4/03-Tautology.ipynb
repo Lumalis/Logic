{
 "cells": [
  {
   "cell_type": "code",
   "execution_count": null,
   "metadata": {},
   "outputs": [],
   "source": [
    "%load_ext nb_mypy"
   ]
  },
  {
   "cell_type": "markdown",
   "metadata": {},
   "source": [
    "# How to Check that a Formula is a Tautology"
   ]
  },
  {
   "cell_type": "markdown",
   "metadata": {},
   "source": [
    "In this notebook we develop a function <tt>tautology</tt> that takes a formula $f$ from propositional logic and checks whether $f$ is a tautology.  As we represent tautologies as nested tuples, we first have to import the parser for propositional logic."
   ]
  },
  {
   "cell_type": "code",
   "execution_count": null,
   "metadata": {},
   "outputs": [],
   "source": [
    "%%capture\n",
    "%run Propositional-Logic-Parser.ipynb"
   ]
  },
  {
   "cell_type": "code",
   "execution_count": null,
   "metadata": {},
   "outputs": [],
   "source": [
    "from typing import TypeVar"
   ]
  },
  {
   "cell_type": "code",
   "execution_count": null,
   "metadata": {},
   "outputs": [],
   "source": [
    "Formula = TypeVar('Formula')\n",
    "Formula = str | tuple[Formula, ...]"
   ]
  },
  {
   "cell_type": "code",
   "execution_count": null,
   "metadata": {},
   "outputs": [],
   "source": [
    "def parse(s: str) -> Formula:\n",
    "    parser = LogicParser(s) # type: ignore\n",
    "    return parser.parse()   # type ignore"
   ]
  },
  {
   "cell_type": "markdown",
   "metadata": {},
   "source": [
    "`Element` is a generic type variable that describes the type of the elements of a set."
   ]
  },
  {
   "cell_type": "code",
   "execution_count": null,
   "metadata": {},
   "outputs": [],
   "source": [
    "Element = TypeVar('Element')"
   ]
  },
  {
   "cell_type": "markdown",
   "metadata": {},
   "source": [
    "As we represent propositional valuations as sets of variables, we need a function to compute all subsets of a given set.  The module <tt>power</tt> provides a function called <tt>allSubsets</tt> such that for a given set $M$ the function call $\\texttt{allSubsets}(M)$ computes a list containing all subsets of $M$, that is we have:\n",
    "$$ \\texttt{allSubsets}(M) = \\bigl[A \\mid A \\in 2^M\\bigr] $$"
   ]
  },
  {
   "cell_type": "code",
   "execution_count": null,
   "metadata": {},
   "outputs": [],
   "source": [
    "def allSubsets(M: set[Element]) -> list[set[Element]]:\n",
    "    \"Compute a list containing all subsets of the set M\"\n",
    "    if M == set():\n",
    "        return [ set() ]\n",
    "    x = M.pop()\n",
    "    L = allSubsets(M)\n",
    "    return L + [ K | { x } for K in L ]"
   ]
  },
  {
   "cell_type": "code",
   "execution_count": null,
   "metadata": {},
   "outputs": [],
   "source": [
    "allSubsets({'p', 'q'})"
   ]
  },
  {
   "cell_type": "code",
   "execution_count": null,
   "metadata": {},
   "outputs": [],
   "source": [
    "allSubsets({'p', 'q', 'r'})"
   ]
  },
  {
   "cell_type": "markdown",
   "metadata": {},
   "source": [
    "To be able to compute all propositional valuations for a given formula $f$ we first need to determine the set of all variables that occur in $f$.  The function $\\texttt{collectVars}(f)$ takes a formula $f$ from propositional logic and computes all propositional variables occurring in $f$.  This function is defined recursively."
   ]
  },
  {
   "cell_type": "code",
   "execution_count": null,
   "metadata": {},
   "outputs": [],
   "source": [
    "def collectVars(f: Formula) -> set[str]:\n",
    "    \"Collect all propositional variables occurring in the formula f.\"\n",
    "    match f:\n",
    "        case p if isinstance(p, str): return { p }\n",
    "        case ('⊤', ) | ('⊥', ): return set()\n",
    "        case ('¬', g):  return collectVars(g)\n",
    "        case (_, g, h): return collectVars(g) | collectVars(h) \n",
    "    return None # type: ignore"
   ]
  },
  {
   "cell_type": "markdown",
   "metadata": {},
   "source": [
    "We have discussed the function <tt>evaluate</tt> previously.  The call \n",
    "$\\texttt{evaluate}(f, I)$ takes a propsitional formula $f$ and a propositional valuation $I$, where $I$ is represented as a set of propositional variables.  It evaluates $f$ given $I$."
   ]
  },
  {
   "cell_type": "code",
   "execution_count": null,
   "metadata": {},
   "outputs": [],
   "source": [
    "def evaluate(F: Formula, I: set[str]) -> bool:\n",
    "    \"\"\"\n",
    "    Evaluate the propositional formula f using the propositional valuation I.\n",
    "    I is represented as a set of variables.\n",
    "    \"\"\"\n",
    "    match F:\n",
    "        case p if isinstance(p, str): \n",
    "            return p in I\n",
    "        case ('⊤', ):     return True\n",
    "        case ('⊥', ):     return False\n",
    "        case ('¬', G):    return not evaluate(G, I)\n",
    "        case ('∧', G, H): return     evaluate(G, I) and evaluate(H, I)\n",
    "        case ('∨', G, H): return     evaluate(G, I) or  evaluate(H, I)\n",
    "        case ('→', G, H): return not evaluate(G, I) or  evaluate(H, I)\n",
    "        case ('↔', G, H): return     evaluate(G, I) ==  evaluate(H, I)\n",
    "    return None # type: ignore"
   ]
  },
  {
   "cell_type": "markdown",
   "metadata": {},
   "source": [
    "Now we are ready to define the function $\\texttt{tautology}(f)$ that takes a propositional formula $f$ and checks whether $f$ is a tautology.  If $f$ is a tautology, the function returns <tt>True</tt>, otherwise a set of variables $I$ is returned such that $f$ evaluates to <tt>False</tt> if all variables in $I$ are <tt>True</tt>, while all variables not in $I$ are <tt>False</tt>."
   ]
  },
  {
   "cell_type": "code",
   "execution_count": null,
   "metadata": {},
   "outputs": [],
   "source": [
    "def tautology(f: Formula) -> bool | set[str]:\n",
    "    \"Check, whether the formula f is a tautology.\"\n",
    "    P = collectVars(f)\n",
    "    for I in allSubsets(P):\n",
    "        if not evaluate(f, I):\n",
    "            return I\n",
    "    return True"
   ]
  },
  {
   "cell_type": "markdown",
   "metadata": {},
   "source": [
    "The function $\\texttt{test}(s)$ takes a string $s$ that can be parsed as a propositional formula and checks whether this formula is a tautology."
   ]
  },
  {
   "cell_type": "code",
   "execution_count": null,
   "metadata": {},
   "outputs": [],
   "source": [
    "def test(s: str) -> None:\n",
    "    f = parse(s)\n",
    "    counterExample = tautology(f);\n",
    "    if counterExample == True: \n",
    "        print('The formula', s, 'is a tautology.')\n",
    "    else: \n",
    "        P = collectVars(f)\n",
    "        print('The formula ', s, ' is not a tautology.')\n",
    "        print('Counter example: ')\n",
    "        for x in P:\n",
    "            if x in counterExample: # type: ignore\n",
    "                print(x, \"↦ True\")\n",
    "            else:\n",
    "                print(x, \"↦ False\")"
   ]
  },
  {
   "cell_type": "markdown",
   "metadata": {},
   "source": [
    "Let us run a few tests."
   ]
  },
  {
   "cell_type": "markdown",
   "metadata": {},
   "source": [
    "The first example is DeMorgan's rule."
   ]
  },
  {
   "cell_type": "code",
   "execution_count": null,
   "metadata": {},
   "outputs": [],
   "source": [
    "test('¬(p ∨ q) ↔ ¬p ∧ ¬q')"
   ]
  },
  {
   "cell_type": "code",
   "execution_count": null,
   "metadata": {},
   "outputs": [],
   "source": [
    "test('(p → q) → (¬p → q) → q')"
   ]
  },
  {
   "cell_type": "code",
   "execution_count": null,
   "metadata": {},
   "outputs": [],
   "source": [
    "test('(p → q) → (¬p → ¬q)')"
   ]
  },
  {
   "cell_type": "code",
   "execution_count": null,
   "metadata": {},
   "outputs": [],
   "source": [
    "test('(p → q) ↔ (¬q → ¬p)')"
   ]
  },
  {
   "cell_type": "code",
   "execution_count": null,
   "metadata": {},
   "outputs": [],
   "source": [
    "test('¬p ↔ (p → ⊥)')"
   ]
  },
  {
   "cell_type": "code",
   "execution_count": null,
   "metadata": {},
   "outputs": [],
   "source": []
  }
 ],
 "metadata": {
  "hide_input": false,
  "kernelspec": {
   "display_name": "Python 3 (ipykernel)",
   "language": "python",
   "name": "python3"
  },
  "language_info": {
   "codemirror_mode": {
    "name": "ipython",
    "version": 3
   },
   "file_extension": ".py",
   "mimetype": "text/x-python",
   "name": "python",
   "nbconvert_exporter": "python",
   "pygments_lexer": "ipython3",
   "version": "3.11.7"
  },
  "toc": {
   "base_numbering": 1,
   "nav_menu": {},
   "number_sections": true,
   "sideBar": true,
   "skip_h1_title": false,
   "title_cell": "Table of Contents",
   "title_sidebar": "Contents",
   "toc_cell": false,
   "toc_position": {},
   "toc_section_display": true,
   "toc_window_display": false
  },
  "varInspector": {
   "cols": {
    "lenName": 16,
    "lenType": 16,
    "lenVar": 40
   },
   "kernels_config": {
    "python": {
     "delete_cmd_postfix": "",
     "delete_cmd_prefix": "del ",
     "library": "var_list.py",
     "varRefreshCmd": "print(var_dic_list())"
    },
    "r": {
     "delete_cmd_postfix": ") ",
     "delete_cmd_prefix": "rm(",
     "library": "var_list.r",
     "varRefreshCmd": "cat(var_dic_list()) "
    }
   },
   "types_to_exclude": [
    "module",
    "function",
    "builtin_function_or_method",
    "instance",
    "_Feature"
   ],
   "window_display": false
  }
 },
 "nbformat": 4,
 "nbformat_minor": 4
}
