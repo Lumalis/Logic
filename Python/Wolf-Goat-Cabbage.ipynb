{
 "cells": [
  {
   "cell_type": "code",
   "execution_count": 1,
   "metadata": {},
   "outputs": [
    {
     "data": {
      "text/html": [
       "<link href='http://fonts.googleapis.com/css?family=Alegreya+Sans:100,300,400,500,700,800,900,100italic,300italic,400italic,500italic,700italic,800italic,900italic' rel='stylesheet' type='text/css'>\n",
       "<link href='http://fonts.googleapis.com/css?family=Arvo:400,700,400italic' rel='stylesheet' type='text/css'>\n",
       "<link href='http://fonts.googleapis.com/css?family=PT+Mono' rel='stylesheet' type='text/css'>\n",
       "<link href='http://fonts.googleapis.com/css?family=Shadows+Into+Light' rel='stylesheet' type='text/css'>\n",
       "<link href='http://fonts.googleapis.com/css?family=Philosopher:400,700,400italic,700italic' rel='stylesheet' type='text/css'>\n",
       "\n",
       "<style>\n",
       "\n",
       "@font-face {\n",
       "    font-family: \"Computer Modern\";\n",
       "    src: url('http://mirrors.ctan.org/fonts/cm-unicode/fonts/otf/cmunss.otf');\n",
       "}\n",
       "\n",
       ".container { width: 100% }\n",
       "\n",
       "/* Formatting for header cells */\n",
       ".text_cell_render h1 {\n",
       "    font-family: 'Philosopher', sans-serif;\n",
       "    font-weight: 400;\n",
       "    font-size: 2.2em;\n",
       "    line-height: 100%;\n",
       "    color: rgb(0, 80, 120);\n",
       "    margin-bottom: 0.1em;\n",
       "    margin-top: 0.1em;\n",
       "    display: block;\n",
       "}\t\n",
       ".text_cell_render h2 {\n",
       "    font-family: 'Philosopher', serif;\n",
       "    font-weight: 400;\n",
       "    font-size: 1.9em;\n",
       "    line-height: 100%;\n",
       "    color: rgb(200,100,0);\n",
       "    margin-bottom: 0.1em;\n",
       "    margin-top: 0.1em;\n",
       "    display: block;\n",
       "}\t\n",
       "\n",
       ".text_cell_render h3 {\n",
       "    font-family: 'Philosopher', serif;\n",
       "    margin-top:12px;\n",
       "    margin-bottom: 3px;\n",
       "    font-style: italic;\n",
       "    color: rgb(94,127,192);\n",
       "}\n",
       "\n",
       ".text_cell_render h4 {\n",
       "    font-family: 'Philosopher', serif;\n",
       "}\n",
       "\n",
       ".text_cell_render h5 {\n",
       "    font-family: 'Alegreya Sans', sans-serif;\n",
       "    font-weight: 300;\n",
       "    font-size: 16pt;\n",
       "    color: grey;\n",
       "    font-style: italic;\n",
       "    margin-bottom: .1em;\n",
       "    margin-top: 0.1em;\n",
       "    display: block;\n",
       "}\n",
       "\n",
       ".text_cell_render h6 {\n",
       "    font-family: 'PT Mono', sans-serif;\n",
       "    font-weight: 300;\n",
       "    font-size: 10pt;\n",
       "    color: grey;\n",
       "    margin-bottom: 1px;\n",
       "    margin-top: 1px;\n",
       "}\n",
       "\n",
       ".text_cell_render em {\n",
       "    font-family: 'Philosopher', sans-serif;\n",
       "    color:        blue;\n",
       "    background-color: rgb(255,220,180);\n",
       "    font-size:    110%;\n",
       "    margin-left:   2px;\n",
       "    margin-right:  2px;\n",
       "    font-weight:   100;\n",
       "}\n",
       "\n",
       ".text_cell_render b {\n",
       "    color:            rgb(255,195,195);\n",
       "    background-color: rgb(0,0,0);\n",
       "    font-size:    110%;\n",
       "    margin-left:   2px;\n",
       "    margin-right:  2px;\n",
       "    font-weight:   650;\n",
       "}\n",
       "\n",
       ".text_cell_render tt {\n",
       "    font-size:    120%;\n",
       "    margin-left:   2px;\n",
       "    margin-right:  2px;\n",
       "    font-weight:   150;\n",
       "}\n",
       "\n",
       ".Codemirror {\n",
       "    font-family: \"PT Mono\";\n",
       "    font-size: 100%;\n",
       "}\n",
       "\n",
       "</style>\n",
       "\n"
      ],
      "text/plain": [
       "<IPython.core.display.HTML object>"
      ]
     },
     "execution_count": 1,
     "metadata": {},
     "output_type": "execute_result"
    }
   ],
   "source": [
    "from IPython.core.display import HTML\n",
    "with open('style.css', 'r') as file:\n",
    "    css = file.read()\n",
    "HTML(css)"
   ]
  },
  {
   "cell_type": "markdown",
   "metadata": {},
   "source": [
    "# Solving the Wolf-Goat-Cabbage Problem"
   ]
  },
  {
   "cell_type": "markdown",
   "metadata": {},
   "source": [
    "An agricultural economist has to sell a *wolf*, a *goat*, and a *cabbage* on a market place.  In order to\n",
    "reach the market place, she has to cross a river.  The boat that she can use is so small that it can\n",
    "only accommodate either the goat, the wolf, or the cabbage in addition to the agricultural economist.\n",
    "Now if the agricultural economist leaves the wolf alone with the goat, the wolf will eat the goat.\n",
    "If, instead, the agricultural economist leaves the goat with the cabbage, the goat will eat the cabbage.\n",
    "Is it possible for the agricultural economist to develop a schedule that allows her to cross the river\n",
    "without either the goat or the cabbage being eaten?"
   ]
  },
  {
   "cell_type": "code",
   "execution_count": 2,
   "metadata": {},
   "outputs": [],
   "source": [
    "%run Breadth-First-Search.ipynb"
   ]
  },
  {
   "cell_type": "markdown",
   "metadata": {},
   "source": [
    "The function $\\texttt{power}(M)$ defined below computes the power set of the set $M$, i.e. we have:\n",
    "$$ \\texttt{power}(M) = 2^M = \\bigl\\{A \\mid A \\subseteq M \\} $$"
   ]
  },
  {
   "cell_type": "code",
   "execution_count": 3,
   "metadata": {},
   "outputs": [],
   "source": [
    "def power(M):\n",
    "    \"This function computes the power set of the set M.\"\n",
    "    if M == set():\n",
    "        return { frozenset() }\n",
    "    else:\n",
    "        C  = set(M)  # C is a copy of M as we don't want to change the set M\n",
    "        x  = C.pop() # pop removes the element x from the set C\n",
    "        P1 = power(C)\n",
    "        P2 = { A | {x} for A in P1 }\n",
    "        return P1 | P2"
   ]
  },
  {
   "cell_type": "markdown",
   "metadata": {},
   "source": [
    "## Problem Specific Code"
   ]
  },
  {
   "cell_type": "markdown",
   "metadata": {},
   "source": [
    "There is a problem if the wolf is alone with the goat or if the goat is alone with the cabbage."
   ]
  },
  {
   "cell_type": "code",
   "execution_count": 4,
   "metadata": {},
   "outputs": [],
   "source": [
    "def problem(S):\n",
    "    '''\n",
    "    S is a set of objects that are at one shore of the river.\n",
    "    This function returns True if there is a problem.\n",
    "    '''\n",
    "    return ('farmer' not in S) and             \\\n",
    "           (('goat' in S and 'cabbage' in S) or   # goat eats cabbage\n",
    "            ('wolf' in S and 'goat'    in S)   )  # wolf eats goat"
   ]
  },
  {
   "cell_type": "markdown",
   "metadata": {},
   "source": [
    "At the start, everything is on the left shore.  \n",
    "Note that we have to use `frozenset`s here as the states will be stored in tuples that are itself stored in sets."
   ]
  },
  {
   "cell_type": "code",
   "execution_count": 5,
   "metadata": {},
   "outputs": [],
   "source": [
    "All = frozenset({ 'farmer', 'wolf', 'goat', 'cabbage' })"
   ]
  },
  {
   "cell_type": "markdown",
   "metadata": {},
   "source": [
    "<tt>States</tt> is the set of all states that do not have a problem."
   ]
  },
  {
   "cell_type": "code",
   "execution_count": 6,
   "metadata": {},
   "outputs": [
    {
     "data": {
      "text/plain": [
       "{frozenset(),\n",
       " frozenset({'farmer', 'goat'}),\n",
       " frozenset({'wolf'}),\n",
       " frozenset({'farmer', 'goat', 'wolf'}),\n",
       " frozenset({'cabbage'}),\n",
       " frozenset({'cabbage', 'wolf'}),\n",
       " frozenset({'cabbage', 'farmer', 'wolf'}),\n",
       " frozenset({'goat'}),\n",
       " frozenset({'cabbage', 'farmer', 'goat'}),\n",
       " frozenset({'cabbage', 'farmer', 'goat', 'wolf'})}"
      ]
     },
     "execution_count": 6,
     "metadata": {},
     "output_type": "execute_result"
    }
   ],
   "source": [
    "States = { S for S in power(All) if not problem(S) and \n",
    "                                    not problem(All - S) \n",
    "         }\n",
    "States"
   ]
  },
  {
   "cell_type": "markdown",
   "metadata": {},
   "source": [
    "<tt>R1</tt> decribes the transitions where the boat crosses the river from left to right."
   ]
  },
  {
   "cell_type": "code",
   "execution_count": 7,
   "metadata": {},
   "outputs": [
    {
     "data": {
      "text/plain": [
       "{(frozenset({'farmer', 'goat'}), frozenset({'goat'})),\n",
       " (frozenset({'farmer', 'goat', 'wolf'}), frozenset({'wolf'})),\n",
       " (frozenset({'cabbage', 'farmer', 'wolf'}), frozenset({'wolf'})),\n",
       " (frozenset({'cabbage', 'farmer', 'wolf'}), frozenset({'cabbage', 'wolf'})),\n",
       " (frozenset({'farmer', 'goat'}), frozenset()),\n",
       " (frozenset({'farmer', 'goat', 'wolf'}), frozenset({'goat'})),\n",
       " (frozenset({'cabbage', 'farmer', 'goat'}), frozenset({'goat'})),\n",
       " (frozenset({'cabbage', 'farmer', 'goat'}), frozenset({'cabbage'})),\n",
       " (frozenset({'cabbage', 'farmer', 'wolf'}), frozenset({'cabbage'})),\n",
       " (frozenset({'cabbage', 'farmer', 'goat', 'wolf'}),\n",
       "  frozenset({'cabbage', 'wolf'}))}"
      ]
     },
     "execution_count": 7,
     "metadata": {},
     "output_type": "execute_result"
    }
   ],
   "source": [
    "R1 = { (S, S - B) for S in States \n",
    "                  for B in power(S)\n",
    "                  if S - B in States and 'farmer' in B and len(B) <= 2\n",
    "     }\n",
    "R1"
   ]
  },
  {
   "cell_type": "markdown",
   "metadata": {},
   "source": [
    "<tt>R2</tt> is the inverse of <tt>R1</tt>."
   ]
  },
  {
   "cell_type": "code",
   "execution_count": 16,
   "metadata": {},
   "outputs": [
    {
     "data": {
      "text/plain": [
       "{(frozenset(), frozenset({'farmer', 'goat'})),\n",
       " (frozenset({'cabbage'}), frozenset({'cabbage', 'farmer', 'wolf'})),\n",
       " (frozenset({'wolf'}), frozenset({'farmer', 'goat', 'wolf'})),\n",
       " (frozenset({'wolf'}), frozenset({'cabbage', 'farmer', 'wolf'})),\n",
       " (frozenset({'cabbage'}), frozenset({'cabbage', 'farmer', 'goat'})),\n",
       " (frozenset({'cabbage', 'wolf'}), frozenset({'cabbage', 'farmer', 'wolf'})),\n",
       " (frozenset({'cabbage', 'wolf'}),\n",
       "  frozenset({'cabbage', 'farmer', 'goat', 'wolf'})),\n",
       " (frozenset({'goat'}), frozenset({'farmer', 'goat'})),\n",
       " (frozenset({'goat'}), frozenset({'farmer', 'goat', 'wolf'})),\n",
       " (frozenset({'goat'}), frozenset({'cabbage', 'farmer', 'goat'}))}"
      ]
     },
     "execution_count": 16,
     "metadata": {},
     "output_type": "execute_result"
    }
   ],
   "source": [
    "R2 = { (S2, S1) for (S1, S2) in R1 }\n",
    "R2"
   ]
  },
  {
   "cell_type": "code",
   "execution_count": 9,
   "metadata": {},
   "outputs": [],
   "source": [
    "R = R1 | R2"
   ]
  },
  {
   "cell_type": "code",
   "execution_count": 10,
   "metadata": {},
   "outputs": [],
   "source": [
    "%run Graphviz.ipynb"
   ]
  },
  {
   "cell_type": "code",
   "execution_count": 11,
   "metadata": {},
   "outputs": [
    {
     "data": {
      "image/svg+xml": [
       "<?xml version=\"1.0\" encoding=\"UTF-8\" standalone=\"no\"?>\n",
       "<!DOCTYPE svg PUBLIC \"-//W3C//DTD SVG 1.1//EN\"\n",
       " \"http://www.w3.org/Graphics/SVG/1.1/DTD/svg11.dtd\">\n",
       "<!-- Generated by graphviz version 2.40.1 (20161225.0304)\n",
       " -->\n",
       "<!-- Title: %3 Pages: 1 -->\n",
       "<svg width=\"624pt\" height=\"197pt\"\n",
       " viewBox=\"0.00 0.00 624.27 197.28\" xmlns=\"http://www.w3.org/2000/svg\" xmlns:xlink=\"http://www.w3.org/1999/xlink\">\n",
       "<g id=\"graph0\" class=\"graph\" transform=\"scale(1 1) rotate(0) translate(4 193.2771)\">\n",
       "<title>%3</title>\n",
       "<polygon fill=\"#ffffff\" stroke=\"transparent\" points=\"-4,4 -4,-193.2771 620.2653,-193.2771 620.2653,4 -4,4\"/>\n",
       "<!-- {&#39;farmer&#39;, &#39;goat&#39;} -->\n",
       "<g id=\"node1\" class=\"node\">\n",
       "<title>{&#39;farmer&#39;, &#39;goat&#39;}</title>\n",
       "<ellipse fill=\"none\" stroke=\"#000000\" cx=\"96.308\" cy=\"-43.6737\" rx=\"70.3881\" ry=\"18\"/>\n",
       "<text text-anchor=\"middle\" x=\"96.308\" y=\"-39.9737\" font-family=\"Times,serif\" font-size=\"14.00\" fill=\"#000000\">{&#39;farmer&#39;, &#39;goat&#39;}</text>\n",
       "</g>\n",
       "<!-- {&#39;goat&#39;} -->\n",
       "<g id=\"node8\" class=\"node\">\n",
       "<title>{&#39;goat&#39;}</title>\n",
       "<ellipse fill=\"none\" stroke=\"#000000\" cx=\"170.2039\" cy=\"-65.9251\" rx=\"38.1938\" ry=\"18\"/>\n",
       "<text text-anchor=\"middle\" x=\"170.2039\" y=\"-62.2251\" font-family=\"Times,serif\" font-size=\"14.00\" fill=\"#000000\">{&#39;goat&#39;}</text>\n",
       "</g>\n",
       "<!-- {&#39;farmer&#39;, &#39;goat&#39;}&#45;&gt;{&#39;goat&#39;} -->\n",
       "<g id=\"edge10\" class=\"edge\">\n",
       "<title>{&#39;farmer&#39;, &#39;goat&#39;}&#45;&gt;{&#39;goat&#39;}</title>\n",
       "<path fill=\"none\" stroke=\"#000000\" d=\"M127.0006,-59.9222C127.1159,-59.9592 127.2314,-59.9962 127.3469,-60.0331\"/>\n",
       "<polygon fill=\"#000000\" stroke=\"#000000\" points=\"121.9954,-62.0498 132.5824,-61.6423 124.052,-55.3587 121.9954,-62.0498\"/>\n",
       "</g>\n",
       "<!-- set() -->\n",
       "<g id=\"node9\" class=\"node\">\n",
       "<title>set()</title>\n",
       "<ellipse fill=\"none\" stroke=\"#000000\" cx=\"27\" cy=\"-18.9774\" rx=\"27\" ry=\"18\"/>\n",
       "<text text-anchor=\"middle\" x=\"27\" y=\"-15.2774\" font-family=\"Times,serif\" font-size=\"14.00\" fill=\"#000000\">set()</text>\n",
       "</g>\n",
       "<!-- {&#39;farmer&#39;, &#39;goat&#39;}&#45;&gt;set() -->\n",
       "<g id=\"edge18\" class=\"edge\">\n",
       "<title>{&#39;farmer&#39;, &#39;goat&#39;}&#45;&gt;set()</title>\n",
       "<path fill=\"none\" stroke=\"#000000\" d=\"M69.1575,-26.9074C67.4481,-26.2495 65.7133,-25.6067 63.9706,-24.9853\"/>\n",
       "<polygon fill=\"#000000\" stroke=\"#000000\" points=\"64.6205,-21.5141 54.0273,-21.7037 62.4266,-28.1615 64.6205,-21.5141\"/>\n",
       "</g>\n",
       "<!-- {&#39;wolf&#39;, &#39;cabbage&#39;, &#39;farmer&#39;, &#39;goat&#39;} -->\n",
       "<g id=\"node2\" class=\"node\">\n",
       "<title>{&#39;wolf&#39;, &#39;cabbage&#39;, &#39;farmer&#39;, &#39;goat&#39;}</title>\n",
       "<ellipse fill=\"none\" stroke=\"#000000\" cx=\"483.6771\" cy=\"-171.2771\" rx=\"132.6765\" ry=\"18\"/>\n",
       "<text text-anchor=\"middle\" x=\"483.6771\" y=\"-167.5771\" font-family=\"Times,serif\" font-size=\"14.00\" fill=\"#000000\">{&#39;wolf&#39;, &#39;cabbage&#39;, &#39;farmer&#39;, &#39;goat&#39;}</text>\n",
       "</g>\n",
       "<!-- {&#39;cabbage&#39;, &#39;wolf&#39;} -->\n",
       "<g id=\"node6\" class=\"node\">\n",
       "<title>{&#39;cabbage&#39;, &#39;wolf&#39;}</title>\n",
       "<ellipse fill=\"none\" stroke=\"#000000\" cx=\"415.2295\" cy=\"-144.2805\" rx=\"77.1866\" ry=\"18\"/>\n",
       "<text text-anchor=\"middle\" x=\"415.2295\" y=\"-140.5805\" font-family=\"Times,serif\" font-size=\"14.00\" fill=\"#000000\">{&#39;cabbage&#39;, &#39;wolf&#39;}</text>\n",
       "</g>\n",
       "<!-- {&#39;wolf&#39;, &#39;cabbage&#39;, &#39;farmer&#39;, &#39;goat&#39;}&#45;&gt;{&#39;cabbage&#39;, &#39;wolf&#39;} -->\n",
       "<g id=\"edge8\" class=\"edge\">\n",
       "<title>{&#39;wolf&#39;, &#39;cabbage&#39;, &#39;farmer&#39;, &#39;goat&#39;}&#45;&gt;{&#39;cabbage&#39;, &#39;wolf&#39;}</title>\n",
       "<path fill=\"none\" stroke=\"#000000\" d=\"M457.1003,-153.6136C457.0281,-153.5831 456.9559,-153.5525 456.8837,-153.522\"/>\n",
       "<polygon fill=\"#000000\" stroke=\"#000000\" points=\"467.2422,-154.0945 456.6668,-153.4305 464.5199,-160.5445 467.2422,-154.0945\"/>\n",
       "</g>\n",
       "<!-- {&#39;cabbage&#39;} -->\n",
       "<g id=\"node3\" class=\"node\">\n",
       "<title>{&#39;cabbage&#39;}</title>\n",
       "<ellipse fill=\"none\" stroke=\"#000000\" cx=\"314.5831\" cy=\"-42.3352\" rx=\"52.7911\" ry=\"18\"/>\n",
       "<text text-anchor=\"middle\" x=\"314.5831\" y=\"-38.6352\" font-family=\"Times,serif\" font-size=\"14.00\" fill=\"#000000\">{&#39;cabbage&#39;}</text>\n",
       "</g>\n",
       "<!-- {&#39;cabbage&#39;, &#39;farmer&#39;, &#39;wolf&#39;} -->\n",
       "<g id=\"node5\" class=\"node\">\n",
       "<title>{&#39;cabbage&#39;, &#39;farmer&#39;, &#39;wolf&#39;}</title>\n",
       "<ellipse fill=\"none\" stroke=\"#000000\" cx=\"341.8043\" cy=\"-120.4824\" rx=\"109.381\" ry=\"18\"/>\n",
       "<text text-anchor=\"middle\" x=\"341.8043\" y=\"-116.7824\" font-family=\"Times,serif\" font-size=\"14.00\" fill=\"#000000\">{&#39;cabbage&#39;, &#39;farmer&#39;, &#39;wolf&#39;}</text>\n",
       "</g>\n",
       "<!-- {&#39;cabbage&#39;}&#45;&gt;{&#39;cabbage&#39;, &#39;farmer&#39;, &#39;wolf&#39;} -->\n",
       "<g id=\"edge1\" class=\"edge\">\n",
       "<title>{&#39;cabbage&#39;}&#45;&gt;{&#39;cabbage&#39;, &#39;farmer&#39;, &#39;wolf&#39;}</title>\n",
       "<path fill=\"none\" stroke=\"#000000\" d=\"M314.9419,-60.367C317.1729,-70.0297 321.0389,-82.1236 325.2452,-92.9315\"/>\n",
       "<polygon fill=\"#000000\" stroke=\"#000000\" points=\"322.1032,-94.4921 329.1665,-102.3889 328.5694,-91.8109 322.1032,-94.4921\"/>\n",
       "</g>\n",
       "<!-- {&#39;cabbage&#39;, &#39;farmer&#39;, &#39;goat&#39;} -->\n",
       "<g id=\"node7\" class=\"node\">\n",
       "<title>{&#39;cabbage&#39;, &#39;farmer&#39;, &#39;goat&#39;}</title>\n",
       "<ellipse fill=\"none\" stroke=\"#000000\" cx=\"237.6966\" cy=\"-18\" rx=\"107.781\" ry=\"18\"/>\n",
       "<text text-anchor=\"middle\" x=\"237.6966\" y=\"-14.3\" font-family=\"Times,serif\" font-size=\"14.00\" fill=\"#000000\">{&#39;cabbage&#39;, &#39;farmer&#39;, &#39;goat&#39;}</text>\n",
       "</g>\n",
       "<!-- {&#39;cabbage&#39;}&#45;&gt;{&#39;cabbage&#39;, &#39;farmer&#39;, &#39;goat&#39;} -->\n",
       "<g id=\"edge12\" class=\"edge\">\n",
       "<title>{&#39;cabbage&#39;}&#45;&gt;{&#39;cabbage&#39;, &#39;farmer&#39;, &#39;goat&#39;}</title>\n",
       "<path fill=\"none\" stroke=\"#000000\" d=\"M287.4976,-26.8729C287.4556,-26.8579 287.4136,-26.8428 287.3715,-26.8278\"/>\n",
       "<polygon fill=\"#000000\" stroke=\"#000000\" points=\"297.842,-26.8579 287.2453,-26.7827 295.4822,-33.4497 297.842,-26.8579\"/>\n",
       "</g>\n",
       "<!-- {&#39;wolf&#39;, &#39;farmer&#39;, &#39;goat&#39;} -->\n",
       "<g id=\"node4\" class=\"node\">\n",
       "<title>{&#39;wolf&#39;, &#39;farmer&#39;, &#39;goat&#39;}</title>\n",
       "<ellipse fill=\"none\" stroke=\"#000000\" cx=\"197.484\" cy=\"-144.1455\" rx=\"94.7833\" ry=\"18\"/>\n",
       "<text text-anchor=\"middle\" x=\"197.484\" y=\"-140.4455\" font-family=\"Times,serif\" font-size=\"14.00\" fill=\"#000000\">{&#39;wolf&#39;, &#39;farmer&#39;, &#39;goat&#39;}</text>\n",
       "</g>\n",
       "<!-- {&#39;wolf&#39;, &#39;farmer&#39;, &#39;goat&#39;}&#45;&gt;{&#39;goat&#39;} -->\n",
       "<g id=\"edge17\" class=\"edge\">\n",
       "<title>{&#39;wolf&#39;, &#39;farmer&#39;, &#39;goat&#39;}&#45;&gt;{&#39;goat&#39;}</title>\n",
       "<path fill=\"none\" stroke=\"#000000\" d=\"M197.1123,-126.0965C194.8014,-116.1105 190.7456,-103.5304 186.3728,-92.4513\"/>\n",
       "<polygon fill=\"#000000\" stroke=\"#000000\" points=\"189.5872,-91.0659 182.4845,-83.2045 183.1345,-93.7794 189.5872,-91.0659\"/>\n",
       "</g>\n",
       "<!-- {&#39;wolf&#39;} -->\n",
       "<g id=\"node10\" class=\"node\">\n",
       "<title>{&#39;wolf&#39;}</title>\n",
       "<ellipse fill=\"none\" stroke=\"#000000\" cx=\"274.2542\" cy=\"-168.4472\" rx=\"39.7935\" ry=\"18\"/>\n",
       "<text text-anchor=\"middle\" x=\"274.2542\" y=\"-164.7472\" font-family=\"Times,serif\" font-size=\"14.00\" fill=\"#000000\">{&#39;wolf&#39;}</text>\n",
       "</g>\n",
       "<!-- {&#39;wolf&#39;, &#39;farmer&#39;, &#39;goat&#39;}&#45;&gt;{&#39;wolf&#39;} -->\n",
       "<g id=\"edge3\" class=\"edge\">\n",
       "<title>{&#39;wolf&#39;, &#39;farmer&#39;, &#39;goat&#39;}&#45;&gt;{&#39;wolf&#39;}</title>\n",
       "<path fill=\"none\" stroke=\"#000000\" d=\"M229.3553,-161.2713C229.4952,-161.3183 229.6351,-161.3652 229.7751,-161.412\"/>\n",
       "<polygon fill=\"#000000\" stroke=\"#000000\" points=\"225.5342,-163.7285 236.1253,-163.4464 227.67,-157.0622 225.5342,-163.7285\"/>\n",
       "</g>\n",
       "<!-- {&#39;cabbage&#39;, &#39;farmer&#39;, &#39;wolf&#39;}&#45;&gt;{&#39;cabbage&#39;} -->\n",
       "<g id=\"edge13\" class=\"edge\">\n",
       "<title>{&#39;cabbage&#39;, &#39;farmer&#39;, &#39;wolf&#39;}&#45;&gt;{&#39;cabbage&#39;}</title>\n",
       "<path fill=\"none\" stroke=\"#000000\" d=\"M341.4456,-102.4505C339.1817,-92.6457 335.2345,-80.3377 330.9565,-69.4101\"/>\n",
       "<polygon fill=\"#000000\" stroke=\"#000000\" points=\"334.0573,-67.7525 326.9736,-59.8739 327.598,-70.4504 334.0573,-67.7525\"/>\n",
       "</g>\n",
       "<!-- {&#39;cabbage&#39;, &#39;farmer&#39;, &#39;wolf&#39;}&#45;&gt;{&#39;cabbage&#39;, &#39;wolf&#39;} -->\n",
       "<g id=\"edge6\" class=\"edge\">\n",
       "<title>{&#39;cabbage&#39;, &#39;farmer&#39;, &#39;wolf&#39;}&#45;&gt;{&#39;cabbage&#39;, &#39;wolf&#39;}</title>\n",
       "<path fill=\"none\" stroke=\"#000000\" d=\"M373.4334,-137.8082C373.5085,-137.8336 373.5836,-137.859 373.6587,-137.8843\"/>\n",
       "<polygon fill=\"#000000\" stroke=\"#000000\" points=\"363.289,-138.0836 373.8843,-137.9603 365.5246,-131.4494 363.289,-138.0836\"/>\n",
       "</g>\n",
       "<!-- {&#39;cabbage&#39;, &#39;farmer&#39;, &#39;wolf&#39;}&#45;&gt;{&#39;wolf&#39;} -->\n",
       "<g id=\"edge7\" class=\"edge\">\n",
       "<title>{&#39;cabbage&#39;, &#39;farmer&#39;, &#39;wolf&#39;}&#45;&gt;{&#39;wolf&#39;}</title>\n",
       "<path fill=\"none\" stroke=\"#000000\" d=\"M306.1053,-137.565C302.5659,-140.0332 299.0544,-142.6017 295.7244,-145.1615\"/>\n",
       "<polygon fill=\"#000000\" stroke=\"#000000\" points=\"293.509,-142.4517 287.9077,-151.4448 297.8946,-147.9076 293.509,-142.4517\"/>\n",
       "</g>\n",
       "<!-- {&#39;cabbage&#39;, &#39;wolf&#39;}&#45;&gt;{&#39;wolf&#39;, &#39;cabbage&#39;, &#39;farmer&#39;, &#39;goat&#39;} -->\n",
       "<g id=\"edge14\" class=\"edge\">\n",
       "<title>{&#39;cabbage&#39;, &#39;wolf&#39;}&#45;&gt;{&#39;wolf&#39;, &#39;cabbage&#39;, &#39;farmer&#39;, &#39;goat&#39;}</title>\n",
       "<path fill=\"none\" stroke=\"#000000\" d=\"M440.6319,-161.4422C440.705,-161.4737 440.7782,-161.5051 440.8514,-161.5366\"/>\n",
       "<polygon fill=\"#000000\" stroke=\"#000000\" points=\"430.5,-160.9045 441.0712,-161.6308 433.2602,-154.4707 430.5,-160.9045\"/>\n",
       "</g>\n",
       "<!-- {&#39;cabbage&#39;, &#39;wolf&#39;}&#45;&gt;{&#39;cabbage&#39;, &#39;farmer&#39;, &#39;wolf&#39;} -->\n",
       "<g id=\"edge15\" class=\"edge\">\n",
       "<title>{&#39;cabbage&#39;, &#39;wolf&#39;}&#45;&gt;{&#39;cabbage&#39;, &#39;farmer&#39;, &#39;wolf&#39;}</title>\n",
       "<path fill=\"none\" stroke=\"#000000\" d=\"M385.3036,-127.5378C385.2268,-127.5111 385.15,-127.4846 385.0731,-127.458\"/>\n",
       "<polygon fill=\"#000000\" stroke=\"#000000\" points=\"395.4383,-127.3327 384.8424,-127.3784 393.1541,-133.9504 395.4383,-127.3327\"/>\n",
       "</g>\n",
       "<!-- {&#39;cabbage&#39;, &#39;farmer&#39;, &#39;goat&#39;}&#45;&gt;{&#39;cabbage&#39;} -->\n",
       "<g id=\"edge20\" class=\"edge\">\n",
       "<title>{&#39;cabbage&#39;, &#39;farmer&#39;, &#39;goat&#39;}&#45;&gt;{&#39;cabbage&#39;}</title>\n",
       "<path fill=\"none\" stroke=\"#000000\" d=\"M270.0652,-35.2899C270.1448,-35.3165 270.2244,-35.3431 270.304,-35.3696\"/>\n",
       "<polygon fill=\"#000000\" stroke=\"#000000\" points=\"259.9484,-35.6137 270.543,-35.449 262.1581,-28.9708 259.9484,-35.6137\"/>\n",
       "</g>\n",
       "<!-- {&#39;cabbage&#39;, &#39;farmer&#39;, &#39;goat&#39;}&#45;&gt;{&#39;goat&#39;} -->\n",
       "<g id=\"edge11\" class=\"edge\">\n",
       "<title>{&#39;cabbage&#39;, &#39;farmer&#39;, &#39;goat&#39;}&#45;&gt;{&#39;goat&#39;}</title>\n",
       "<path fill=\"none\" stroke=\"#000000\" d=\"M202.0245,-35.064C198.4881,-37.5302 194.9796,-40.0966 191.6525,-42.6544\"/>\n",
       "<polygon fill=\"#000000\" stroke=\"#000000\" points=\"189.4436,-39.9394 183.8427,-48.9328 193.8295,-45.395 189.4436,-39.9394\"/>\n",
       "</g>\n",
       "<!-- {&#39;goat&#39;}&#45;&gt;{&#39;farmer&#39;, &#39;goat&#39;} -->\n",
       "<g id=\"edge4\" class=\"edge\">\n",
       "<title>{&#39;goat&#39;}&#45;&gt;{&#39;farmer&#39;, &#39;goat&#39;}</title>\n",
       "<path fill=\"none\" stroke=\"#000000\" d=\"M145.8149,-51.8007C145.7331,-51.7718 145.6512,-51.7429 145.5693,-51.714\"/>\n",
       "<polygon fill=\"#000000\" stroke=\"#000000\" points=\"155.919,-51.6439 145.3231,-51.6275 153.5961,-58.248 155.919,-51.6439\"/>\n",
       "</g>\n",
       "<!-- {&#39;goat&#39;}&#45;&gt;{&#39;wolf&#39;, &#39;farmer&#39;, &#39;goat&#39;} -->\n",
       "<g id=\"edge5\" class=\"edge\">\n",
       "<title>{&#39;goat&#39;}&#45;&gt;{&#39;wolf&#39;, &#39;farmer&#39;, &#39;goat&#39;}</title>\n",
       "<path fill=\"none\" stroke=\"#000000\" d=\"M170.5756,-83.9742C172.8137,-93.6459 176.6888,-105.7511 180.9032,-116.5692\"/>\n",
       "<polygon fill=\"#000000\" stroke=\"#000000\" points=\"177.766,-118.1409 184.8318,-126.0355 184.2314,-115.4577 177.766,-118.1409\"/>\n",
       "</g>\n",
       "<!-- {&#39;goat&#39;}&#45;&gt;{&#39;cabbage&#39;, &#39;farmer&#39;, &#39;goat&#39;} -->\n",
       "<g id=\"edge9\" class=\"edge\">\n",
       "<title>{&#39;goat&#39;}&#45;&gt;{&#39;cabbage&#39;, &#39;farmer&#39;, &#39;goat&#39;}</title>\n",
       "<path fill=\"none\" stroke=\"#000000\" d=\"M198.7343,-53.6776C204.2201,-50.1062 209.8903,-46.1094 215.1572,-42.1047\"/>\n",
       "<polygon fill=\"#000000\" stroke=\"#000000\" points=\"217.3612,-44.8239 223.0172,-35.865 213.0089,-39.3414 217.3612,-44.8239\"/>\n",
       "</g>\n",
       "<!-- set()&#45;&gt;{&#39;farmer&#39;, &#39;goat&#39;} -->\n",
       "<g id=\"edge16\" class=\"edge\">\n",
       "<title>set()&#45;&gt;{&#39;farmer&#39;, &#39;goat&#39;}</title>\n",
       "<path fill=\"none\" stroke=\"#000000\" d=\"M45.6984,-32.2701C45.7761,-32.3043 45.8539,-32.3384 45.9319,-32.3726\"/>\n",
       "<polygon fill=\"#000000\" stroke=\"#000000\" points=\"35.6004,-31.6733 46.1662,-32.475 38.4065,-25.2594 35.6004,-31.6733\"/>\n",
       "</g>\n",
       "<!-- {&#39;wolf&#39;}&#45;&gt;{&#39;wolf&#39;, &#39;farmer&#39;, &#39;goat&#39;} -->\n",
       "<g id=\"edge2\" class=\"edge\">\n",
       "<title>{&#39;wolf&#39;}&#45;&gt;{&#39;wolf&#39;, &#39;farmer&#39;, &#39;goat&#39;}</title>\n",
       "<path fill=\"none\" stroke=\"#000000\" d=\"M250.2029,-154.0924C250.1602,-154.0764 250.1173,-154.0604 250.0745,-154.0444\"/>\n",
       "<polygon fill=\"#000000\" stroke=\"#000000\" points=\"260.5406,-154.2159 249.9459,-153.9964 258.0913,-160.775 260.5406,-154.2159\"/>\n",
       "</g>\n",
       "<!-- {&#39;wolf&#39;}&#45;&gt;{&#39;cabbage&#39;, &#39;farmer&#39;, &#39;wolf&#39;} -->\n",
       "<g id=\"edge19\" class=\"edge\">\n",
       "<title>{&#39;wolf&#39;}&#45;&gt;{&#39;cabbage&#39;, &#39;farmer&#39;, &#39;wolf&#39;}</title>\n",
       "<path fill=\"none\" stroke=\"#000000\" d=\"M303.1999,-155.9279C308.4335,-152.5066 313.8217,-148.7089 318.8573,-144.8949\"/>\n",
       "<polygon fill=\"#000000\" stroke=\"#000000\" points=\"321.2384,-147.474 326.9092,-138.5245 316.8952,-141.9843 321.2384,-147.474\"/>\n",
       "</g>\n",
       "</g>\n",
       "</svg>\n"
      ],
      "text/plain": [
       "<graphviz.dot.Digraph at 0x7fce313ee370>"
      ]
     },
     "execution_count": 11,
     "metadata": {},
     "output_type": "execute_result"
    }
   ],
   "source": [
    "dot = dot_graph(R)\n",
    "dot"
   ]
  },
  {
   "cell_type": "code",
   "execution_count": 12,
   "metadata": {},
   "outputs": [
    {
     "data": {
      "text/plain": [
       "'wolf-goat-cabbage.pdf'"
      ]
     },
     "execution_count": 12,
     "metadata": {},
     "output_type": "execute_result"
    }
   ],
   "source": [
    "dot.render('wolf-goat-cabbage')"
   ]
  },
  {
   "cell_type": "code",
   "execution_count": 13,
   "metadata": {},
   "outputs": [],
   "source": [
    "!open wolf-goat-cabbage.pdf"
   ]
  },
  {
   "cell_type": "markdown",
   "metadata": {},
   "source": [
    "At the beginning everything is on the left shore and nothing is on the right shore.   The goal is to have everybody on the right shore.  In that case, the left shore will be empty."
   ]
  },
  {
   "cell_type": "code",
   "execution_count": 14,
   "metadata": {},
   "outputs": [
    {
     "name": "stdout",
     "output_type": "stream",
     "text": [
      "Iteration 1: 1 new states found.\n",
      "Iteration 2: 1 new states found.\n",
      "Iteration 3: 2 new states found.\n",
      "Iteration 4: 2 new states found.\n",
      "Iteration 5: 1 new states found.\n",
      "Iteration 6: 1 new states found.\n"
     ]
    },
    {
     "data": {
      "text/plain": [
       "(frozenset({'cabbage', 'farmer', 'goat', 'wolf'}),\n",
       " frozenset({'cabbage', 'wolf'}),\n",
       " frozenset({'cabbage', 'farmer', 'wolf'}),\n",
       " frozenset({'cabbage'}),\n",
       " frozenset({'cabbage', 'farmer', 'goat'}),\n",
       " frozenset({'goat'}),\n",
       " frozenset({'farmer', 'goat'}),\n",
       " frozenset())"
      ]
     },
     "execution_count": 14,
     "metadata": {},
     "output_type": "execute_result"
    }
   ],
   "source": [
    "start = All\n",
    "goal  = frozenset()\n",
    "Path  = search(R, start, goal)\n",
    "Path"
   ]
  },
  {
   "cell_type": "markdown",
   "metadata": {},
   "source": [
    "## Auxiliary Code for Pretty Printing"
   ]
  },
  {
   "cell_type": "markdown",
   "metadata": {},
   "source": [
    "The following code is used for printing the path that has been found.  We won't discuss the details of these functions."
   ]
  },
  {
   "cell_type": "code",
   "execution_count": 15,
   "metadata": {},
   "outputs": [
    {
     "name": "stdout",
     "output_type": "stream",
     "text": [
      "{'cabbage', 'goat', 'farmer', 'wolf'}                                   {}\n",
      "                         >>>>  {'farmer', 'goat'}  >>>> \n",
      "{'cabbage', 'wolf'}                                     {'farmer', 'goat'}\n",
      "                         <<<<  {'farmer'}  <<<< \n",
      "{'cabbage', 'farmer', 'wolf'}                                     {'goat'}\n",
      "                         >>>>  {'farmer', 'wolf'}  >>>> \n",
      "{'cabbage'}                                     {'wolf', 'farmer', 'goat'}\n",
      "                         <<<<  {'farmer', 'goat'}  <<<< \n",
      "{'cabbage', 'farmer', 'goat'}                                     {'wolf'}\n",
      "                         >>>>  {'cabbage', 'farmer'}  >>>> \n",
      "{'goat'}                                     {'cabbage', 'farmer', 'wolf'}\n",
      "                         <<<<  {'farmer'}  <<<< \n",
      "{'farmer', 'goat'}                                     {'cabbage', 'wolf'}\n",
      "                         >>>>  {'farmer', 'goat'}  >>>> \n",
      "{}                                   {'cabbage', 'goat', 'farmer', 'wolf'}\n"
     ]
    }
   ],
   "source": [
    "def mkPair(S, All):\n",
    "    \"Given the left shore, compute both the left shore and the right shore.\"\n",
    "    return (S, All - S);\n",
    "\n",
    "def my_str(s):\n",
    "    \"Print frozen sets as sets.\"\n",
    "    if len(s) == 0:\n",
    "        return \"{}\"\n",
    "    else:\n",
    "        return str(set(s))\n",
    "    \n",
    "def printPath(Path, All):\n",
    "    \"print the path one transition at a time\"\n",
    "    for i in range(len(Path)):\n",
    "        (S1, S2) = mkPair(Path[i], All)\n",
    "        if (len(S1) == 0 or len(S2) == 0):\n",
    "            print(my_str(S1), 33 * \" \", my_str(S2))\n",
    "        else:\n",
    "            print(my_str(S1), 35 * \" \", my_str(S2))\n",
    "        if i + 1 == len(Path): \n",
    "            break\n",
    "        (T1, T2) = mkPair(Path[i+1], All)        \n",
    "        if \"farmer\" in S1:\n",
    "            B = S1 - T1  # the boat crossing from left to right\n",
    "            print(\"                         >>>> \", set(B), \" >>>> \")\n",
    "        else:\n",
    "            B = S2 - T2  # the boat crossing from right to left\n",
    "            print(\"                         <<<< \", set(B), \" <<<< \")\n",
    "printPath(Path, All)"
   ]
  },
  {
   "cell_type": "code",
   "execution_count": null,
   "metadata": {},
   "outputs": [],
   "source": []
  }
 ],
 "metadata": {
  "@webio": {
   "lastCommId": null,
   "lastKernelId": null
  },
  "hide_input": false,
  "kernelspec": {
   "display_name": "Python 3 (ipykernel)",
   "language": "python",
   "name": "python3"
  },
  "language_info": {
   "codemirror_mode": {
    "name": "ipython",
    "version": 3
   },
   "file_extension": ".py",
   "mimetype": "text/x-python",
   "name": "python",
   "nbconvert_exporter": "python",
   "pygments_lexer": "ipython3",
   "version": "3.10.11"
  },
  "toc": {
   "base_numbering": 1,
   "nav_menu": {},
   "number_sections": true,
   "sideBar": true,
   "skip_h1_title": false,
   "title_cell": "Table of Contents",
   "title_sidebar": "Contents",
   "toc_cell": false,
   "toc_position": {},
   "toc_section_display": true,
   "toc_window_display": false
  },
  "varInspector": {
   "cols": {
    "lenName": 16,
    "lenType": 16,
    "lenVar": 40
   },
   "kernels_config": {
    "python": {
     "delete_cmd_postfix": "",
     "delete_cmd_prefix": "del ",
     "library": "var_list.py",
     "varRefreshCmd": "print(var_dic_list())"
    },
    "r": {
     "delete_cmd_postfix": ") ",
     "delete_cmd_prefix": "rm(",
     "library": "var_list.r",
     "varRefreshCmd": "cat(var_dic_list()) "
    }
   },
   "types_to_exclude": [
    "module",
    "function",
    "builtin_function_or_method",
    "instance",
    "_Feature"
   ],
   "window_display": false
  }
 },
 "nbformat": 4,
 "nbformat_minor": 2
}
